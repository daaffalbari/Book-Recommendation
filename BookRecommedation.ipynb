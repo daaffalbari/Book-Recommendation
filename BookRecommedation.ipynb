{
 "cells": [
  {
   "cell_type": "markdown",
   "metadata": {},
   "source": [
    "# Proyek Akhir: Membuat Sistem Rekomendasi Buku\n",
    "<hr>"
   ]
  },
  {
   "cell_type": "markdown",
   "metadata": {},
   "source": [
    "## Data Diri\n",
    "Nama: Daffa Albari <br>\n",
    "Email: daffaa.albari@gmail.com <br>\n",
    "Dataset: https://www.kaggle.com/datasets/arashnic/book-recommendation-dataset"
   ]
  },
  {
   "cell_type": "code",
   "execution_count": 1,
   "metadata": {},
   "outputs": [],
   "source": [
    "import pandas as pd\n",
    "import numpy as np\n",
    "import seaborn as sns\n",
    "import matplotlib.pyplot as plt\n",
    "\n",
    "import tensorflow as tf\n",
    "from tensorflow import keras\n",
    "\n",
    "from sklearn.feature_extraction.text import TfidfVectorizer\n",
    "from sklearn.metrics.pairwise import cosine_similarity\n"
   ]
  },
  {
   "cell_type": "markdown",
   "metadata": {},
   "source": [
    "## Load Data"
   ]
  },
  {
   "cell_type": "code",
   "execution_count": 2,
   "metadata": {},
   "outputs": [
    {
     "name": "stderr",
     "output_type": "stream",
     "text": [
      "C:\\Users\\daffa\\AppData\\Local\\Temp\\ipykernel_24084\\2675241246.py:1: DtypeWarning: Columns (3) have mixed types. Specify dtype option on import or set low_memory=False.\n",
      "  books = pd.read_csv('./data/Books.csv')\n"
     ]
    }
   ],
   "source": [
    "books = pd.read_csv('./data/Books.csv')\n",
    "ratings = pd.read_csv('./data/Ratings.csv')\n",
    "users = pd.read_csv('./data/Users.csv')"
   ]
  },
  {
   "cell_type": "code",
   "execution_count": 3,
   "metadata": {},
   "outputs": [
    {
     "data": {
      "text/html": [
       "<div>\n",
       "<style scoped>\n",
       "    .dataframe tbody tr th:only-of-type {\n",
       "        vertical-align: middle;\n",
       "    }\n",
       "\n",
       "    .dataframe tbody tr th {\n",
       "        vertical-align: top;\n",
       "    }\n",
       "\n",
       "    .dataframe thead th {\n",
       "        text-align: right;\n",
       "    }\n",
       "</style>\n",
       "<table border=\"1\" class=\"dataframe\">\n",
       "  <thead>\n",
       "    <tr style=\"text-align: right;\">\n",
       "      <th></th>\n",
       "      <th>ISBN</th>\n",
       "      <th>Book-Title</th>\n",
       "      <th>Book-Author</th>\n",
       "      <th>Year-Of-Publication</th>\n",
       "      <th>Publisher</th>\n",
       "      <th>Image-URL-S</th>\n",
       "      <th>Image-URL-M</th>\n",
       "      <th>Image-URL-L</th>\n",
       "    </tr>\n",
       "  </thead>\n",
       "  <tbody>\n",
       "    <tr>\n",
       "      <th>0</th>\n",
       "      <td>0195153448</td>\n",
       "      <td>Classical Mythology</td>\n",
       "      <td>Mark P. O. Morford</td>\n",
       "      <td>2002</td>\n",
       "      <td>Oxford University Press</td>\n",
       "      <td>http://images.amazon.com/images/P/0195153448.0...</td>\n",
       "      <td>http://images.amazon.com/images/P/0195153448.0...</td>\n",
       "      <td>http://images.amazon.com/images/P/0195153448.0...</td>\n",
       "    </tr>\n",
       "    <tr>\n",
       "      <th>1</th>\n",
       "      <td>0002005018</td>\n",
       "      <td>Clara Callan</td>\n",
       "      <td>Richard Bruce Wright</td>\n",
       "      <td>2001</td>\n",
       "      <td>HarperFlamingo Canada</td>\n",
       "      <td>http://images.amazon.com/images/P/0002005018.0...</td>\n",
       "      <td>http://images.amazon.com/images/P/0002005018.0...</td>\n",
       "      <td>http://images.amazon.com/images/P/0002005018.0...</td>\n",
       "    </tr>\n",
       "    <tr>\n",
       "      <th>2</th>\n",
       "      <td>0060973129</td>\n",
       "      <td>Decision in Normandy</td>\n",
       "      <td>Carlo D'Este</td>\n",
       "      <td>1991</td>\n",
       "      <td>HarperPerennial</td>\n",
       "      <td>http://images.amazon.com/images/P/0060973129.0...</td>\n",
       "      <td>http://images.amazon.com/images/P/0060973129.0...</td>\n",
       "      <td>http://images.amazon.com/images/P/0060973129.0...</td>\n",
       "    </tr>\n",
       "    <tr>\n",
       "      <th>3</th>\n",
       "      <td>0374157065</td>\n",
       "      <td>Flu: The Story of the Great Influenza Pandemic...</td>\n",
       "      <td>Gina Bari Kolata</td>\n",
       "      <td>1999</td>\n",
       "      <td>Farrar Straus Giroux</td>\n",
       "      <td>http://images.amazon.com/images/P/0374157065.0...</td>\n",
       "      <td>http://images.amazon.com/images/P/0374157065.0...</td>\n",
       "      <td>http://images.amazon.com/images/P/0374157065.0...</td>\n",
       "    </tr>\n",
       "    <tr>\n",
       "      <th>4</th>\n",
       "      <td>0393045218</td>\n",
       "      <td>The Mummies of Urumchi</td>\n",
       "      <td>E. J. W. Barber</td>\n",
       "      <td>1999</td>\n",
       "      <td>W. W. Norton &amp;amp; Company</td>\n",
       "      <td>http://images.amazon.com/images/P/0393045218.0...</td>\n",
       "      <td>http://images.amazon.com/images/P/0393045218.0...</td>\n",
       "      <td>http://images.amazon.com/images/P/0393045218.0...</td>\n",
       "    </tr>\n",
       "  </tbody>\n",
       "</table>\n",
       "</div>"
      ],
      "text/plain": [
       "         ISBN                                         Book-Title  \\\n",
       "0  0195153448                                Classical Mythology   \n",
       "1  0002005018                                       Clara Callan   \n",
       "2  0060973129                               Decision in Normandy   \n",
       "3  0374157065  Flu: The Story of the Great Influenza Pandemic...   \n",
       "4  0393045218                             The Mummies of Urumchi   \n",
       "\n",
       "            Book-Author Year-Of-Publication                   Publisher  \\\n",
       "0    Mark P. O. Morford                2002     Oxford University Press   \n",
       "1  Richard Bruce Wright                2001       HarperFlamingo Canada   \n",
       "2          Carlo D'Este                1991             HarperPerennial   \n",
       "3      Gina Bari Kolata                1999        Farrar Straus Giroux   \n",
       "4       E. J. W. Barber                1999  W. W. Norton &amp; Company   \n",
       "\n",
       "                                         Image-URL-S  \\\n",
       "0  http://images.amazon.com/images/P/0195153448.0...   \n",
       "1  http://images.amazon.com/images/P/0002005018.0...   \n",
       "2  http://images.amazon.com/images/P/0060973129.0...   \n",
       "3  http://images.amazon.com/images/P/0374157065.0...   \n",
       "4  http://images.amazon.com/images/P/0393045218.0...   \n",
       "\n",
       "                                         Image-URL-M  \\\n",
       "0  http://images.amazon.com/images/P/0195153448.0...   \n",
       "1  http://images.amazon.com/images/P/0002005018.0...   \n",
       "2  http://images.amazon.com/images/P/0060973129.0...   \n",
       "3  http://images.amazon.com/images/P/0374157065.0...   \n",
       "4  http://images.amazon.com/images/P/0393045218.0...   \n",
       "\n",
       "                                         Image-URL-L  \n",
       "0  http://images.amazon.com/images/P/0195153448.0...  \n",
       "1  http://images.amazon.com/images/P/0002005018.0...  \n",
       "2  http://images.amazon.com/images/P/0060973129.0...  \n",
       "3  http://images.amazon.com/images/P/0374157065.0...  \n",
       "4  http://images.amazon.com/images/P/0393045218.0...  "
      ]
     },
     "execution_count": 3,
     "metadata": {},
     "output_type": "execute_result"
    }
   ],
   "source": [
    "books.head()"
   ]
  },
  {
   "cell_type": "code",
   "execution_count": 4,
   "metadata": {},
   "outputs": [
    {
     "data": {
      "text/html": [
       "<div>\n",
       "<style scoped>\n",
       "    .dataframe tbody tr th:only-of-type {\n",
       "        vertical-align: middle;\n",
       "    }\n",
       "\n",
       "    .dataframe tbody tr th {\n",
       "        vertical-align: top;\n",
       "    }\n",
       "\n",
       "    .dataframe thead th {\n",
       "        text-align: right;\n",
       "    }\n",
       "</style>\n",
       "<table border=\"1\" class=\"dataframe\">\n",
       "  <thead>\n",
       "    <tr style=\"text-align: right;\">\n",
       "      <th></th>\n",
       "      <th>User-ID</th>\n",
       "      <th>ISBN</th>\n",
       "      <th>Book-Rating</th>\n",
       "    </tr>\n",
       "  </thead>\n",
       "  <tbody>\n",
       "    <tr>\n",
       "      <th>0</th>\n",
       "      <td>276725</td>\n",
       "      <td>034545104X</td>\n",
       "      <td>0</td>\n",
       "    </tr>\n",
       "    <tr>\n",
       "      <th>1</th>\n",
       "      <td>276726</td>\n",
       "      <td>0155061224</td>\n",
       "      <td>5</td>\n",
       "    </tr>\n",
       "    <tr>\n",
       "      <th>2</th>\n",
       "      <td>276727</td>\n",
       "      <td>0446520802</td>\n",
       "      <td>0</td>\n",
       "    </tr>\n",
       "    <tr>\n",
       "      <th>3</th>\n",
       "      <td>276729</td>\n",
       "      <td>052165615X</td>\n",
       "      <td>3</td>\n",
       "    </tr>\n",
       "    <tr>\n",
       "      <th>4</th>\n",
       "      <td>276729</td>\n",
       "      <td>0521795028</td>\n",
       "      <td>6</td>\n",
       "    </tr>\n",
       "  </tbody>\n",
       "</table>\n",
       "</div>"
      ],
      "text/plain": [
       "   User-ID        ISBN  Book-Rating\n",
       "0   276725  034545104X            0\n",
       "1   276726  0155061224            5\n",
       "2   276727  0446520802            0\n",
       "3   276729  052165615X            3\n",
       "4   276729  0521795028            6"
      ]
     },
     "execution_count": 4,
     "metadata": {},
     "output_type": "execute_result"
    }
   ],
   "source": [
    "ratings.head()"
   ]
  },
  {
   "cell_type": "code",
   "execution_count": 5,
   "metadata": {},
   "outputs": [
    {
     "data": {
      "text/html": [
       "<div>\n",
       "<style scoped>\n",
       "    .dataframe tbody tr th:only-of-type {\n",
       "        vertical-align: middle;\n",
       "    }\n",
       "\n",
       "    .dataframe tbody tr th {\n",
       "        vertical-align: top;\n",
       "    }\n",
       "\n",
       "    .dataframe thead th {\n",
       "        text-align: right;\n",
       "    }\n",
       "</style>\n",
       "<table border=\"1\" class=\"dataframe\">\n",
       "  <thead>\n",
       "    <tr style=\"text-align: right;\">\n",
       "      <th></th>\n",
       "      <th>User-ID</th>\n",
       "      <th>Location</th>\n",
       "      <th>Age</th>\n",
       "    </tr>\n",
       "  </thead>\n",
       "  <tbody>\n",
       "    <tr>\n",
       "      <th>0</th>\n",
       "      <td>1</td>\n",
       "      <td>nyc, new york, usa</td>\n",
       "      <td>NaN</td>\n",
       "    </tr>\n",
       "    <tr>\n",
       "      <th>1</th>\n",
       "      <td>2</td>\n",
       "      <td>stockton, california, usa</td>\n",
       "      <td>18.0</td>\n",
       "    </tr>\n",
       "    <tr>\n",
       "      <th>2</th>\n",
       "      <td>3</td>\n",
       "      <td>moscow, yukon territory, russia</td>\n",
       "      <td>NaN</td>\n",
       "    </tr>\n",
       "    <tr>\n",
       "      <th>3</th>\n",
       "      <td>4</td>\n",
       "      <td>porto, v.n.gaia, portugal</td>\n",
       "      <td>17.0</td>\n",
       "    </tr>\n",
       "    <tr>\n",
       "      <th>4</th>\n",
       "      <td>5</td>\n",
       "      <td>farnborough, hants, united kingdom</td>\n",
       "      <td>NaN</td>\n",
       "    </tr>\n",
       "  </tbody>\n",
       "</table>\n",
       "</div>"
      ],
      "text/plain": [
       "   User-ID                            Location   Age\n",
       "0        1                  nyc, new york, usa   NaN\n",
       "1        2           stockton, california, usa  18.0\n",
       "2        3     moscow, yukon territory, russia   NaN\n",
       "3        4           porto, v.n.gaia, portugal  17.0\n",
       "4        5  farnborough, hants, united kingdom   NaN"
      ]
     },
     "execution_count": 5,
     "metadata": {},
     "output_type": "execute_result"
    }
   ],
   "source": [
    "users.head()"
   ]
  },
  {
   "cell_type": "markdown",
   "metadata": {},
   "source": [
    "## Data Understanding"
   ]
  },
  {
   "cell_type": "markdown",
   "metadata": {},
   "source": [
    "### 2.1 Jumlah data dalam masing-masing tabel|"
   ]
  },
  {
   "cell_type": "code",
   "execution_count": 6,
   "metadata": {},
   "outputs": [
    {
     "name": "stdout",
     "output_type": "stream",
     "text": [
      "Jumlah data buku:  271360\n",
      "Jumalah data rating:  105283\n",
      "Jumlah data user:  278858\n"
     ]
    }
   ],
   "source": [
    "print('Jumlah data buku: ', len(books['ISBN'].unique()))\n",
    "print('Jumalah data rating: ', len(ratings['User-ID'].unique()))\n",
    "print('Jumlah data user: ', len(users['User-ID'].unique()))"
   ]
  },
  {
   "cell_type": "markdown",
   "metadata": {},
   "source": [
    "### 2.2 Univariate Exploratory Data Analysis (EDA)"
   ]
  },
  {
   "cell_type": "markdown",
   "metadata": {},
   "source": [
    "Variabel-variabel yang digunakan dalam analisis ini adalah:\n",
    "- Books: Books are identified by their respective ISBN. Invalid ISBNs have already been removed from the dataset. Moreover, some content-based information is given (Book-Title, Book-Author, Year-Of-Publication, Publisher), obtained from Amazon Web Services. Note that in case of several authors, only the first is provided. URLs linking to cover images are also given, appearing in three different flavours (Image-URL-S, Image-URL-M, Image-URL-L), i.e., small, medium, large. These URLs point to the Amazon web site.\n",
    "- Users: Contains the users. Note that user IDs (User-ID) have been anonymized and map to integers. Demographic data is provided (Location, Age) if available. Otherwise, these fields contain NULL-values.\n",
    "- Ratings: Contains the book rating information. Ratings (Book-Rating) are either explicit, expressed on a scale from 1-10 (higher values denoting higher appreciation), or implicit, expressed by 0."
   ]
  },
  {
   "cell_type": "markdown",
   "metadata": {},
   "source": [
    "#### Books Variabel"
   ]
  },
  {
   "cell_type": "code",
   "execution_count": 7,
   "metadata": {},
   "outputs": [
    {
     "name": "stdout",
     "output_type": "stream",
     "text": [
      "<class 'pandas.core.frame.DataFrame'>\n",
      "RangeIndex: 271360 entries, 0 to 271359\n",
      "Data columns (total 8 columns):\n",
      " #   Column               Non-Null Count   Dtype \n",
      "---  ------               --------------   ----- \n",
      " 0   ISBN                 271360 non-null  object\n",
      " 1   Book-Title           271360 non-null  object\n",
      " 2   Book-Author          271358 non-null  object\n",
      " 3   Year-Of-Publication  271360 non-null  object\n",
      " 4   Publisher            271358 non-null  object\n",
      " 5   Image-URL-S          271360 non-null  object\n",
      " 6   Image-URL-M          271360 non-null  object\n",
      " 7   Image-URL-L          271357 non-null  object\n",
      "dtypes: object(8)\n",
      "memory usage: 16.6+ MB\n"
     ]
    }
   ],
   "source": [
    "books.info()"
   ]
  },
  {
   "cell_type": "code",
   "execution_count": 8,
   "metadata": {},
   "outputs": [
    {
     "name": "stdout",
     "output_type": "stream",
     "text": [
      "Banyak Data:  271360\n"
     ]
    }
   ],
   "source": [
    "print('Banyak Data: ', len(books))"
   ]
  },
  {
   "cell_type": "markdown",
   "metadata": {},
   "source": [
    "Berdasarkan output di atas, kita dalam mengetahui bahwa Books.csv memiliki 271360 entri. "
   ]
  },
  {
   "cell_type": "code",
   "execution_count": 9,
   "metadata": {},
   "outputs": [
    {
     "data": {
      "text/html": [
       "<div>\n",
       "<style scoped>\n",
       "    .dataframe tbody tr th:only-of-type {\n",
       "        vertical-align: middle;\n",
       "    }\n",
       "\n",
       "    .dataframe tbody tr th {\n",
       "        vertical-align: top;\n",
       "    }\n",
       "\n",
       "    .dataframe thead th {\n",
       "        text-align: right;\n",
       "    }\n",
       "</style>\n",
       "<table border=\"1\" class=\"dataframe\">\n",
       "  <thead>\n",
       "    <tr style=\"text-align: right;\">\n",
       "      <th></th>\n",
       "      <th>ISBN</th>\n",
       "      <th>Book-Title</th>\n",
       "      <th>Book-Author</th>\n",
       "      <th>Year-Of-Publication</th>\n",
       "      <th>Publisher</th>\n",
       "      <th>Image-URL-S</th>\n",
       "      <th>Image-URL-M</th>\n",
       "      <th>Image-URL-L</th>\n",
       "    </tr>\n",
       "  </thead>\n",
       "  <tbody>\n",
       "    <tr>\n",
       "      <th>0</th>\n",
       "      <td>0195153448</td>\n",
       "      <td>Classical Mythology</td>\n",
       "      <td>Mark P. O. Morford</td>\n",
       "      <td>2002</td>\n",
       "      <td>Oxford University Press</td>\n",
       "      <td>http://images.amazon.com/images/P/0195153448.0...</td>\n",
       "      <td>http://images.amazon.com/images/P/0195153448.0...</td>\n",
       "      <td>http://images.amazon.com/images/P/0195153448.0...</td>\n",
       "    </tr>\n",
       "    <tr>\n",
       "      <th>1</th>\n",
       "      <td>0002005018</td>\n",
       "      <td>Clara Callan</td>\n",
       "      <td>Richard Bruce Wright</td>\n",
       "      <td>2001</td>\n",
       "      <td>HarperFlamingo Canada</td>\n",
       "      <td>http://images.amazon.com/images/P/0002005018.0...</td>\n",
       "      <td>http://images.amazon.com/images/P/0002005018.0...</td>\n",
       "      <td>http://images.amazon.com/images/P/0002005018.0...</td>\n",
       "    </tr>\n",
       "    <tr>\n",
       "      <th>2</th>\n",
       "      <td>0060973129</td>\n",
       "      <td>Decision in Normandy</td>\n",
       "      <td>Carlo D'Este</td>\n",
       "      <td>1991</td>\n",
       "      <td>HarperPerennial</td>\n",
       "      <td>http://images.amazon.com/images/P/0060973129.0...</td>\n",
       "      <td>http://images.amazon.com/images/P/0060973129.0...</td>\n",
       "      <td>http://images.amazon.com/images/P/0060973129.0...</td>\n",
       "    </tr>\n",
       "    <tr>\n",
       "      <th>3</th>\n",
       "      <td>0374157065</td>\n",
       "      <td>Flu: The Story of the Great Influenza Pandemic...</td>\n",
       "      <td>Gina Bari Kolata</td>\n",
       "      <td>1999</td>\n",
       "      <td>Farrar Straus Giroux</td>\n",
       "      <td>http://images.amazon.com/images/P/0374157065.0...</td>\n",
       "      <td>http://images.amazon.com/images/P/0374157065.0...</td>\n",
       "      <td>http://images.amazon.com/images/P/0374157065.0...</td>\n",
       "    </tr>\n",
       "    <tr>\n",
       "      <th>4</th>\n",
       "      <td>0393045218</td>\n",
       "      <td>The Mummies of Urumchi</td>\n",
       "      <td>E. J. W. Barber</td>\n",
       "      <td>1999</td>\n",
       "      <td>W. W. Norton &amp;amp; Company</td>\n",
       "      <td>http://images.amazon.com/images/P/0393045218.0...</td>\n",
       "      <td>http://images.amazon.com/images/P/0393045218.0...</td>\n",
       "      <td>http://images.amazon.com/images/P/0393045218.0...</td>\n",
       "    </tr>\n",
       "  </tbody>\n",
       "</table>\n",
       "</div>"
      ],
      "text/plain": [
       "         ISBN                                         Book-Title  \\\n",
       "0  0195153448                                Classical Mythology   \n",
       "1  0002005018                                       Clara Callan   \n",
       "2  0060973129                               Decision in Normandy   \n",
       "3  0374157065  Flu: The Story of the Great Influenza Pandemic...   \n",
       "4  0393045218                             The Mummies of Urumchi   \n",
       "\n",
       "            Book-Author Year-Of-Publication                   Publisher  \\\n",
       "0    Mark P. O. Morford                2002     Oxford University Press   \n",
       "1  Richard Bruce Wright                2001       HarperFlamingo Canada   \n",
       "2          Carlo D'Este                1991             HarperPerennial   \n",
       "3      Gina Bari Kolata                1999        Farrar Straus Giroux   \n",
       "4       E. J. W. Barber                1999  W. W. Norton &amp; Company   \n",
       "\n",
       "                                         Image-URL-S  \\\n",
       "0  http://images.amazon.com/images/P/0195153448.0...   \n",
       "1  http://images.amazon.com/images/P/0002005018.0...   \n",
       "2  http://images.amazon.com/images/P/0060973129.0...   \n",
       "3  http://images.amazon.com/images/P/0374157065.0...   \n",
       "4  http://images.amazon.com/images/P/0393045218.0...   \n",
       "\n",
       "                                         Image-URL-M  \\\n",
       "0  http://images.amazon.com/images/P/0195153448.0...   \n",
       "1  http://images.amazon.com/images/P/0002005018.0...   \n",
       "2  http://images.amazon.com/images/P/0060973129.0...   \n",
       "3  http://images.amazon.com/images/P/0374157065.0...   \n",
       "4  http://images.amazon.com/images/P/0393045218.0...   \n",
       "\n",
       "                                         Image-URL-L  \n",
       "0  http://images.amazon.com/images/P/0195153448.0...  \n",
       "1  http://images.amazon.com/images/P/0002005018.0...  \n",
       "2  http://images.amazon.com/images/P/0060973129.0...  \n",
       "3  http://images.amazon.com/images/P/0374157065.0...  \n",
       "4  http://images.amazon.com/images/P/0393045218.0...  "
      ]
     },
     "execution_count": 9,
     "metadata": {},
     "output_type": "execute_result"
    }
   ],
   "source": [
    "books.head()"
   ]
  },
  {
   "cell_type": "code",
   "execution_count": 10,
   "metadata": {},
   "outputs": [
    {
     "name": "stdout",
     "output_type": "stream",
     "text": [
      "Banyak ISBN:  271360\n",
      "Banyak Judul:  242135\n",
      "Banyak Penulis:  102023\n"
     ]
    }
   ],
   "source": [
    "print('Banyak ISBN: ', len(books['ISBN'].unique()))\n",
    "print('Banyak Judul: ', len(books['Book-Title'].unique()))\n",
    "print('Banyak Penulis: ', len(books['Book-Author'].unique()))"
   ]
  },
  {
   "cell_type": "markdown",
   "metadata": {},
   "source": [
    "#### Ratings Variabel"
   ]
  },
  {
   "cell_type": "code",
   "execution_count": 11,
   "metadata": {},
   "outputs": [
    {
     "data": {
      "text/html": [
       "<div>\n",
       "<style scoped>\n",
       "    .dataframe tbody tr th:only-of-type {\n",
       "        vertical-align: middle;\n",
       "    }\n",
       "\n",
       "    .dataframe tbody tr th {\n",
       "        vertical-align: top;\n",
       "    }\n",
       "\n",
       "    .dataframe thead th {\n",
       "        text-align: right;\n",
       "    }\n",
       "</style>\n",
       "<table border=\"1\" class=\"dataframe\">\n",
       "  <thead>\n",
       "    <tr style=\"text-align: right;\">\n",
       "      <th></th>\n",
       "      <th>User-ID</th>\n",
       "      <th>ISBN</th>\n",
       "      <th>Book-Rating</th>\n",
       "    </tr>\n",
       "  </thead>\n",
       "  <tbody>\n",
       "    <tr>\n",
       "      <th>0</th>\n",
       "      <td>276725</td>\n",
       "      <td>034545104X</td>\n",
       "      <td>0</td>\n",
       "    </tr>\n",
       "    <tr>\n",
       "      <th>1</th>\n",
       "      <td>276726</td>\n",
       "      <td>0155061224</td>\n",
       "      <td>5</td>\n",
       "    </tr>\n",
       "    <tr>\n",
       "      <th>2</th>\n",
       "      <td>276727</td>\n",
       "      <td>0446520802</td>\n",
       "      <td>0</td>\n",
       "    </tr>\n",
       "    <tr>\n",
       "      <th>3</th>\n",
       "      <td>276729</td>\n",
       "      <td>052165615X</td>\n",
       "      <td>3</td>\n",
       "    </tr>\n",
       "    <tr>\n",
       "      <th>4</th>\n",
       "      <td>276729</td>\n",
       "      <td>0521795028</td>\n",
       "      <td>6</td>\n",
       "    </tr>\n",
       "  </tbody>\n",
       "</table>\n",
       "</div>"
      ],
      "text/plain": [
       "   User-ID        ISBN  Book-Rating\n",
       "0   276725  034545104X            0\n",
       "1   276726  0155061224            5\n",
       "2   276727  0446520802            0\n",
       "3   276729  052165615X            3\n",
       "4   276729  0521795028            6"
      ]
     },
     "execution_count": 11,
     "metadata": {},
     "output_type": "execute_result"
    }
   ],
   "source": [
    "ratings.head()"
   ]
  },
  {
   "cell_type": "code",
   "execution_count": 12,
   "metadata": {},
   "outputs": [
    {
     "name": "stdout",
     "output_type": "stream",
     "text": [
      "<class 'pandas.core.frame.DataFrame'>\n",
      "RangeIndex: 1149780 entries, 0 to 1149779\n",
      "Data columns (total 3 columns):\n",
      " #   Column       Non-Null Count    Dtype \n",
      "---  ------       --------------    ----- \n",
      " 0   User-ID      1149780 non-null  int64 \n",
      " 1   ISBN         1149780 non-null  object\n",
      " 2   Book-Rating  1149780 non-null  int64 \n",
      "dtypes: int64(2), object(1)\n",
      "memory usage: 26.3+ MB\n"
     ]
    }
   ],
   "source": [
    "ratings.info()"
   ]
  },
  {
   "cell_type": "code",
   "execution_count": 13,
   "metadata": {},
   "outputs": [
    {
     "name": "stdout",
     "output_type": "stream",
     "text": [
      "<class 'pandas.core.frame.DataFrame'>\n",
      "RangeIndex: 278858 entries, 0 to 278857\n",
      "Data columns (total 3 columns):\n",
      " #   Column    Non-Null Count   Dtype  \n",
      "---  ------    --------------   -----  \n",
      " 0   User-ID   278858 non-null  int64  \n",
      " 1   Location  278858 non-null  object \n",
      " 2   Age       168096 non-null  float64\n",
      "dtypes: float64(1), int64(1), object(1)\n",
      "memory usage: 6.4+ MB\n"
     ]
    }
   ],
   "source": [
    "users.info()"
   ]
  },
  {
   "cell_type": "code",
   "execution_count": 14,
   "metadata": {},
   "outputs": [
    {
     "data": {
      "text/html": [
       "<div>\n",
       "<style scoped>\n",
       "    .dataframe tbody tr th:only-of-type {\n",
       "        vertical-align: middle;\n",
       "    }\n",
       "\n",
       "    .dataframe tbody tr th {\n",
       "        vertical-align: top;\n",
       "    }\n",
       "\n",
       "    .dataframe thead th {\n",
       "        text-align: right;\n",
       "    }\n",
       "</style>\n",
       "<table border=\"1\" class=\"dataframe\">\n",
       "  <thead>\n",
       "    <tr style=\"text-align: right;\">\n",
       "      <th></th>\n",
       "      <th>User-ID</th>\n",
       "      <th>Book-Rating</th>\n",
       "    </tr>\n",
       "  </thead>\n",
       "  <tbody>\n",
       "    <tr>\n",
       "      <th>count</th>\n",
       "      <td>1.149780e+06</td>\n",
       "      <td>1.149780e+06</td>\n",
       "    </tr>\n",
       "    <tr>\n",
       "      <th>mean</th>\n",
       "      <td>1.403864e+05</td>\n",
       "      <td>2.866950e+00</td>\n",
       "    </tr>\n",
       "    <tr>\n",
       "      <th>std</th>\n",
       "      <td>8.056228e+04</td>\n",
       "      <td>3.854184e+00</td>\n",
       "    </tr>\n",
       "    <tr>\n",
       "      <th>min</th>\n",
       "      <td>2.000000e+00</td>\n",
       "      <td>0.000000e+00</td>\n",
       "    </tr>\n",
       "    <tr>\n",
       "      <th>25%</th>\n",
       "      <td>7.034500e+04</td>\n",
       "      <td>0.000000e+00</td>\n",
       "    </tr>\n",
       "    <tr>\n",
       "      <th>50%</th>\n",
       "      <td>1.410100e+05</td>\n",
       "      <td>0.000000e+00</td>\n",
       "    </tr>\n",
       "    <tr>\n",
       "      <th>75%</th>\n",
       "      <td>2.110280e+05</td>\n",
       "      <td>7.000000e+00</td>\n",
       "    </tr>\n",
       "    <tr>\n",
       "      <th>max</th>\n",
       "      <td>2.788540e+05</td>\n",
       "      <td>1.000000e+01</td>\n",
       "    </tr>\n",
       "  </tbody>\n",
       "</table>\n",
       "</div>"
      ],
      "text/plain": [
       "            User-ID   Book-Rating\n",
       "count  1.149780e+06  1.149780e+06\n",
       "mean   1.403864e+05  2.866950e+00\n",
       "std    8.056228e+04  3.854184e+00\n",
       "min    2.000000e+00  0.000000e+00\n",
       "25%    7.034500e+04  0.000000e+00\n",
       "50%    1.410100e+05  0.000000e+00\n",
       "75%    2.110280e+05  7.000000e+00\n",
       "max    2.788540e+05  1.000000e+01"
      ]
     },
     "execution_count": 14,
     "metadata": {},
     "output_type": "execute_result"
    }
   ],
   "source": [
    "ratings.describe()"
   ]
  },
  {
   "cell_type": "code",
   "execution_count": 15,
   "metadata": {},
   "outputs": [
    {
     "name": "stdout",
     "output_type": "stream",
     "text": [
      "Jumlah user id:  105283\n",
      "Jumlah Book-Rating:  11\n",
      "Jumlah data rating:  1149780\n"
     ]
    }
   ],
   "source": [
    "print('Jumlah user id: ', len(ratings['User-ID'].unique()))\n",
    "print('Jumlah Book-Rating: ', len(ratings['Book-Rating'].unique()))\n",
    "print('Jumlah data rating: ', len(ratings))"
   ]
  },
  {
   "cell_type": "markdown",
   "metadata": {},
   "source": [
    "#### Users Variabel"
   ]
  },
  {
   "cell_type": "code",
   "execution_count": 16,
   "metadata": {},
   "outputs": [
    {
     "data": {
      "text/html": [
       "<div>\n",
       "<style scoped>\n",
       "    .dataframe tbody tr th:only-of-type {\n",
       "        vertical-align: middle;\n",
       "    }\n",
       "\n",
       "    .dataframe tbody tr th {\n",
       "        vertical-align: top;\n",
       "    }\n",
       "\n",
       "    .dataframe thead th {\n",
       "        text-align: right;\n",
       "    }\n",
       "</style>\n",
       "<table border=\"1\" class=\"dataframe\">\n",
       "  <thead>\n",
       "    <tr style=\"text-align: right;\">\n",
       "      <th></th>\n",
       "      <th>User-ID</th>\n",
       "      <th>Age</th>\n",
       "    </tr>\n",
       "  </thead>\n",
       "  <tbody>\n",
       "    <tr>\n",
       "      <th>count</th>\n",
       "      <td>278858.00000</td>\n",
       "      <td>168096.000000</td>\n",
       "    </tr>\n",
       "    <tr>\n",
       "      <th>mean</th>\n",
       "      <td>139429.50000</td>\n",
       "      <td>34.751434</td>\n",
       "    </tr>\n",
       "    <tr>\n",
       "      <th>std</th>\n",
       "      <td>80499.51502</td>\n",
       "      <td>14.428097</td>\n",
       "    </tr>\n",
       "    <tr>\n",
       "      <th>min</th>\n",
       "      <td>1.00000</td>\n",
       "      <td>0.000000</td>\n",
       "    </tr>\n",
       "    <tr>\n",
       "      <th>25%</th>\n",
       "      <td>69715.25000</td>\n",
       "      <td>24.000000</td>\n",
       "    </tr>\n",
       "    <tr>\n",
       "      <th>50%</th>\n",
       "      <td>139429.50000</td>\n",
       "      <td>32.000000</td>\n",
       "    </tr>\n",
       "    <tr>\n",
       "      <th>75%</th>\n",
       "      <td>209143.75000</td>\n",
       "      <td>44.000000</td>\n",
       "    </tr>\n",
       "    <tr>\n",
       "      <th>max</th>\n",
       "      <td>278858.00000</td>\n",
       "      <td>244.000000</td>\n",
       "    </tr>\n",
       "  </tbody>\n",
       "</table>\n",
       "</div>"
      ],
      "text/plain": [
       "            User-ID            Age\n",
       "count  278858.00000  168096.000000\n",
       "mean   139429.50000      34.751434\n",
       "std     80499.51502      14.428097\n",
       "min         1.00000       0.000000\n",
       "25%     69715.25000      24.000000\n",
       "50%    139429.50000      32.000000\n",
       "75%    209143.75000      44.000000\n",
       "max    278858.00000     244.000000"
      ]
     },
     "execution_count": 16,
     "metadata": {},
     "output_type": "execute_result"
    }
   ],
   "source": [
    "users.describe()"
   ]
  },
  {
   "cell_type": "code",
   "execution_count": 17,
   "metadata": {},
   "outputs": [
    {
     "name": "stdout",
     "output_type": "stream",
     "text": [
      "<class 'pandas.core.frame.DataFrame'>\n",
      "RangeIndex: 278858 entries, 0 to 278857\n",
      "Data columns (total 3 columns):\n",
      " #   Column    Non-Null Count   Dtype  \n",
      "---  ------    --------------   -----  \n",
      " 0   User-ID   278858 non-null  int64  \n",
      " 1   Location  278858 non-null  object \n",
      " 2   Age       168096 non-null  float64\n",
      "dtypes: float64(1), int64(1), object(1)\n",
      "memory usage: 6.4+ MB\n"
     ]
    }
   ],
   "source": [
    "users.info()"
   ]
  },
  {
   "cell_type": "markdown",
   "metadata": {},
   "source": [
    "## Data Preprocessing"
   ]
  },
  {
   "cell_type": "markdown",
   "metadata": {},
   "source": [
    "### 1. Menggabungkan Data Buku"
   ]
  },
  {
   "cell_type": "code",
   "execution_count": 18,
   "metadata": {},
   "outputs": [
    {
     "name": "stdout",
     "output_type": "stream",
     "text": [
      "Jumlah data buku dan user:  341765\n"
     ]
    }
   ],
   "source": [
    "books_all = np.concatenate((\n",
    "  books['ISBN'].unique(),\n",
    "  ratings['ISBN'].unique()\n",
    "))\n",
    "\n",
    "books_all = np.sort(np.unique(books_all))\n",
    "print('Jumlah data buku dan user: ', len(books_all))"
   ]
  },
  {
   "cell_type": "markdown",
   "metadata": {},
   "source": [
    "### 2. Menggabungkan Data User"
   ]
  },
  {
   "cell_type": "code",
   "execution_count": 19,
   "metadata": {},
   "outputs": [
    {
     "name": "stdout",
     "output_type": "stream",
     "text": [
      "Jumlah data user:  278858\n"
     ]
    }
   ],
   "source": [
    "users_all = np.concatenate((\n",
    "  ratings['User-ID'].unique(),\n",
    "  users['User-ID'].unique()\n",
    "))\n",
    "\n",
    "users_all = np.sort(np.unique(users_all))\n",
    "print('Jumlah data user: ', len(users_all))"
   ]
  },
  {
   "cell_type": "markdown",
   "metadata": {},
   "source": [
    "## Data Preparation\n",
    "Pada tahap ini, dilakukan proses transformasi pada data sehingga menjadi bentuk yang cocok untuk proses pemodelan nantinya. Dalam kasus ini, tahap data preparation dilakukan dengan mengatasi missing value, pengecekan data duplikat, dan penggabungan data buku dan data rating."
   ]
  },
  {
   "cell_type": "markdown",
   "metadata": {},
   "source": [
    "### 1. Mengatasi Missing Value"
   ]
  },
  {
   "cell_type": "markdown",
   "metadata": {},
   "source": [
    "#### Book"
   ]
  },
  {
   "cell_type": "code",
   "execution_count": 20,
   "metadata": {},
   "outputs": [
    {
     "data": {
      "text/plain": [
       "ISBN                   0\n",
       "Book-Title             0\n",
       "Book-Author            2\n",
       "Year-Of-Publication    0\n",
       "Publisher              2\n",
       "Image-URL-S            0\n",
       "Image-URL-M            0\n",
       "Image-URL-L            3\n",
       "dtype: int64"
      ]
     },
     "execution_count": 20,
     "metadata": {},
     "output_type": "execute_result"
    }
   ],
   "source": [
    "book_df = books\n",
    "\n",
    "book_df.isnull().sum()"
   ]
  },
  {
   "cell_type": "markdown",
   "metadata": {},
   "source": [
    "Terlihat terdapat nilai kosong atau null pada fitur book author, publisher dan juga Image-URL-L. "
   ]
  },
  {
   "cell_type": "code",
   "execution_count": 21,
   "metadata": {},
   "outputs": [
    {
     "data": {
      "text/plain": [
       "ISBN                   0\n",
       "Book-Title             0\n",
       "Book-Author            0\n",
       "Year-Of-Publication    0\n",
       "Publisher              0\n",
       "Image-URL-S            0\n",
       "Image-URL-M            0\n",
       "Image-URL-L            0\n",
       "dtype: int64"
      ]
     },
     "execution_count": 21,
     "metadata": {},
     "output_type": "execute_result"
    }
   ],
   "source": [
    "book_df = book_df.dropna()\n",
    "\n",
    "book_df.isnull().sum()"
   ]
  },
  {
   "cell_type": "markdown",
   "metadata": {},
   "source": [
    "#### Ratings"
   ]
  },
  {
   "cell_type": "code",
   "execution_count": 22,
   "metadata": {},
   "outputs": [
    {
     "data": {
      "text/plain": [
       "User-ID        0\n",
       "ISBN           0\n",
       "Book-Rating    0\n",
       "dtype: int64"
      ]
     },
     "execution_count": 22,
     "metadata": {},
     "output_type": "execute_result"
    }
   ],
   "source": [
    "rating_df = ratings\n",
    "\n",
    "rating_df.isnull().sum()"
   ]
  },
  {
   "cell_type": "code",
   "execution_count": 23,
   "metadata": {},
   "outputs": [
    {
     "data": {
      "text/plain": [
       "<Axes: xlabel='Book-Rating'>"
      ]
     },
     "execution_count": 23,
     "metadata": {},
     "output_type": "execute_result"
    },
    {
     "data": {
      "image/png": "[encoded data removed]",
      "text/plain": [
       "<Figure size 640x480 with 1 Axes>"
      ]
     },
     "metadata": {},
     "output_type": "display_data"
    }
   ],
   "source": [
    "rating_df['Book-Rating'].value_counts().plot(kind='bar')"
   ]
  },
  {
   "cell_type": "markdown",
   "metadata": {},
   "source": [
    "Sistem rekomendasi biasanya memiliki data umpan balik implisit, di mana pengguna tidak secara eksplisit memberikan penilaian namun tindakan mereka dapat digunakan sebagai indikasi preferensi. Dalam hal ini, peringkat 0 mungkin mewakili peringkat yang hilang atau tidak diketahui, yang sering kali dianggap sebagai \"umpan balik negatif implisit\". Artinya, pengguna yang belum memberikan rating apa pun untuk sebuah buku belum tentu menunjukkan bahwa mereka tidak menyukai buku tersebut; mereka mungkin tidak menyatakan pendapat apa pun tentang hal itu."
   ]
  },
  {
   "cell_type": "markdown",
   "metadata": {},
   "source": [
    "#### Users"
   ]
  },
  {
   "cell_type": "code",
   "execution_count": 24,
   "metadata": {},
   "outputs": [
    {
     "data": {
      "text/plain": [
       "User-ID          0\n",
       "Location         0\n",
       "Age         110762\n",
       "dtype: int64"
      ]
     },
     "execution_count": 24,
     "metadata": {},
     "output_type": "execute_result"
    }
   ],
   "source": [
    "user_df = users\n",
    "\n",
    "user_df.isnull().sum()"
   ]
  },
  {
   "cell_type": "markdown",
   "metadata": {},
   "source": [
    "Berdasarkan deskripsi di atas, dapat dilihat bahwa pada dataframe users terdapat atribut yang memiliki nilai kosong atau null, yaitu pada atribut age sebanyak 110.762 data."
   ]
  },
  {
   "cell_type": "code",
   "execution_count": 25,
   "metadata": {},
   "outputs": [
    {
     "data": {
      "text/plain": [
       "User-ID     0\n",
       "Location    0\n",
       "Age         0\n",
       "dtype: int64"
      ]
     },
     "execution_count": 25,
     "metadata": {},
     "output_type": "execute_result"
    }
   ],
   "source": [
    "user_df['Age'] = user_df['Age'].fillna(user_df['Age'].mean())\n",
    "user_df.isnull().sum()"
   ]
  },
  {
   "cell_type": "markdown",
   "metadata": {},
   "source": [
    "### 2. Mengatasi Duplikasi Data"
   ]
  },
  {
   "cell_type": "code",
   "execution_count": 26,
   "metadata": {},
   "outputs": [
    {
     "name": "stdout",
     "output_type": "stream",
     "text": [
      "Jumlah Data Buku yang duplikat:  0\n",
      "Jumlah Data Rating yang duplikat:  0\n",
      "Jumlah Data User yang duplikat:  0\n"
     ]
    }
   ],
   "source": [
    "print('Jumlah Data Buku yang duplikat: ', book_df.duplicated().sum())\n",
    "print('Jumlah Data Rating yang duplikat: ', rating_df.duplicated().sum())\n",
    "print('Jumlah Data User yang duplikat: ', user_df.duplicated().sum())"
   ]
  },
  {
   "cell_type": "markdown",
   "metadata": {},
   "source": [
    "### 3. Data Buku dan Data Rating"
   ]
  },
  {
   "cell_type": "code",
   "execution_count": 27,
   "metadata": {},
   "outputs": [
    {
     "data": {
      "text/html": [
       "<div>\n",
       "<style scoped>\n",
       "    .dataframe tbody tr th:only-of-type {\n",
       "        vertical-align: middle;\n",
       "    }\n",
       "\n",
       "    .dataframe tbody tr th {\n",
       "        vertical-align: top;\n",
       "    }\n",
       "\n",
       "    .dataframe thead th {\n",
       "        text-align: right;\n",
       "    }\n",
       "</style>\n",
       "<table border=\"1\" class=\"dataframe\">\n",
       "  <thead>\n",
       "    <tr style=\"text-align: right;\">\n",
       "      <th></th>\n",
       "      <th>ISBN</th>\n",
       "      <th>Book-Title</th>\n",
       "      <th>Book-Author</th>\n",
       "      <th>Year-Of-Publication</th>\n",
       "      <th>Publisher</th>\n",
       "      <th>Image-URL-S</th>\n",
       "      <th>Image-URL-M</th>\n",
       "      <th>Image-URL-L</th>\n",
       "      <th>User-ID</th>\n",
       "      <th>Book-Rating</th>\n",
       "    </tr>\n",
       "  </thead>\n",
       "  <tbody>\n",
       "    <tr>\n",
       "      <th>0</th>\n",
       "      <td>0195153448</td>\n",
       "      <td>Classical Mythology</td>\n",
       "      <td>Mark P. O. Morford</td>\n",
       "      <td>2002</td>\n",
       "      <td>Oxford University Press</td>\n",
       "      <td>http://images.amazon.com/images/P/0195153448.0...</td>\n",
       "      <td>http://images.amazon.com/images/P/0195153448.0...</td>\n",
       "      <td>http://images.amazon.com/images/P/0195153448.0...</td>\n",
       "      <td>2</td>\n",
       "      <td>0</td>\n",
       "    </tr>\n",
       "    <tr>\n",
       "      <th>1</th>\n",
       "      <td>0002005018</td>\n",
       "      <td>Clara Callan</td>\n",
       "      <td>Richard Bruce Wright</td>\n",
       "      <td>2001</td>\n",
       "      <td>HarperFlamingo Canada</td>\n",
       "      <td>http://images.amazon.com/images/P/0002005018.0...</td>\n",
       "      <td>http://images.amazon.com/images/P/0002005018.0...</td>\n",
       "      <td>http://images.amazon.com/images/P/0002005018.0...</td>\n",
       "      <td>8</td>\n",
       "      <td>5</td>\n",
       "    </tr>\n",
       "    <tr>\n",
       "      <th>2</th>\n",
       "      <td>0002005018</td>\n",
       "      <td>Clara Callan</td>\n",
       "      <td>Richard Bruce Wright</td>\n",
       "      <td>2001</td>\n",
       "      <td>HarperFlamingo Canada</td>\n",
       "      <td>http://images.amazon.com/images/P/0002005018.0...</td>\n",
       "      <td>http://images.amazon.com/images/P/0002005018.0...</td>\n",
       "      <td>http://images.amazon.com/images/P/0002005018.0...</td>\n",
       "      <td>11400</td>\n",
       "      <td>0</td>\n",
       "    </tr>\n",
       "    <tr>\n",
       "      <th>3</th>\n",
       "      <td>0002005018</td>\n",
       "      <td>Clara Callan</td>\n",
       "      <td>Richard Bruce Wright</td>\n",
       "      <td>2001</td>\n",
       "      <td>HarperFlamingo Canada</td>\n",
       "      <td>http://images.amazon.com/images/P/0002005018.0...</td>\n",
       "      <td>http://images.amazon.com/images/P/0002005018.0...</td>\n",
       "      <td>http://images.amazon.com/images/P/0002005018.0...</td>\n",
       "      <td>11676</td>\n",
       "      <td>8</td>\n",
       "    </tr>\n",
       "    <tr>\n",
       "      <th>4</th>\n",
       "      <td>0002005018</td>\n",
       "      <td>Clara Callan</td>\n",
       "      <td>Richard Bruce Wright</td>\n",
       "      <td>2001</td>\n",
       "      <td>HarperFlamingo Canada</td>\n",
       "      <td>http://images.amazon.com/images/P/0002005018.0...</td>\n",
       "      <td>http://images.amazon.com/images/P/0002005018.0...</td>\n",
       "      <td>http://images.amazon.com/images/P/0002005018.0...</td>\n",
       "      <td>41385</td>\n",
       "      <td>0</td>\n",
       "    </tr>\n",
       "  </tbody>\n",
       "</table>\n",
       "</div>"
      ],
      "text/plain": [
       "         ISBN           Book-Title           Book-Author Year-Of-Publication  \\\n",
       "0  0195153448  Classical Mythology    Mark P. O. Morford                2002   \n",
       "1  0002005018         Clara Callan  Richard Bruce Wright                2001   \n",
       "2  0002005018         Clara Callan  Richard Bruce Wright                2001   \n",
       "3  0002005018         Clara Callan  Richard Bruce Wright                2001   \n",
       "4  0002005018         Clara Callan  Richard Bruce Wright                2001   \n",
       "\n",
       "                 Publisher                                        Image-URL-S  \\\n",
       "0  Oxford University Press  http://images.amazon.com/images/P/0195153448.0...   \n",
       "1    HarperFlamingo Canada  http://images.amazon.com/images/P/0002005018.0...   \n",
       "2    HarperFlamingo Canada  http://images.amazon.com/images/P/0002005018.0...   \n",
       "3    HarperFlamingo Canada  http://images.amazon.com/images/P/0002005018.0...   \n",
       "4    HarperFlamingo Canada  http://images.amazon.com/images/P/0002005018.0...   \n",
       "\n",
       "                                         Image-URL-M  \\\n",
       "0  http://images.amazon.com/images/P/0195153448.0...   \n",
       "1  http://images.amazon.com/images/P/0002005018.0...   \n",
       "2  http://images.amazon.com/images/P/0002005018.0...   \n",
       "3  http://images.amazon.com/images/P/0002005018.0...   \n",
       "4  http://images.amazon.com/images/P/0002005018.0...   \n",
       "\n",
       "                                         Image-URL-L  User-ID  Book-Rating  \n",
       "0  http://images.amazon.com/images/P/0195153448.0...        2            0  \n",
       "1  http://images.amazon.com/images/P/0002005018.0...        8            5  \n",
       "2  http://images.amazon.com/images/P/0002005018.0...    11400            0  \n",
       "3  http://images.amazon.com/images/P/0002005018.0...    11676            8  \n",
       "4  http://images.amazon.com/images/P/0002005018.0...    41385            0  "
      ]
     },
     "execution_count": 27,
     "metadata": {},
     "output_type": "execute_result"
    }
   ],
   "source": [
    "books_ratings = pd.merge(book_df, rating_df, on='ISBN')\n",
    "\n",
    "books_ratings.head()"
   ]
  },
  {
   "cell_type": "markdown",
   "metadata": {},
   "source": [
    "## Model Development dengan Content Based Filtering"
   ]
  },
  {
   "cell_type": "code",
   "execution_count": 28,
   "metadata": {},
   "outputs": [],
   "source": [
    "# Batasan data\n",
    "book_df = book_df[:10000]\n",
    "rating_df = rating_df[:7500]"
   ]
  },
  {
   "cell_type": "markdown",
   "metadata": {},
   "source": [
    "#### TF-IDF Vectorize"
   ]
  },
  {
   "cell_type": "code",
   "execution_count": 29,
   "metadata": {},
   "outputs": [
    {
     "data": {
      "text/html": [
       "<style>#sk-container-id-1 {color: black;}#sk-container-id-1 pre{padding: 0;}#sk-container-id-1 div.sk-toggleable {background-color: white;}#sk-container-id-1 label.sk-toggleable__label {cursor: pointer;display: block;width: 100%;margin-bottom: 0;padding: 0.3em;box-sizing: border-box;text-align: center;}#sk-container-id-1 label.sk-toggleable__label-arrow:before {content: \"▸\";float: left;margin-right: 0.25em;color: #696969;}#sk-container-id-1 label.sk-toggleable__label-arrow:hover:before {color: black;}#sk-container-id-1 div.sk-estimator:hover label.sk-toggleable__label-arrow:before {color: black;}#sk-container-id-1 div.sk-toggleable__content {max-height: 0;max-width: 0;overflow: hidden;text-align: left;background-color: #f0f8ff;}#sk-container-id-1 div.sk-toggleable__content pre {margin: 0.2em;color: black;border-radius: 0.25em;background-color: #f0f8ff;}#sk-container-id-1 input.sk-toggleable__control:checked~div.sk-toggleable__content {max-height: 200px;max-width: 100%;overflow: auto;}#sk-container-id-1 input.sk-toggleable__control:checked~label.sk-toggleable__label-arrow:before {content: \"▾\";}#sk-container-id-1 div.sk-estimator input.sk-toggleable__control:checked~label.sk-toggleable__label {background-color: #d4ebff;}#sk-container-id-1 div.sk-label input.sk-toggleable__control:checked~label.sk-toggleable__label {background-color: #d4ebff;}#sk-container-id-1 input.sk-hidden--visually {border: 0;clip: rect(1px 1px 1px 1px);clip: rect(1px, 1px, 1px, 1px);height: 1px;margin: -1px;overflow: hidden;padding: 0;position: absolute;width: 1px;}#sk-container-id-1 div.sk-estimator {font-family: monospace;background-color: #f0f8ff;border: 1px dotted black;border-radius: 0.25em;box-sizing: border-box;margin-bottom: 0.5em;}#sk-container-id-1 div.sk-estimator:hover {background-color: #d4ebff;}#sk-container-id-1 div.sk-parallel-item::after {content: \"\";width: 100%;border-bottom: 1px solid gray;flex-grow: 1;}#sk-container-id-1 div.sk-label:hover label.sk-toggleable__label {background-color: #d4ebff;}#sk-container-id-1 div.sk-serial::before {content: \"\";position: absolute;border-left: 1px solid gray;box-sizing: border-box;top: 0;bottom: 0;left: 50%;z-index: 0;}#sk-container-id-1 div.sk-serial {display: flex;flex-direction: column;align-items: center;background-color: white;padding-right: 0.2em;padding-left: 0.2em;position: relative;}#sk-container-id-1 div.sk-item {position: relative;z-index: 1;}#sk-container-id-1 div.sk-parallel {display: flex;align-items: stretch;justify-content: center;background-color: white;position: relative;}#sk-container-id-1 div.sk-item::before, #sk-container-id-1 div.sk-parallel-item::before {content: \"\";position: absolute;border-left: 1px solid gray;box-sizing: border-box;top: 0;bottom: 0;left: 50%;z-index: -1;}#sk-container-id-1 div.sk-parallel-item {display: flex;flex-direction: column;z-index: 1;position: relative;background-color: white;}#sk-container-id-1 div.sk-parallel-item:first-child::after {align-self: flex-end;width: 50%;}#sk-container-id-1 div.sk-parallel-item:last-child::after {align-self: flex-start;width: 50%;}#sk-container-id-1 div.sk-parallel-item:only-child::after {width: 0;}#sk-container-id-1 div.sk-dashed-wrapped {border: 1px dashed gray;margin: 0 0.4em 0.5em 0.4em;box-sizing: border-box;padding-bottom: 0.4em;background-color: white;}#sk-container-id-1 div.sk-label label {font-family: monospace;font-weight: bold;display: inline-block;line-height: 1.2em;}#sk-container-id-1 div.sk-label-container {text-align: center;}#sk-container-id-1 div.sk-container {/* jupyter's `normalize.less` sets `[hidden] { display: none; }` but bootstrap.min.css set `[hidden] { display: none !important; }` so we also need the `!important` here to be able to override the default hidden behavior on the sphinx rendered scikit-learn.org. See: https://github.com/scikit-learn/scikit-learn/issues/21755 */display: inline-block !important;position: relative;}#sk-container-id-1 div.sk-text-repr-fallback {display: none;}</style><div id=\"sk-container-id-1\" class=\"sk-top-container\"><div class=\"sk-text-repr-fallback\"><pre>TfidfVectorizer()</pre><b>In a Jupyter environment, please rerun this cell to show the HTML representation or trust the notebook. <br />On GitHub, the HTML representation is unable to render, please try loading this page with nbviewer.org.</b></div><div class=\"sk-container\" hidden><div class=\"sk-item\"><div class=\"sk-estimator sk-toggleable\"><input class=\"sk-toggleable__control sk-hidden--visually\" id=\"sk-estimator-id-1\" type=\"checkbox\" checked><label for=\"sk-estimator-id-1\" class=\"sk-toggleable__label sk-toggleable__label-arrow\">TfidfVectorizer</label><div class=\"sk-toggleable__content\"><pre>TfidfVectorizer()</pre></div></div></div></div></div>"
      ],
      "text/plain": [
       "TfidfVectorizer()"
      ]
     },
     "execution_count": 29,
     "metadata": {},
     "output_type": "execute_result"
    }
   ],
   "source": [
    "tfidf = TfidfVectorizer()\n",
    "\n",
    "tfidf.fit(book_df['Book-Author'])\n"
   ]
  },
  {
   "cell_type": "code",
   "execution_count": 30,
   "metadata": {},
   "outputs": [
    {
     "data": {
      "text/plain": [
       "(10000, 5575)"
      ]
     },
     "execution_count": 30,
     "metadata": {},
     "output_type": "execute_result"
    }
   ],
   "source": [
    "tfidf_matrix = tfidf.transform(book_df['Book-Author'])\n",
    "tfidf_matrix.shape"
   ]
  },
  {
   "cell_type": "code",
   "execution_count": 31,
   "metadata": {},
   "outputs": [
    {
     "data": {
      "text/plain": [
       "matrix([[0., 0., 0., ..., 0., 0., 0.],\n",
       "        [0., 0., 0., ..., 0., 0., 0.],\n",
       "        [0., 0., 0., ..., 0., 0., 0.],\n",
       "        ...,\n",
       "        [0., 0., 0., ..., 0., 0., 0.],\n",
       "        [0., 0., 0., ..., 0., 0., 0.],\n",
       "        [0., 0., 0., ..., 0., 0., 0.]])"
      ]
     },
     "execution_count": 31,
     "metadata": {},
     "output_type": "execute_result"
    }
   ],
   "source": [
    "tfidf_matrix.todense()"
   ]
  },
  {
   "cell_type": "code",
   "execution_count": 32,
   "metadata": {},
   "outputs": [
    {
     "data": {
      "text/html": [
       "<div>\n",
       "<style scoped>\n",
       "    .dataframe tbody tr th:only-of-type {\n",
       "        vertical-align: middle;\n",
       "    }\n",
       "\n",
       "    .dataframe tbody tr th {\n",
       "        vertical-align: top;\n",
       "    }\n",
       "\n",
       "    .dataframe thead th {\n",
       "        text-align: right;\n",
       "    }\n",
       "</style>\n",
       "<table border=\"1\" class=\"dataframe\">\n",
       "  <thead>\n",
       "    <tr style=\"text-align: right;\">\n",
       "      <th></th>\n",
       "      <th>quin</th>\n",
       "      <th>ry</th>\n",
       "      <th>coen</th>\n",
       "      <th>katie</th>\n",
       "      <th>company</th>\n",
       "      <th>blume</th>\n",
       "      <th>lustbader</th>\n",
       "      <th>hawks</th>\n",
       "      <th>napier</th>\n",
       "      <th>cordingly</th>\n",
       "      <th>cast</th>\n",
       "      <th>cash</th>\n",
       "      <th>kindred</th>\n",
       "      <th>sobel</th>\n",
       "      <th>sachar</th>\n",
       "      <th>clegg</th>\n",
       "      <th>mcalister</th>\n",
       "      <th>candice</th>\n",
       "      <th>limbaugh</th>\n",
       "      <th>stern</th>\n",
       "    </tr>\n",
       "    <tr>\n",
       "      <th>Book-Title</th>\n",
       "      <th></th>\n",
       "      <th></th>\n",
       "      <th></th>\n",
       "      <th></th>\n",
       "      <th></th>\n",
       "      <th></th>\n",
       "      <th></th>\n",
       "      <th></th>\n",
       "      <th></th>\n",
       "      <th></th>\n",
       "      <th></th>\n",
       "      <th></th>\n",
       "      <th></th>\n",
       "      <th></th>\n",
       "      <th></th>\n",
       "      <th></th>\n",
       "      <th></th>\n",
       "      <th></th>\n",
       "      <th></th>\n",
       "      <th></th>\n",
       "    </tr>\n",
       "  </thead>\n",
       "  <tbody>\n",
       "    <tr>\n",
       "      <th>The Very Hungry Caterpillar Board Book</th>\n",
       "      <td>0.0</td>\n",
       "      <td>0.0</td>\n",
       "      <td>0.0</td>\n",
       "      <td>0.0</td>\n",
       "      <td>0.0</td>\n",
       "      <td>0.0</td>\n",
       "      <td>0.0</td>\n",
       "      <td>0.0</td>\n",
       "      <td>0.0</td>\n",
       "      <td>0.0</td>\n",
       "      <td>0.0</td>\n",
       "      <td>0.0</td>\n",
       "      <td>0.0</td>\n",
       "      <td>0.0</td>\n",
       "      <td>0.0</td>\n",
       "      <td>0.0</td>\n",
       "      <td>0.0</td>\n",
       "      <td>0.0</td>\n",
       "      <td>0.0</td>\n",
       "      <td>0.0</td>\n",
       "    </tr>\n",
       "    <tr>\n",
       "      <th>Technical Writing</th>\n",
       "      <td>0.0</td>\n",
       "      <td>0.0</td>\n",
       "      <td>0.0</td>\n",
       "      <td>0.0</td>\n",
       "      <td>0.0</td>\n",
       "      <td>0.0</td>\n",
       "      <td>0.0</td>\n",
       "      <td>0.0</td>\n",
       "      <td>0.0</td>\n",
       "      <td>0.0</td>\n",
       "      <td>0.0</td>\n",
       "      <td>0.0</td>\n",
       "      <td>0.0</td>\n",
       "      <td>0.0</td>\n",
       "      <td>0.0</td>\n",
       "      <td>0.0</td>\n",
       "      <td>0.0</td>\n",
       "      <td>0.0</td>\n",
       "      <td>0.0</td>\n",
       "      <td>0.0</td>\n",
       "    </tr>\n",
       "    <tr>\n",
       "      <th>Five Children and It</th>\n",
       "      <td>0.0</td>\n",
       "      <td>0.0</td>\n",
       "      <td>0.0</td>\n",
       "      <td>0.0</td>\n",
       "      <td>0.0</td>\n",
       "      <td>0.0</td>\n",
       "      <td>0.0</td>\n",
       "      <td>0.0</td>\n",
       "      <td>0.0</td>\n",
       "      <td>0.0</td>\n",
       "      <td>0.0</td>\n",
       "      <td>0.0</td>\n",
       "      <td>0.0</td>\n",
       "      <td>0.0</td>\n",
       "      <td>0.0</td>\n",
       "      <td>0.0</td>\n",
       "      <td>0.0</td>\n",
       "      <td>0.0</td>\n",
       "      <td>0.0</td>\n",
       "      <td>0.0</td>\n",
       "    </tr>\n",
       "    <tr>\n",
       "      <th>Rose Madder</th>\n",
       "      <td>0.0</td>\n",
       "      <td>0.0</td>\n",
       "      <td>0.0</td>\n",
       "      <td>0.0</td>\n",
       "      <td>0.0</td>\n",
       "      <td>0.0</td>\n",
       "      <td>0.0</td>\n",
       "      <td>0.0</td>\n",
       "      <td>0.0</td>\n",
       "      <td>0.0</td>\n",
       "      <td>0.0</td>\n",
       "      <td>0.0</td>\n",
       "      <td>0.0</td>\n",
       "      <td>0.0</td>\n",
       "      <td>0.0</td>\n",
       "      <td>0.0</td>\n",
       "      <td>0.0</td>\n",
       "      <td>0.0</td>\n",
       "      <td>0.0</td>\n",
       "      <td>0.0</td>\n",
       "    </tr>\n",
       "    <tr>\n",
       "      <th>Becoming a Thinking Christian</th>\n",
       "      <td>0.0</td>\n",
       "      <td>0.0</td>\n",
       "      <td>0.0</td>\n",
       "      <td>0.0</td>\n",
       "      <td>0.0</td>\n",
       "      <td>0.0</td>\n",
       "      <td>0.0</td>\n",
       "      <td>0.0</td>\n",
       "      <td>0.0</td>\n",
       "      <td>0.0</td>\n",
       "      <td>0.0</td>\n",
       "      <td>0.0</td>\n",
       "      <td>0.0</td>\n",
       "      <td>0.0</td>\n",
       "      <td>0.0</td>\n",
       "      <td>0.0</td>\n",
       "      <td>0.0</td>\n",
       "      <td>0.0</td>\n",
       "      <td>0.0</td>\n",
       "      <td>0.0</td>\n",
       "    </tr>\n",
       "    <tr>\n",
       "      <th>Baby-Sitting Is a Dangerous Job</th>\n",
       "      <td>0.0</td>\n",
       "      <td>0.0</td>\n",
       "      <td>0.0</td>\n",
       "      <td>0.0</td>\n",
       "      <td>0.0</td>\n",
       "      <td>0.0</td>\n",
       "      <td>0.0</td>\n",
       "      <td>0.0</td>\n",
       "      <td>0.0</td>\n",
       "      <td>0.0</td>\n",
       "      <td>0.0</td>\n",
       "      <td>0.0</td>\n",
       "      <td>0.0</td>\n",
       "      <td>0.0</td>\n",
       "      <td>0.0</td>\n",
       "      <td>0.0</td>\n",
       "      <td>0.0</td>\n",
       "      <td>0.0</td>\n",
       "      <td>0.0</td>\n",
       "      <td>0.0</td>\n",
       "    </tr>\n",
       "    <tr>\n",
       "      <th>Sacred Geometry (Wooden Books)</th>\n",
       "      <td>0.0</td>\n",
       "      <td>0.0</td>\n",
       "      <td>0.0</td>\n",
       "      <td>0.0</td>\n",
       "      <td>0.0</td>\n",
       "      <td>0.0</td>\n",
       "      <td>0.0</td>\n",
       "      <td>0.0</td>\n",
       "      <td>0.0</td>\n",
       "      <td>0.0</td>\n",
       "      <td>0.0</td>\n",
       "      <td>0.0</td>\n",
       "      <td>0.0</td>\n",
       "      <td>0.0</td>\n",
       "      <td>0.0</td>\n",
       "      <td>0.0</td>\n",
       "      <td>0.0</td>\n",
       "      <td>0.0</td>\n",
       "      <td>0.0</td>\n",
       "      <td>0.0</td>\n",
       "    </tr>\n",
       "    <tr>\n",
       "      <th>Pigs in Heaven</th>\n",
       "      <td>0.0</td>\n",
       "      <td>0.0</td>\n",
       "      <td>0.0</td>\n",
       "      <td>0.0</td>\n",
       "      <td>0.0</td>\n",
       "      <td>0.0</td>\n",
       "      <td>0.0</td>\n",
       "      <td>0.0</td>\n",
       "      <td>0.0</td>\n",
       "      <td>0.0</td>\n",
       "      <td>0.0</td>\n",
       "      <td>0.0</td>\n",
       "      <td>0.0</td>\n",
       "      <td>0.0</td>\n",
       "      <td>0.0</td>\n",
       "      <td>0.0</td>\n",
       "      <td>0.0</td>\n",
       "      <td>0.0</td>\n",
       "      <td>0.0</td>\n",
       "      <td>0.0</td>\n",
       "    </tr>\n",
       "    <tr>\n",
       "      <th>In the Shadow of the Vampire: Reflections from the World of Anne Rice</th>\n",
       "      <td>0.0</td>\n",
       "      <td>0.0</td>\n",
       "      <td>0.0</td>\n",
       "      <td>0.0</td>\n",
       "      <td>0.0</td>\n",
       "      <td>0.0</td>\n",
       "      <td>0.0</td>\n",
       "      <td>0.0</td>\n",
       "      <td>0.0</td>\n",
       "      <td>0.0</td>\n",
       "      <td>0.0</td>\n",
       "      <td>0.0</td>\n",
       "      <td>0.0</td>\n",
       "      <td>0.0</td>\n",
       "      <td>0.0</td>\n",
       "      <td>0.0</td>\n",
       "      <td>0.0</td>\n",
       "      <td>0.0</td>\n",
       "      <td>0.0</td>\n",
       "      <td>0.0</td>\n",
       "    </tr>\n",
       "    <tr>\n",
       "      <th>Canone Inverso</th>\n",
       "      <td>0.0</td>\n",
       "      <td>0.0</td>\n",
       "      <td>0.0</td>\n",
       "      <td>0.0</td>\n",
       "      <td>0.0</td>\n",
       "      <td>0.0</td>\n",
       "      <td>0.0</td>\n",
       "      <td>0.0</td>\n",
       "      <td>0.0</td>\n",
       "      <td>0.0</td>\n",
       "      <td>0.0</td>\n",
       "      <td>0.0</td>\n",
       "      <td>0.0</td>\n",
       "      <td>0.0</td>\n",
       "      <td>0.0</td>\n",
       "      <td>0.0</td>\n",
       "      <td>0.0</td>\n",
       "      <td>0.0</td>\n",
       "      <td>0.0</td>\n",
       "      <td>0.0</td>\n",
       "    </tr>\n",
       "  </tbody>\n",
       "</table>\n",
       "</div>"
      ],
      "text/plain": [
       "                                                    quin   ry  coen  katie  \\\n",
       "Book-Title                                                                   \n",
       "The Very Hungry Caterpillar Board Book               0.0  0.0   0.0    0.0   \n",
       "Technical Writing                                    0.0  0.0   0.0    0.0   \n",
       "Five Children and It                                 0.0  0.0   0.0    0.0   \n",
       "Rose Madder                                          0.0  0.0   0.0    0.0   \n",
       "Becoming a Thinking Christian                        0.0  0.0   0.0    0.0   \n",
       "Baby-Sitting Is a Dangerous Job                      0.0  0.0   0.0    0.0   \n",
       "Sacred Geometry (Wooden Books)                       0.0  0.0   0.0    0.0   \n",
       "Pigs in Heaven                                       0.0  0.0   0.0    0.0   \n",
       "In the Shadow of the Vampire: Reflections from ...   0.0  0.0   0.0    0.0   \n",
       "Canone Inverso                                       0.0  0.0   0.0    0.0   \n",
       "\n",
       "                                                    company  blume  lustbader  \\\n",
       "Book-Title                                                                      \n",
       "The Very Hungry Caterpillar Board Book                  0.0    0.0        0.0   \n",
       "Technical Writing                                       0.0    0.0        0.0   \n",
       "Five Children and It                                    0.0    0.0        0.0   \n",
       "Rose Madder                                             0.0    0.0        0.0   \n",
       "Becoming a Thinking Christian                           0.0    0.0        0.0   \n",
       "Baby-Sitting Is a Dangerous Job                         0.0    0.0        0.0   \n",
       "Sacred Geometry (Wooden Books)                          0.0    0.0        0.0   \n",
       "Pigs in Heaven                                          0.0    0.0        0.0   \n",
       "In the Shadow of the Vampire: Reflections from ...      0.0    0.0        0.0   \n",
       "Canone Inverso                                          0.0    0.0        0.0   \n",
       "\n",
       "                                                    hawks  napier  cordingly  \\\n",
       "Book-Title                                                                     \n",
       "The Very Hungry Caterpillar Board Book                0.0     0.0        0.0   \n",
       "Technical Writing                                     0.0     0.0        0.0   \n",
       "Five Children and It                                  0.0     0.0        0.0   \n",
       "Rose Madder                                           0.0     0.0        0.0   \n",
       "Becoming a Thinking Christian                         0.0     0.0        0.0   \n",
       "Baby-Sitting Is a Dangerous Job                       0.0     0.0        0.0   \n",
       "Sacred Geometry (Wooden Books)                        0.0     0.0        0.0   \n",
       "Pigs in Heaven                                        0.0     0.0        0.0   \n",
       "In the Shadow of the Vampire: Reflections from ...    0.0     0.0        0.0   \n",
       "Canone Inverso                                        0.0     0.0        0.0   \n",
       "\n",
       "                                                    cast  cash  kindred  \\\n",
       "Book-Title                                                                \n",
       "The Very Hungry Caterpillar Board Book               0.0   0.0      0.0   \n",
       "Technical Writing                                    0.0   0.0      0.0   \n",
       "Five Children and It                                 0.0   0.0      0.0   \n",
       "Rose Madder                                          0.0   0.0      0.0   \n",
       "Becoming a Thinking Christian                        0.0   0.0      0.0   \n",
       "Baby-Sitting Is a Dangerous Job                      0.0   0.0      0.0   \n",
       "Sacred Geometry (Wooden Books)                       0.0   0.0      0.0   \n",
       "Pigs in Heaven                                       0.0   0.0      0.0   \n",
       "In the Shadow of the Vampire: Reflections from ...   0.0   0.0      0.0   \n",
       "Canone Inverso                                       0.0   0.0      0.0   \n",
       "\n",
       "                                                    sobel  sachar  clegg  \\\n",
       "Book-Title                                                                 \n",
       "The Very Hungry Caterpillar Board Book                0.0     0.0    0.0   \n",
       "Technical Writing                                     0.0     0.0    0.0   \n",
       "Five Children and It                                  0.0     0.0    0.0   \n",
       "Rose Madder                                           0.0     0.0    0.0   \n",
       "Becoming a Thinking Christian                         0.0     0.0    0.0   \n",
       "Baby-Sitting Is a Dangerous Job                       0.0     0.0    0.0   \n",
       "Sacred Geometry (Wooden Books)                        0.0     0.0    0.0   \n",
       "Pigs in Heaven                                        0.0     0.0    0.0   \n",
       "In the Shadow of the Vampire: Reflections from ...    0.0     0.0    0.0   \n",
       "Canone Inverso                                        0.0     0.0    0.0   \n",
       "\n",
       "                                                    mcalister  candice  \\\n",
       "Book-Title                                                               \n",
       "The Very Hungry Caterpillar Board Book                    0.0      0.0   \n",
       "Technical Writing                                         0.0      0.0   \n",
       "Five Children and It                                      0.0      0.0   \n",
       "Rose Madder                                               0.0      0.0   \n",
       "Becoming a Thinking Christian                             0.0      0.0   \n",
       "Baby-Sitting Is a Dangerous Job                           0.0      0.0   \n",
       "Sacred Geometry (Wooden Books)                            0.0      0.0   \n",
       "Pigs in Heaven                                            0.0      0.0   \n",
       "In the Shadow of the Vampire: Reflections from ...        0.0      0.0   \n",
       "Canone Inverso                                            0.0      0.0   \n",
       "\n",
       "                                                    limbaugh  stern  \n",
       "Book-Title                                                           \n",
       "The Very Hungry Caterpillar Board Book                   0.0    0.0  \n",
       "Technical Writing                                        0.0    0.0  \n",
       "Five Children and It                                     0.0    0.0  \n",
       "Rose Madder                                              0.0    0.0  \n",
       "Becoming a Thinking Christian                            0.0    0.0  \n",
       "Baby-Sitting Is a Dangerous Job                          0.0    0.0  \n",
       "Sacred Geometry (Wooden Books)                           0.0    0.0  \n",
       "Pigs in Heaven                                           0.0    0.0  \n",
       "In the Shadow of the Vampire: Reflections from ...       0.0    0.0  \n",
       "Canone Inverso                                           0.0    0.0  "
      ]
     },
     "execution_count": 32,
     "metadata": {},
     "output_type": "execute_result"
    }
   ],
   "source": [
    "pd.DataFrame(\n",
    "  tfidf_matrix.todense(),\n",
    "  columns=tfidf.get_feature_names_out(),\n",
    "  index=book_df['Book-Title']\n",
    ").sample(20, axis=1).sample(10, axis=0)"
   ]
  },
  {
   "cell_type": "markdown",
   "metadata": {},
   "source": [
    "### Cosine Similarity"
   ]
  },
  {
   "cell_type": "code",
   "execution_count": 33,
   "metadata": {},
   "outputs": [
    {
     "data": {
      "text/plain": [
       "array([[1., 0., 0., ..., 0., 0., 0.],\n",
       "       [0., 1., 0., ..., 0., 0., 0.],\n",
       "       [0., 0., 1., ..., 0., 0., 0.],\n",
       "       ...,\n",
       "       [0., 0., 0., ..., 1., 0., 0.],\n",
       "       [0., 0., 0., ..., 0., 1., 0.],\n",
       "       [0., 0., 0., ..., 0., 0., 1.]])"
      ]
     },
     "execution_count": 33,
     "metadata": {},
     "output_type": "execute_result"
    }
   ],
   "source": [
    "# Menghitung cosine similarity pada matrix tfidf\n",
    "cosine_sim = cosine_similarity(tfidf_matrix)\n",
    "\n",
    "cosine_sim"
   ]
  },
  {
   "cell_type": "markdown",
   "metadata": {},
   "source": [
    "Pada tahapan ini, kita menghitung cosine similarity dataframe tfidf_matrix yang kita peroleh pada tahapan sebelumnya. Dengan satu baris kode untuk memanggil fungsi cosine similarity dari library sklearn, kita telah berhasil menghitung kesamaan (similarity) antar restoran. Kode di atas menghasilkan keluaran berupa matriks kesamaan dalam bentuk array. "
   ]
  },
  {
   "cell_type": "code",
   "execution_count": 34,
   "metadata": {},
   "outputs": [
    {
     "name": "stdout",
     "output_type": "stream",
     "text": [
      "(10000, 10000)\n"
     ]
    },
    {
     "data": {
      "text/html": [
       "<div>\n",
       "<style scoped>\n",
       "    .dataframe tbody tr th:only-of-type {\n",
       "        vertical-align: middle;\n",
       "    }\n",
       "\n",
       "    .dataframe tbody tr th {\n",
       "        vertical-align: top;\n",
       "    }\n",
       "\n",
       "    .dataframe thead th {\n",
       "        text-align: right;\n",
       "    }\n",
       "</style>\n",
       "<table border=\"1\" class=\"dataframe\">\n",
       "  <thead>\n",
       "    <tr style=\"text-align: right;\">\n",
       "      <th>Book-Title</th>\n",
       "      <th>Classical Mythology</th>\n",
       "      <th>Clara Callan</th>\n",
       "      <th>Decision in Normandy</th>\n",
       "      <th>Flu: The Story of the Great Influenza Pandemic of 1918 and the Search for the Virus That Caused It</th>\n",
       "      <th>The Mummies of Urumchi</th>\n",
       "      <th>The Kitchen God's Wife</th>\n",
       "      <th>What If?: The World's Foremost Military Historians Imagine What Might Have Been</th>\n",
       "      <th>PLEADING GUILTY</th>\n",
       "      <th>Under the Black Flag: The Romance and the Reality of Life Among the Pirates</th>\n",
       "      <th>Where You'll Find Me: And Other Stories</th>\n",
       "      <th>...</th>\n",
       "      <th>Kaplan GRE Exam 2004</th>\n",
       "      <th>Around the World in Eighty Days (Tor Classics)</th>\n",
       "      <th>The Exploits of the Incomparable Mulla Nasrudin / The Subtleties of the Inimitable Mulla Nasrudin</th>\n",
       "      <th>The Hours : A Novel</th>\n",
       "      <th>Beloved (Penguin Great Books of the 20th Century)</th>\n",
       "      <th>Read This and Tell Me What It Says : Stories (Bard Book)</th>\n",
       "      <th>The Star Rover</th>\n",
       "      <th>Die Keltennadel.</th>\n",
       "      <th>Tod in der Datscha.</th>\n",
       "      <th>Dunkel.</th>\n",
       "    </tr>\n",
       "    <tr>\n",
       "      <th>Book-Title</th>\n",
       "      <th></th>\n",
       "      <th></th>\n",
       "      <th></th>\n",
       "      <th></th>\n",
       "      <th></th>\n",
       "      <th></th>\n",
       "      <th></th>\n",
       "      <th></th>\n",
       "      <th></th>\n",
       "      <th></th>\n",
       "      <th></th>\n",
       "      <th></th>\n",
       "      <th></th>\n",
       "      <th></th>\n",
       "      <th></th>\n",
       "      <th></th>\n",
       "      <th></th>\n",
       "      <th></th>\n",
       "      <th></th>\n",
       "      <th></th>\n",
       "      <th></th>\n",
       "    </tr>\n",
       "  </thead>\n",
       "  <tbody>\n",
       "    <tr>\n",
       "      <th>Classical Mythology</th>\n",
       "      <td>1.0</td>\n",
       "      <td>0.0</td>\n",
       "      <td>0.0</td>\n",
       "      <td>0.0</td>\n",
       "      <td>0.0</td>\n",
       "      <td>0.0</td>\n",
       "      <td>0.0</td>\n",
       "      <td>0.0</td>\n",
       "      <td>0.0</td>\n",
       "      <td>0.0</td>\n",
       "      <td>...</td>\n",
       "      <td>0.0</td>\n",
       "      <td>0.0</td>\n",
       "      <td>0.0</td>\n",
       "      <td>0.0</td>\n",
       "      <td>0.0</td>\n",
       "      <td>0.0</td>\n",
       "      <td>0.0</td>\n",
       "      <td>0.0</td>\n",
       "      <td>0.0</td>\n",
       "      <td>0.0</td>\n",
       "    </tr>\n",
       "    <tr>\n",
       "      <th>Clara Callan</th>\n",
       "      <td>0.0</td>\n",
       "      <td>1.0</td>\n",
       "      <td>0.0</td>\n",
       "      <td>0.0</td>\n",
       "      <td>0.0</td>\n",
       "      <td>0.0</td>\n",
       "      <td>0.0</td>\n",
       "      <td>0.0</td>\n",
       "      <td>0.0</td>\n",
       "      <td>0.0</td>\n",
       "      <td>...</td>\n",
       "      <td>0.0</td>\n",
       "      <td>0.0</td>\n",
       "      <td>0.0</td>\n",
       "      <td>0.0</td>\n",
       "      <td>0.0</td>\n",
       "      <td>0.0</td>\n",
       "      <td>0.0</td>\n",
       "      <td>0.0</td>\n",
       "      <td>0.0</td>\n",
       "      <td>0.0</td>\n",
       "    </tr>\n",
       "    <tr>\n",
       "      <th>Decision in Normandy</th>\n",
       "      <td>0.0</td>\n",
       "      <td>0.0</td>\n",
       "      <td>1.0</td>\n",
       "      <td>0.0</td>\n",
       "      <td>0.0</td>\n",
       "      <td>0.0</td>\n",
       "      <td>0.0</td>\n",
       "      <td>0.0</td>\n",
       "      <td>0.0</td>\n",
       "      <td>0.0</td>\n",
       "      <td>...</td>\n",
       "      <td>0.0</td>\n",
       "      <td>0.0</td>\n",
       "      <td>0.0</td>\n",
       "      <td>0.0</td>\n",
       "      <td>0.0</td>\n",
       "      <td>0.0</td>\n",
       "      <td>0.0</td>\n",
       "      <td>0.0</td>\n",
       "      <td>0.0</td>\n",
       "      <td>0.0</td>\n",
       "    </tr>\n",
       "    <tr>\n",
       "      <th>Flu: The Story of the Great Influenza Pandemic of 1918 and the Search for the Virus That Caused It</th>\n",
       "      <td>0.0</td>\n",
       "      <td>0.0</td>\n",
       "      <td>0.0</td>\n",
       "      <td>1.0</td>\n",
       "      <td>0.0</td>\n",
       "      <td>0.0</td>\n",
       "      <td>0.0</td>\n",
       "      <td>0.0</td>\n",
       "      <td>0.0</td>\n",
       "      <td>0.0</td>\n",
       "      <td>...</td>\n",
       "      <td>0.0</td>\n",
       "      <td>0.0</td>\n",
       "      <td>0.0</td>\n",
       "      <td>0.0</td>\n",
       "      <td>0.0</td>\n",
       "      <td>0.0</td>\n",
       "      <td>0.0</td>\n",
       "      <td>0.0</td>\n",
       "      <td>0.0</td>\n",
       "      <td>0.0</td>\n",
       "    </tr>\n",
       "    <tr>\n",
       "      <th>The Mummies of Urumchi</th>\n",
       "      <td>0.0</td>\n",
       "      <td>0.0</td>\n",
       "      <td>0.0</td>\n",
       "      <td>0.0</td>\n",
       "      <td>1.0</td>\n",
       "      <td>0.0</td>\n",
       "      <td>0.0</td>\n",
       "      <td>0.0</td>\n",
       "      <td>0.0</td>\n",
       "      <td>0.0</td>\n",
       "      <td>...</td>\n",
       "      <td>0.0</td>\n",
       "      <td>0.0</td>\n",
       "      <td>0.0</td>\n",
       "      <td>0.0</td>\n",
       "      <td>0.0</td>\n",
       "      <td>0.0</td>\n",
       "      <td>0.0</td>\n",
       "      <td>0.0</td>\n",
       "      <td>0.0</td>\n",
       "      <td>0.0</td>\n",
       "    </tr>\n",
       "  </tbody>\n",
       "</table>\n",
       "<p>5 rows × 10000 columns</p>\n",
       "</div>"
      ],
      "text/plain": [
       "Book-Title                                          Classical Mythology  \\\n",
       "Book-Title                                                                \n",
       "Classical Mythology                                                 1.0   \n",
       "Clara Callan                                                        0.0   \n",
       "Decision in Normandy                                                0.0   \n",
       "Flu: The Story of the Great Influenza Pandemic ...                  0.0   \n",
       "The Mummies of Urumchi                                              0.0   \n",
       "\n",
       "Book-Title                                          Clara Callan  \\\n",
       "Book-Title                                                         \n",
       "Classical Mythology                                          0.0   \n",
       "Clara Callan                                                 1.0   \n",
       "Decision in Normandy                                         0.0   \n",
       "Flu: The Story of the Great Influenza Pandemic ...           0.0   \n",
       "The Mummies of Urumchi                                       0.0   \n",
       "\n",
       "Book-Title                                          Decision in Normandy  \\\n",
       "Book-Title                                                                 \n",
       "Classical Mythology                                                  0.0   \n",
       "Clara Callan                                                         0.0   \n",
       "Decision in Normandy                                                 1.0   \n",
       "Flu: The Story of the Great Influenza Pandemic ...                   0.0   \n",
       "The Mummies of Urumchi                                               0.0   \n",
       "\n",
       "Book-Title                                          Flu: The Story of the Great Influenza Pandemic of 1918 and the Search for the Virus That Caused It  \\\n",
       "Book-Title                                                                                                                                               \n",
       "Classical Mythology                                                                               0.0                                                    \n",
       "Clara Callan                                                                                      0.0                                                    \n",
       "Decision in Normandy                                                                              0.0                                                    \n",
       "Flu: The Story of the Great Influenza Pandemic ...                                                1.0                                                    \n",
       "The Mummies of Urumchi                                                                            0.0                                                    \n",
       "\n",
       "Book-Title                                          The Mummies of Urumchi  \\\n",
       "Book-Title                                                                   \n",
       "Classical Mythology                                                    0.0   \n",
       "Clara Callan                                                           0.0   \n",
       "Decision in Normandy                                                   0.0   \n",
       "Flu: The Story of the Great Influenza Pandemic ...                     0.0   \n",
       "The Mummies of Urumchi                                                 1.0   \n",
       "\n",
       "Book-Title                                          The Kitchen God's Wife  \\\n",
       "Book-Title                                                                   \n",
       "Classical Mythology                                                    0.0   \n",
       "Clara Callan                                                           0.0   \n",
       "Decision in Normandy                                                   0.0   \n",
       "Flu: The Story of the Great Influenza Pandemic ...                     0.0   \n",
       "The Mummies of Urumchi                                                 0.0   \n",
       "\n",
       "Book-Title                                          What If?: The World's Foremost Military Historians Imagine What Might Have Been  \\\n",
       "Book-Title                                                                                                                            \n",
       "Classical Mythology                                                                               0.0                                 \n",
       "Clara Callan                                                                                      0.0                                 \n",
       "Decision in Normandy                                                                              0.0                                 \n",
       "Flu: The Story of the Great Influenza Pandemic ...                                                0.0                                 \n",
       "The Mummies of Urumchi                                                                            0.0                                 \n",
       "\n",
       "Book-Title                                          PLEADING GUILTY  \\\n",
       "Book-Title                                                            \n",
       "Classical Mythology                                             0.0   \n",
       "Clara Callan                                                    0.0   \n",
       "Decision in Normandy                                            0.0   \n",
       "Flu: The Story of the Great Influenza Pandemic ...              0.0   \n",
       "The Mummies of Urumchi                                          0.0   \n",
       "\n",
       "Book-Title                                          Under the Black Flag: The Romance and the Reality of Life Among the Pirates  \\\n",
       "Book-Title                                                                                                                        \n",
       "Classical Mythology                                                                               0.0                             \n",
       "Clara Callan                                                                                      0.0                             \n",
       "Decision in Normandy                                                                              0.0                             \n",
       "Flu: The Story of the Great Influenza Pandemic ...                                                0.0                             \n",
       "The Mummies of Urumchi                                                                            0.0                             \n",
       "\n",
       "Book-Title                                          Where You'll Find Me: And Other Stories  \\\n",
       "Book-Title                                                                                    \n",
       "Classical Mythology                                                                     0.0   \n",
       "Clara Callan                                                                            0.0   \n",
       "Decision in Normandy                                                                    0.0   \n",
       "Flu: The Story of the Great Influenza Pandemic ...                                      0.0   \n",
       "The Mummies of Urumchi                                                                  0.0   \n",
       "\n",
       "Book-Title                                          ...  Kaplan GRE Exam 2004  \\\n",
       "Book-Title                                          ...                         \n",
       "Classical Mythology                                 ...                   0.0   \n",
       "Clara Callan                                        ...                   0.0   \n",
       "Decision in Normandy                                ...                   0.0   \n",
       "Flu: The Story of the Great Influenza Pandemic ...  ...                   0.0   \n",
       "The Mummies of Urumchi                              ...                   0.0   \n",
       "\n",
       "Book-Title                                          Around the World in Eighty Days (Tor Classics)  \\\n",
       "Book-Title                                                                                           \n",
       "Classical Mythology                                                                            0.0   \n",
       "Clara Callan                                                                                   0.0   \n",
       "Decision in Normandy                                                                           0.0   \n",
       "Flu: The Story of the Great Influenza Pandemic ...                                             0.0   \n",
       "The Mummies of Urumchi                                                                         0.0   \n",
       "\n",
       "Book-Title                                          The Exploits of the Incomparable Mulla Nasrudin / The Subtleties of the Inimitable Mulla Nasrudin  \\\n",
       "Book-Title                                                                                                                                              \n",
       "Classical Mythology                                                                               0.0                                                   \n",
       "Clara Callan                                                                                      0.0                                                   \n",
       "Decision in Normandy                                                                              0.0                                                   \n",
       "Flu: The Story of the Great Influenza Pandemic ...                                                0.0                                                   \n",
       "The Mummies of Urumchi                                                                            0.0                                                   \n",
       "\n",
       "Book-Title                                          The Hours : A Novel  \\\n",
       "Book-Title                                                                \n",
       "Classical Mythology                                                 0.0   \n",
       "Clara Callan                                                        0.0   \n",
       "Decision in Normandy                                                0.0   \n",
       "Flu: The Story of the Great Influenza Pandemic ...                  0.0   \n",
       "The Mummies of Urumchi                                              0.0   \n",
       "\n",
       "Book-Title                                          Beloved (Penguin Great Books of the 20th Century)  \\\n",
       "Book-Title                                                                                              \n",
       "Classical Mythology                                                                               0.0   \n",
       "Clara Callan                                                                                      0.0   \n",
       "Decision in Normandy                                                                              0.0   \n",
       "Flu: The Story of the Great Influenza Pandemic ...                                                0.0   \n",
       "The Mummies of Urumchi                                                                            0.0   \n",
       "\n",
       "Book-Title                                          Read This and Tell Me What It Says : Stories (Bard Book)  \\\n",
       "Book-Title                                                                                                     \n",
       "Classical Mythology                                                                               0.0          \n",
       "Clara Callan                                                                                      0.0          \n",
       "Decision in Normandy                                                                              0.0          \n",
       "Flu: The Story of the Great Influenza Pandemic ...                                                0.0          \n",
       "The Mummies of Urumchi                                                                            0.0          \n",
       "\n",
       "Book-Title                                          The Star Rover  \\\n",
       "Book-Title                                                           \n",
       "Classical Mythology                                            0.0   \n",
       "Clara Callan                                                   0.0   \n",
       "Decision in Normandy                                           0.0   \n",
       "Flu: The Story of the Great Influenza Pandemic ...             0.0   \n",
       "The Mummies of Urumchi                                         0.0   \n",
       "\n",
       "Book-Title                                          Die Keltennadel.  \\\n",
       "Book-Title                                                             \n",
       "Classical Mythology                                              0.0   \n",
       "Clara Callan                                                     0.0   \n",
       "Decision in Normandy                                             0.0   \n",
       "Flu: The Story of the Great Influenza Pandemic ...               0.0   \n",
       "The Mummies of Urumchi                                           0.0   \n",
       "\n",
       "Book-Title                                          Tod in der Datscha.  \\\n",
       "Book-Title                                                                \n",
       "Classical Mythology                                                 0.0   \n",
       "Clara Callan                                                        0.0   \n",
       "Decision in Normandy                                                0.0   \n",
       "Flu: The Story of the Great Influenza Pandemic ...                  0.0   \n",
       "The Mummies of Urumchi                                              0.0   \n",
       "\n",
       "Book-Title                                          Dunkel.  \n",
       "Book-Title                                                   \n",
       "Classical Mythology                                     0.0  \n",
       "Clara Callan                                            0.0  \n",
       "Decision in Normandy                                    0.0  \n",
       "Flu: The Story of the Great Influenza Pandemic ...      0.0  \n",
       "The Mummies of Urumchi                                  0.0  \n",
       "\n",
       "[5 rows x 10000 columns]"
      ]
     },
     "execution_count": 34,
     "metadata": {},
     "output_type": "execute_result"
    }
   ],
   "source": [
    "cosine_sim_df = pd.DataFrame(\n",
    "  cosine_sim,\n",
    "  columns=book_df['Book-Title'],\n",
    "  index=book_df['Book-Title']\n",
    ")\n",
    "\n",
    "print(cosine_sim_df.shape)\n",
    "cosine_sim_df.head()"
   ]
  },
  {
   "cell_type": "markdown",
   "metadata": {},
   "source": [
    "### Mendapatkan Rekomendasi"
   ]
  },
  {
   "cell_type": "code",
   "execution_count": 39,
   "metadata": {},
   "outputs": [],
   "source": [
    "def author_recommendation(title, similarity_data=cosine_sim_df, items=book_df[['Book-Title', 'Book-Author']], k=10):\n",
    "  index = similarity_data.loc[:,title].to_numpy().argpartition(range(-1, -k, -1))\n",
    "  closest = similarity_data.columns[index[-1:-(k+2):-1]]\n",
    "  closest = closest.drop(title, errors='ignore')\n",
    "\n",
    "  return pd.DataFrame(closest).merge(items).head(k)\n",
    "  "
   ]
  },
  {
   "cell_type": "code",
   "execution_count": 43,
   "metadata": {},
   "outputs": [],
   "source": [
    "readed_book_title = 'Decision in Normandy'"
   ]
  },
  {
   "cell_type": "code",
   "execution_count": 44,
   "metadata": {},
   "outputs": [
    {
     "data": {
      "text/html": [
       "<div>\n",
       "<style scoped>\n",
       "    .dataframe tbody tr th:only-of-type {\n",
       "        vertical-align: middle;\n",
       "    }\n",
       "\n",
       "    .dataframe tbody tr th {\n",
       "        vertical-align: top;\n",
       "    }\n",
       "\n",
       "    .dataframe thead th {\n",
       "        text-align: right;\n",
       "    }\n",
       "</style>\n",
       "<table border=\"1\" class=\"dataframe\">\n",
       "  <thead>\n",
       "    <tr style=\"text-align: right;\">\n",
       "      <th></th>\n",
       "      <th>Book-Title</th>\n",
       "      <th>Book-Author</th>\n",
       "    </tr>\n",
       "  </thead>\n",
       "  <tbody>\n",
       "    <tr>\n",
       "      <th>0</th>\n",
       "      <td>Isola Dell Caduto</td>\n",
       "      <td>Carlo Lucarelli</td>\n",
       "    </tr>\n",
       "    <tr>\n",
       "      <th>1</th>\n",
       "      <td>Un Giorno Dopo L'altro</td>\n",
       "      <td>Carlo Lucarelli</td>\n",
       "    </tr>\n",
       "    <tr>\n",
       "      <th>2</th>\n",
       "      <td>Almost blue (Stile libero)</td>\n",
       "      <td>Carlo Lucarelli</td>\n",
       "    </tr>\n",
       "    <tr>\n",
       "      <th>3</th>\n",
       "      <td>Tecniche di seduzione</td>\n",
       "      <td>Andrea De Carlo</td>\n",
       "    </tr>\n",
       "    <tr>\n",
       "      <th>4</th>\n",
       "      <td>Due di due (Bestsellers)</td>\n",
       "      <td>Andrea De Carlo</td>\n",
       "    </tr>\n",
       "    <tr>\n",
       "      <th>5</th>\n",
       "      <td>Kissing the Witch: Old Tales in New Skins</td>\n",
       "      <td>Emma Donoghue</td>\n",
       "    </tr>\n",
       "    <tr>\n",
       "      <th>6</th>\n",
       "      <td>The DREAMS OUR STUFF IS MADE OF: How Science F...</td>\n",
       "      <td>Thomas M. Disch</td>\n",
       "    </tr>\n",
       "    <tr>\n",
       "      <th>7</th>\n",
       "      <td>The Bookshop : A Novel</td>\n",
       "      <td>Penelope Fitzgerald</td>\n",
       "    </tr>\n",
       "    <tr>\n",
       "      <th>8</th>\n",
       "      <td>Cruel As the Grave</td>\n",
       "      <td>Sharon Kay Penman</td>\n",
       "    </tr>\n",
       "    <tr>\n",
       "      <th>9</th>\n",
       "      <td>Naked Lunch</td>\n",
       "      <td>William S. Burroughs</td>\n",
       "    </tr>\n",
       "  </tbody>\n",
       "</table>\n",
       "</div>"
      ],
      "text/plain": [
       "                                          Book-Title           Book-Author\n",
       "0                                  Isola Dell Caduto       Carlo Lucarelli\n",
       "1                             Un Giorno Dopo L'altro       Carlo Lucarelli\n",
       "2                         Almost blue (Stile libero)       Carlo Lucarelli\n",
       "3                              Tecniche di seduzione       Andrea De Carlo\n",
       "4                           Due di due (Bestsellers)       Andrea De Carlo\n",
       "5          Kissing the Witch: Old Tales in New Skins         Emma Donoghue\n",
       "6  The DREAMS OUR STUFF IS MADE OF: How Science F...       Thomas M. Disch\n",
       "7                             The Bookshop : A Novel   Penelope Fitzgerald\n",
       "8                                 Cruel As the Grave     Sharon Kay Penman\n",
       "9                                        Naked Lunch  William S. Burroughs"
      ]
     },
     "execution_count": 44,
     "metadata": {},
     "output_type": "execute_result"
    }
   ],
   "source": [
    "author_recommendation(readed_book_title).drop_duplicates()"
   ]
  },
  {
   "cell_type": "markdown",
   "metadata": {},
   "source": [
    "Dapat dilihat bahwa sistem yang telah dibangun berhasil memberikan rekomendasi beberapa judul buku berdasarkan input atau masukan sebuah judul buku, yaitu \"Decision in Normandy\", dan diperoleh beberapa judul buku berdasarkan model yang telah dibuat"
   ]
  },
  {
   "cell_type": "markdown",
   "metadata": {},
   "source": [
    "## Model Development dengan Collaborative Filtering Recommendation"
   ]
  },
  {
   "cell_type": "markdown",
   "metadata": {},
   "source": [
    "### Data Preparation"
   ]
  },
  {
   "cell_type": "code",
   "execution_count": 46,
   "metadata": {},
   "outputs": [
    {
     "name": "stdout",
     "output_type": "stream",
     "text": [
      "Encoded UserID:  {276725: 0, 276726: 1, 276727: 2, 276729: 3, 276733: 4, 276736: 5, 276737: 6, 276744: 7, 276745: 8, 276746: 9, 276747: 10, 276748: 11, 276751: 12, 276754: 13, 276755: 14, 276760: 15, 276762: 16, 276765: 17, 276768: 18, 276772: 19, 276774: 20, 276780: 21, 276786: 22, 276788: 23, 276796: 24, 276798: 25, 276800: 26, 276803: 27, 276804: 28, 276806: 29, 276808: 30, 276811: 31, 276812: 32, 276813: 33, 276814: 34, 276817: 35, 276820: 36, 276822: 37, 276827: 38, 276828: 39, 276830: 40, 276832: 41, 276833: 42, 276835: 43, 276837: 44, 276838: 45, 276840: 46, 276842: 47, 276847: 48, 276848: 49, 276850: 50, 276852: 51, 276853: 52, 276854: 53, 276856: 54, 276857: 55, 276859: 56, 276861: 57, 276862: 58, 276863: 59, 276866: 60, 276869: 61, 276870: 62, 276872: 63, 276873: 64, 276875: 65, 276878: 66, 276879: 67, 276884: 68, 276887: 69, 276888: 70, 276889: 71, 276890: 72, 276896: 73, 276904: 74, 276905: 75, 276911: 76, 276912: 77, 276915: 78, 276916: 79, 276925: 80, 276927: 81, 276928: 82, 276929: 83, 276934: 84, 276936: 85, 276939: 86, 276943: 87, 276946: 88, 276949: 89, 276950: 90, 276953: 91, 276954: 92, 276957: 93, 276959: 94, 276963: 95, 276964: 96, 276965: 97, 276975: 98, 276981: 99, 276984: 100, 276986: 101, 276988: 102, 276989: 103, 276990: 104, 276992: 105, 276994: 106, 276997: 107, 276998: 108, 277002: 109, 277007: 110, 277009: 111, 277010: 112, 277012: 113, 277018: 114, 277019: 115, 277022: 116, 277023: 117, 277028: 118, 277031: 119, 277032: 120, 277035: 121, 277036: 122, 277040: 123, 277042: 124, 277048: 125, 277051: 126, 277052: 127, 277053: 128, 277056: 129, 277058: 130, 277064: 131, 277065: 132, 277072: 133, 277073: 134, 277074: 135, 277075: 136, 277079: 137, 277085: 138, 277087: 139, 277090: 140, 277094: 141, 277096: 142, 277102: 143, 277107: 144, 277109: 145, 277114: 146, 277116: 147, 277123: 148, 277124: 149, 277128: 150, 277129: 151, 277134: 152, 277135: 153, 277139: 154, 277142: 155, 277143: 156, 277149: 157, 277155: 158, 277157: 159, 277159: 160, 277165: 161, 277168: 162, 277170: 163, 277171: 164, 277176: 165, 277179: 166, 277180: 167, 277183: 168, 277186: 169, 277187: 170, 277188: 171, 277189: 172, 277195: 173, 277196: 174, 277197: 175, 277203: 176, 277205: 177, 277209: 178, 277212: 179, 277220: 180, 277221: 181, 277228: 182, 277229: 183, 277230: 184, 277231: 185, 277232: 186, 277235: 187, 277237: 188, 277240: 189, 277242: 190, 277243: 191, 277244: 192, 277245: 193, 277246: 194, 277249: 195, 277253: 196, 277256: 197, 277257: 198, 277261: 199, 277262: 200, 277265: 201, 277267: 202, 277268: 203, 277269: 204, 277271: 205, 277272: 206, 277274: 207, 277281: 208, 277284: 209, 277285: 210, 277288: 211, 277291: 212, 277292: 213, 277293: 214, 277305: 215, 277314: 216, 277315: 217, 277317: 218, 277330: 219, 277334: 220, 277338: 221, 277339: 222, 277340: 223, 277341: 224, 277343: 225, 277348: 226, 277351: 227, 277353: 228, 277358: 229, 277359: 230, 277363: 231, 277364: 232, 277367: 233, 277369: 234, 277371: 235, 277374: 236, 277375: 237, 277378: 238, 277379: 239, 277380: 240, 277384: 241, 277388: 242, 277389: 243, 277392: 244, 277397: 245, 277399: 246, 277400: 247, 277402: 248, 277405: 249, 277408: 250, 277411: 251, 277413: 252, 277424: 253, 277425: 254, 277427: 255, 277432: 256, 277433: 257, 277434: 258, 277435: 259, 277436: 260, 277439: 261, 277444: 262, 277453: 263, 277457: 264, 277461: 265, 277462: 266, 277466: 267, 277469: 268, 277470: 269, 277471: 270, 277473: 271, 277474: 272, 277478: 273, 277479: 274, 277486: 275, 277488: 276, 277489: 277, 277502: 278, 277506: 279, 277508: 280, 277509: 281, 277513: 282, 277514: 283, 277516: 284, 277517: 285, 277518: 286, 277519: 287, 277523: 288, 277525: 289, 277526: 290, 277527: 291, 277528: 292, 277529: 293, 277530: 294, 277532: 295, 277533: 296, 277535: 297, 277538: 298, 277544: 299, 277547: 300, 277548: 301, 277554: 302, 277556: 303, 277559: 304, 277560: 305, 277562: 306, 277563: 307, 277565: 308, 277568: 309, 277569: 310, 277574: 311, 277575: 312, 277579: 313, 277585: 314, 277586: 315, 277588: 316, 277589: 317, 277590: 318, 277594: 319, 277595: 320, 277596: 321, 277598: 322, 277601: 323, 277605: 324, 277610: 325, 277619: 326, 277622: 327, 277623: 328, 277627: 329, 277629: 330, 277632: 331, 277633: 332, 277636: 333, 277638: 334, 277639: 335, 277641: 336, 277643: 337, 277646: 338, 277647: 339, 277648: 340, 277650: 341, 277651: 342, 277657: 343, 277660: 344, 277662: 345, 277665: 346, 277667: 347, 277680: 348, 277681: 349, 277682: 350, 277687: 351, 277688: 352, 277689: 353, 277691: 354, 277696: 355, 277697: 356, 277698: 357, 277700: 358, 277701: 359, 277705: 360, 277706: 361, 277710: 362, 277711: 363, 277712: 364, 277714: 365, 277716: 366, 277720: 367, 277722: 368, 277727: 369, 277728: 370, 277737: 371, 277740: 372, 277741: 373, 277743: 374, 277744: 375, 277746: 376, 277748: 377, 277752: 378, 277753: 379, 277756: 380, 277759: 381, 277761: 382, 277764: 383, 277765: 384, 277767: 385, 277768: 386, 277769: 387, 277774: 388, 277775: 389, 277776: 390, 277777: 391, 277778: 392, 277779: 393, 277781: 394, 277782: 395, 277783: 396, 277784: 397, 277786: 398, 277787: 399, 277788: 400, 277790: 401, 277791: 402, 277793: 403, 277794: 404, 277795: 405, 277797: 406, 277798: 407, 277799: 408, 277800: 409, 277801: 410, 277802: 411, 277803: 412, 277807: 413, 277808: 414, 277809: 415, 277811: 416, 277812: 417, 277813: 418, 277814: 419, 277816: 420, 277817: 421, 277818: 422, 277819: 423, 277820: 424, 277823: 425, 277824: 426, 277825: 427, 277826: 428, 277827: 429, 277828: 430, 277830: 431, 277831: 432, 277832: 433, 277833: 434, 277834: 435, 277835: 436, 277837: 437, 277838: 438, 277840: 439, 277841: 440, 277842: 441, 277843: 442, 277844: 443, 277845: 444, 277847: 445, 277853: 446, 277856: 447, 277862: 448, 277864: 449, 277867: 450, 277872: 451, 277873: 452, 277877: 453, 277879: 454, 277882: 455, 277884: 456, 277888: 457, 277891: 458, 277892: 459, 277894: 460, 277895: 461, 277898: 462, 277901: 463, 277903: 464, 277904: 465, 277908: 466, 277909: 467, 277911: 468, 277913: 469, 277915: 470, 277918: 471, 277919: 472, 277921: 473, 277922: 474, 277923: 475, 277928: 476, 277929: 477, 277930: 478, 277932: 479, 277934: 480, 277937: 481, 277938: 482, 277941: 483, 277945: 484, 277946: 485, 277947: 486, 277953: 487, 277954: 488, 277958: 489, 277959: 490, 277962: 491, 277964: 492, 277965: 493, 277969: 494, 277975: 495, 277978: 496, 277982: 497, 277984: 498, 277987: 499, 277988: 500, 277989: 501, 277992: 502, 277993: 503, 277996: 504, 277997: 505, 277998: 506, 278002: 507, 278004: 508, 278007: 509, 278008: 510, 278009: 511, 278012: 512, 278013: 513, 278014: 514, 278017: 515, 278019: 516, 278020: 517, 278021: 518, 278022: 519, 278023: 520, 278024: 521, 278026: 522, 278030: 523, 278034: 524, 278036: 525, 278043: 526, 278044: 527, 278048: 528, 278054: 529, 278056: 530, 278057: 531, 278058: 532, 278063: 533, 278064: 534, 278065: 535, 278066: 536, 278069: 537, 278070: 538, 278074: 539, 278075: 540, 278079: 541, 278085: 542, 278089: 543, 278092: 544, 278094: 545, 278095: 546, 278096: 547, 278097: 548, 278098: 549, 278100: 550, 278104: 551, 278106: 552, 278107: 553, 278110: 554, 278111: 555, 278112: 556, 278117: 557, 278119: 558, 278120: 559, 278122: 560, 278126: 561, 278130: 562, 278131: 563, 278137: 564, 278139: 565, 278140: 566, 278144: 567, 278148: 568, 278149: 569, 278153: 570, 278155: 571, 278156: 572, 278158: 573, 278159: 574, 278160: 575, 278161: 576, 278162: 577, 278167: 578, 278168: 579, 278172: 580, 278176: 581, 278177: 582, 278181: 583, 278183: 584, 278184: 585, 278185: 586, 278188: 587, 278193: 588, 278194: 589, 278197: 590, 278199: 591, 278200: 592, 278202: 593, 278203: 594, 278204: 595, 278206: 596, 278207: 597, 278209: 598, 278212: 599, 278213: 600, 278215: 601, 278216: 602, 278218: 603, 278220: 604, 278221: 605, 278224: 606, 278227: 607, 278229: 608, 278235: 609, 278237: 610, 278238: 611, 278242: 612, 278243: 613, 278244: 614, 278245: 615, 278246: 616, 278248: 617, 278249: 618, 278250: 619, 278251: 620, 278253: 621, 278254: 622, 278255: 623, 278257: 624, 278259: 625, 278260: 626, 278263: 627, 278264: 628, 278270: 629, 278274: 630, 278279: 631, 278280: 632, 278297: 633, 278300: 634, 278302: 635, 278307: 636, 278310: 637, 278311: 638, 278313: 639, 278314: 640, 278316: 641, 278319: 642, 278325: 643, 278328: 644, 278330: 645, 278332: 646, 278333: 647, 278334: 648, 278336: 649, 278342: 650, 278345: 651, 278346: 652, 278350: 653, 278355: 654, 278356: 655, 278357: 656, 278358: 657, 278361: 658, 278364: 659, 278365: 660, 278368: 661, 278373: 662, 278376: 663, 278377: 664, 278378: 665, 278388: 666, 278389: 667, 278390: 668, 278394: 669, 278396: 670, 278398: 671, 278400: 672, 278401: 673, 278407: 674, 278409: 675, 278411: 676, 278413: 677, 278418: 678}\n",
      "encoded angka ke userID:  {0: 276725, 1: 276726, 2: 276727, 3: 276729, 4: 276733, 5: 276736, 6: 276737, 7: 276744, 8: 276745, 9: 276746, 10: 276747, 11: 276748, 12: 276751, 13: 276754, 14: 276755, 15: 276760, 16: 276762, 17: 276765, 18: 276768, 19: 276772, 20: 276774, 21: 276780, 22: 276786, 23: 276788, 24: 276796, 25: 276798, 26: 276800, 27: 276803, 28: 276804, 29: 276806, 30: 276808, 31: 276811, 32: 276812, 33: 276813, 34: 276814, 35: 276817, 36: 276820, 37: 276822, 38: 276827, 39: 276828, 40: 276830, 41: 276832, 42: 276833, 43: 276835, 44: 276837, 45: 276838, 46: 276840, 47: 276842, 48: 276847, 49: 276848, 50: 276850, 51: 276852, 52: 276853, 53: 276854, 54: 276856, 55: 276857, 56: 276859, 57: 276861, 58: 276862, 59: 276863, 60: 276866, 61: 276869, 62: 276870, 63: 276872, 64: 276873, 65: 276875, 66: 276878, 67: 276879, 68: 276884, 69: 276887, 70: 276888, 71: 276889, 72: 276890, 73: 276896, 74: 276904, 75: 276905, 76: 276911, 77: 276912, 78: 276915, 79: 276916, 80: 276925, 81: 276927, 82: 276928, 83: 276929, 84: 276934, 85: 276936, 86: 276939, 87: 276943, 88: 276946, 89: 276949, 90: 276950, 91: 276953, 92: 276954, 93: 276957, 94: 276959, 95: 276963, 96: 276964, 97: 276965, 98: 276975, 99: 276981, 100: 276984, 101: 276986, 102: 276988, 103: 276989, 104: 276990, 105: 276992, 106: 276994, 107: 276997, 108: 276998, 109: 277002, 110: 277007, 111: 277009, 112: 277010, 113: 277012, 114: 277018, 115: 277019, 116: 277022, 117: 277023, 118: 277028, 119: 277031, 120: 277032, 121: 277035, 122: 277036, 123: 277040, 124: 277042, 125: 277048, 126: 277051, 127: 277052, 128: 277053, 129: 277056, 130: 277058, 131: 277064, 132: 277065, 133: 277072, 134: 277073, 135: 277074, 136: 277075, 137: 277079, 138: 277085, 139: 277087, 140: 277090, 141: 277094, 142: 277096, 143: 277102, 144: 277107, 145: 277109, 146: 277114, 147: 277116, 148: 277123, 149: 277124, 150: 277128, 151: 277129, 152: 277134, 153: 277135, 154: 277139, 155: 277142, 156: 277143, 157: 277149, 158: 277155, 159: 277157, 160: 277159, 161: 277165, 162: 277168, 163: 277170, 164: 277171, 165: 277176, 166: 277179, 167: 277180, 168: 277183, 169: 277186, 170: 277187, 171: 277188, 172: 277189, 173: 277195, 174: 277196, 175: 277197, 176: 277203, 177: 277205, 178: 277209, 179: 277212, 180: 277220, 181: 277221, 182: 277228, 183: 277229, 184: 277230, 185: 277231, 186: 277232, 187: 277235, 188: 277237, 189: 277240, 190: 277242, 191: 277243, 192: 277244, 193: 277245, 194: 277246, 195: 277249, 196: 277253, 197: 277256, 198: 277257, 199: 277261, 200: 277262, 201: 277265, 202: 277267, 203: 277268, 204: 277269, 205: 277271, 206: 277272, 207: 277274, 208: 277281, 209: 277284, 210: 277285, 211: 277288, 212: 277291, 213: 277292, 214: 277293, 215: 277305, 216: 277314, 217: 277315, 218: 277317, 219: 277330, 220: 277334, 221: 277338, 222: 277339, 223: 277340, 224: 277341, 225: 277343, 226: 277348, 227: 277351, 228: 277353, 229: 277358, 230: 277359, 231: 277363, 232: 277364, 233: 277367, 234: 277369, 235: 277371, 236: 277374, 237: 277375, 238: 277378, 239: 277379, 240: 277380, 241: 277384, 242: 277388, 243: 277389, 244: 277392, 245: 277397, 246: 277399, 247: 277400, 248: 277402, 249: 277405, 250: 277408, 251: 277411, 252: 277413, 253: 277424, 254: 277425, 255: 277427, 256: 277432, 257: 277433, 258: 277434, 259: 277435, 260: 277436, 261: 277439, 262: 277444, 263: 277453, 264: 277457, 265: 277461, 266: 277462, 267: 277466, 268: 277469, 269: 277470, 270: 277471, 271: 277473, 272: 277474, 273: 277478, 274: 277479, 275: 277486, 276: 277488, 277: 277489, 278: 277502, 279: 277506, 280: 277508, 281: 277509, 282: 277513, 283: 277514, 284: 277516, 285: 277517, 286: 277518, 287: 277519, 288: 277523, 289: 277525, 290: 277526, 291: 277527, 292: 277528, 293: 277529, 294: 277530, 295: 277532, 296: 277533, 297: 277535, 298: 277538, 299: 277544, 300: 277547, 301: 277548, 302: 277554, 303: 277556, 304: 277559, 305: 277560, 306: 277562, 307: 277563, 308: 277565, 309: 277568, 310: 277569, 311: 277574, 312: 277575, 313: 277579, 314: 277585, 315: 277586, 316: 277588, 317: 277589, 318: 277590, 319: 277594, 320: 277595, 321: 277596, 322: 277598, 323: 277601, 324: 277605, 325: 277610, 326: 277619, 327: 277622, 328: 277623, 329: 277627, 330: 277629, 331: 277632, 332: 277633, 333: 277636, 334: 277638, 335: 277639, 336: 277641, 337: 277643, 338: 277646, 339: 277647, 340: 277648, 341: 277650, 342: 277651, 343: 277657, 344: 277660, 345: 277662, 346: 277665, 347: 277667, 348: 277680, 349: 277681, 350: 277682, 351: 277687, 352: 277688, 353: 277689, 354: 277691, 355: 277696, 356: 277697, 357: 277698, 358: 277700, 359: 277701, 360: 277705, 361: 277706, 362: 277710, 363: 277711, 364: 277712, 365: 277714, 366: 277716, 367: 277720, 368: 277722, 369: 277727, 370: 277728, 371: 277737, 372: 277740, 373: 277741, 374: 277743, 375: 277744, 376: 277746, 377: 277748, 378: 277752, 379: 277753, 380: 277756, 381: 277759, 382: 277761, 383: 277764, 384: 277765, 385: 277767, 386: 277768, 387: 277769, 388: 277774, 389: 277775, 390: 277776, 391: 277777, 392: 277778, 393: 277779, 394: 277781, 395: 277782, 396: 277783, 397: 277784, 398: 277786, 399: 277787, 400: 277788, 401: 277790, 402: 277791, 403: 277793, 404: 277794, 405: 277795, 406: 277797, 407: 277798, 408: 277799, 409: 277800, 410: 277801, 411: 277802, 412: 277803, 413: 277807, 414: 277808, 415: 277809, 416: 277811, 417: 277812, 418: 277813, 419: 277814, 420: 277816, 421: 277817, 422: 277818, 423: 277819, 424: 277820, 425: 277823, 426: 277824, 427: 277825, 428: 277826, 429: 277827, 430: 277828, 431: 277830, 432: 277831, 433: 277832, 434: 277833, 435: 277834, 436: 277835, 437: 277837, 438: 277838, 439: 277840, 440: 277841, 441: 277842, 442: 277843, 443: 277844, 444: 277845, 445: 277847, 446: 277853, 447: 277856, 448: 277862, 449: 277864, 450: 277867, 451: 277872, 452: 277873, 453: 277877, 454: 277879, 455: 277882, 456: 277884, 457: 277888, 458: 277891, 459: 277892, 460: 277894, 461: 277895, 462: 277898, 463: 277901, 464: 277903, 465: 277904, 466: 277908, 467: 277909, 468: 277911, 469: 277913, 470: 277915, 471: 277918, 472: 277919, 473: 277921, 474: 277922, 475: 277923, 476: 277928, 477: 277929, 478: 277930, 479: 277932, 480: 277934, 481: 277937, 482: 277938, 483: 277941, 484: 277945, 485: 277946, 486: 277947, 487: 277953, 488: 277954, 489: 277958, 490: 277959, 491: 277962, 492: 277964, 493: 277965, 494: 277969, 495: 277975, 496: 277978, 497: 277982, 498: 277984, 499: 277987, 500: 277988, 501: 277989, 502: 277992, 503: 277993, 504: 277996, 505: 277997, 506: 277998, 507: 278002, 508: 278004, 509: 278007, 510: 278008, 511: 278009, 512: 278012, 513: 278013, 514: 278014, 515: 278017, 516: 278019, 517: 278020, 518: 278021, 519: 278022, 520: 278023, 521: 278024, 522: 278026, 523: 278030, 524: 278034, 525: 278036, 526: 278043, 527: 278044, 528: 278048, 529: 278054, 530: 278056, 531: 278057, 532: 278058, 533: 278063, 534: 278064, 535: 278065, 536: 278066, 537: 278069, 538: 278070, 539: 278074, 540: 278075, 541: 278079, 542: 278085, 543: 278089, 544: 278092, 545: 278094, 546: 278095, 547: 278096, 548: 278097, 549: 278098, 550: 278100, 551: 278104, 552: 278106, 553: 278107, 554: 278110, 555: 278111, 556: 278112, 557: 278117, 558: 278119, 559: 278120, 560: 278122, 561: 278126, 562: 278130, 563: 278131, 564: 278137, 565: 278139, 566: 278140, 567: 278144, 568: 278148, 569: 278149, 570: 278153, 571: 278155, 572: 278156, 573: 278158, 574: 278159, 575: 278160, 576: 278161, 577: 278162, 578: 278167, 579: 278168, 580: 278172, 581: 278176, 582: 278177, 583: 278181, 584: 278183, 585: 278184, 586: 278185, 587: 278188, 588: 278193, 589: 278194, 590: 278197, 591: 278199, 592: 278200, 593: 278202, 594: 278203, 595: 278204, 596: 278206, 597: 278207, 598: 278209, 599: 278212, 600: 278213, 601: 278215, 602: 278216, 603: 278218, 604: 278220, 605: 278221, 606: 278224, 607: 278227, 608: 278229, 609: 278235, 610: 278237, 611: 278238, 612: 278242, 613: 278243, 614: 278244, 615: 278245, 616: 278246, 617: 278248, 618: 278249, 619: 278250, 620: 278251, 621: 278253, 622: 278254, 623: 278255, 624: 278257, 625: 278259, 626: 278260, 627: 278263, 628: 278264, 629: 278270, 630: 278274, 631: 278279, 632: 278280, 633: 278297, 634: 278300, 635: 278302, 636: 278307, 637: 278310, 638: 278311, 639: 278313, 640: 278314, 641: 278316, 642: 278319, 643: 278325, 644: 278328, 645: 278330, 646: 278332, 647: 278333, 648: 278334, 649: 278336, 650: 278342, 651: 278345, 652: 278346, 653: 278350, 654: 278355, 655: 278356, 656: 278357, 657: 278358, 658: 278361, 659: 278364, 660: 278365, 661: 278368, 662: 278373, 663: 278376, 664: 278377, 665: 278378, 666: 278388, 667: 278389, 668: 278390, 669: 278394, 670: 278396, 671: 278398, 672: 278400, 673: 278401, 674: 278407, 675: 278409, 676: 278411, 677: 278413, 678: 278418}\n"
     ]
    }
   ],
   "source": [
    "user_ids = rating_df['User-ID'].unique().tolist()\n",
    "\n",
    "# Melakukan encoding userID\n",
    "user_to_user_encoded = {x: i for i, x in enumerate(user_ids)}\n",
    "print('Encoded UserID: ', user_to_user_encoded)\n",
    "\n",
    "# Melakukan proses encoding angka ke user ID\n",
    "user_encoded_to_user = {i: x for i, x in enumerate(user_ids)}\n",
    "print('encoded angka ke userID: ', user_encoded_to_user)"
   ]
  },
  {
   "cell_type": "code",
   "execution_count": 47,
   "metadata": {},
   "outputs": [
    {
     "name": "stdout",
     "output_type": "stream",
     "text": [
      "Encoded BookID:  {'034545104X': 0, '0155061224': 1, '0446520802': 2, '052165615X': 3, '0521795028': 4, '2080674722': 5, '3257224281': 6, '0600570967': 7, '038550120X': 8, '342310538': 9, '0425115801': 10, '0449006522': 11, '0553561618': 12, '055356451X': 13, '0786013990': 14, '0786014512': 15, '0060517794': 16, '0451192001': 17, '0609801279': 18, '0671537458': 19, '0679776818': 20, '0943066433': 21, '1570231028': 22, '1885408226': 23, '0747558167': 24, '3442437407': 25, '033390804X': 26, '3596218098': 27, '0684867621': 28, '0451166892': 29, '8440682697': 30, '034544003X': 31, '0380000059': 32, '0380711524': 33, '0451167317': 34, '0451454952': 35, '0843920262': 36, '3404122879': 37, '3404182928': 38, '3404611306': 39, '342662429': 40, '3426690179': 41, '3442424216': 42, '3442425573': 43, '3453092007': 44, '3453157745': 45, '3453176944': 46, '3453185137': 47, '3453185323': 48, '3453213025': 49, '3453877241': 50, '3492226604': 51, '3517017442': 52, '3596125006': 53, 'B0000BLD7X': 54, 'N3453124715': 55, '9029716894': 56, '9057868059': 57, '0140279091': 58, '0553572369': 59, '0571058086': 60, '3499230933': 61, '3596151465': 62, '0099543818': 63, '3404147723': 64, '3423111321': 65, '3442136644': 66, '3492232000': 67, '8434811634': 68, '8484330478': 69, '8484332039': 70, '2864322102': 71, '8402065945': 72, '8423314901': 73, '842333533X': 74, '8427911769': 75, '8433914456': 76, '8437606322': 77, '8445072919': 78, '8466300821': 79, '847765011X': 80, '8478442588': 81, '8495368099': 82, '0345443683': 83, '043935806X': 84, '055310666X': 85, '0330332775': 86, '0330367358': 87, '0006379702': 88, '3423084049': 89, '3442131340': 90, '3446202102': 91, '3453073398': 92, '3453115783': 93, '3499134004': 94, '349915398X': 95, '3548603203': 96, '3764501383': 97, '3791535889': 98, '0061054143': 99, '0061054151': 100, '0061056774': 101, '0671021346': 102, '0671024108': 103, '1562827898': 104, '9726954835': 105, '0064405176': 106, '0439104769': 107, '0440498058': 108, '8807817144': 109, '8845915913': 110, '0395547032': 111, '0440414121': 112, '8879839993': 113, '8401328322': 114, '8401461189': 115, '8401471796': 116, '8423996565': 117, '8424130081': 118, '8426449476': 119, '8426449573': 120, '8478884831': 121, '8478885218': 122, '8478885463': 123, '8478886044': 124, '8495618052': 125, '0091830893': 126, '0586207414': 127, '0812571029': 128, '0671749609': 129, '0140062718': 130, '0140260498': 131, '0060096195': 132, '0141310340': 133, '0142302198': 134, '0156006065': 135, '0375821813': 136, '038076041X': 137, '0439087597': 138, '0439401399': 139, '0552546933': 140, '0689804458': 141, '0699854289': 142, '0786812508': 143, '0786817070': 144, '0805057706': 145, '1551925060': 146, '1573248533': 147, '000651118X': 148, '0385272324': 149, '2038701962': 150, '2070264564': 151, '2070334430': 152, '2070403734': 153, '2080680676': 154, '2232122263': 155, '2253044903': 156, '2253150711': 157, '2266076000': 158, '2277221678': 159, '2290321028': 160, '2842190009': 161, '0440225825': 162, '0316781266': 163, '0345446860': 164, '0671876244': 165, '3125785006': 166, '0380005239': 167, '1593080255': 168, '0330201700': 169, '0385729340': 170, '3809407536': 171, '0446364193': 172, '3257200552': 173, '3379015180': 174, '3404145909': 175, '3404148576': 176, '3404921178': 177, '3423071516': 178, '3423204885': 179, '3423205806': 180, '3426029553': 181, '3426622610': 182, '3426671298': 183, '344215121X': 184, '3442413508': 185, '3442422035': 186, '3442435773': 187, '3442437717': 188, '3442441080': 189, '3442442796': 190, '3442444020': 191, '3442446414': 192, '3442448530': 193, '3442449820': 194, '3453137442': 195, '3453870190': 196, '3455077331': 197, '347354034X': 198, '3492231322': 199, '349912176X': 200, '3499222213': 201, '3499228297': 202, '3499232529': 203, '3499233436': 204, '3499264528': 205, '3499433443': 206, '3506464078': 207, '3548602967': 208, '3551551677': 209, '3551551685': 210, '3551551693': 211, '3551551936': 212, '359621078X': 213, '3608932240': 214, '360893541X': 215, '3608935428': 216, '3608935436': 217, '374661922X': 218, '3770131495': 219, '3809024589': 220, '3821815191': 221, '3932069234': 222, '3423100424': 223, '3442096596': 224, '3442440777': 225, '3453009304': 226, '3453042905': 227, '3453061187': 228, '3453071174': 229, '3453127013': 230, '3453211014': 231, '3462026062': 232, '349926028X': 233, '3596122279': 234, '3596287200': 235, '3922524443': 236, '0449217264': 237, '0140621741': 238, '055321358X': 239, '8420457477': 240, '8448034023': 241, '0671034944': 242, '074931012X': 243, '0843946415': 244, '2010173929': 245, '20103389': 246, '2012003494': 247, '2013218826': 248, '2013220162': 249, '207033015X': 250, '2070332985': 251, '2203142278': 252, '2205040561': 253, '221096900X': 254, '2253005274': 255, '2723402983': 256, '2747002748': 257, '2800108584': 258, '2800134259': 259, '2800134267': 260, '2800135522': 261, '2800135565': 262, '2800135719': 263, '2800135727': 264, '2803616998': 265, '2907572458': 266, '8439598459': 267, '014014899X': 268, '0140252517': 269, '0140269967': 270, '0140328742': 271, '0140366830': 272, '0140367446': 273, '0425131378': 274, '0517642689': 275, '0600571165': 276, '077104450X': 277, '0789706032': 278, '0836218833': 279, '0836220889': 280, '088365721X': 281, '1559712252': 282, '1567616089': 283, '2890510328': 284, '3257227264': 285, '0141011904': 286, '342313075X': 287, '3423201509': 288, '3423206616': 289, '344242529': 290, '3446200452': 291, '349223903X': 292, '3499231603': 293, '3704320196': 294, '3886807843': 295, '0345423402': 296, '1569312435': 297, '1892213141': 298, '8530805461': 299, '3257218516': 300, '3404126343': 301, '3404131606': 302, '3404139178': 303, '3404143299': 304, '3404614542': 305, '340645724X': 306, '3426192543': 307, '3426702266': 308, '3442421357': 309, '3442443806': 310, '345309221X': 311, '3453108361': 312, '3453126912': 313, '3453130901': 314, '3453132262': 315, '3596129389': 316, '3596237874': 317, '3596247500': 318, '3809410357': 319, '0345249372': 320, '044020562X': 321, '9026935722': 322, '0425167097': 323, '042518109X': 324, '0425188221': 325, '8500010452': 326, '8501023450': 327, '8571648972': 328, '8588615126': 329, '8589885291': 330, '009975181X': 331, '00273755': 332, '014366020444': 333, '0688172377': 334, '8481305464': 335, '8496075850': 336, '8804321008': 337, '8804375299': 338, '8804407808': 339, '8804464895': 340, '8804510579': 341, '8804512652': 342, '8806144146': 343, '8806155873': 344, '8807700735': 345, '8807806746': 346, '8807810751': 347, '880781112X': 348, '8807812495': 349, '8807813157': 350, '8807816059': 351, '8817106100': 352, '8817112917': 353, '8817877028': 354, '8820024381': 355, '883041915X': 356, '8831760122': 357, '8833908488': 358, '8838910987': 359, '8842806978': 360, '8845219747': 361, '8845249689': 362, '8846200624': 363, '88741800047': 364, '8876846565': 365, '8877825200': 366, '8879285513': 367, '8879285645': 368, '8879832905': 369, '8881110288': 370, '888634712X': 371, '8887432252': 372, '8888424121': 373, '0449210197': 374, '8817151068': 375, '0151446474': 376, '8433967606': 377, '8496280012': 378, '899792145': 379, 'B158991965': 380, '0064430227': 381, '0671723650': 382, '0812533550': 383, '8806162160': 384, '884590184X': 385, '0446613843': 386, '0140270272': 387, '0440241537': 388, '0099460343': 389, '0375901582': 390, '0439317746': 391, '0440228840': 392, '0738205737': 393, '1566911605': 394, '0060542845': 395, '0449148831': 396, '1551666308': 397, '8420430943': 398, '8420636282': 399, '8432205311': 400, '000225669X': 401, '0099549611': 402, '0701162767': 403, '1852422580': 404, '042513976X': 405, '0441008291': 406, '0006511929': 407, '002542730X': 408, '0060520507': 409, '0060930934': 410, '0060951303': 411, '0099414732': 412, '0140154078': 413, '0140327592': 414, '0140367616': 415, '0141181222': 416, '0151010633': 417, '0192834312': 418, '0194216748': 419, '0240514866': 420, '0316666343': 421, '0345391810': 422, '0375400699': 423, '0385504209': 424, '043527242X': 425, '0439284031': 426, '0439286182': 427, '0439286239': 428, '0449221148': 429, '0451527747': 430, '0486282112': 431, '0486424499': 432, '0553275283': 433, '0582530431': 434, '0590502123': 435, '0595132189': 436, '0613329740': 437, '063403541X': 438, '067172939X': 439, '0671729438': 440, '0671746502': 441, '0679721851': 442, '0679745580': 443, '0691000980': 444, '0747545111': 445, '0749931434': 446, '0754000117': 447, '0804106304': 448, '0812583566': 449, '0843128240': 450, '0879517344': 451, '0971880107': 452, '1400001625': 453, '1400002672': 454, '1853262404': 455, '2061007074': 456, '2266095536': 457, '2290309494': 458, '2742739351': 459, '3522149904': 460, '3775713328': 461, '8401009421': 462, '8401327199': 463, '8401462231': 464, '840149236X': 465, '8408011200': 466, '8420427462': 467, '8420432113': 468, '8420444367': 469, '8420789895': 470, '8422655500': 471, '8422657104': 472, '842265783X': 473, '8422693445': 474, '8423325105': 475, '8423662152': 476, '8423951537': 477, '8423970647': 478, '8423976645': 479, '8426109799': 480, '8427007450': 481, '8429712372': 482, '8429714936': 483, '842975295': 484, '8429753419': 485, '8432227706': 486, '8434830809': 487, '8434840391': 488, '8440627203': 489, '8440696833': 490, '8445071572': 491, '8447306194': 492, '8447312054': 493, '8449416078': 494, '8472453723': 495, '8473068971': 496, '8474104823': 497, '8474263123': 498, '8475071163': 499, '8475961290': 500, '8476722338': 501, '8478809783': 502, '8482180088': 503, '8483221306': 504, '8489163499': 505, '8495501090': 506, '8495501198': 507, '8496077152': 508, '8496077209': 509, '8496246140': 510, '8497931467': 511, '950491036X': 512, '9508521481': 513, '9871138016': 514, '0460010239': 515, '0749336145': 516, '1899344705': 517, '0439135494': 518, '059030271X': 519, '0590453661': 520, '0590470108': 521, '0590483404': 522, '0671021354': 523, '0671026283': 524, '0671027506': 525, '0671727109': 526, '0060964049': 527, '0380807343': 528, '0439064864': 529, '2.02.032126.2': 530, '2.264.03602.8': 531, '2020058863': 532, '2020062399': 533, '2020101653': 534, '202011528X': 535, '20202006935': 536, '20203119888': 537, '2020386666': 538, '2020564777': 539, '2020591944': 540, '2070365832': 541, '2070378411': 542, '2070386023': 543, '2070394956': 544, '2070404587': 545, '2070404706': 546, '2070404722': 547, '2070406962': 548, '2070408450': 549, '2070425770': 550, '2070725804': 551, '2080680692': 552, '2226070109': 553, '2226126570': 554, '2226135022': 555, '2253030570': 556, '2253049417': 557, '2253050407': 558, '2253055972': 559, '225307659X': 560, '2253171670': 561, '2253172367': 562, '2264010991': 563, '2264013257': 564, '2264018194': 565, '2264024674': 566, '226402593X': 567, '2264027568': 568, '2264029463': 569, '226403114': 570, '2264031158': 571, '2264033282': 572, '226403601X': 573, '2264036036': 574, '2266040820': 575, '2266047280': 576, '226604960': 577, '22660861003': 578, '2266096451': 579, '2266102028': 580, '2266102621': 581, '2266104535': 582, '2266105698': 583, '2266121367': 584, '2277302228': 585, '2290303488': 586, '2290308285': 587, '2290312924': 588, '2290315524': 589, '2290321559': 590, '2702424131': 591, '2742724028': 592, '2742724613': 593, '2742729038': 594, '2743602295': 595, '2841469824': 596, '2842611462': 597, '2868696627': 598, '2869304129': 599, '2869304560': 600, '2869304870': 601, '2869305583': 602, '2895400644': 603, '2907572121': 604, '290757213X': 605, '1566190096': 606, '0749317256': 607, '3453150538': 608, '3492224628': 609, '3492224768': 610, '3596147700': 611, '0060011939': 612, '0099283697': 613, '0140187758': 614, '0316154601': 615, '059035342X': 616, '0713628944': 617, '0752844040': 618, '1853260665': 619, '2070414256': 620, '2070419657': 621, '2253063339': 622, '2253137243': 623, '2253144452': 624, '2253152072': 625, '2264027134': 626, '226612269X': 627, '2290318329': 628, '2702400612': 629, '2702401694': 630, '2878580753': 631, '8408040383': 632, '8423310353': 633, '844140321X': 634, '8484601072': 635, '0330373269': 636, '8882461327': 637, '349202436X': 638, '8807813858': 639, '0140182551': 640, '0446310786': 641, '0886776783': 642, '3257008155': 643, '329300301X': 644, '3419528078': 645, '3423118709': 646, '3440054594': 647, '3442723078': 648, '3453034120': 649, '3480204015': 650, '3492238882': 651, '3499121808': 652, '3499153629': 653, '3502513333': 654, '3502517371': 655, '3502551685': 656, '3596119502': 657, '3596221234': 658, '3596850185': 659, '3772402542': 660, '3772420176': 661, '3794170180': 662, '3806852456': 663, '3808572612': 664, '3821812028': 665, '3922708072': 666, '7321578936': 667, '0312966970': 668, '680ISBN359623': 669, '0340818182': 670, '0061096261': 671, '0312169817': 672, '0312864590': 673, '0345348664': 674, '0345348672': 675, '0345354621': 676, '0345385764': 677, '0345435036': 678, '0385264356': 679, '0425104273': 680, '0425172546': 681, '0440218667': 682, '0440220602': 683, '0446522856': 684, '0451180054': 685, '0451198514': 686, '0515131520': 687, '0517093715': 688, '0553266306': 689, '0765342987': 690, '0812550153': 691, '0812550307': 692, '0843949163': 693, '0886773741': 694, '0886774802': 695, '0886774829': 696, '0886775426': 697, '0886775957': 698, '0886777178': 699, '1572971835': 700, '9722900684': 701, '3499221489': 702, '2422614189': 703, '0345425596': 704, '0590259970': 705, '0590260251': 706, '0590417827': 707, '0590426702': 708, '0590436422': 709, '0590436449': 710, '0590436457': 711, '0590436465': 712, '0590436481': 713, '059043649X': 714, '0590436503': 715, '0590442589': 716, '0590442988': 717, '0590442996': 718, '0590448234': 719, '0590448595': 720, '0590456458': 721, '0590456504': 722, '0590470485': 723, '0590483056': 724, '0060930187': 725, '0375760911': 726, '0689817851': 727, '0874869870': 728, '0061081450': 729, '0061083259': 730, '0061087017': 731, '0061094404': 732, '0312925689': 733, '0440295653': 734, '0671793489': 735, '0684845768': 736, '0701169176': 737, '0312244266': 738, '880701601X': 739, '8817134899': 740, '0099268345': 741, '3100970616': 742, '3257062354': 743, '3257228317': 744, '3423128879': 745, '3423202327': 746, '342677609X': 747, '3442054753': 748, '3442727073': 749, '3453132041': 750, '3478387507': 751, '3492045170': 752, '3492230814': 753, '3499101505': 754, '3545202461': 755, '3548359698': 756, '3550075359': 757, '3596154766': 758, '3596214629': 759, '0671011367': 760, '0618045996': 761, '3822858617': 762, '0864425589': 763, '8817860751': 764, '0452282101': 765, '0671025368': 766, '3257060580': 767, '0553581112': 768, '0805047379': 769, '0892964456': 770, '0373250223': 771, '0451097009': 772, '0451179994': 773, '9681500830': 774, '8432087653': 775, '0553140779': 776, '0425182150': 777, '1883473004': 778, '0061007129': 779, '0061000027': 780, '0812511816': 781, '0833531654': 782, '0880381736': 783, '0880381744': 784, '0722536283': 785, '0060505885': 786, '0061097101': 787, '0299164942': 788, '0312283709': 789, '0312983271': 790, '0380731851': 791, '0446605484': 792, '0446611212': 793, '0451188454': 794, '0451207955': 795, '0609804138': 796, '0671003755': 797, '067104754X': 798, '0743407067': 799, '074343627X': 800, '0786013230': 801, '0812509560': 802, '3426615355': 803, '3442435838': 804, '3442455707': 805, '0075536498': 806, '0099287692': 807, '0099845008': 808, '0330262130': 809, '0385720920': 810, '0393319296': 811, '0553262505': 812, '06514251': 813, '0805062971': 814, '3257228007': 815, '3442430496': 816, '3442446325': 817, '3453171500': 818, '3464371506': 819, '9513098648': 820, '0590108395': 821, '3442451353': 822, '8425330866': 823, '8481301213': 824, '0460905589': 825, '0816704627': 826, '1573229571': 827, '0060595183': 828, '9782922145441': 829, '2830207904': 830, '3499263998': 831, '0434009407': 832, '1841193887': 833, '0375700668': 834, '457871971': 835, '840149768X': 836, '8401499917': 837, '8402007287': 838, '8420600369': 839, '8420603066': 840, '8423918335': 841, '8426105084': 842, '8426429807': 843, '843223138X': 844, '8437608570': 845, '8440630921': 846, '8440630922': 847, '8470394126': 848, '8471662531': 849, '8472230082': 850, '8474541913': 851, '8478091351': 852, '3426193310': 853, '0064404773': 854, '0064407667': 855, '0552545228': 856, '006054094X': 857, '0375706038': 858, '081297106X': 859, '0843951826': 860, '1400032628': 861, '1585861553': 862, '0066210151': 863, '0385334141': 864, '0425191184': 865, '0671027343': 866, '0751503894': 867, '3714500799': 868, '0385503822': 869, '3548208975': 870, '0399138684': 871, '0425189864': 872, '0440236053': 873, '0440241073': 874, '0553586122': 875, '0099935708': 876, '0140118608': 877, '0552998249': 878, '3518408127': 879, '1586609726': 880, '0865472807': 881, '0312960344': 882, '055358068X': 883, '0792270142': 884, '0688174590': 885, '031286504X': 886, '0345342968': 887, '0375756981': 888, '0553382411': 889, '0671027662': 890, '0767903382': 891, '3785527195': 892, '1558744592': 893, '0060002484': 894, '0060094117': 895, '0312253397': 896, '0312331754': 897, '0312874243': 898, '0312979517': 899, '0316152196': 900, '0316154059': 901, '0316287555': 902, '034541389X': 903, '0345450175': 904, '0345452550': 905, '0375727981': 906, '0380975017': 907, '0385305389': 908, '0393045390': 909, '0394543289': 910, '0399135804': 911, '0399138188': 912, '0399141340': 913, '0399146466': 914, '0399146504': 915, '0399146687': 916, '0399147101': 917, '0399147144': 918, '0399147322': 919, '0399147624': 920, '0399148337': 921, '0399148450': 922, '0399148639': 923, '0399148728': 924, '0399149783': 925, '0399150811': 926, '0399150870': 927, '0399151451': 928, '0399151478': 929, '039915177X': 930, '0399151885': 931, '0425183181': 932, '0440111323': 933, '0440122147': 934, '0440221463': 935, '0441005470': 936, '0446519480': 937, '0449221512': 938, '055358295X': 939, '0670894184': 940, '0671024094': 941, '0679450408': 942, '0684801663': 943, '0684846608': 944, '0684871726': 945, '0743201604': 946, '074320607X': 947, '0743407377': 948, '0743486226': 949, '0804109990': 950, '0812571118': 951, '0969691319': 952, '8475251471': 953, '0380724987': 954, '0380726246': 955, '0380816059': 956, '0399139419': 957, '0425175405': 958, '0425182932': 959, '0440225701': 960, '0446602485': 961, '0446603406': 962, '0451091949': 963, '0553095439': 964, '0553227041': 965, '0553263226': 966, '0553295098': 967, '0553564994': 968, '067102423X': 969, '0671032658': 970, '0671653849': 971, '0722509049': 972, '0812500067': 973, '0812516001': 974, '0812568710': 975, '0843921609': 976, '0890875588': 977, '1557730091': 978, '1558172882': 979, '0425178102': 980, '0446609404': 981, '0446610038': 982, '0451178017': 983, '0553211056': 984, '0553285920': 985, '0871312549': 986, '0020259700': 987, '0345404114': 988, '0375724400': 989, '0385422598': 990, '0385479565': 991, '0425156028': 992, '0446362220': 993, '0449130282': 994, '0449213013': 995, '0449213730': 996, '0449224449': 997, '0451173139': 998, '0486282406': 999, '0553299506': 1000, '0553575937': 1001, '0553580930': 1002, '0679737456': 1003, '0804102511': 1004, '080410946X': 1005, '0804114986': 1006, '0881503274': 1007, '8481302201': 1008, '0440414806': 1009, '0679767800': 1010, '0060527161': 1011, '0140244328': 1012, '0451198948': 1013, '0006514219': 1014, '0006542379': 1015, '0006543545': 1016, '0006550983': 1017, '0141011947': 1018, '0340734043': 1019, '0340770015': 1020, '0349105227': 1021, '0571152236': 1022, '0571176151': 1023, '0060390174': 1024, '0060976683': 1025, '0061043567': 1026, '006250794X': 1027, '0312977263': 1028, '0375708413': 1029, '038081093X': 1030, '038528859X': 1031, '0399141650': 1032, '0425144690': 1033, '0425147762': 1034, '0440224705': 1035, '0446310735': 1036, '0452269865': 1037, '0515115649': 1038, '0515129941': 1039, '0553249657': 1040, '0553281089': 1041, '0671042858': 1042, '0671782908': 1043, '0679425233': 1044, '0679433090': 1045, '0679745203': 1046, '0679767851': 1047, '0743223543': 1048, '0786701420': 1049, '0804106126': 1050, '080505622X': 1051, '0887307302': 1052, '1564141330': 1053, '1578630037': 1054, '1880323818': 1055, '1929590059': 1056, '345251547': 1057, '449003800': 1058, '44901766125': 1059, '671781383': 1060, '0140254188': 1061, '0385510500': 1062, '0525945636': 1063, '0743422732': 1064, '0789401487': 1065, '074341232X': 1066, '0020847459': 1067, '0060196076': 1068, '0060391626': 1069, '0060502258': 1070, '0060908548': 1071, '0060911271': 1072, '0060914548': 1073, '0060960930': 1074, '0060987561': 1075, '0062500279': 1076, '0062500295': 1077, '006251170X': 1078, '015644450X': 1079, '0156799804': 1080, '031214816X': 1081, '0312204809': 1082, '031284879X': 1083, '0316734837': 1084, '0345353404': 1085, '0345384202': 1086, '0345413881': 1087, '0345459407': 1088, '0375406328': 1089, '0375724672': 1090, '037582233X': 1091, '0385149514': 1092, '0385423446': 1093, '0385475721': 1094, '0385483503': 1095, '0385729332': 1096, '0394569652': 1097, '0394726413': 1098, '0394757572': 1099, '0399142789': 1100, '042511774X': 1101, '0440174953': 1102, '0440214424': 1103, '0440236673': 1104, '0446604801': 1105, '0446606189': 1106, '0446606383': 1107, '0446609323': 1108, '0449134482': 1109, '0449223345': 1110, '0451195825': 1111, '051730984X': 1112, '0553251996': 1113, '055326611X': 1114, '0553268880': 1115, '0553273604': 1116, '0553347756': 1117, '0553379615': 1118, '0553572997': 1119, '0618093974': 1120, '0670869902': 1121, '0671010115': 1122, '0671021001': 1123, '0671256181': 1124, '0671510053': 1125, '0671647458': 1126, '0679435506': 1127, '0679455876': 1128, '0679459618': 1129, '0679723285': 1130, '0679741666': 1131, '0679746048': 1132, '0684804018': 1133, '0684807548': 1134, '0684841347': 1135, '0684859769': 1136, '0723216428': 1137, '0743458036': 1138, '0786862297': 1139, '0802115160': 1140, '0804107149': 1141, '0811801802': 1142, '0811826880': 1143, '0831771690': 1144, '0852072864': 1145, '0871313073': 1146, '088011861X': 1147, '0916318405': 1148, '0939149311': 1149, '1401300448': 1150, '1558743669': 1151, '1571740562': 1152, '1573220779': 1153, '1573221856': 1154, '1577311507': 1155, '158243011X': 1156, '1882897579': 1157, '468109753': 1158, '684144433': 1159, '911824529': 1160, '0345397606': 1161, '0425034682': 1162, '0425184463': 1163, '0441694004': 1164, '044920597545': 1165, '0449209733': 1166, '044923894625': 1167, '0553271644': 1168, '0670820555': 1169, '0671446703': 1170, '0671749013': 1171, '0688171923': 1172, '0743205812': 1173, '0812521129': 1174, '0828002118': 1175, '812551788': 1176, '0316969680': 1177, '0375703861': 1178, '0440225442': 1179, '0553271571': 1180, '0743206045': 1181, '0743229878': 1182, '030700645X': 1183, '0307127923': 1184, '0307302016': 1185, '0307302636': 1186, '0307987655': 1187, '0316563242': 1188, '0380600129': 1189, '0380702843': 1190, '0380710404': 1191, '039480001X': 1192, '0394800028': 1193, '0394800184': 1194, '039480029X': 1195, '039480967X': 1196, '0394925696': 1197, '0439083702': 1198, '0439213592': 1199, '0439242363': 1200, '0439449316': 1201, '0590386522': 1202, '0590402218': 1203, '0590404342': 1204, '0590442619': 1205, '0590442791': 1206, '0590442805': 1207, '0590442899': 1208, '059044297X': 1209, '059046602X': 1210, '0590466577': 1211, '059053744X': 1212, '0590629719': 1213, '0590921622': 1214, '0590965492': 1215, '0689845405': 1216, '0689847564': 1217, '0717283194': 1218, '0717283208': 1219, '0717283275': 1220, '0717283364': 1221, '0717283372': 1222, '0717284832': 1223, '0717284972': 1224, '0717287017': 1225, '0717287106': 1226, '0721452728': 1227, '0736401113': 1228, '0761406158': 1229, '0769600239': 1230, '0785316477': 1231, '0785316493': 1232, '0785316531': 1233, '087701759X': 1234, '0882712926': 1235, '0895777010': 1236, '1561452718': 1237, '1562826468': 1238, '2764104936': 1239, '0671664964': 1240, '005531774': 1241, '044023722X': 1242, '0671015648': 1243, '0749397365': 1244, '0061044636': 1245, '0385239165': 1246, '0884946169': 1247, '0884948706': 1248, '0312282990': 1249, '0060613998': 1250, '037541309X': 1251, '0826308791': 1252, '014023313X': 1253, '0722539924': 1254, '0970961502': 1255, '014029628X': 1256, '0425188175': 1257, '038550926X': 1258, '0440772109': 1259, '0812514440': 1260, '0449005909': 1261, '0345443284': 1262, '0395742803': 1263, '0425128164': 1264, '055347782X': 1265, '0670401765': 1266, '0670637823': 1267, '067166736': 1268, '1585671312': 1269, '0316601950': 1270, '0452282152': 1271, '11238356': 1272, '8804483156': 1273, '8846200209': 1274, '0397314728': 1275, '0345422384': 1276, '0395760704': 1277, '0615116426': 1278, '8804348712': 1279, '3828400647': 1280, '1555037763': 1281, '0618134298': 1282, '0060591706': 1283, '0375708049': 1284, '0552998486': 1285, '9586391688': 1286, '9722000322': 1287, '9722100718': 1288, '972211493X': 1289, '9722320742': 1290, '9722326414': 1291, '972232957': 1292, '972232957X': 1293, '9722509713': 1294, '9722906259': 1295, '9722906283': 1296, '9724608152': 1297, '9725752228': 1298, '9726101794': 1299, '9726106141': 1300, '9726621666': 1301, '9726627532': 1302, '1887128441': 1303, '0062501860': 1304, '0553581929': 1305, '0806523794': 1306, '0425154092': 1307, '0671738232': 1308, '1551668726': 1309, '0380721643': 1310, 'O6712345670': 1311, '0446360716': 1312, '0060173289': 1313, '0060976845': 1314, '1561840564': 1315, '0441478123': 1316, '0006530400': 1317, '9041710191': 1318, '3442029724': 1319, '3746614007': 1320, '44901668125': 1321, '0385482051': 1322, '0385494084': 1323, '0767902076': 1324, '084230052X': 1325, '3257204817': 1326, '0446363073': 1327, '3518119249': 1328, '35181333217': 1329, '3596200547': 1330, '3716020028': 1331, '3717581546': 1332, '3803120624': 1333, '0739417096': 1334, '0679781587': 1335, '071009505506': 1336, '1591820537': 1337, '1931514615': 1338, '0060393823': 1339, '0156027321': 1340, '0312187335': 1341, '0929264215': 1342, '0061011509': 1343, '0553576801': 1344, '0312276885': 1345, '8806164104': 1346, '0007137699': 1347, '0671521705': 1348, '0006485294': 1349, '0060164662': 1350, '0134342283': 1351, '0138030405': 1352, '013838939X': 1353, '0140003185': 1354, '0140008217': 1355, '0140017852': 1356, '0140058605': 1357, '0140089128': 1358, '0140096825': 1359, '0140253874': 1360, '0140302980': 1361, '0141002492': 1362, '0141302933': 1363, '0192827588': 1364, '0312195516': 1365, '0345315642': 1366, '0380490986': 1367, '0385474016': 1368, '0425176673': 1369, '0435270613': 1370, '0446322180': 1371, '0446608955': 1372, '0451137965': 1373, '0553213296': 1374, '0553262807': 1375, '0553279378': 1376, '0553371835': 1377, '0586056572': 1378, '0670892963': 1379, '0670894494': 1380, '0671028375': 1381, '0671646575': 1382, '0671683993': 1383, '0679741879': 1384, '0684872153': 1385, '0684872730': 1386, '0712624090': 1387, '0713911131': 1388, '0749305401': 1389, '0767906373': 1390, '0770418686': 1391, '0770420451': 1392, '0770502466': 1393, '0786881348': 1394, '0804103658': 1395, '0804109729': 1396, '0812507452': 1397, '0812515560': 1398, '0812515595': 1399, '0812590554': 1400, '0938261088': 1401, '0941483711': 1402, '1550137387': 1403, '1550170791': 1404, '3453156366': 1405, '3499223066': 1406, '1558509828': 1407, '0957868251': 1408, '342670272X': 1409, '2253141860': 1410, '859009751X': 1411, '0399140751': 1412, '000254794': 1413, '87812797': 1414, '88043077730': 1415, '8804479272': 1416, '887983830': 1417, '8880891766': 1418, '8880894536': 1419, '8880897470': 1420, '051511605X': 1421, '0590477404': 1422, '0312253435': 1423, '0345416422': 1424, '0060170166': 1425, '0552996459': 1426, '0026217457': 1427, '003008685X': 1428, '0030615321': 1429, '0060002050': 1430, '0060006641': 1431, '0060159685': 1432, '0060177721': 1433, '0060192704': 1434, '0060542128': 1435, '0060913509': 1436, '0060929197': 1437, '006092988X': 1438, '0060930535': 1439, '0060932139': 1440, '0060934417': 1441, '0060951605': 1442, '0061004251': 1443, '0061009059': 1444, '0061030430': 1445, '0062505319': 1446, '0062507109': 1447, '0062735098': 1448, '0064400859': 1449, '006440188X': 1450, '0064636143': 1451, '0099288850': 1452, '0132220598': 1453, '0140067477': 1454, '0140067841': 1455, '0140086838': 1456, '0140185151': 1457, '0140283374': 1458, '014039026X': 1459, '0140390715': 1460, '0140621792': 1461, '014100018X': 1462, '0141439742': 1463, '0142001740': 1464, '015200405X': 1465, '0152050167': 1466, '0156000024': 1467, '0195009428': 1468, '0195283554': 1469, '0201000822': 1470, '0310205719': 1471, '0310221498': 1472, '0310268001': 1473, '0310396514': 1474, '0310435706': 1475, '0310803063': 1476, '0312302487': 1477, '0312944691': 1478, '0312950934': 1479, '0312961006': 1480, '0312965966': 1481, '0312966091': 1482, '031298328X': 1483, '0316037451': 1484, '0316096199': 1485, '0316168688': 1486, '0316284955': 1487, '0316569321': 1488, '0316602051': 1489, '0316776963': 1490, '0316777730': 1491, '0330234471': 1492, '033031582': 1493, '0345285859': 1494, '0345288068': 1495, '0345311396': 1496, '0345327772': 1497, '0345331966': 1498, '0345334019': 1499, '0345338545': 1500, '0345339681': 1501, '0345347226': 1502, '0345361792': 1503, '0345362632': 1504, '0345373561': 1505, '0345404769': 1506, '0345404777': 1507, '0345404785': 1508, '0345408039': 1509, '0345412214': 1510, '0345413903': 1511, '0345419707': 1512, '0345436911': 1513, '0373029519': 1514, '0373032811': 1515, '0373033052': 1516, '0373263694': 1517, '0373482620': 1518, '0373484232': 1519, '0373705115': 1520, '0374199698': 1521, '0375408886': 1522, '0375415491': 1523, '0375700129': 1524, '0375703764': 1525, '0375726659': 1526, '0375727132': 1527, '0375751513': 1528, '0376012161': 1529, '0376034750': 1530, '0380707551': 1531, '0380710218': 1532, '0380713292': 1533, '0380718332': 1534, '0380718758': 1535, '0380791978': 1536, '038081904X': 1537, '0380820048': 1538, '038082339X': 1539, '0380846578': 1540, '0380897822': 1541, '0385261861': 1542, '0385323816': 1543, '0385424736': 1544, '0385482388': 1545, '0385484518': 1546, '0385486804': 1547, '038548951X': 1548, '0385503857': 1549, '0393039242': 1550, '039304016X': 1551, '039447970X': 1552, '0394556968': 1553, '0394706528': 1554, '0394731220': 1555, '0394738136': 1556, '0394862147': 1557, '0395611571': 1558, '0395936136': 1559, '0399132678': 1560, '0399144463': 1561, '0399145990': 1562, '0399148442': 1563, '0399149562': 1564, '0399225064': 1565, '0399501487': 1566, '0399526145': 1567, '0425047962': 1568, '042507448X': 1569, '0425087859': 1570, '0425104338': 1571, '0425107469': 1572, '0425113884': 1573, '0425116840': 1574, '0425121631': 1575, '0425125467': 1576, '0425131769': 1577, '0425133516': 1578, '042514755X': 1579, '0425152898': 1580, '0425155943': 1581, '0425157466': 1582, '0425158616': 1583, '0425163865': 1584, '0425169871': 1585, '0425174271': 1586, '0425176088': 1587, '042518627X': 1588, '0425190749': 1589, '0439064872': 1590, '0439136369': 1591, '043936213X': 1592, '0440113423': 1593, '044011585X': 1594, '0440170796': 1595, '0440173922': 1596, '0440176484': 1597, '0440185327': 1598, '0440193613': 1599, '0440201071': 1600, '0440205506': 1601, '0440208459': 1602, '0440210690': 1603, '0440213320': 1604, '0440213991': 1605, '0440217466': 1606, '0440221501': 1607, '0440224764': 1608, '0440225450': 1609, '0440236061': 1610, '0440236703': 1611, '0440236738': 1612, '0440419468': 1613, '0440428130': 1614, '0440506832': 1615, '0441002455': 1616, '0441172717': 1617, '0441627404': 1618, '0446311677': 1619, '0446325503': 1620, '0446350982': 1621, '0446522384': 1622, '0446600415': 1623, '0446602620': 1624, '0446603716': 1625, '0446607193': 1626, '0446608009': 1627, '0446608890': 1628, '0446609048': 1629, '0446676640': 1630, '0446677507': 1631, '0449221482': 1632, '0449221504': 1633, '0449222470': 1634, '0449224813': 1635, '044922502X': 1636, '0449231992': 1637, '0451113357': 1638, '0451141083': 1639, '0451166000': 1640, '0451169522': 1641, '0451177096': 1642, '0451180739': 1643, '0451184742': 1644, '0451191153': 1645, '0451202503': 1646, '0451203593': 1647, '0451404025': 1648, '0451526562': 1649, '0452283736': 1650, '0452284449': 1651, '0471018732': 1652, '0486406644': 1653, '0486424634': 1654, '0515128015': 1655, '0515128600': 1656, '0515130923': 1657, '0515132020': 1658, '0515133302': 1659, '0517294559': 1660, '0517559501': 1661, '0517573636': 1662, '0517883384': 1663, '0523485964': 1664, '0552137030': 1665, '0552996181': 1666, '0553078925': 1667, '0553133160': 1668, '0553232266': 1669, '0553271636': 1670, '0553274295': 1671, '0553279556': 1672, '0553280341': 1673, '0553280368': 1674, '0553295780': 1675, '0553297422': 1676, '0553297619': 1677, '0553343653': 1678, '0553351672': 1679, '0553571656': 1680, '0553571818': 1681, '0553572865': 1682, '0553573926': 1683, '0553574566': 1684, '0553577808': 1685, '0553578936': 1686, '0553579274': 1687, '0553579525': 1688, '0553581058': 1689, '0553582755': 1690, '0553801430': 1691, '0573681821': 1692, '0609810138': 1693, '0631194975': 1694, '0664244882': 1695, '0670307254': 1696, '067086045X': 1697, '067091021X': 1698, '0671001795': 1699, '067101417X': 1700, '0671014420': 1701, '0671016776': 1702, '0671024086': 1703, '0671037692': 1704, '0671441981': 1705, '0671528904': 1706, '0671600982': 1707, '0671679929': 1708, '067170561X': 1709, '067172021X': 1710, '0671722808': 1711, '0671727079': 1712, '0671729470': 1713, '0671740504': 1714, '0671741209': 1715, '0671749897': 1716, '0671782525': 1717, '0671810367': 1718, '0671876821': 1719, '0674373502': 1720, '067940676X': 1721, '067941388X': 1722, '0679417648': 1723, '0679419853': 1724, '0679457313': 1725, '0679459626': 1726, '0679731148': 1727, '0679731377': 1728, '0679736042': 1729, '0679751521': 1730, '0679765018': 1731, '0684846713': 1732, '0684859300': 1733, '0684864320': 1734, '0684866048': 1735, '0684869098': 1736, '0688037879': 1737, '0688065716': 1738, '0688139752': 1739, '068971310X': 1740, '070434100X': 1741, '0708985386': 1742, '0715388185': 1743, '0718002067': 1744, '0720714729': 1745, '0736903054': 1746, '0740723367': 1747, '0743406176': 1748, '0743412028': 1749, '0743422082': 1750, '0743422910': 1751, '0743444477': 1752, '0743457943': 1753, '0749395990': 1754, '0764223259': 1755, '0764550896': 1756, '076790446X': 1757, '0785243038': 1758, '0786866845': 1759, '078762764X': 1760, '0800757483': 1761, '0800786459': 1762, '0802425488': 1763, '080284314X': 1764, '0803653719': 1765, '0803786824': 1766, '080410753X': 1767, '0804108749': 1768, '080411918X': 1769, '080501604X': 1770, '0805018956': 1771, '0805047603': 1772, '0805051309': 1773, '0809233479': 1774, '0810909650': 1775, '0811802981': 1776, '0811811409': 1777, '0812504798': 1778, '0812531353': 1779, '0812542509': 1780, '0812575555': 1781, '0821713841': 1782, '0821770829': 1783, '0835607585': 1784, '0836204387': 1785, '0836210263': 1786, '0836213068': 1787, '0836213076': 1788, '0836217632': 1789, '0836217691': 1790, '0836218221': 1791, '0836218515': 1792, '0836218655': 1793, '0836218787': 1794, '0836218817': 1795, '0836221192': 1796, '0836221311': 1797, '0836221362': 1798, '0836236688': 1799, '0842314296': 1800, '084233338X': 1801, '0842338918': 1802, '0842352368': 1803, '0842370668': 1804, '0843947888': 1805, '0843948442': 1806, '0849929954': 1807, '084993785X': 1808, '0849995892': 1809, '0850791154': 1810, '0871233096': 1811, '0871890917': 1812, '0872016269': 1813, '0875096867': 1814, '087605534X': 1815, '0877017883': 1816, '0877423814': 1817, '0877790426': 1818, '087784870X': 1819, '0878771018': 1820, '088138013X': 1821, '0884195473': 1822, '0884502627': 1823, '0886771528': 1824, '0887621112': 1825, '0890814082': 1826, '0890876517': 1827, '0890876967': 1828, '089104289X': 1829, '0891094261': 1830, '0894803204': 1831, '0894807730': 1832, '0894808249': 1833, '0895772183': 1834, '0897210026': 1835, '0897210433': 1836, '0897330536': 1837, '0898155843': 1838, '0898156122': 1839, '0898157803': 1840, '0898793912': 1841, '0898794080': 1842, '0898794544': 1843, '0898796431': 1844, '0898796601': 1845, '089879661X': 1846, '0898797055': 1847, '0898797187': 1848, '0898797993': 1849, '091031103X': 1850, '0912376090': 1851, '0912452161': 1852, '0913734489': 1853, '0914846566': 1854, '0915943263': 1855, '0918956730': 1856, '0930014464': 1857, '0932592007': 1858, '0932944523': 1859, '0964420805': 1860, '0965035214': 1861, '0967201519': 1862, '1400031354': 1863, '1400034779': 1864, '1400060265': 1865, '1551664968': 1866, '1551668157': 1867, '1556524412': 1868, '1557733090': 1869, '1558177736': 1870, '1559586893': 1871, '1559703865': 1872, '1562923668': 1873, '1563052377': 1874, '1564142019': 1875, '1564403963': 1876, '1565075722': 1877, '1565120310': 1878, '1567313000': 1879, '1568380593': 1880, '156865037X': 1881, '1570620768': 1882, '1570620970': 1883, '157224058X': 1884, '1572302399': 1885, '1572304510': 1886, '157421005X': 1887, '1576733343': 1888, '1576737160': 1889, '1576739597': 1890, '1581690606': 1891, '1582343772': 1892, '1852278099': 1893, '1852303468': 1894, '1887128255': 1895, '1930285000': 1896, '8251800811': 1897, '8495273829': 1898, '0373765541': 1899, '009977920X': 1900, '0749317132': 1901, '0864425767': 1902, '0312144075': 1903, '0771087217': 1904, '031215125X': 1905, '0590629786': 1906, '0590629794': 1907, '0590629808': 1908, '0590629816': 1909, '0312242026': 1910, '0345444892': 1911, '0399149821': 1912, '051509272X': 1913, '0553230557': 1914, '0553579134': 1915, '0671027360': 1916, '0671038443': 1917, '0688034047': 1918, '1583940790': 1919, '0849908647': 1920, '0385722206': 1921, '3150087201': 1922, '3442729785': 1923, '015659413': 1924, '0312963297': 1925, '0345382293': 1926, '0380718340': 1927, '0385491387': 1928, '0395835836': 1929, '042516098X': 1930, '044022165X': 1931, '0440226414': 1932, '0446612790': 1933, '0449219364': 1934, '051512219X': 1935, '0553121510': 1936, '0553292722': 1937, '0553571885': 1938, '0684834731': 1939, '0684855518': 1940, '0446609749': 1941, '0330312367': 1942, '3423101776': 1943, '3596200261': 1944, '3804430058': 1945, '0785264280': 1946, '014038572X': 1947, '0006715184': 1948, '006008216X': 1949, '006105481X': 1950, '0061091995': 1951, '0061092045': 1952, '0061099252': 1953, '006447108X': 1954, '0091863279': 1955, '0099743612': 1956, '0140212299': 1957, '0140318720': 1958, '0140620257': 1959, '0140621725': 1960, '014200281X': 1961, '0146000552': 1962, '0146002083': 1963, '0226244954': 1964, '0304359416': 1965, '0312113420': 1966, '0312275366': 1967, '0312848765': 1968, '0312858175': 1969, '0312868383': 1970, '031287216X': 1971, '0312873840': 1972, '0312877706': 1973, '0312910584': 1974, '0312972822': 1975, '0312979533': 1976, '0330231715': 1977, '0340565276': 1978, '034066049X': 1979, '0340745983': 1980, '0345307674': 1981, '0345310799': 1982, '0345330129': 1983, '0345332687': 1984, '0345334531': 1985, '0345351525': 1986, '0345368959': 1987, '0345394267': 1988, '034540405X': 1989, '0345439015': 1990, '0345453409': 1991, '0373244487': 1992, '0373244657': 1993, '0373244711': 1994, '0373261896': 1995, '0373286570': 1996, '0373288867': 1997, '0373288964': 1998, '0373289812': 1999, '0373291337': 2000, '037329140X': 2001, '0373291450': 2002, '0373291825': 2003, '0373291841': 2004, '0373292090': 2005, '0373292120': 2006, '0373292554': 2007, '0373292716': 2008, '0374523878': 2009, '038067470X': 2010, '0380703882': 2011, '0380717573': 2012, '0394719603': 2013, '0399128158': 2014, '0425046885': 2015, '0425061930': 2016, '0425067645': 2017, '042508471X': 2018, '0425146413': 2019, '0425150984': 2020, '0425161242': 2021, '0425169863': 2022, '0425181200': 2023, '0425185729': 2024, '0440107601': 2025, '0440124751': 2026, '0440169267': 2027, '0440201705': 2028, '0440215099': 2029, '0440223423': 2030, '0440234743': 2031, '0440975964': 2032, '0441005659': 2033, '0441206697': 2034, '0441845630': 2035, '0445409134': 2036, '0446356018': 2037, '0446604089': 2038, '0446607657': 2039, '0446611859': 2040, '0449149706': 2041, '0449204758': 2042, '0449239438': 2043, '0449244741': 2044, '0449308464': 2045, '0449907481': 2046, '0449907635': 2047, '0451156234': 2048, '0451162218': 2049, '0451197437': 2050, '0451410769': 2051, '0451459393': 2052, '0451523369': 2053, '0498024253': 2054, '0517000652': 2055, '0517119250': 2056, '0552128481': 2057, '0552142379': 2058, '0552149209': 2059, '0553025007': 2060, '0553102826': 2061, '0553129198': 2062, '0553142496': 2063, '0553147374': 2064, '0553245856': 2065, '0553264192': 2066, '0553266055': 2067, '0553268120': 2068, '0553282352': 2069, '0553578944': 2070, '0553579606': 2071, '0553579754': 2072, '0553580191': 2073, '0575005998': 2074, '0582275164': 2075, '0582480841': 2076, '0582528232': 2077, '059010683X': 2078, '0670808393': 2079, '0671020560': 2080, '0671034677': 2081, '0671525832': 2082, '0671549219': 2083, '0671640143': 2084, '0671661892': 2085, '0671665014': 2086, '0671679473': 2087, '0671809000': 2088, '0671888587': 2089, '0679761047': 2090, '0688032435': 2091, '0747234256': 2092, '0750916338': 2093, '0752524593': 2094, '0752844849': 2095, '0752853694': 2096, '0755109996': 2097, '0756401380': 2098, '0765305119': 2099, '0786817879': 2100, '0786868716': 2101, '0789477831': 2102, '0789477858': 2103, '080410526X': 2104, '0810945797': 2105, '0810946122': 2106, '0811829103': 2107, '0812532635': 2108, '0812535065': 2109, '0821733680': 2110, '0831759267': 2111, '0836215257': 2112, '0851152023': 2113, '0855030127': 2114, '0860685179': 2115, '0882668099': 2116, '0886778220': 2117, '0907849741': 2118, '1550224670': 2119, '1558745718': 2120, '1572970014': 2121, '1740595904': 2122, '1850587981': 2123, '1853260088': 2124, '1853261173': 2125, '1892065444': 2126, '1893183025': 2127, '1903919134': 2128, '1903919142': 2129, '2723426890': 2130, '2840551446': 2131, '3822855588': 2132, '382289642X': 2133, '8493127817': 2134, '85069125': 2135, '9021480069': 2136, '902183832': 2137, '9024538718': 2138, '9025409881': 2139, '9026922086': 2140, '9027444641': 2141, '9029531355': 2142, '9029537353': 2143, '9041001557': 2144, '9043904600': 2145, '904500741X': 2146, '9051217129': 2147, '9057121379': 2148, '9060197488': 2149, '9062382207': 2150, '9068340344': 2151, '9070415011': 2152, '907433699X': 2153, '9995585227': 2154, '1588515893': 2155, '0812520165': 2156, '2070528189': 2157, '8432221783': 2158, '0553148001': 2159, '0446609781': 2160, '0061091944': 2161, '0192823523': 2162, '0312261276': 2163, '0385492103': 2164, '1400030382': 2165, '2221090810': 2166, '9724115380': 2167, '9727474799': 2168, '0070212570': 2169, '0316314803': 2170, '0399143947': 2171, '345302611X': 2172, '3453042476': 2173, '3473306991': 2174, '0358159521888': 2175, '0525946241': 2176, '0553272586': 2177, '0767904311': 2178, '0425068099': 2179, '0895261901': 2180, '0312289723': 2181, '0316603570': 2182, '0316693200': 2183, '0345452577': 2184, '0345452593': 2185, '0385336322': 2186, '0385336357': 2187, '0385508042': 2188, '0385510438': 2189, '039915180X': 2190, '0399151877': 2191, '0446530891': 2192, '0517162768': 2193, '055308576X': 2194, '0553801589': 2195, '0553803409': 2196, '0671886665': 2197, '0684835983': 2198, '0739442309': 2199, '0785275967': 2200, '0842308121': 2201, '1558744150': 2202, '0340657987': 2203, '0312203675': 2204, '0316777722': 2205, '0374516812': 2206, '0375707166': 2207, '0679439382': 2208, '0679723161': 2209, '0684195488': 2210, '0688178456': 2211, '0805048782': 2212, '0974499005': 2213, '0064400557': 2214, '1550544683': 2215, '0452268060': 2216, '0679734775': 2217, '034543739X': 2218, '0425168298': 2219, '0911913009': 2220, '0553587196': 2221, '0743482077': 2222, '3404149114': 2223, '0970172605': 2224, '0345392825': 2225, '0345435168': 2226, '0446387878': 2227, '0446518581': 2228, '0553211803': 2229, '0613025326': 2230, '0671531506': 2231, '0345318587': 2232, '1582790671': 2233, '0842332278': 2234, '0140043519': 2235, '0140274286': 2236, '0140278753': 2237, '0571200389': 2238, '0571212018': 2239, '0751310158': 2240, '0751360007': 2241, '0863189113': 2242, '0879052473': 2243, '0934802904': 2244, '1858286018': 2245, '0061053775': 2246, '0312971400': 2247, '0312986769': 2248, '0312995431': 2249, '0425193322': 2250, '044667883X': 2251, '0525937021': 2252, '0743418174': 2253, '080506284X': 2254, '1590170296': 2255, '0006551238': 2256, '0007651864': 2257, '0099675404': 2258, '0385305893': 2259, '0590558021': 2260, '0671741403': 2261, '0751525766': 2262, '0803701225': 2263, '1862082626': 2264, '0553583956': 2265, '0345447867': 2266, '0385511612': 2267, '0393317552': 2268, '1885403003': 2269, '0061015725': 2270, '0142004235': 2271, '0446301582': 2272, '0446608262': 2273, '0140064966': 2274, '0091879434': 2275, '0091894158': 2276, '056353821': 2277, '0715309404': 2278, '0312202318': 2279, '8401463017': 2280, '8401499585': 2281, '8408039369': 2282, '8478884661': 2283, '0440143446': 2284, '0451158164': 2285, '0671026704': 2286, '0812579402': 2287, '0340769181': 2288, '0373872089': 2289, '0373243758': 2290, '0375707972': 2291, '0312421273': 2292, '0679771476': 2293, '8700212849': 2294, '8755900623': 2295, '8787498782': 2296, '8807701375': 2297, '0688150772': 2298, '0618002219': 2299, '0028604199': 2300, '0140340203': 2301, '0312167792': 2302, '0312290659': 2303, '0786890436': 2304, '1400031346': 2305, '1588720756': 2306, '1590521986': 2307, '3257228295': 2308, '3423000015': 2309, '3423124199': 2310, '3423125756': 2311, '3453002393': 2312, '3499207338': 2313, '0312857322': 2314, '0345391055': 2315, '0374184232': 2316, '0380005166': 2317, '0380018179': 2318, '0385472943': 2319, '0399132414': 2320, '0553100777': 2321, '0671000306': 2322, '0671000314': 2323, '0671026682': 2324, '0671452177': 2325, '0671795740': 2326, '0786861347': 2327, '0684857855': 2328, '0553245694': 2329, '1576733971': 2330, '0552994421': 2331, '0552994928': 2332, '0060008296': 2333, '0060505621': 2334, '0061081094': 2335, '0061081671': 2336, '0061083437': 2337, '006109174X': 2338, '0140055932': 2339, '0140061959': 2340, '0140862668': 2341, '030702024X': 2342, '0307605701': 2343, '0312955863': 2344, '0312969074': 2345, '0312973055': 2346, '0312975643': 2347, '0316171638': 2348, '034525421X': 2349, '0345258576': 2350, '0345271955': 2351, '0345283635': 2352, '0345286677': 2353, '0345287894': 2354, '0345297938': 2355, '0345335058': 2356, '0345346777': 2357, '034539657X': 2358, '0373025777': 2359, '0373029861': 2360, '0373030959': 2361, '0373030967': 2362, '0373031300': 2363, '0373031319': 2364, '0373031327': 2365, '037303234X': 2366, '0373032382': 2367, '0373033559': 2368, '0373035373': 2369, '0373089767': 2370, '0373096720': 2371, '0373105207': 2372, '0373105738': 2373, '0373105746': 2374, '0373111398': 2375, '0373115199': 2376, '0373115237': 2377, '0373161948': 2378, '0373219202': 2379, '0373225008': 2380, '037322558X': 2381, '0373226306': 2382, '0373226314': 2383, '0373226322': 2384, '0373241771': 2385, '0373251025': 2386, '0373287526': 2387, '037329042X': 2388, '0373290578': 2389, '0373612249': 2390, '0373614276': 2391, '0373701047': 2392, '0373702760': 2393, '0373761759': 2394, '0373825013': 2395, '0375402675': 2396, '0380001268': 2397, '0380001799': 2398, '0380435705': 2399, '0380436124': 2400, '0380556812': 2401, '0380680157': 2402, '0380706148': 2403, '0380707837': 2404, '0380715325': 2405, '0380721627': 2406, '0380756269': 2407, '0380762595': 2408, '0380776138': 2409, '0380777622': 2410, '0380788985': 2411, '0380895862': 2412, '0394171349': 2413, '0395615887': 2414, '0399149295': 2415, '0425035166': 2416, '0425042235': 2417, '0425046605': 2418, '0425060756': 2419, '0425070204': 2420, '0425071014': 2421, '0425080218': 2422, '0425107507': 2423, '0425108392': 2424, '0425117758': 2425, '0425126064': 2426, '0425132625': 2427, '0425133540': 2428, '0425142485': 2429, '0425147363': 2430, '0440092450': 2431, '0440106478': 2432, '0440116961': 2433, '044014129X': 2434, '0440150795': 2435, '0440159210': 2436, '0440162688': 2437, '0440195179': 2438, '0440202752': 2439, '0440204194': 2440, '0440206146': 2441, '0440211727': 2442, '0440211891': 2443, '0440213525': 2444, '0440214041': 2445, '0440218535': 2446, '0440222656': 2447, '0440224780': 2448, '0440407702': 2449, '0440430712': 2450, '0441224164': 2451, '0445407093': 2452, '0446302066': 2453, '0446341096': 2454, '0446359866': 2455, '0446360473': 2456, '0446401579': 2457, '0446794031': 2458, '0448027011': 2459, '0449124061': 2460, '0449124428': 2461, '0449129500': 2462, '0449143457': 2463, '0449200256': 2464, '0449206246': 2465, '044921852X': 2466, '0449221873': 2467, '0449243583': 2468, '0449244431': 2469, '0451085108': 2470, '0451110145': 2471, '0451112040': 2472, '0451115465': 2473, '0451120531': 2474, '0451130995': 2475, '0451131517': 2476, '0451132378': 2477, '0451135105': 2478, '0451162145': 2479, '0451170385': 2480, '0451172515': 2481, '0451400372': 2482, '0451401190': 2483, '0451409159': 2484, '0453007481': 2485, '0453008445': 2486, '0453008739': 2487, '0515100536': 2488, '0515105996': 2489, '0515108030': 2490, '0515119652': 2491, '0523414366': 2492, '0523414668': 2493, '0523421788': 2494, '0552115339': 2495, '0553113313': 2496, '0553121456': 2497, '0553128973': 2498, '0553131966': 2499, '0553206621': 2500, '0553228129': 2501, '0553230565': 2502, '0553235354': 2503, '055323577X': 2504, '0553264079': 2505, '0553265784': 2506, '0553277812': 2507, '0553297260': 2508, '0553443275': 2509, '0553473441': 2510, '0553478257': 2511, '0553478346': 2512, '0553492217': 2513, '0553526308': 2514, '0553527061': 2515, '0553542109': 2516, '0553702351': 2517, '0590085042': 2518, '0590088203': 2519, '0590298364': 2520, '0590313088': 2521, '0590338242': 2522, '059039990X': 2523, '0590415867': 2524, '0590420062': 2525, '0590449591': 2526, '0590453653': 2527, '0590456571': 2528, '0590456814': 2529, '0590466194': 2530, '059046728X': 2531, '0590469118': 2532, '0590470140': 2533, '059048303X': 2534, '0590568779': 2535, '0590568809': 2536, '0590568892': 2537, '0590568930': 2538, '0590687301': 2539, '067100185X': 2540, '0671001868': 2541, '0671004565': 2542, '0671034022': 2543, '0671046349': 2544, '0671046888': 2545, '0671416367': 2546, '0671425587': 2547, '0671439227': 2548, '0671469703': 2549, '0671509144': 2550, '0671535331': 2551, '0671537253': 2552, '0671811223': 2553, '0671823035': 2554, '0671825291': 2555, '0671833316': 2556, '0671868810': 2557, '0679438327': 2558, '0679439528': 2559, '0679442944': 2560, '0679445099': 2561, '067945814X': 2562, '0689704305': 2563, '069451747X': 2564, '0786001836': 2565, '0786815183': 2566, '0786815191': 2567, '0804106142': 2568, '081251050X': 2569, '0812513185': 2570, '0812522079': 2571, '0812543262': 2572, '0812830490': 2573, '0821710176': 2574, '0821712152': 2575, '0821717723': 2576, '082172598X': 2577, '082173766X': 2578, '0821738488': 2579, '0821756451': 2580, '0882074849': 2581, '1552044653': 2582, '1557739412': 2583, '1567402283': 2584, '1567403387': 2585, '1578150124': 2586, '1578151910': 2587, '1578151929': 2588, '1578152534': 2589, '1578152712': 2590, '0452277337': 2591, '9727474780': 2592, '0451210980': 2593, '067976397X': 2594, '0515121843': 2595, '0451622898': 2596, '185326203X': 2597, '0385256035': 2598, '0743225406': 2599, '0771060548': 2600, '1882943155': 2601, '2070360016': 2602, '2253006629': 2603, '0385502621': 2604, '0440236878': 2605, '051510566X': 2606, '052594544X': 2607, '0553290118': 2608, '067150374X': 2609, '0671626191': 2610, '0743206061': 2611, '0743212002': 2612, '0764222171': 2613, '087542127X': 2614, '0886777011': 2615, '3453007867': 2616, '8804413476': 2617, '8804464046': 2618, '8876414010': 2619, '0552151408': 2620, '2070541886': 2621, '2253054615': 2622, '225309031X': 2623, '2266121081': 2624, '2277220116': 2625, '0140620184': 2626, '0747538484': 2627, '0747546290': 2628, '0747551006': 2629, '202010931X': 2630, '2070362388': 2631, '2070381803': 2632, '2070403920': 2633, '2070425525': 2634, '2253016950': 2635, '225305754': 2636, '2253057649': 2637, '2253141704': 2638, '2253152846': 2639, '2266000489': 2640, '229031465X': 2641, '0060096209': 2642, '342312721X': 2643, '3423128178': 2644, '432530757': 2645, '0449208281': 2646, '0395680905': 2647, '0316769487': 2648, '0425171396': 2649, '0399145850': 2650, '0006546684': 2651, '0380717018': 2652, '0312983395': 2653, '0345441036': 2654, '0425192032': 2655, '0446611638': 2656, '0451208765': 2657, '0451210840': 2658, '0451210859': 2659, '0451210867': 2660, '0451210875': 2661, '0553582763': 2662, '0060913088': 2663, '0060924349': 2664, '0140058494': 2665, '0140512276': 2666, '0330280953': 2667, '0330344927': 2668, '0345260406': 2669, '0349104492': 2670, '0394589955': 2671, '0449212602': 2672, '0449911160': 2673, '0452264464': 2674, '0452269652': 2675, '0553282980': 2676, '0671755056': 2677, '0812967224': 2678, '0829811494': 2679, '1573227889': 2680, '1844261085': 2681, '1853752797': 2682, '3293200664': 2683, '3320013041': 2684, '3379016829': 2685, '3453172620': 2686, '3499100045': 2687, '3499102315': 2688, '3499126478': 2689, '3770153081': 2690, '3821805897': 2691, '3937793003': 2692, '089296751X': 2693, '671772465095': 2694, '1551663058': 2695, '0061031070': 2696, '0449005615': 2697, '0451205774': 2698, '0553381520': 2699, '345308201X': 2700, '3453171861': 2701, '3453198875': 2702, '0451167783': 2703, '0440217520': 2704, '074324523': 2705, '0743469984': 2706, '743411447': 2707, '185326086X': 2708, '0349112762': 2709, '0061031550': 2710, '0316117064': 2711, '0345377443': 2712, '0375760245': 2713, '0385491328': 2714, '0440235162': 2715, '0452279844': 2716, '0553213997': 2717, '0553298240': 2718, '0609806564': 2719, '0679416498': 2720, '0871137240': 2721, '0880016329': 2722, '0880482605': 2723, '0887307876': 2724, '0929634063': 2725, '1551660717': 2726, '1570515042': 2727, '1585360384': 2728, '0449005178': 2729, '0451206665': 2730, '0553576194': 2731, '0553583360': 2732, '0843950366': 2733, '881715010X': 2734, '0752847961': 2735, '0553211404': 2736, '0385502532': 2737, '0553272535': 2738, '3423125659': 2739, '0312171838': 2740, '0786889667': 2741, '0451524462': 2742, '076790592X': 2743, '0380709554': 2744, '0061097314': 2745, '0553278835': 2746, '0553262149': 2747, '0425173739': 2748, '0380778556': 2749, '0440802911': 2750, '0816741271': 2751, '0440995779': 2752, '0440407524': 2753, '0807083054': 2754, '0440967694': 2755, '0064406601': 2756, '0440228441': 2757, '0060812540': 2758, '0590684841': 2759, '0380750260': 2760, '0553210793': 2761, '0380717115': 2762, '055323370X': 2763, '0141310073': 2764, '0140345353': 2765, '0060915544': 2766, '0425173755': 2767, '0590931040': 2768, '0553210092': 2769, '0689843186': 2770, '0060931396': 2771, '0671522728': 2772, '0140118993': 2773, '0786811358': 2774, '0809015803': 2775, '0847817741': 2776, '014032724X': 2777, '0553274503': 2778, '014034893X': 2779, '0440343690': 2780, '0590554085': 2781, '1566194881': 2782, '0060953225': 2783, '0340556137': 2784, '552081256': 2785, '8496200752': 2786, '9723706148': 2787, '9728608225': 2788, '9728609187': 2789, '8845913104': 2790, '0684804212': 2791, '968419272X': 2792, '1410749029': 2793, '0395977894': 2794, '042518336X': 2795, '0553575538': 2796, '0767903579': 2797, '1551666022': 2798, '0373152604': 2799, '0373290101': 2800, '0380710056': 2801, '0450586235': 2802, '0451180240': 2803, '0451204492': 2804, '0505522004': 2805, '055357227X': 2806, '0671737643': 2807, '0671759361': 2808, '0743438035': 2809, '0747266999': 2810, '0843943289': 2811, '088396631': 2812, '088396631X': 2813, '1557734569': 2814, '3350071100': 2815, '3350071300': 2816, '804109729': 2817, '337903004X': 2818, '3404113888': 2819, '3404145356': 2820, '3423117710': 2821, '3438012022': 2822, '3442164435': 2823, '3442164516': 2824, '3442723159': 2825, '346203233X': 2826, '3499150425': 2827, '3518365797': 2828, '3518396129': 2829, '3746617332': 2830, '0380789019': 2831, '067976402X': 2832, '0786888091': 2833, '0151006903': 2834, '0060008024': 2835, '0060928336': 2836, '1558744606': 2837, '0064440044': 2838, '0064440214': 2839, '0140239820': 2840, '0330484338': 2841, '0394890485': 2842, '044651490X': 2843, '0446672211': 2844, '0446675059': 2845, '0525446044': 2846, '0525451331': 2847, '0525458417': 2848, '0563476095': 2849, '0671876295': 2850, '0679427430': 2851, '0698119517': 2852, '0803717377': 2853, '0894716174': 2854, '089480751X': 2855, '0962756245': 2856, '0440226430': 2857, '006019491X': 2858, '0743225805': 2859, '0896592413': 2860, '0399138250': 2861, '0452284937': 2862, '0060529709': 2863, '0060923245': 2864, '0345418018': 2865, '0451163966': 2866, '0452269571': 2867, '068482499X': 2868, '0766607216': 2869, '0451206460': 2870, '0394868161': 2871, '0394909674': 2872, '0439104645': 2873, '0345384377': 2874, '0373709730': 2875, '0380718146': 2876, '0446609943': 2877, '0451171071': 2878, '0553582917': 2879, '0553582925': 2880, '0812516842': 2881, '0812576063': 2882, '0812590236': 2883, '0961378492': 2884, '0061093947': 2885, '0226848639': 2886, '0375725784': 2887, '0385492081': 2888, '0446754552': 2889, '0553575104': 2890, '0684173182': 2891, '091988802X': 2892, '0060973323': 2893, '0140088946': 2894, '0374266441': 2895, '0374524653': 2896, '0375400117': 2897, '0375410287': 2898, '0380978210': 2899, '0385301499': 2900, '0385319401': 2901, '0385323638': 2902, '0385421982': 2903, '038542471X': 2904, '0385475713': 2905, '0394572068': 2906, '0395957737': 2907, '0446532231': 2908, '0446670251': 2909, '0449908186': 2910, '0553052446': 2911, '0553057014': 2912, '0553091999': 2913, '0670823198': 2914, '0670843105': 2915, '0670880728': 2916, '0679400540': 2917, '0679429220': 2918, '0679751602': 2919, '0679764925': 2920, '0679770151': 2921, '0684195984': 2922, '0684810476': 2923, '0688128734': 2924, '074751254X': 2925, '076791404x': 2926, '0767915062': 2927, '080211508x': 2928, '0804105820': 2929, '0805000585': 2930, '0811808424': 2931, '0812928318': 2932, '0892963883': 2933, '0892964650': 2934, '0937247065': 2935, '0937247502': 2936, '0945575750': 2937, '1573220310': 2938, '0373057636': 2939, '0373290608': 2940, '0373292341': 2941, '0373440421': 2942, '0380757311': 2943, '0380782782': 2944, '0425191001': 2945, '0440217628': 2946, '0446302538': 2947, '0446341150': 2948, '0449209148': 2949, '0451404645': 2950, '0451408373': 2951, '0451408659': 2952, '0505523035': 2953, '051511331X': 2954, '0515129968': 2955, '0553561537': 2956, '055357289X': 2957, '0804117586': 2958, '0821724479': 2959, '0821742167': 2960, '0843932430': 2961, '1551665522': 2962, '1557850003': 2963, '0399149244': 2964, '0590461249': 2965, '0142001821': 2966, '0316168815': 2967, '0316785261': 2968, '0345468694': 2969, '0452283205': 2970, '0452283868': 2971, '0553569074': 2972, '0684844826': 2973, '0684848406': 2974, '0684865742': 2975, '0743225325': 2976, '0743237188': 2977, '0142004278': 2978, '0380723573': 2979, '0425141233': 2980, '0451184734': 2981, '0451404777': 2982, '055328942X': 2983, '0743437802': 2984, '0006531156': 2985, '0312974256': 2986, '0312980353': 2987, '0312983301': 2988, '0312983824': 2989, '0375759689': 2990, '0380785218': 2991, '0425188787': 2992, '0446610550': 2993, '0451203771': 2994, '0451210611': 2995, '0515118249': 2996, '051512317X': 2997, '0515124214': 2998, '0515134384': 2999, '0515136263': 3000, '051513628X': 3001, '0515136379': 3002, '0515136530': 3003, '0515137111': 3004, '080505801X': 3005, '1865156035': 3006, '1869433637': 3007, '0803251246': 3008, '0140096922': 3009, '0312952716': 3010, '0375507876': 3011, '0425147517': 3012, '0446310492': 3013, '0465014909': 3014, '0500976147': 3015, '0500976236': 3016, '0970559100': 3017, '1888363576': 3018, '3822800740': 3019, '8085794551': 3020, '0446529788': 3021, '0553802542': 3022, '0684855631': 3023, '0688179088': 3024, '0743204697': 3025, '0767905385': 3026, '0864427654': 3027, '1551668904': 3028, '0002231115': 3029, '0002232766': 3030, '0028638670': 3031, '0099312107': 3032, '0224028685': 3033, '0380710846': 3034, '0446386405': 3035, '0451169530': 3036, '0771590113': 3037, '0863580424': 3038, '0886777631': 3039, '0307101711': 3040, '0020198906': 3041, '0062701649': 3042, '0312312873': 3043, '0316789089': 3044, '0345353145': 3045, '0345354613': 3046, '0345378482': 3047, '0345378490': 3048, '0345380371': 3049, '0345402871': 3050, '034540288X': 3051, '0345417623': 3052, '0374190666': 3053, '038097584X': 3054, '0395900239': 3055, '0399141464': 3056, '0399145087': 3057, '0425174808': 3058, '0425176932': 3059, '0425182673': 3060, '0425190919': 3061, '0440164842': 3062, '0446392251': 3063, '0446526126': 3064, '044840124X': 3065, '0486285537': 3066, '0517705869': 3067, '0525462325': 3068, '0671240862': 3069, '0679433740': 3070, '0679445048': 3071, '0679457526': 3072, '0684808943': 3073, '0684874350': 3074, '0688151981': 3075, '0688170412': 3076, '0743204735': 3077, '0761107363': 3078, '0785263950': 3079, '0786867434': 3080, '0786881852': 3081, '0937921556': 3082, '096665370X': 3083, '1573221112': 3084, '1888387408': 3085, '0446527785': 3086, '0440216818': 3087, '0385503008': 3088, '0896083535': 3089, '0312964919': 3090, '0373240007': 3091, '0373264089': 3092, '0373264119': 3093, '0380718669': 3094, '0394749170': 3095, '0425147711': 3096, '042516408X': 3097, '0425172600': 3098, '0446401064': 3099, '0449000346': 3100, '0449007200': 3101, '0451206274': 3102, '0517478595': 3103, '0553283960': 3104, '0671535153': 3105, '0743420373': 3106, '0786706503': 3107, '0812561864': 3108, '1853260282': 3109, '0345384369': 3110, '0345386108': 3111, '0345407288': 3112, '0425153975': 3113, '0425194736': 3114, '0440206154': 3115, '0441860532': 3116, '0446603589': 3117, '0446611778': 3118, '0515087491': 3119, '0515101486': 3120, '0515104175': 3121, '0515123293': 3122, '0553203630': 3123, '0786004797': 3124, '0804115699': 3125, '0875962564': 3126, '1593080549': 3127, '1593081017': 3128, '780451162182': 3129, '780451524201': 3130, '157174259X': 3131, '1558745157': 3132, '0486280500': 3133, '0855642440': 3134, '0553811851': 3135, '0002240114': 3136, '0679440526': 3137, '0771074549': 3138, '0394529197': 3139, '0312958455': 3140, '0345314980': 3141, '0345377370': 3142, '0345384733': 3143, '0394484347': 3144, '0425046656': 3145, '0425105113': 3146, '0440155029': 3147, '044651652X': 3148, '044651747X': 3149, '0451124340': 3150, '0515123447': 3151, '0553202189': 3152, '0671672878': 3153, '0684846675': 3154, '0880703156': 3155, '0895294834': 3156, '0937382000': 3157, '0868245739': 3158, '034543479X': 3159, '0374480095': 3160, '0446364495': 3161, '0804115761': 3162, '0821766570': 3163, '1551669110': 3164, '0142001848': 3165, '0441892604': 3166, '0061056200': 3167, '006251279X': 3168, '0099908506': 3169, '0140134212': 3170, '0140433139': 3171, '9025414532': 3172, '9027472718': 3173, '9041330984': 3174, '905501558X': 3175, '9057133008': 3176, '9057210534': 3177, '0575073047': 3178, '0394281829': 3179, '0771087004': 3180, '0878571140': 3181, '0930345037': 3182, '093393114X': 3183, '0060196300': 3184, '0671002384': 3185, '0671002406': 3186, '0671004247': 3187, '0671006754': 3188, '0743203631': 3189, '0192717529': 3190, '0671755145': 3191, '0440439884': 3192, '0449003795': 3193, '1558747281': 3194, '0375757597': 3195, '0743203178': 3196, '0060008350': 3197, '0060572965': 3198, '0061020028': 3199, '0061031410': 3200, '0061059900': 3201, '0061094129': 3202, '0312983433': 3203, '0345440064': 3204, '0345545571': 3205, '0380820889': 3206, '0385333676': 3207, '038533558X': 3208, '0385336667': 3209, '0399142649': 3210, '0399147364': 3211, '0440221048': 3212, '0446527041': 3213, '0446527912': 3214, '0446531588': 3215, '0446610607': 3216, '0446611379': 3217, '0446612510': 3218, '0449227545': 3219, '0451179153': 3220, '0451179897': 3221, '0451188950': 3222, '0451202473': 3223, '0451204301': 3224, '0451206525': 3225, '0515125490': 3226, '0515129038': 3227, '0515130389': 3228, '0515135968': 3229, '0553582364': 3230, '0671013939': 3231, '0671658301': 3232, '0671891537': 3233, '0684810387': 3234, '068815333X': 3235, '0743417836': 3236, '0786866195': 3237, '0786889845': 3238, '0805060251': 3239, '0812528042': 3240, '0812575911': 3241, '1551664976': 3242, '1551667517': 3243, '1551669609': 3244, '1551669625': 3245, '7099300799': 3246, '7100100699': 3247, '7100100750': 3248, '7678300699': 3249, '780446525800': 3250, '0805044272': 3251, '0875847706': 3252, '1857235460': 3253, '3442724937': 3254, '0061092800': 3255, '006109428': 3256, '0312878737': 3257, '0312971362': 3258, '0345441133': 3259, '0446516864': 3260, '0451204948': 3261, '0525942998': 3262, '0553564528': 3263, '0684834154': 3264, '0060501804': 3265, '0099245027': 3266, '0752837168': 3267, '1842322753': 3268, '8804520612': 3269, '880452431': 3270, '8817113204': 3271, '881712530X': 3272, '8817672963': 3273, '8817862827': 3274, '8821705714': 3275, '8830414824': 3276, '8838431345': 3277, '8844011611': 3278, '8845907341': 3279, '8855203292': 3280, '8877822171': 3281, '8885008836': 3282, '88O6166255': 3283, '0812571991': 3284, '0553813021': 3285, '0590975986': 3286, '0452281253': 3287, '0060172703': 3288, '0091881048': 3289, '0099565404': 3290, '0283073381': 3291, '0340765429': 3292, '0553812696': 3293, '0712623930': 3294, '0725107251': 3295, '0747277567': 3296, '0751519782': 3297, '0953771407': 3298, '1853064408': 3299, '1882663128': 3300, '0062737465': 3301, '0099244527': 3302, '0201354705': 3303, '0312246501': 3304, '044900371X': 3305, '0440413737': 3306, '0374270325': 3307, '0425076695': 3308, '0553802135': 3309, '0892966548': 3310, '8440657285': 3311, '0761128093': 3312, '0553210416': 3313, '8804484101': 3314, '0307126293': 3315, '0312980191': 3316, '0345423348': 3317, '0425144062': 3318, '0451160916': 3319, '0671876864': 3320, '0812549287': 3321, '0804111359': 3322, '0140244824': 3323, '0375702709': 3324, '0446605239': 3325, '0671870998': 3326, '0375412123': 3327, '0670032107': 3328, '0743431014': 3329, '1573220876': 3330, '0312924801': 3331, '0385472951': 3332, '0440236665': 3333, '0515118230': 3334, '0375713042': 3335, '0393320073': 3336, '044661162X': 3337, '0684848961': 3338, '0515130125': 3339, '0375727345': 3340, '8420738093': 3341, '8804491523': 3342, '887926396X': 3343, '0060958022': 3344, '0060002492': 3345, '0060808128': 3346, '0061013145': 3347, '0061057894': 3348, '0064409945': 3349, '0140067647': 3350, '0140350144': 3351, '0152413642': 3352, '0310239826': 3353, '0312088027': 3354, '0312951639': 3355, '0330282565': 3356, '0345257596': 3357, '0345273680': 3358, '0345274695': 3359, '0345288823': 3360, '0345331044': 3361, '0345337662': 3362, '0345347951': 3363, '0373032706': 3364, '0373035535': 3365, '0373078102': 3366, '0373079001': 3367, '0373089074': 3368, '037308918X': 3369, '037308935X': 3370, '0373089376': 3371, '0373115377': 3372, '0373115431': 3373, '0373153260': 3374, '0373194978': 3375, '0373260539': 3376, '0373702787': 3377, '0373708300': 3378, '0373832958': 3379, '0374475067': 3380, '0380429780': 3381, '0380561840': 3382, '0380708655': 3383, '0380885344': 3384, '038097570X': 3385, '0396067425': 3386, '0425036294': 3387, '0425065553': 3388, '0425162400': 3389, '0425189082': 3390, '0425194876': 3391, '043906628X': 3392, '0440111188': 3393, '0440200989': 3394, '0440224772': 3395, '0440235596': 3396, '0440840805': 3397, '0440844444': 3398, '0440940001': 3399, '0440949777': 3400, '0440983568': 3401, '0441001815': 3402, '0441094880': 3403, '0446360511': 3404, '0446527793': 3405, '0446606812': 3406, '0449209830': 3407, '0449700712': 3408, '0449702634': 3409, '0451172310': 3410, '0451451155': 3411, '0515094978': 3412, '0525442766': 3413, '055325698X': 3414, '055328553X': 3415, '0553287532': 3416, '0553562398': 3417, '0590332058': 3418, '0590434160': 3419, '059048611X': 3420, '0664326862': 3421, '0664326935': 3422, '0670894508': 3423, '0671434225': 3424, '0671508369': 3425, '0671525808': 3426, '0671553046': 3427, '0671568175': 3428, '0671612689': 3429, '0671673688': 3430, '0671677128': 3431, '0671701231': 3432, '0671745093': 3433, '0671745107': 3434, '0671786040': 3435, '0671820648': 3436, '0671867091': 3437, '0802400086': 3438, '0804112126': 3439, '0812533518': 3440, '0812566378': 3441, '0825428688': 3442, '0842339337': 3443, '0842354220': 3444, '0877887780': 3445, '0879050470': 3446, '088419597X': 3447, '0886775558': 3448, '0895774011': 3449, '0899669492': 3450, '0935908463': 3451, '1556611536': 3452, '1556616686': 3453, '1558745017': 3454, '1565999916': 3455, '1576730360': 3456, '1576739562': 3457, '1577311000': 3458, '1582293031': 3459, '1892086034': 3460, '373219350': 3461, '373219377': 3462, '373219407': 3463, '373219415': 3464, '37321944X': 3465, '373219458': 3466, '671755609': 3467, '325722575X': 3468, '0590939882': 3469, '0060148934': 3470, '0060176075': 3471, '0060191872': 3472, '0060195703': 3473, '0061093572': 3474, '006440174X': 3475, '0310252172': 3476, '0316693235': 3477, '0345374568': 3478, '0373023359': 3479, '0373217307': 3480, '0373243286': 3481, '0380798565': 3482, '0380798581': 3483, '0380817152': 3484, '0385489129': 3485, '0385490445': 3486, '0399139087': 3487, '039914465X': 3488, '0399146253': 3489, '0399146725': 3490, '0399147365': 3491, '039914739X': 3492, '0399149759': 3493, '0399150803': 3494, '0399150897': 3495, '0399151443': 3496, '0425097722': 3497, '0425147584': 3498, '0425179265': 3499, '044022103X': 3500, '0446360317': 3501, '0446517984': 3502, '0446523321': 3503, '0446525774': 3504, '0446525804': 3505, '0446613266': 3506, '0486299422': 3507, '051511779X': 3508, '0517577550': 3509, '0553052152': 3510, '0553106333': 3511, '0553378767': 3512, '0553580906': 3513, '0553801929': 3514, '067087907X': 3515, '0670896764': 3516, '0671015206': 3517, '0671023209': 3518, '0671025333': 3519, '0671040588': 3520, '0679404864': 3521, '0679450424': 3522, '0679450432': 3523, '0679450440': 3524, '0679459596': 3525, '068484477X': 3526, '0688046606': 3527, '0765341174': 3528, '076534128X': 3529, '0767913795': 3530, '0786861541': 3531, '0804107602': 3532, '0842332367': 3533, '087131763X': 3534, '0966784820': 3535, '140003180X': 3536, '1551666839': 3537, '1573220280': 3538, '1573229075': 3539, '1881334406': 3540, '0671010123': 3541, '0439097002': 3542, '0446612545': 3543, '1551664194': 3544, '0330241117': 3545, '006107635X': 3546, '0743427033': 3547, '0451524934': 3548, '0385318073': 3549, '044022425X': 3550, '0312870582': 3551, '0671227718': 3552, '0140620885': 3553, '0747530386': 3554, '0749395699': 3555, '0380817144': 3556, '0374527075': 3557, '0440324386': 3558, '0425174360': 3559, '0060198346': 3560, '0142000205': 3561, '0671038230': 3562, '0061030643': 3563, '006440630X': 3564, '0140345809': 3565, '014037423X': 3566, '0140386742': 3567, '0156005891': 3568, '0195204891': 3569, '0312969759': 3570, '0312978367': 3571, '0312979479': 3572, '0316171565': 3573, '0316693294': 3574, '0345296532': 3575, '0345309049': 3576, '0345310926': 3577, '0345331737': 3578, '0345354729': 3579, '0345366204': 3580, '0345439104': 3581, '0373169736': 3582, '0373169744': 3583, '037316985X': 3584, '0373169868': 3585, '0373169876': 3586, '0373169884': 3587, '0373218192': 3588, '0373223218': 3589, '0373255985': 3590, '0373262183': 3591, '0373272898': 3592, '037327291X': 3593, '0373272995': 3594, '0373290861': 3595, '0373441754': 3596, '0373441762': 3597, '0373441851': 3598, '037344186X': 3599, '0373451563': 3600, '0373484003': 3601, '0373711263': 3602, '0373711328': 3603, '0373762380': 3604, '0380006456': 3605, '0380699966': 3606, '0380701006': 3607, '0380705257': 3608, '0380772469': 3609, '0380818760': 3610, '038082082X': 3611, '039308647X': 3612, '0394801962': 3613, '0394831993': 3614, '0425044602': 3615, '042510107X': 3616, '0425115291': 3617, '0425120430': 3618, '0425142078': 3619, '0425144917': 3620, '0425147738': 3621, '0425174638': 3622, '0425180964': 3623, '0425182142': 3624, '042518904X': 3625, '0440122090': 3626, '0440200946': 3627, '0440209285': 3628, '0440223571': 3629, '0440237300': 3630, '0440426766': 3631, '0440457165': 3632, '0440457610': 3633, '0441659489': 3634, '0441783317': 3635, '0446327638': 3636, '0446354732': 3637, '0446611867': 3638, '0449000613': 3639, '0449002357': 3640, '0449208672': 3641, '0449704408': 3642, '0451082982': 3643, '0451180348': 3644, '0505524678': 3645, '0515084166': 3646, '0515106402': 3647, '0515110973': 3648, '0515124621': 3649, '0515130648': 3650, '0515134368': 3651, '0517007215': 3652, '0523423241': 3653, '0553115510': 3654, '0553229354': 3655, '0553241141': 3656, '055324535X': 3657, '0553252712': 3658, '0553278746': 3659, '0553560700': 3660, '0553569031': 3661, '0553574477': 3662, '0553583298': 3663, '0590407945': 3664, '0590424939': 3665, '0590424955': 3666, '0590424971': 3667, '059042498X': 3668, '0590425013': 3669, '059042503X': 3670, '0590425080': 3671, '0590433474': 3672, '0590433857': 3673, '0590433865': 3674, '0590435108': 3675, '0590436414': 3676, '0590436597': 3677, '0590437186': 3678, '0590437216': 3679, '0590437224': 3680, '0590437364': 3681, '0590439006': 3682, '0590440829': 3683, '0590448331': 3684, '0590449672': 3685, '0590456490': 3686, '0590477560': 3687, '0590523562': 3688, '0670877514': 3689, '0671523074': 3690, '067152500X': 3691, '0671556835': 3692, '0671619683': 3693, '0671639455': 3694, '0671644459': 3695, '0671644475': 3696, '0671664107': 3697, '067167630X': 3698, '0671679155': 3699, '0671727583': 3700, '0671728024': 3701, '0671739743': 3702, '0679833749': 3703, '0689800975': 3704, '0696011204': 3705, '0743403452': 3706, '0743410181': 3707, '0778320022': 3708, '0778320049': 3709, '0778320065': 3710, '0778320286': 3711, '0786000325': 3712, '0801968275': 3713, '0802768164': 3714, '0804104999': 3715, '0804107432': 3716, '0804107513': 3717, '0812508572': 3718, '0821711334': 3719, '0821714600': 3720, '0821715402': 3721, '0821717138': 3722, '0821717146': 3723, '0821728555': 3724, '0821750208': 3725, '0821774638': 3726, '082177574X': 3727, '0842378057': 3728, '0883013231': 3729, '089872211X': 3730, '0913300314': 3731, '1551660679': 3732, '1551661586': 3733, '1551664305': 3734, '1551664992': 3735, '1551665220': 3736, '1551665344': 3737, '1551666960': 3738, '1551667487': 3739, '1551668181': 3740, '1551668300': 3741, '1551669293': 3742, '1557485534': 3743, '1561446807': 3744, '3551553068': 3745, '0020532105': 3746, '0060926317': 3747, '0060958014': 3748, '0140280553': 3749, '0156007819': 3750, '0156011042': 3751, '0345423135': 3752, '0373218036': 3753, '0375705619': 3754, '0380729865': 3755, '0385319207': 3756, '0385334923': 3757, '0385494246': 3758, '0385498802': 3759, '0425152251': 3760, '0440212723': 3761, '0451209907': 3762, '0671789422': 3763, '0688177859': 3764, '0743463390': 3765, '0802139256': 3766, '1585421073': 3767, '0553574671': 3768, '0849937531': 3769, '0684841215': 3770, '0553268937': 3771, '014025448X': 3772, '0312252617': 3773, '0316102121': 3774, '0380804883': 3775, '0385316925': 3776, '0385319568': 3777, '0385324057': 3778, '0385334710': 3779, '0385497466': 3780, '0399145060': 3781, '0399148019': 3782, '0446527017': 3783, '0446527130': 3784, '0446527165': 3785, '0553104039': 3786, '0553104047': 3787, '0553104136': 3788, '0671510126': 3789, '0671786458': 3790, '0684835959': 3791, '068815090X': 3792, '0743206029': 3793, '0743412761': 3794, '1401030270': 3795, '0875421202': 3796, '8420634158': 3797, '0766607615': 3798, '0425191028': 3799, '0060168862': 3800, '014011291X': 3801, '0345392698': 3802, '0452267455': 3803, '0688170528': 3804, '0060173769': 3805, '0883680661': 3806, '0060550392': 3807, '006093090X': 3808, '0060977493': 3809, '0061050261': 3810, '0140039589': 3811, '014016779X': 3812, '014017513X': 3813, '0224060198': 3814, '0349101779': 3815, '0446672661': 3816, '0863695930': 3817, '0943151163': 3818, '1865080012': 3819, '0553290991': 3820, '0316031038': 3821, '0316031046': 3822, '0316031054': 3823, '0316779032': 3824, '0316779075': 3825, '0375411550': 3826, '0440216745': 3827, '0446613436': 3828, '0553584510': 3829, '0671027123': 3830, '0671027441': 3831, '0671039385': 3832, '0722535562': 3833, '074341702X': 3834, '0743460529': 3835, '0770429378': 3836, '0785275479': 3837, '078601525X': 3838, '0786889209': 3839, '0840776381': 3840, '084990630X': 3841, '0871236447': 3842, '0871237954': 3843, '0874776929': 3844, '0962670472': 3845, '1552783081': 3846, '1556611188': 3847, '1556612257': 3848, '155661246X': 3849, '1576738469': 3850, '157856137X': 3851, '1578561388': 3852, '1582341338': 3853, '1589196635': 3854, '1840386762': 3855, '1889613010': 3856, '051512298X': 3857, '0446604666': 3858, '0099800403': 3859, '8466302042': 3860, '8477272204': 3861, '7810461850': 3862, '0156711427': 3863, '0800714083': 3864, '3423205903': 3865, '0618129030': 3866, '080506723X': 3867, '3257009100': 3868, '3453092880': 3869, '3492004717': 3870, '3492028969': 3871, '3492105939': 3872, '3905414066': 3873, '0441001947': 3874, '0345455916': 3875, '1565611489': 3876, '0061093327': 3877, '0062720732': 3878, '0066211115': 3879, '0316926078': 3880, '0440241162': 3881, '0440508320': 3882, '0515114006': 3883, '0897333659': 3884, '1878424319': 3885, '0060194596': 3886, '0060974788': 3887, '039592720X': 3888, '0449912302': 3889, '0451153553': 3890, '0880299428': 3891, '0451163494': 3892, '0671035347': 3893, '0689821085': 3894, '8466303316': 3895, '0679435549': 3896, '0439544114': 3897, '067988288X': 3898, '0590553232': 3899, '1567184693': 3900, '3442444365': 3901, '0743418719': 3902, '0345447832': 3903, '2070495027': 3904, '0375410848': 3905, '0968467504': 3906, '1881955230': 3907, '0432534220': 3908, '0316309419': 3909, '084226244270': 3910, '0060165979': 3911, '006091291X': 3912, '0140309578': 3913, '0385319959': 3914, '0393046990': 3915, '0399146431': 3916, '0425181618': 3917, '0679445315': 3918, '0688180191': 3919, '0691017840': 3920, '0743224574': 3921, '1573221775': 3922, '0373702736': 3923, '1551667525': 3924, '0312202911': 3925, '0898861411': 3926, '9029001291': 3927, '0804900205': 3928, '0312275420': 3929, '031285627X': 3930, '0316211389': 3931, '0425184226': 3932, '0671864173': 3933, '0679308113': 3934, '0732258049': 3935, '0771099894': 3936, '0786889020': 3937, '0786889322': 3938, '0861242491': 3939, '0061099813': 3940, '0060198400': 3941, '0140444173': 3942, '0312009941': 3943, '0312205155': 3944, '0345425286': 3945, '0394484479': 3946, '0425185001': 3947, '0446600261': 3948, '051513287X': 3949, '0671637525': 3950, '0684800713': 3951, '0684867745': 3952, '1583226443': 3953, '1577780728': 3954, '193059609X': 3955, '0025173251': 3956, '0028620585': 3957, '0028629299': 3958, '0060111011': 3959, '0060163704': 3960, '0060551895': 3961, '006091646X': 3962, '0062502123': 3963, '0140167153': 3964, '0140298533': 3965, '0141310944': 3966, '0156612062': 3967, '0192828630': 3968, '0312265859': 3969, '0312965338': 3970, '0375504044': 3971, '0385266359': 3972, '0394580567': 3973, '0439139600': 3974, '0440057574': 3975, '0446378445': 3976, '0446517097': 3977, '0446977551': 3978, '0517060205': 3979, '0525246606': 3980, '0671016768': 3981, '067165764X': 3982, '0688041140': 3983, '0688111289': 3984, '0761522212': 3985, '0762721979': 3986, '0786868414': 3987, '0802100155': 3988, '0814450598': 3989, '0842304673': 3990, '0874843936': 3991, '087795979X': 3992, '0884270610': 3993, '1567310028': 3994, '1853263214': 3995, '0064407462': 3996, '0878332170': 3997, '0312957866': 3998, '0671868691': 3999, '0816730091': 4000, '0380729342': 4001, '0399505032': 4002, '0446518107': 4003, '1559722630': 4004, '0060530103': 4005, '0425147231': 4006, '0471214205': 4007, '0786886323': 4008, '0752826883': 4009, '0375409440': 4010, '0380730847': 4011, '0385313667': 4012, '0399147195': 4013, '0425182908': 4014, '0446531480': 4015, '044661257X': 4016, '0553569058': 4017, '0679742298': 4018, '0684814196': 4019, '0688152449': 4020, '0679732705': 4021, '1853260339': 4022, '0732257476': 4023, '0553286218': 4024, '3426600218': 4025, '8879831607': 4026, '0345425707': 4027, '0446608831': 4028, '0446610542': 4029, '155166898X': 4030, '1551669021': 4031, '0679308806': 4032, '0006128831': 4033, '0006542808': 4034, '0020209606': 4035, '0020418809': 4036, '0020420900': 4037, '002043300X': 4038, '0020435207': 4039, '0020442203': 4040, '0020442408': 4041, '0020518307': 4042, '0027058573': 4043, '0027081605': 4044, '0027381412': 4045, '0027478459': 4046, '0027744116': 4047, '0027746550': 4048, '0027811700': 4049, '0030045592': 4050, '0030180961': 4051, '003021436X': 4052, '0030214416': 4053, '0030285860': 4054, '0039217299': 4055, '0051312569': 4056, '0060094397': 4057, '006015957X': 4058, '006016848X': 4059, '0060169087': 4060, '0060175532': 4061, '0060176555': 4062, '0060186534': 4063, '0060187247': 4064, '0060192895': 4065, '0060195460': 4066, '0060196084': 4067, '0060201762': 4068, '006020883X': 4069, '0060224835': 4070, '0060235322': 4071, '0060236744': 4072, '0060238003': 4073, '0060238372': 4074, '0060241020': 4075, '0060242019': 4076, '0060244240': 4077, '0060253622': 4078, '0060257342': 4079, '0060269855': 4080, '0060392185': 4081, '0060392436': 4082, '0060801115': 4083, '0060806982': 4084, '0060807199': 4085, '0060915153': 4086, '0060920386': 4087, '0060927542': 4088, '0060937688': 4089, '0060972297': 4090, '0060972335': 4091, '0060974435': 4092, '006098418X': 4093, '0060995084': 4094, '0061004499': 4095, '0061008516': 4096, '0061008753': 4097, '0061020192': 4098, '0061020273': 4099, '0061032042': 4100, '0061040797': 4101, '0061041300': 4102, '0061043958': 4103, '0061043990': 4104, '0061051128': 4105, '0061052477': 4106, '0061053473': 4107, '0061056219': 4108, '0061056928': 4109, '0061059897': 4110, '0061061441': 4111, '0061062820': 4112, '0061062995': 4113, '0061064475': 4114, '0061065404': 4115, '0061065579': 4116, '0061065854': 4117, '0061065870': 4118, '0061071285': 4119, '006107408X': 4120, '0061076031': 4121, '0061080489': 4122, '0061080535': 4123, '0061082260': 4124, '0061083097': 4125, '0061090808': 4126, '0061091464': 4127, '0061091790': 4128, '0061092827': 4129, '0061093343': 4130, '0061093653': 4131, '006109398X': 4132, '0061094110': 4133, '0061095869': 4134, '0061097233': 4135, '0061099015': 4136, '006109921X': 4137, '0061099279': 4138, '0062514113': 4139, '0062731769': 4140, '0062733036': 4141, '0064400018': 4142, '0064400425': 4143, '0064400581': 4144, '0064401308': 4145, '0064401324': 4146, '0064401367': 4147, '0064401774': 4148, '0064401987': 4149, '0064402215': 4150, '0064406210': 4151, '0064406229': 4152, '0064406431': 4153, '0064407055': 4154, '0064420744': 4155, '0064430170': 4156, '0064430200': 4157, '0064440168': 4158, '0064440303': 4159, '0064440648': 4160, '006444144X': 4161, '0064443094': 4162, '0064450872': 4163, '0064470059': 4164, '0064471047': 4165, '0064471136': 4166, '0066211611': 4167, '0070093431': 4168, '0070145121': 4169, '0070311234': 4170, '0070477825': 4171, '0070535795': 4172, '0070676836': 4173, '0070686963': 4174, '0072118547': 4175, '0075547953': 4176, '0078823498': 4177, '0078823579': 4178, '0079136710': 4179, '0131798219': 4180, '0133273393': 4181, '0135527465': 4182, '0136643345': 4183, '0137691344': 4184, '0138242771': 4185, '0140011730': 4186, '0140047395': 4187, '0140065172': 4188, '0140080805': 4189, '0140080813': 4190, '0140089756': 4191, '0140093818': 4192, '0140116524': 4193, '0140141081': 4194, '0140177396': 4195, '0140184953': 4196, '0140274782': 4197, '0140303642': 4198, '0140312587': 4199, '0140314202': 4200, '0140320385': 4201, '0140328718': 4202, '0140329412': 4203, '0140329692': 4204, '0140341684': 4205, '014034294X': 4206, '0140344438': 4207, '0140350039': 4208, '0140350543': 4209, '0140361219': 4210, '014036336X': 4211, '0140366679': 4212, '0140367209': 4213, '0140375562': 4214, '0140376577': 4215, '0140389652': 4216, '0140390634': 4217, '0140463704': 4218, '0140491503': 4219, '0140501711': 4220, '0140502068': 4221, '0140502408': 4222, '0140503528': 4223, '0140505067': 4224, '0140546499': 4225, '0140548408': 4226, '0140548521': 4227, '0140553053': 4228, '014058661X': 4229, '0140707018': 4230, '0141307129': 4231, '0146000579': 4232, '0146000706': 4233, '0146000900': 4234, '0146000994': 4235, '0146001109': 4236, '0146001184': 4237, '0151238162': 4238, '0151306400': 4239, '0151310750': 4240, '0151544964': 4241, '0151594805': 4242, '0151730857': 4243, '0151879788': 4244, '0152006044': 4245, '0152013725': 4246, '0152018638': 4247, '0152234985': 4248, '0152268332': 4249, '0152339000': 4250, '0152423885': 4251, '0152986103': 4252, '015299646X': 4253, '0153472804': 4254, '015540475X': 4255, '0156423502': 4256, '0156528207': 4257, '015679201X': 4258, '0192816071': 4259, '0192833898': 4260, '0200717294': 4261, '0201054027': 4262, '0201432986': 4263, '0246134984': 4264, '025602670X': 4265, '0256093601': 4266, '0256106525': 4267, '0256124531': 4268, '0256169179': 4269, '0263739848': 4270, '0300028172': 4271, '0307000699': 4272, '0307000826': 4273, '0307000966': 4274, '0307000974': 4275, '0307001008': 4276, '0307001067': 4277, '0307001091': 4278, '0307001105': 4279, '0307001113': 4280, '030700113X': 4281, '0307001164': 4282, '0307001202': 4283, '0307001237': 4284, '0307001245': 4285, '0307001296': 4286, '0307001385': 4287, '0307001458': 4288, '0307002047': 4289, '0307002144': 4290, '0307003264': 4291, '0307004589': 4292, '0307006441': 4293, '0307010007': 4294, '0307010015': 4295, '0307010082': 4296, '0307010201': 4297, '030701021X': 4298, '030701035X': 4299, '0307010368': 4300, '0307010376': 4301, '0307010449': 4302, '0307010945': 4303, '0307010953': 4304, '0307011003': 4305, '0307020010': 4306, '030702005X': 4307, '0307020193': 4308, '0307020223': 4309, '0307020231': 4310, '0307020258': 4311, '0307020339': 4312, '0307020355': 4313, '0307020363': 4314, '0307020398': 4315, '0307020460': 4316, '0307020495': 4317, '030702055X': 4318, '0307020584': 4319, '0307020649': 4320, '0307020711': 4321, '0307020770': 4322, '0307020827': 4323, '0307021017': 4324, '0307021076': 4325, '0307021106': 4326, '030702119X': 4327, '030702122X': 4328, '0307021343': 4329, '0307021394': 4330, '0307021548': 4331, '0307021572': 4332, '0307021653': 4333, '0307021688': 4334, '0307021696': 4335, '0307021718': 4336, '0307021726': 4337, '0307021750': 4338, '0307021769': 4339, '0307021777': 4340, '0307021785': 4341, '0307021858': 4342, '0307022196': 4343, '0307022390': 4344, '0307030016': 4345, '0307030458': 4346, '0307030504': 4347, '0307030601': 4348, '0307030709': 4349, '0307030768': 4350, '0307030806': 4351, '0307030849': 4352, '0307039161': 4353, '0307039463': 4354, '0307045242': 4355, '0307045501': 4356, '0307045927': 4357, '0307045935': 4358, '030704601X': 4359, '0307046028': 4360, '0307046117': 4361, '0307060330': 4362, '0307060624': 4363, '0307060845': 4364, '0307061086': 4365, '030707000X': 4366, '0307070190': 4367, '0307070387': 4368, '0307070468': 4369, '0307070484': 4370, '0307070565': 4371, '0307070573': 4372, '0307071014': 4373, '0307076032': 4374, '0307100022': 4375, '0307100111': 4376, '0307100189': 4377, '0307100278': 4378, '0307100324': 4379, '0307100359': 4380, '0307100456': 4381, '0307100464': 4382, '0307100553': 4383, '0307100561': 4384, '030710057X': 4385, '0307100626': 4386, '0307100707': 4387, '0307100723': 4388, '0307100782': 4389, '0307100790': 4390, '0307100812': 4391, '0307100863': 4392, '0307100899': 4393, '0307100928': 4394, '0307100936': 4395, '0307101002': 4396, '0307101088': 4397, '0307101134': 4398, '0307101177': 4399, '0307101231': 4400, '030710124X': 4401, '0307101258': 4402, '0307101274': 4403, '0307101320': 4404, '0307101363': 4405, '030710138X': 4406, '0307101398': 4407, '0307101401': 4408, '0307101452': 4409, '0307101479': 4410, '0307101541': 4411, '0307101622': 4412, '0307101630': 4413, '0307101649': 4414, '0307101657': 4415, '0307101703': 4416, '0307101746': 4417, '0307101762': 4418, '0307102491': 4419, '030710253X': 4420, '0307102602': 4421, '0307102793': 4422, '0307102823': 4423, '0307103781': 4424, '0307104605': 4425, '0307105520': 4426, '0307105539': 4427, '0307105563': 4428, '0307105571': 4429, '0307105598': 4430, '030710561X': 4431, '0307109003': 4432, '0307109089': 4433, '0307109100': 4434, '0307109275': 4435, '0307109905': 4436, '0307111326': 4437, '0307111822': 4438, '0307113221': 4439, '0307113248': 4440, '0307114104': 4441, '030711466X': 4442, '0307114686': 4443, '0307114724': 4444, '0307115232': 4445, '0307115356': 4446, '0307115399': 4447, '0307115410': 4448, '0307115534': 4449, '0307115852': 4450, '0307116166': 4451, '0307116573': 4452, '0307116581': 4453, '0307116662': 4454, '0307116824': 4455, '0307117111': 4456, '0307117138': 4457, '0307117146': 4458, '0307117235': 4459, '0307117316': 4460, '0307117332': 4461, '0307117383': 4462, '0307117472': 4463, '030711807X': 4464, '0307118312': 4465, '0307118398': 4466, '0307118401': 4467, '0307118649': 4468, '030711869X': 4469, '0307118703': 4470, '030711886X': 4471, '0307118886': 4472, '0307118975': 4473, '0307119262': 4474, '0307119483': 4475, '0307119599': 4476, '0307119610': 4477, '0307119696': 4478, '0307119783': 4479, '0307120112': 4480, '0307120147': 4481, '0307120155': 4482, '0307120236': 4483, '0307121259': 4484, '0307122689': 4485, '0307122999': 4486, '0307123456': 4487, '0307123464': 4488, '030712391X': 4489, '0307123952': 4490, '0307125165': 4491, '0307125289': 4492, '0307125556': 4493, '0307125653': 4494, '0307125890': 4495, '0307126455': 4496, '0307126927': 4497, '0307127346': 4498, '0307127907': 4499, '0307128067': 4500, '0307128237': 4501, '0307128407': 4502, '0307128431': 4503, '030712844X': 4504, '0307128466': 4505, '0307128474': 4506, '0307128571': 4507, '0307128814': 4508, '0307128849': 4509, '0307128954': 4510, '0307129047': 4511, '030712908X': 4512, '0307129160': 4513, '0307129322': 4514, '0307129403': 4515, '0307129438': 4516, '0307129659': 4517, '0307131106': 4518, '0307131556': 4519, '030713184X': 4520, '0307131947': 4521, '0307132552': 4522, '0307133168': 4523, '0307133281': 4524, '0307139794': 4525, '0307155757': 4526, '0307158535': 4527, '030716232X': 4528, '0307166503': 4529, '0307166813': 4530, '0307174530': 4531, '0307177009': 4532, '0307177106': 4533, '0307177181': 4534, '030717719X': 4535, '030720006X': 4536, '0307200116': 4537, '0307204022': 4538, '0307222071': 4539, '030723102X': 4540, '0307231038': 4541, '0307231100': 4542, '0307247155': 4543, '0307290026': 4544, '0307290050': 4545, '0307301052': 4546, '030730115X': 4547, '0307301192': 4548, '0307301206': 4549, '0307301257': 4550, '0307301281': 4551, '0307301303': 4552, '0307301451': 4553, '0307302202': 4554, '0307302822': 4555, '0307302970': 4556, '0307302997': 4557, '0307411931': 4558, '030741194X': 4559, '0307420272': 4560, '0307485307': 4561, '0307580229': 4562, '0307581187': 4563, '0307581365': 4564, '0307581438': 4565, '0307592251': 4566, '0307592618': 4567, '0307617203': 4568, '0307681033': 4569, '0307681300': 4570, '0307681408': 4571, '0307681564': 4572, '030768931X': 4573, '030768962X': 4574, '0307719723': 4575, '0307740145': 4576, '030774020X': 4577, '0307740242': 4578, '0307740250': 4579, '0307740439': 4580, '0307743071': 4581, '0307747107': 4582, '0307748073': 4583, '030774826X': 4584, '0307748278': 4585, '030780125X': 4586, '0307909034': 4587, '0307909603': 4588, '0307957829': 4589, '030798754X': 4590, '0307987566': 4591, '0307987698': 4592, '0307987825': 4593, '0307987892': 4594, '0307987981': 4595, '0307988031': 4596, '0307988082': 4597, '0307988155': 4598, '030798818X': 4599, '0307988414': 4600, '0307988619': 4601, '0307988759': 4602, '0310207045': 4603, '0310225302': 4604, '0310226554': 4605, '0310233682': 4606, '031090403X': 4607, '0310912520': 4608, '0310926238': 4609, '0312009658': 4610, '0312018193': 4611, '0312042825': 4612, '0312044410': 4613, '0312069299': 4614, '0312101597': 4615, '0312143214': 4616, '0312154720': 4617, '0312155824': 4618, '0312206119': 4619, '0312243081': 4620, '0312269242': 4621, '031264776X': 4622, '0312850131': 4623, '0312853912': 4624, '0312858213': 4625, '0312859589': 4626, '0312860862': 4627, '0312861125': 4628, '0312902026': 4629, '0312910282': 4630, '0312911912': 4631, '0312917678': 4632, '0312922884': 4633, '0312923651': 4634, '0312950446': 4635, '0312950810': 4636, '0312951477': 4637, '0312951701': 4638, '0312956975': 4639, '0312957890': 4640, '0312958129': 4641, '0312961324': 4642, '0312964064': 4643, '0312970234': 4644, '0312971850': 4645, '0312975597': 4646, '0312976909': 4647, '0312981589': 4648, '031298250X': 4649, '0312983069': 4650, '0312983212': 4651, '0316038172': 4652, '0316073040': 4653, '0316075116': 4654, '0316104647': 4655, '0316105368': 4656, '0316110744': 4657, '0316111236': 4658, '0316121789': 4659, '0316139815': 4660, '0316171476': 4661, '0316171530': 4662, '0316172057': 4663, '0316190179': 4664, '0316289124': 4665, '0316526347': 4666, '0316531004': 4667, '0316643726': 4668, '0316693359': 4669, '0316777129': 4670, '0321096983': 4671, '0330376136': 4672, '0345234502': 4673, '0345256115': 4674, '0345257189': 4675, '0345272463': 4676, '0345285077': 4677, '0345285549': 4678, '0345291328': 4679, '0345300742': 4680, '0345301706': 4681, '0345303334': 4682, '0345309154': 4683, '034530988X': 4684, '0345313860': 4685, '0345314255': 4686, '034531784X': 4687, '0345318617': 4688, '0345318854': 4689, '0345321421': 4690, '0345324633': 4691, '0345326954': 4692, '0345327853': 4693, '0345334590': 4694, '0345335287': 4695, '0345339533': 4696, '0345340396': 4697, '0345348036': 4698, '0345349342': 4699, '0345350707': 4700, '0345352459': 4701, '0345352661': 4702, '0345353625': 4703, '0345354915': 4704, '0345359925': 4705, '0345365461': 4706, '0345367073': 4707, '0345368754': 4708, '0345369335': 4709, '0345370139': 4710, '0345375343': 4711, '0345379365': 4712, '034538184X': 4713, '0345384350': 4714, '0345384466': 4715, '0345384741': 4716, '034538475X': 4717, '034538850X': 4718, '0345388771': 4719, '0345412974': 4720, '0345422317': 4721, '0345428919': 4722, '0345429028': 4723, '0345430514': 4724, '0345431464': 4725, '0345435648': 4726, '0345440404': 4727, '0345459148': 4728, '0356123804': 4729, '0373013027': 4730, '0373014678': 4731, '0373015976': 4732, '0373016743': 4733, '0373018703': 4734, '0373020708': 4735, '0373022301': 4736, '0373022956': 4737, '0373023308': 4738, '0373023332': 4739, '0373023383': 4740, '0373023863': 4741, '0373024436': 4742, '0373024576': 4743, '0373024622': 4744, '0373024630': 4745, '0373024665': 4746, '0373024711': 4747, '0373024967': 4748, '0373024975': 4749, '0373025009': 4750, '0373025033': 4751, '037302505X': 4752, '0373025084': 4753, '0373025203': 4754, '0373025297': 4755, '0373025580': 4756, '0373025688': 4757, '0373025807': 4758, '0373025823': 4759, '0373025971': 4760, '0373026048': 4761, '0373026234': 4762, '0373026498': 4763, '0373026773': 4764, '037302715X': 4765, '0373027826': 4766, '0373027923': 4767, '0373028180': 4768, '0373028415': 4769, '0373028636': 4770, '0373028652': 4771, '0373028709': 4772, '0373028741': 4773, '0373029209': 4774, '0373029314': 4775, '0373029373': 4776, '0373029527': 4777, '0373029691': 4778, '0373029705': 4779, '037302973X': 4780, '0373029780': 4781, '0373029799': 4782, '0373029853': 4783, '0373029896': 4784, '037303007X': 4785, '0373030142': 4786, '0373030169': 4787, '0373030215': 4788, '0373030231': 4789, '0373030258': 4790, '0373030266': 4791, '0373030274': 4792, '0373030312': 4793, '0373030320': 4794, '0373030363': 4795, '0373030436': 4796, '0373030622': 4797, '0373030681': 4798, '0373030738': 4799, '0373030878': 4800, '0373030908': 4801, '0373030924': 4802, '0373030932': 4803, '0373031017': 4804, '0373031076': 4805, '0373031114': 4806, '0373031203': 4807, '037303122X': 4808, '0373031262': 4809, '0373031270': 4810, '037303136X': 4811, '0373031386': 4812, '0373031467': 4813, '0373031475': 4814, '0373031483': 4815, '0373031513': 4816, '0373031521': 4817, '0373031548': 4818, '0373031637': 4819, '0373031645': 4820, '0373031769': 4821, '0373031785': 4822, '037303203X': 4823, '0373032307': 4824, '0373032765': 4825, '037303279X': 4826, '0373032897': 4827, '0373033044': 4828, '0373033095': 4829, '0373033125': 4830, '0373033133': 4831, '0373033176': 4832, '0373033281': 4833, '0373033354': 4834, '0373033362': 4835, '0373033443': 4836, '0373033478': 4837, '0373033567': 4838, '0373033729': 4839, '037303377X': 4840, '0373034210': 4841, '0373034245': 4842, '037303458X': 4843, '0373034598': 4844, '0373034601': 4845, '0373034725': 4846, '0373034857': 4847, '0373034873': 4848, '0373035446': 4849, '0373035616': 4850, '0373035659': 4851, '0373036736': 4852, '0373036752': 4853, '0373036957': 4854, '0373037074': 4855, '0373058063': 4856, '0373058616': 4857, '0373058705': 4858, '0373059396': 4859, '0373059671': 4860, '0373062265': 4861, '0373071388': 4862, '0373072422': 4863, '0373072694': 4864, '0373072740': 4865, '037307302X': 4866, '0373073364': 4867, '037307347X': 4868, '0373073844': 4869, '0373074050': 4870, '0373074174': 4871, '0373074506': 4872, '0373074646': 4873, '0373074948': 4874, '0373075014': 4875, '0373075308': 4876, '0373075367': 4877, '0373075650': 4878, '037307610X': 4879, '0373076215': 4880, '037307638X': 4881, '0373076444': 4882, '0373076487': 4883, '0373076509': 4884, '037307655X': 4885, '0373076746': 4886, '0373076886': 4887, '0373076916': 4888, '0373077017': 4889, '0373077130': 4890, '0373077157': 4891, '0373077211': 4892, '0373077262': 4893, '0373077378': 4894, '0373077386': 4895, '0373077424': 4896, '0373078129': 4897, '0373078609': 4898, '0373078870': 4899, '0373078986': 4900, '0373079079': 4901, '0373079176': 4902, '0373079516': 4903, '0373079532': 4904, '0373079729': 4905, '0373079737': 4906, '037307977X': 4907, '0373085184': 4908, '0373085974': 4909, '0373086059': 4910, '0373087438': 4911, '0373087802': 4912, '0373088930': 4913, '0373089740': 4914, '0373089791': 4915, '037309227X': 4916, '0373092687': 4917, '0373093748': 4918, '0373094213': 4919, '0373094728': 4920, '0373095090': 4921, '0373095228': 4922, '0373095465': 4923, '0373095848': 4924, '0373096313': 4925, '0373097654': 4926, '0373097832': 4927, '0373097840': 4928, '0373098073': 4929, '0373098189': 4930, '0373098251': 4931, '0373098456': 4932, '0373098472': 4933, '0373098553': 4934, '0373098561': 4935, '0373098863': 4936, '0373098871': 4937, '0373098960': 4938, '0373099037': 4939, '0373099193': 4940, '0373099258': 4941, '0373099304': 4942, '0373099312': 4943, '0373099355': 4944, '0373099401': 4945, '0373099436': 4946, '0373099444': 4947, '0373099460': 4948, '0373099568': 4949, '0373099614': 4950, '0373099754': 4951, '0373099800': 4952, '0373101104': 4953, '0373101473': 4954, '0373102682': 4955, '0373102968': 4956, '0373103425': 4957, '037310359X': 4958, '0373104030': 4959, '0373104065': 4960, '0373104480': 4961, '0373104677': 4962, '0373105045': 4963, '0373105096': 4964, '0373105118': 4965, '0373105185': 4966, '0373105290': 4967, '0373105320': 4968, '0373105401': 4969, '037310555X': 4970, '0373105568': 4971, '037310572X': 4972, '0373105800': 4973, '0373105894': 4974, '0373105932': 4975, '037310605X': 4976, '0373106068': 4977, '0373106246': 4978, '0373106270': 4979, '0373106327': 4980, '037310636X': 4981, '0373106610': 4982, '0373106734': 4983, '0373106939': 4984, '0373107072': 4985, '0373107250': 4986, '0373107412': 4987, '0373107455': 4988, '0373107668': 4989, '0373107676': 4990, '0373107943': 4991, '0373107951': 4992, '0373107978': 4993, '0373108060': 4994, '0373108133': 4995, '0373108435': 4996, '0373108494': 4997, '0373108540': 4998, '0373108591': 4999, '0373109008': 5000, '0373109016': 5001, '0373109490': 5002, '0373109865': 5003, '0373109903': 5004, '0373110138': 5005, '0373111150': 5006, '0373111657': 5007, '0373112572': 5008, '0373112599': 5009, '0373113609': 5010, '0373113633': 5011, '0373113641': 5012, '037311382X': 5013, '0373114087': 5014, '0373114109': 5015, '0373114117': 5016, '037311415X': 5017, '0373114168': 5018, '0373114184': 5019, '0373114206': 5020, '0373114273': 5021, '0373114281': 5022, '037311429X': 5023, '0373114311': 5024, '037311432X': 5025, '0373114338': 5026, '0373114346': 5027, '0373114397': 5028, '0373114400': 5029, '0373114427': 5030, '0373114443': 5031, '0373114478': 5032, '0373114672': 5033, '0373114710': 5034, '0373114729': 5035, '0373114737': 5036, '0373114761': 5037, '0373114834': 5038, '0373114842': 5039, '0373114850': 5040, '0373114869': 5041, '0373115008': 5042, '0373115113': 5043, '0373115547': 5044, '0373115644': 5045, '0373115911': 5046, '037311611X': 5047, '0373116195': 5048, '0373116403': 5049, '0373116640': 5050, '0373116683': 5051, '037311687X': 5052, '0373116918': 5053, '0373117086': 5054, '0373117140': 5055, '0373117159': 5056, '0373117612': 5057, '0373117647': 5058, '0373117698': 5059, '0373117728': 5060, '0373117868': 5061, '0373119097': 5062, '0373120001': 5063, '0373120354': 5064, '0373120486': 5065, '0373121962': 5066, '0373122322': 5067, '0373122462': 5068, '037312256X': 5069, '0373122713': 5070, '0373122756': 5071, '0373122772': 5072, '0373122837': 5073, '0373123019': 5074, '0373151055': 5075, '0373152531': 5076, '0373153279': 5077, '0373153295': 5078, '0373160321': 5079, '0373160542': 5080, '0373161727': 5081, '037316176X': 5082, '0373161980': 5083, '0373162022': 5084, '0373162324': 5085, '0373163134': 5086, '0373163177': 5087, '0373163215': 5088, '0373163274': 5089, '0373163347': 5090, '0373163487': 5091, '0373163614': 5092, '0373164238': 5093, '0373164300': 5094, '037316436X': 5095, '0373164394': 5096, '0373164866': 5097, '0373165102': 5098, '0373165129': 5099, '0373165161': 5100, '0373165544': 5101, '0373165595': 5102, '037316601X': 5103, '0373166052': 5104, '0373166060': 5105, '0373166281': 5106, '037316632X': 5107, '0373166362': 5108, '0373166370': 5109, '0373166419': 5110, '0373166575': 5111, '0373166664': 5112, '0373166680': 5113, '0373166788': 5114, '0373166931': 5115, '0373167067': 5116, '0373167083': 5117, '0373167091': 5118, '0373167318': 5119, '0373167350': 5120, '0373167962': 5121, '0373167997': 5122, '0373169094': 5123, '0373169280': 5124, '0373169337': 5125, '0373169396': 5126, '0373172796': 5127, '0373190492': 5128, '037319059X': 5129, '0373190603': 5130, '0373190662': 5131, '0373190824': 5132, '0373191049': 5133, '0373191413': 5134, '0373191758': 5135, '0373191855': 5136, '0373191960': 5137, '0373192118': 5138, '0373192231': 5139, '0373192258': 5140, '0373193610': 5141, '0373194811': 5142, '0373194854': 5143, '0373194897': 5144, '0373194935': 5145, '0373194943': 5146, '037319501X': 5147, '0373195095': 5148, '0373195109': 5149, '0373195168': 5150, '0373195273': 5151, '0373195486': 5152, '0373195680': 5153, '0373195788': 5154, '0373195818': 5155, '0373195877': 5156, '0373195966': 5157, '0373196288': 5158, '0373217129': 5159, '037322009X': 5160, '0373220375': 5161, '0373220456': 5162, '0373220685': 5163, '0373221282': 5164, '0373221290': 5165, '0373221339': 5166, '0373221363': 5167, '0373221428': 5168, '0373221444': 5169, '0373221592': 5170, '0373221657': 5171, '0373222106': 5172, '0373222114': 5173, '0373222173': 5174, '0373222181': 5175, '0373222211': 5176, '037322222X': 5177, '0373222262': 5178, '0373222297': 5179, '0373222319': 5180, '0373222432': 5181, '0373222440': 5182, '0373222467': 5183, '0373222475': 5184, '0373222513': 5185, '0373222521': 5186, '0373222645': 5187, '037322303X': 5188, '0373223242': 5189, '0373223870': 5190, '0373224060': 5191, '0373224133': 5192, '0373224419': 5193, '0373224427': 5194, '0373224524': 5195, '0373224613': 5196, '0373225059': 5197, '0373225091': 5198, '0373225113': 5199, '0373225148': 5200, '0373225156': 5201, '0373225245': 5202, '0373225342': 5203, '0373225415': 5204, '0373225458': 5205, '0373225504': 5206, '0373225520': 5207, '0373225539': 5208, '0373225547': 5209, '0373225555': 5210, '0373225628': 5211, '0373225717': 5212, '037322575X': 5213, '0373225792': 5214, '0373225806': 5215, '0373225873': 5216, '0373225903': 5217, '0373225946': 5218, '0373225962': 5219, '0373225970': 5220, '0373226063': 5221, '0373226144': 5222, '0373226276': 5223, '0373226292': 5224, '0373226330': 5225, '0373226381': 5226, '0373226403': 5227, '0373226462': 5228, '0373226519': 5229, '0373226551': 5230, '0373226594': 5231, '0373226713': 5232, '0373226772': 5233, '0373240023': 5234, '0373240120': 5235, '0373240155': 5236, '0373240171': 5237, '0373240198': 5238, '0373240244': 5239, '0373240252': 5240, '0373240295': 5241, '0373240317': 5242, '0373240392': 5243, '0373240406': 5244, '0373240422': 5245, '037324052X': 5246, '0373240554': 5247, '0373240562': 5248, '0373240570': 5249, '0373240627': 5250, '0373240635': 5251, '0373240716': 5252, '0373240805': 5253, '0373241011': 5254, '0373241089': 5255, '0373241135': 5256, '0373241291': 5257, '0373241445': 5258, '0373241453': 5259, '0373241615': 5260, '0373241976': 5261, '0373242271': 5262, '0373242603': 5263, '0373243170': 5264, '037324357X': 5265, '0373243588': 5266, '0373243707': 5267, '0373243766': 5268, '0373243812': 5269, '0373243820': 5270, '0373243863': 5271, '0373243952': 5272, '0373243960': 5273, '0373244614': 5274, '0373244630': 5275, '0373244665': 5276, '0373251017': 5277, '0373251300': 5278, '0373251998': 5279, '0373252331': 5280, '0373254598': 5281, '0373254660': 5282, '0373255004': 5283, '0373255446': 5284, '0373255594': 5285, '0373255977': 5286, '0373256078': 5287, '0373256086': 5288, '0373256183': 5289, '0373256299': 5290, '0373256760': 5291, '0373256973': 5292, '0373257767': 5293, '0373258828': 5294, '0373260466': 5295, '0373260598': 5296, '0373261667': 5297, '0373262027': 5298, '0373262213': 5299, '037326223X': 5300, '0373262302': 5301, '037326237X': 5302, '0373262396': 5303, '037326240X': 5304, '0373262485': 5305, '037326254X': 5306, '0373262558': 5307, '0373262736': 5308, '0373263708': 5309, '0373264011': 5310, '0373270011': 5311, '0373270755': 5312, '0373270860': 5313, '0373271409': 5314, '037327145X': 5315, '0373271786': 5316, '0373272081': 5317, '0373280092': 5318, '0373288212': 5319, '0373288360': 5320, '0373288786': 5321, '0373288956': 5322, '0373288980': 5323, '0373289170': 5324, '0373289677': 5325, '0373289839': 5326, '0373290055': 5327, '0373290071': 5328, '037329008X': 5329, '0373290098': 5330, '037329011X': 5331, '0373290136': 5332, '0373290187': 5333, '0373290225': 5334, '0373290276': 5335, '0373290640': 5336, '0373290721': 5337, '0373290837': 5338, '037329090X': 5339, '0373290969': 5340, '0373290993': 5341, '0373291019': 5342, '0373291043': 5343, '0373291051': 5344, '0373291140': 5345, '0373291167': 5346, '0373291175': 5347, '0373291531': 5348, '0373300573': 5349, '0373301316': 5350, '0373310196': 5351, '0373387075': 5352, '0373451547': 5353, '037345158X': 5354, '0373451598': 5355, '0373451628': 5356, '0373451849': 5357, '0373451997': 5358, '0373471513': 5359, '0373471521': 5360, '0373471556': 5361, '0373471572': 5362, '0373471637': 5363, '0373471831': 5364, '0373482396': 5365, '0373482531': 5366, '0373483287': 5367, '0373483317': 5368, '0373484534': 5369, '0373501781': 5370, '0373511221': 5371, '0373613601': 5372, '0373614209': 5373, '0373614713': 5374, '0373616392': 5375, '0373650116': 5376, '0373650531': 5377, '0373691092': 5378, '0373700024': 5379, '0373700180': 5380, '0373700237': 5381, '037370027X': 5382, '0373700393': 5383, '0373700539': 5384, '0373700857': 5385, '0373702248': 5386, '0373702337': 5387, '0373703449': 5388, '037370433X': 5389, '0373704704': 5390, '0373705050': 5391, '0373705190': 5392, '0373705247': 5393, '0373705441': 5394, '037370562X': 5395, '0373705794': 5396, '0373706014': 5397, '0373706103': 5398, '0373706197': 5399, '0373706200': 5400, '0373706367': 5401, '0373706421': 5402, '0373706456': 5403, '0373706464': 5404, '0373706588': 5405, '0373706642': 5406, '0373706677': 5407, '0373706707': 5408, '0373706790': 5409, '0373706871': 5410, '037370691X': 5411, '0373706928': 5412, '0373706995': 5413, '0373707088': 5414, '037370710X': 5415, '0373707134': 5416, '0373707274': 5417, '0373707304': 5418, '0373707312': 5419, '0373707347': 5420, '0373707355': 5421, '0373707398': 5422, '037370741X': 5423, '0373707460': 5424, '0373707517': 5425, '0373707533': 5426, '0373707568': 5427, '0373707576': 5428, '0373707606': 5429, '0373707622': 5430, '0373707649': 5431, '0373707665': 5432, '037370769X': 5433, '0373707738': 5434, '0373707827': 5435, '037370786X': 5436, '0373707886': 5437, '0373707894': 5438, '0373707924': 5439, '0373707932': 5440, '0373707983': 5441, '0373708130': 5442, '0373708149': 5443, '0373708335': 5444, '0373708351': 5445, '0373708394': 5446, '0373708424': 5447, '0373708440': 5448, '0373708599': 5449, '0373708963': 5450, '0373709064': 5451, '037370951X': 5452, '0373709625': 5453, '0373709862': 5454, '0373710372': 5455, '0373710607': 5456, '0373710615': 5457, '0373730551': 5458, '0373745184': 5459, '0373760396': 5460, '0373760469': 5461, '037376250X': 5462, '0373762631': 5463, '0373762666': 5464, '0373762917': 5465, '0373763050': 5466, '0373763247': 5467, '0373763379': 5468, '0373763425': 5469, '0373763506': 5470, '0373763611': 5471, '0373763832': 5472, '0373764030': 5473, '0373764375': 5474, '0373764391': 5475, '0373764456': 5476, '0373790228': 5477, '0373800843': 5478, '0373801092': 5479, '0373801173': 5480, '0373801238': 5481, '0373805187': 5482, '0373821778': 5483, '0373825021': 5484, '037382503X': 5485, '0373825056': 5486, '0373825560': 5487, '0373832877': 5488, '0373833202': 5489, '037383375X': 5490, '0373834969': 5491, '0373835353': 5492, '0373871562': 5493, '0373871791': 5494, '0373885156': 5495, '0373885202': 5496, '0373885245': 5497, '0373898754': 5498, '0374435502': 5499, '0375409327': 5500, '0375501371': 5501, '0375703055': 5502, '0375706410': 5503, '0375756817': 5504, '0375800018': 5505, '0375800255': 5506, '0375800859': 5507, '0375801332': 5508, '0375803688': 5509, '0375808507': 5510, '0375808736': 5511, '0375905693': 5512, '0376024658': 5513, '0380001098': 5514, '0380001764': 5515, '0380002558': 5516, '0380002930': 5517, '0380003040': 5518, '038000772X': 5519, '0380009471': 5520, '0380010038': 5521, '0380017806': 5522, '0380017962': 5523, '0380435470': 5524, '0380510944': 5525, '0380534134': 5526, '0380534967': 5527, '0380558890': 5528, '038057067X': 5529, '038059949X': 5530, '0380601036': 5531, '0380676524': 5532, '0380685280': 5533, '0380698439': 5534, '0380698544': 5535, '038069994X': 5536, '0380703866': 5537, '0380704498': 5538, '0380706725': 5539, '0380708531': 5540, '0380709120': 5541, '0380709538': 5542, '0380709562': 5543, '0380710870': 5544, '0380711877': 5545, '0380712040': 5546, '0380714752': 5547, '0380716356': 5548, '0380720132': 5549, '0380724383': 5550, '0380724898': 5551, '0380725584': 5552, '0380725703': 5553, '0380727293': 5554, '0380727951': 5555, '0380732521': 5556, '0380755203': 5557, '0380755858': 5558, '0380758733': 5559, '038075892X': 5560, '0380761165': 5561, '0380761203': 5562, '0380761483': 5563, '0380765195': 5564, '038076587X': 5565, '0380766078': 5566, '0380766450': 5567, '038076654X': 5568, '0380770938': 5569, '0380773732': 5570, '0380775263': 5571, '0380782332': 5572, '0380787458': 5573, '0380789035': 5574, '038078906X': 5575, '0380794802': 5576, '0380797542': 5577, '0380803682': 5578, '0380814862': 5579, '0380817624': 5580, '038082180X': 5581, '0380834510': 5582, '0380880547': 5583, '0380892847': 5584, '0380898179': 5585, '0380899590': 5586, '038097391X': 5587, '0381900568': 5588, '0382027094': 5589, '0382094441': 5590, '0385011571': 5591, '0385025866': 5592, '0385127448': 5593, '0385143184': 5594, '0385152922': 5595, '0385190697': 5596, '0385206776': 5597, '0385239262': 5598, '0385245793': 5599, '0385265700': 5600, '0385293631': 5601, '0385299095': 5602, '0385299109': 5603, '0385304900': 5604, '0385306032': 5605, '0385306059': 5606, '0385312709': 5607, '0385320329': 5608, '0385320825': 5609, '0385323921': 5610, '0385414587': 5611, '0385419902': 5612, '0385420161': 5613, '0385468784': 5614, '038546973X': 5615, '038547024X': 5616, '0385474547': 5617, '0385483643': 5618, '0385489935': 5619, '038549081X': 5620, '0385490992': 5621, '0385498179': 5622, '0393035433': 5623, '0393964493': 5624, '0394020189': 5625, '0394174461': 5626, '0394223772': 5627, '0394334248': 5628, '0394363051': 5629, '0394516729': 5630, '0394517989': 5631, '0394543394': 5632, '0394553837': 5633, '0394565762': 5634, '0394569644': 5635, '0394588215': 5636, '0394702956': 5637, '0394755235': 5638, '0394800133': 5639, '0394800168': 5640, '0394800303': 5641, '0394800907': 5642, '0394805666': 5643, '0394820371': 5644, '0394822412': 5645, '0394823249': 5646, '0394825225': 5647, '0394825519': 5648, '0394825527': 5649, '0394826175': 5650, '0394826256': 5651, '0394826264': 5652, '0394826639': 5653, '0394826817': 5654, '0394826833': 5655, '0394826949': 5656, '0394827988': 5657, '0394828186': 5658, '0394829239': 5659, '0394829565': 5660, '0394830199': 5661, '0394831292': 5662, '0394832434': 5663, '0394832639': 5664, '0394832647': 5665, '0394832655': 5666, '0394832663': 5667, '0394833171': 5668, '0394834569': 5669, '0394834852': 5670, '0394835638': 5671, '0394837363': 5672, '0394839579': 5673, '0394840496': 5674, '0394840704': 5675, '0394840771': 5676, '0394844483': 5677, '0394845668': 5678, '0394848195': 5679, '0394848365': 5680, '0394848381': 5681, '0394848438': 5682, '0394848446': 5683, '0394848454': 5684, '0394848705': 5685, '0394849558': 5686, '0394849612': 5687, '0394849736': 5688, '0394851323': 5689, '0394854438': 5690, '0394855175': 5691, '0394856392': 5692, '0394859170': 5693, '0394859219': 5694, '0394859235': 5695, '039485926X': 5696, '0394859558': 5697, '0394861272': 5698, '039486154X': 5699, '0394863461': 5700, '0394863895': 5701, '0394865707': 5702, '0394865871': 5703, '0394867297': 5704, '0394868838': 5705, '039487062X': 5706, '0394871809': 5707, '0394872177': 5708, '0394873319': 5709, '0394873335': 5710, '039487336X': 5711, '0394873378': 5712, '0394878639': 5713, '0394886682': 5714, '0394886690': 5715, '0394886755': 5716, '0394888103': 5717, '0394890604': 5718, '0394891260': 5719, '0394894359': 5720, '039489460X': 5721, '0394894758': 5722, '0394895711': 5723, '0394896254': 5724, '0394896955': 5725, '039489748X': 5726, '0394899636': 5727, '0394900901': 5728, '0394971965': 5729, '0394979087': 5730, '0394996038': 5731, '0395120446': 5732, '0395174449': 5733, '0395278171': 5734, '0395297583': 5735, '0395368952': 5736, '039537605X': 5737, '0395376076': 5738, '0395376084': 5739, '0395376092': 5740, '0395376106': 5741, '0395376114': 5742, '0395376122': 5743, '0395376130': 5744, '0395425069': 5745, '0395437822': 5746, '0395551471': 5747, '0395551552': 5748, '0395551579': 5749, '0395551633': 5750, '039555165X': 5751, '0395551749': 5752, '0395644828': 5753, '0395668417': 5754, '0395681863': 5755, '0395681871': 5756, '0395689651': 5757, '0395707390': 5758, '0395710464': 5759, '0395755158': 5760, '0396087213': 5761, '0397316372': 5762, '0397318804': 5763, '0397320515': 5764, '0397541678': 5765, '0399122400': 5766, '0399131418': 5767, '0399134883': 5768, '0399136118': 5769, '0399137734': 5770, '0399138900': 5771, '039913932X': 5772, '0399139974': 5773, '0399207279': 5774, '0399208704': 5775, '0399213503': 5776, '0399215697': 5777, '0399217851': 5778, '0399228179': 5779, '039923568X': 5780, '0399517375': 5781, '039961110X': 5782, '0404538215': 5783, '0425033104': 5784, '0425044432': 5785, '0425048543': 5786, '0425053245': 5787, '0425054535': 5788, '0425054918': 5789, '042505733X': 5790, '0425071022': 5791, '0425088782': 5792, '0425091074': 5793, '0425096106': 5794, '0425096939': 5795, '0425098559': 5796, '0425111997': 5797, '0425116905': 5798, '0425117383': 5799, '042511743X': 5800, '0425118703': 5801, '0425120279': 5802, '0425120694': 5803, '0425120910': 5804, '0425127214': 5805, '0425135012': 5806, '042513525X': 5807, '042513699X': 5808, '0425137562': 5809, '0425140032': 5810, '0425145638': 5811, '0425147622': 5812, '0425148696': 5813, '0425149420': 5814, '0425151867': 5815, '0425151875': 5816, '0425155404': 5817, '0425157539': 5818, '0425158632': 5819, '0425160106': 5820, '0425161749': 5821, '042516313X': 5822, '0425164136': 5823, '0425165566': 5824, '0425165779': 5825, '0425166961': 5826, '0425168700': 5827, '0425170349': 5828, '0425173283': 5829, '0425173534': 5830, '0425177351': 5831, '0425177807': 5832, '0425180050': 5833, '0425183009': 5834, '0425183971': 5835, '042518630X': 5836, '0425187721': 5837, '0439040221': 5838, '0439040825': 5839, '0439042992': 5840, '0439043638': 5841, '0439045525': 5842, '0439049946': 5843, '0439053862': 5844, '0439059658': 5845, '0439061296': 5846, '0439062454': 5847, '0439074436': 5848, '0439083184': 5849, '043908654X': 5850, '0439087481': 5851, '0439087872': 5852, '0439088275': 5853, '0439095085': 5854, '0439095557': 5855, '043910274X': 5856, '0439102758': 5857, '0439103975': 5858, '043910467X': 5859, '0439104696': 5860, '0439106028': 5861, '0439106761': 5862, '0439108381': 5863, '0439109884': 5864, '0439115353': 5865, '0439129354': 5866, '0439129362': 5867, '0439129370': 5868, '0439132266': 5869, '0439132991': 5870, '0439133718': 5871, '0439135036': 5872, '0439135249': 5873, '0439135575': 5874, '0439137012': 5875, '0439137411': 5876, '0439138566': 5877, '0439139392': 5878, '0439141230': 5879, '0439146070': 5880, '0439150086': 5881, '0439154049': 5882, '0439154065': 5883, '0439158141': 5884, '0439161142': 5885, '0439161150': 5886, '0439161649': 5887, '0439163129': 5888, '0439164729': 5889, '043916575X': 5890, '0439166268': 5891, '043917306X': 5892, '0439173078': 5893, '0439188768': 5894, '0439192625': 5895, '0439193796': 5896, '0439200911': 5897, '043920092X': 5898, '0439200938': 5899, '0439200946': 5900, '0439206545': 5901, '0439207398': 5902, '0439207401': 5903, '043920741X': 5904, '0439207428': 5905, '0439210089': 5906, '0439210348': 5907, '0439219671': 5908, '0439219957': 5909, '0439220335': 5910, '0439222338': 5911, '0439223075': 5912, '0439227704': 5913, '043922781X': 5914, '0439229030': 5915, '0439231973': 5916, '0439236298': 5917, '0439243971': 5918, '0439253330': 5919, '0439264669': 5920, '0439266513': 5921, '0439269865': 5922, '0439272874': 5923, '0439279062': 5924, '0439282799': 5925, '0439288851': 5926, '043928886X': 5927, '0439288886': 5928, '0439316154': 5929, '0439327660': 5930, '0439328039': 5931, '0439328888': 5932, '0439336929': 5933, '0439339952': 5934, '0439345200': 5935, '0439366763': 5936, '0439369061': 5937, '0439399327': 5938, '0439401372': 5939, '043940178X': 5940, '0439434556': 5941, '043949169X': 5942, '0440027691': 5943, '0440102723': 5944, '0440108322': 5945, '0440111773': 5946, '0440111811': 5947, '0440117569': 5948, '0440118212': 5949, '0440120004': 5950, '0440120497': 5951, '0440120918': 5952, '0440124344': 5953, '044012509X': 5954, '0440125588': 5955, '0440126606': 5956, '0440130298': 5957, '0440139791': 5958, '0440141753': 5959, '0440144078': 5960, '0440145465': 5961, '0440147247': 5962, '0440147360': 5963, '0440154049': 5964, '0440157587': 5965, '0440157943': 5966, '0440163846': 5967, '0440166063': 5968, '0440166497': 5969, '0440167531': 5970, '0440167817': 5971, '0440175437': 5972, '0440179807': 5973, '0440180333': 5974, '0440183278': 5975, '0440184622': 5976, '0440184630': 5977, '0440185564': 5978, '0440185793': 5979, '044018584X': 5980, '044019539X': 5981, '0440200407': 5982, '0440201969': 5983, '044020271X': 5984, '0440204275': 5985, '0440205085': 5986, '0440205417': 5987, '0440206561': 5988, '0440206588': 5989, '0440207428': 5990, '0440207622': 5991, '0440208130': 5992, '0440208947': 5993, '0440210666': 5994, '044021145X': 5995, '0440211484': 5996, '0440212189': 5997, '0440212308': 5998, '044021369X': 5999, '0440214114': 6000, '044021422X': 6001, '0440219221': 6002, '0440219280': 6003, '0440219337': 6004, '0440220394': 6005, '0440222842': 6006, '0440224055': 6007, '0440224594': 6008, '044022473X': 6009, '0440224810': 6010, '0440226597': 6011, '0440226864': 6012, '0440228158': 6013, '0440235758': 6014, '044023669X': 6015, '0440236924': 6016, '0440400627': 6017, '0440402024': 6018, '0440403227': 6019, '0440403294': 6020, '0440405726': 6021, '0440406404': 6022, '0440406595': 6023, '044040665X': 6024, '0440407613': 6025, '0440407923': 6026, '0440408164': 6027, '0440408334': 6028, '0440409322': 6029, '0440409713': 6030, '0440410231': 6031, '0440411262': 6032, '0440412692': 6033, '0440413036': 6034, '0440413494': 6035, '0440413699': 6036, '0440413915': 6037, '0440414237': 6038, '0440414261': 6039, '0440414520': 6040, '0440415241': 6041, '0440433940': 6042, '0440441099': 6043, '0440444381': 6044, '0440457173': 6045, '0440479002': 6046, '0440482216': 6047, '0440484332': 6048, '0440492041': 6049, '0440495563': 6050, '0440504953': 6051, '0440505712': 6052, '0440550254': 6053, '044056753X': 6054, '0440700272': 6055, '0440800129': 6056, '0440800714': 6057, '0440801028': 6058, '044080180X': 6059, '0440803098': 6060, '0440803462': 6061, '0440833000': 6062, '0440840414': 6063, '0440841216': 6064, '0440841488': 6065, '0440842654': 6066, '0440845963': 6067, '0440846404': 6068, '0440847109': 6069, '0440847737': 6070, '0440847753': 6071, '0440847990': 6072, '0440848067': 6073, '0440848156': 6074, '0440907071': 6075, '0440908035': 6076, '0440910552': 6077, '044091129X': 6078, '0440920833': 6079, '0440925606': 6080, '0440966388': 6081, '0440982391': 6082, '0441000150': 6083, '0441000924': 6084, '0441001823': 6085, '0441005551': 6086, '0441005764': 6087, '0441116183': 6088, '0441132456': 6089, '0441248845': 6090, '0441317480': 6091, '044132231X': 6092, '0441451306': 6093, '0441470734': 6094, '0441586945': 6095, '0441651690': 6096, '0441693237': 6097, '0441757227': 6098, '044301566X': 6099, '0445043326': 6100, '0445083735': 6101, '0445205636': 6102, '0445209127': 6103, '0445408154': 6104, '0446222194': 6105, '0446301728': 6106, '0446303011': 6107, '0446306223': 6108, '0446315176': 6109, '0446322121': 6110, '0446343455': 6111, '0446350109': 6112, '0446354872': 6113, '0446356913': 6114, '0446357030': 6115, '0446357103': 6116, '0446359726': 6117, '0446360406': 6118, '0446363030': 6119, '0446363251': 6120, '0446363510': 6121, '0446363626': 6122, '0446364266': 6123, '0446364304': 6124, '0446364800': 6125, '0446364819': 6126, '0446364835': 6127, '0446394211': 6128, '0446401013': 6129, '0446512753': 6130, '0446516139': 6131, '0446516317': 6132, '0446517410': 6133, '0446519723': 6134, '0446519790': 6135, '0446520608': 6136, '0446520659': 6137, '0446523089': 6138, '0446523569': 6139, '0446525480': 6140, '0446600709': 6141, '0446600768': 6142, '0446600962': 6143, '0446600970': 6144, '0446600989': 6145, '0446601640': 6146, '0446601985': 6147, '0446602019': 6148, '0446602086': 6149, '0446602159': 6150, '0446602736': 6151, '0446603309': 6152, '0446603368': 6153, '0446604275': 6154, '0446604623': 6155, '0446604844': 6156, '0446606022': 6157, '0446606219': 6158, '0446608823': 6159, '0446609617': 6160, '044661095X': 6161, '0446612405': 6162, '0446802204': 6163, '0446827029': 6164, '0446941166': 6165, '044804501X': 6166, '0448092867': 6167, '0448095017': 6168, '0448095041': 6169, '0448095319': 6170, '0448095335': 6171, '0448095343': 6172, '0448095351': 6173, '044809536X': 6174, '0448095467': 6175, '0448102226': 6176, '0448171473': 6177, '0448190893': 6178, '044819094X': 6179, '0448343606': 6180, '0448400936': 6181, '0448401304': 6182, '044840463X': 6183, '0448405199': 6184, '0448412640': 6185, '0448412772': 6186, '044841287X': 6187, '0448421852': 6188, '044846537X': 6189, '0449001946': 6190, '0449001962': 6191, '0449013880': 6192, '0449014290': 6193, '0449123782': 6194, '0449126765': 6195, '0449134369': 6196, '0449138364': 6197, '0449143600': 6198, '0449148394': 6199, '0449148920': 6200, '044920216X': 6201, '0449202941': 6202, '0449204324': 6203, '0449205967': 6204, '0449206181': 6205, '0449206610': 6206, '0449208508': 6207, '0449209598': 6208, '0449210324': 6209, '0449212084': 6210, '044922046X': 6211, '0449221180': 6212, '0449221555': 6213, '0449222241': 6214, '0449222713': 6215, '0449223450': 6216, '0449224155': 6217, '0449226840': 6218, '0449229440': 6219, '0449232921': 6220, '0449234606': 6221, '0449237869': 6222, '0449240673': 6223, '0449242765': 6224, '0449245691': 6225, '0449500330': 6226, '0449501116': 6227, '0449909069': 6228, '0449909557': 6229, '0449911616': 6230, '0449911888': 6231, '0451073967': 6232, '0451119614': 6233, '0451121228': 6234, '0451126041': 6235, '0451127897': 6236, '0451128370': 6237, '0451129334': 6238, '0451134680': 6239, '0451136101': 6240, '0451136683': 6241, '0451138945': 6242, '0451139682': 6243, '0451147367': 6244, '0451150376': 6245, '0451150406': 6246, '0451152190': 6247, '0451155750': 6248, '0451156609': 6249, '0451160525': 6250, '0451162072': 6251, '0451165594': 6252, '0451169387': 6253, '0451170990': 6254, '0451172817': 6255, '0451173392': 6256, '0451175123': 6257, '0451176464': 6258, '0451176723': 6259, '0451176820': 6260, '0451177908': 6261, '0451177975': 6262, '0451178386': 6263, '0451178424': 6264, '0451179900': 6265, '0451181379': 6266, '0451182391': 6267, '0451183665': 6268, '0451184963': 6269, '0451186486': 6270, '0451186923': 6271, '0451188470': 6272, '0451190157': 6273, '0451190521': 6274, '0451191692': 6275, '0451191722': 6276, '0451195264': 6277, '0451197127': 6278, '0451202198': 6279, '0451205421': 6280, '0451400763': 6281, '0451403568': 6282, '0451404068': 6283, '0451404211': 6284, '0451406176': 6285, '0451406656': 6286, '0451408098': 6287, '0451408411': 6288, '0451408543': 6289, '0451408667': 6290, '0451408845': 6291, '0451409019': 6292, '0451409744': 6293, '0451451406': 6294, '0451516699': 6295, '0451518829': 6296, '0451519620': 6297, '0451519655': 6298, '0451521285': 6299, '0451522621': 6300, '0451524772': 6301, '0451524942': 6302, '0451526503': 6303, '0451526538': 6304, '0451526805': 6305, '0451625838': 6306, '0451627296': 6307, '0451E64100': 6308, '0460870289': 6309, '0471358355': 6310, '0471515353': 6311, '0471577103': 6312, '0486207897': 6313, '0486214834': 6314, '0486232360': 6315, '0486266893': 6316, '0486268705': 6317, '0486268780': 6318, '0486277852': 6319, '0486278166': 6320, '048628039X': 6321, '0486286568': 6322, '0486295559': 6323, '0486296466': 6324, '0489469715': 6325, '05008601814': 6326, '0505522764': 6327, '0515039276': 6328, '0515056383': 6329, '0515060674': 6330, '0515068594': 6331, '0515068748': 6332, '0515071080': 6333, '0515075841': 6334, '0515087947': 6335, '0515090298': 6336, '0515100226': 6337, '0515101214': 6338, '0515110396': 6339, '0515115029': 6340, '0515116297': 6341, '0515116475': 6342, '0515118907': 6343, '0515119415': 6344, '051512012X': 6345, '0515120456': 6346, '0515121428': 6347, '0515122408': 6348, '051512334X': 6349, '051512608X': 6350, '0515126772': 6351, '0515126985': 6352, '0515127833': 6353, '0515128023': 6354, '0515128546': 6355, '0515129704': 6356, '0515130168': 6357, '0515130524': 6358, '0515131229': 6359, '0515132136': 6360, '051604639X': 6361, '0516049119': 6362, '0516087371': 6363, '0516088556': 6364, '0517035553': 6365, '0517052229': 6366, '0517052369': 6367, '0517065258': 6368, '0517114453': 6369, '051734582X': 6370, '0517348764': 6371, '0517500345': 6372, '0517528436': 6373, '0517565994': 6374, '0517576767': 6375, '0517598183': 6376, '0517707918': 6377, '0517800349': 6378, '051788710X': 6379, '051788738X': 6380, '0520045599': 6381, '0523403461': 6382, '0523403941': 6383, '0523411529': 6384, '0523426429': 6385, '0525111255': 6386, '0525249249': 6387, '0525420282': 6388, '0525440585': 6389, '0525442332': 6390, '0525442553': 6391, '0525443959': 6392, '0525448780': 6393, '0525452672': 6394, '0525458883': 6395, '0525460543': 6396, '0525938990': 6397, '0525941479': 6398, '0525941908': 6399, '0525945415': 6400, '0525945784': 6401, '0529044633': 6402, '0531012174': 6403, '053104470X': 6404, '0531045269': 6405, '0531048160': 6406, '0531068021': 6407, '0531083608': 6408, '0531087875': 6409, '0531101827': 6410, '0531102637': 6411, '0531140210': 6412, '0531202534': 6413, '0534003478': 6414, '0534004490': 6415, '0551660733': 6416, '0553013289': 6417, '0553050532': 6418, '0553055011': 6419, '055305502X': 6420, '0553055038': 6421, '0553055046': 6422, '0553055070': 6423, '0553055089': 6424, '0553055127': 6425, '0553055135': 6426, '0553055143': 6427, '055305516X': 6428, '0553055178': 6429, '0553055208': 6430, '0553055216': 6431, '0553055224': 6432, '0553055259': 6433, '0553055267': 6434, '0553055984': 6435, '0553057995': 6436, '0553058894': 6437, '0553072927': 6438, '0553084810': 6439, '0553095919': 6440, '0553096834': 6441, '0553099558': 6442, '0553100807': 6443, '0553103008': 6444, '0553104225': 6445, '0553110012': 6446, '0553111396': 6447, '0553120166': 6448, '055312577X': 6449, '0553131834': 6450, '0553136674': 6451, '0553154184': 6452, '0553156756': 6453, '0553156802': 6454, '0553157094': 6455, '0553157116': 6456, '0553157213': 6457, '0553157345': 6458, '0553157353': 6459, '0553157396': 6460, '0553158333': 6461, '0553158910': 6462, '0553158929': 6463, '0553165240': 6464, '0553201344': 6465, '0553202790': 6466, '0553208845': 6467, '0553211285': 6468, '055321277X': 6469, '0553213164': 6470, '055321330X': 6471, '0553213393': 6472, '055322011X': 6473, '0553230018': 6474, '0553231758': 6475, '0553232177': 6476, '0553237209': 6477, '0553238000': 6478, '0553243055': 6479, '0553249231': 6480, '0553249479': 6481, '0553250337': 6482, '055325362X': 6483, '0553256157': 6484, '0553257439': 6485, '0553258311': 6486, '0553258877': 6487, '0553264613': 6488, '0553268953': 6489, '0553270117': 6490, '0553274740': 6491, '0553274775': 6492, '0553278142': 6493, '055327824X': 6494, '0553278355': 6495, '0553280414': 6496, '0553282700': 6497, '0553283626': 6498, '0553284789': 6499, '0553287087': 6500, '055328861X': 6501, '0553289519': 6502, '0553290576': 6503, '0553290614': 6504, '055329122X': 6505, '055329170X': 6506, '0553292951': 6507, '055329296X': 6508, '055329301X': 6509, '0553293893': 6510, '0553293907': 6511, '0553294989': 6512, '0553297570': 6513, '0553297988': 6514, '0553299352': 6515, '0553348310': 6516, '0553351478': 6517, '0553373080': 6518, '0553373412': 6519, '0553442449': 6520, '0553443127': 6521, '0553443364': 6522, '0553443577': 6523, '0553443941': 6524, '0553444077': 6525, '0553444727': 6526, '0553445294': 6527, '0553445405': 6528, '0553445618': 6529, '0553480243': 6530, '0553481339': 6531, '0553481525': 6532, '0553481606': 6533, '0553482475': 6534, '055348253X': 6535, '0553483145': 6536, '0553483285': 6537, '055348351X': 6538, '055348480X': 6539, '0553542842': 6540, '0553560018': 6541, '0553560050': 6542, '0553560115': 6543, '0553560271': 6544, '0553561375': 6545, '0553564013': 6546, '0553564552': 6547, '0553564676': 6548, '0553565605': 6549, '0553566180': 6550, '0553566199': 6551, '0553566229': 6552, '0553567462': 6553, '0553567470': 6554, '0553567500': 6555, '0553567535': 6556, '0553567551': 6557, '0553567586': 6558, '055356773X': 6559, '0553568701': 6560, '0553568779': 6561, '0553569015': 6562, '0553569082': 6563, '055357230X': 6564, '0553572512': 6565, '055357258X': 6566, '0553573136': 6567, '0553574078': 6568, '0553574752': 6569, '0553578375': 6570, '0553578898': 6571, '0553580221': 6572, '0553581023': 6573, '0553582097': 6574, '0553582658': 6575, '0553583980': 6576, '0559029838': 6577, '0570048257': 6578, '0570060370': 6579, '0570061210': 6580, '0570061954': 6581, '0571193307': 6582, '0573693412': 6583, '0586044507': 6584, '0590010891': 6585, '059001496X': 6586, '0590019678': 6587, '0590023101': 6588, '0590023136': 6589, '0590025627': 6590, '0590026534': 6591, '0590035010': 6592, '0590035517': 6593, '0590036394': 6594, '0590037145': 6595, '0590044362': 6596, '0590047922': 6597, '0590059459': 6598, '0590065858': 6599, '0590065890': 6600, '059009291X': 6601, '0590093878': 6602, '059009887X': 6603, '059010294X': 6604, '0590104403': 6605, '0590107100': 6606, '0590115057': 6607, '0590115294': 6608, '059011753X': 6609, '0590117653': 6610, '0590118684': 6611, '0590120700': 6612, '0590129023': 6613, '0590129457': 6614, '0590129686': 6615, '0590134620': 6616, '0590134701': 6617, '0590134744': 6618, '0590135252': 6619, '0590136895': 6620, '0590138588': 6621, '0590187317': 6622, '0590189387': 6623, '0590189824': 6624, '0590216929': 6625, '0590222953': 6626, '0590222961': 6627, '0590224735': 6628, '0590226355': 6629, '0590226533': 6630, '0590227157': 6631, '0590228595': 6632, '0590228625': 6633, '059023787X': 6634, '0590252267': 6635, '0590254693': 6636, '0590254960': 6637, '0590259458': 6638, '0590259881': 6639, '0590259954': 6640, '0590259989': 6641, '0590260243': 6642, '0590262793': 6643, '059027337X': 6644, '0590273639': 6645, '0590273752': 6646, '0590273779': 6647, '0590274635': 6648, '0590275232': 6649, '0590299735': 6650, '0590302647': 6651, '0590305638': 6652, '0590306693': 6653, '0590307207': 6654, '0590307223': 6655, '0590307444': 6656, '059031257X': 6657, '0590312626': 6658, '0590314645': 6659, '0590315684': 6660, '0590317695': 6661, '059031792X': 6662, '0590318977': 6663, '059031954X': 6664, '0590319841': 6665, '0590324705': 6666, '0590324993': 6667, '0590326376': 6668, '0590327844': 6669, '0590329804': 6670, '0590331280': 6671, '059033235X': 6672, '0590332368': 6673, '0590332473': 6674, '0590334263': 6675, '0590335545': 6676, '0590335898': 6677, '0590336770': 6678, '0590336991': 6679, '059033753X': 6680, '0590337785': 6681, '0590339494': 6682, '0590339656': 6683, '0590339672': 6684, '0590351958': 6685, '0590367943': 6686, '0590371177': 6687, '0590373862': 6688, '0590375180': 6689, '0590377590': 6690, '0590383973': 6691, '0590386158': 6692, '0590386166': 6693, '0590394681': 6694, '0590394835': 6695, '0590395092': 6696, '059040024X': 6697, '0590401645': 6698, '0590401815': 6699, '0590402773': 6700, '0590403249': 6701, '0590403885': 6702, '0590404008': 6703, '0590404318': 6704, '0590404555': 6705, '0590405934': 6706, '0590406205': 6707, '0590406310': 6708, '0590407066': 6709, '0590407473': 6710, '0590407783': 6711, '0590409026': 6712, '0590409395': 6713, '0590410326': 6714, '0590410814': 6715, '0590411098': 6716, '0590411136': 6717, '059041139X': 6718, '0590411829': 6719, '0590411837': 6720, '0590412396': 6721, '0590412809': 6722, '0590412981': 6723, '0590413600': 6724, '0590413848': 6725, '0590413864': 6726, '0590414275': 6727, '0590414615': 6728, '059041464X': 6729, '0590415298': 6730, '0590415743': 6731, '0590416499': 6732, '0590416642': 6733, '0590416790': 6734, '0590417096': 6735, '0590417290': 6736, '059041805X': 6737, '0590420585': 6738, '0590422812': 6739, '0590423746': 6740, '0590424041': 6741, '059042422X': 6742, '0590424343': 6743, '0590425919': 6744, '0590426710': 6745, '0590426737': 6746, '0590426745': 6747, '0590426761': 6748, '0590426826': 6749, '0590426842': 6750, '0590426923': 6751, '059042694X': 6752, '059042730X': 6753, '0590427369': 6754, '0590428039': 6755, '0590428446': 6756, '0590428578': 6757, '0590428918': 6758, '0590430092': 6759, '0590431188': 6760, '059043120X': 6761, '0590431625': 6762, '0590431641': 6763, '0590431706': 6764, '0590431978': 6765, '0590432788': 6766, '0590433059': 6767, '0590433334': 6768, '0590433458': 6769, '0590433505': 6770, '0590434446': 6771, '0590434519': 6772, '0590434543': 6773, '0590434802': 6774, '0590435086': 6775, '0590435124': 6776, '0590435132': 6777, '0590436023': 6778, '0590436341': 6779, '059043652X': 6780, '0590436864': 6781, '0590437291': 6782, '0590437623': 6783, '0590437747': 6784, '0590437852': 6785, '0590438689': 6786, '0590438794': 6787, '0590438999': 6788, '0590439456': 6789, '0590440055': 6790, '059044008X': 6791, '0590440195': 6792, '0590440365': 6793, '0590440691': 6794, '0590440756': 6795, '0590441531': 6796, '0590441884': 6797, '0590442376': 6798, '059044252X': 6799, '0590442597': 6800, '0590442643': 6801, '0590442910': 6802, '0590442929': 6803, '059044347X': 6804, '059044364X': 6805, '059044381X': 6806, '0590443852': 6807, '0590443860': 6808, '0590443895': 6809, '0590443909': 6810, '0590444077': 6811, '0590444085': 6812, '0590444182': 6813, '0590444530': 6814, '0590444549': 6815, '0590444972': 6816, '0590445014': 6817, '059044509X': 6818, '0590445510': 6819, '0590445774': 6820, '0590446355': 6821, '0590447769': 6822, '059044798X': 6823, '0590448021': 6824, '0590448242': 6825, '0590448250': 6826, '0590448277': 6827, '0590448293': 6828, '0590448307': 6829, '0590448315': 6830, '0590448323': 6831, '0590448366': 6832, '0590448404': 6833, '0590448439': 6834, '059044848X': 6835, '059044963X': 6836, '0590449834': 6837, '0590449923': 6838, '059045076X': 6839, '0590450778': 6840, '0590450832': 6841, '0590451278': 6842, '0590451405': 6843, '0590451618': 6844, '0590452630': 6845, '0590452916': 6846, '0590452932': 6847, '0590453440': 6848, '0590453548': 6849, '059045367X': 6850, '0590453696': 6851, '059045403X': 6852, '0590454072': 6853, '0590454889': 6854, '0590455702': 6855, '0590455788': 6856, '0590455877': 6857, '0590455893': 6858, '0590456539': 6859, '059045658X': 6860, '0590456822': 6861, '0590457160': 6862, '0590457543': 6863, '0590457608': 6864, '0590458949': 6865, '0590459562': 6866, '0590459651': 6867, '0590459805': 6868, '0590460188': 6869, '0590460609': 6870, '0590460870': 6871, '0590461109': 6872, '0590461915': 6873, '059046244X': 6874, '0590463616': 6875, '0590463683': 6876, '0590464175': 6877, '0590464485': 6878, '0590464515': 6879, '0590464817': 6880, '0590465783': 6881, '0590466178': 6882, '0590466186': 6883, '0590466380': 6884, '0590466917': 6885, '0590468502': 6886, '0590469134': 6887, '0590469584': 6888, '0590469592': 6889, '0590469878': 6890, '0590470418': 6891, '0590470426': 6892, '0590470434': 6893, '0590470701': 6894, '059047071X': 6895, '0590471163': 6896, '0590471430': 6897, '0590471813': 6898, '0590472690': 6899, '0590472976': 6900, '0590472984': 6901, '0590473026': 6902, '0590475959': 6903, '0590476963': 6904, '0590477331': 6905, '0590477382': 6906, '0590477439': 6907, '0590477447': 6908, '0590477641': 6909, '0590478400': 6910, '0590482211': 6911, '0590482777': 6912, '0590482998': 6913, '0590483013': 6914, '0590483021': 6915, '0590483072': 6916, '0590483447': 6917, '0590483455': 6918, '059048348X': 6919, '0590483498': 6920, '0590483501': 6921, '0590483692': 6922, '0590484125': 6923, '0590484133': 6924, '0590484141': 6925, '0590484192': 6926, '0590484613': 6927, '0590484745': 6928, '0590485121': 6929, '0590485237': 6930, '0590486101': 6931, '0590486454': 6932, '0590488651': 6933, '0590489100': 6934, '059048933X': 6935, '059049418X': 6936, '0590494457': 6937, '0590494465': 6938, '0590494473': 6939, '0590494503': 6940, '0590494511': 6941, '0590500511': 6942, '0590500538': 6943, '0590500600': 6944, '0590500619': 6945, '059050214X': 6946, '0590516086': 6947, '0590516655': 6948, '0590517236': 6949, '0590523481': 6950, '0590523821': 6951, '0590524984': 6952, '0590539604': 6953, '0590543504': 6954, '0590547445': 6955, '0590554646': 6956, '0590568744': 6957, '0590568752': 6958, '0590568760': 6959, '0590568795': 6960, '0590568817': 6961, '0590568825': 6962, '0590568833': 6963, '059056885X': 6964, '0590568884': 6965, '0590568906': 6966, '0590568922': 6967, '0590568949': 6968, '0590597744': 6969, '0590603884': 6970, '0590603906': 6971, '0590623508': 6972, '0590623524': 6973, '0590623737': 6974, '0590623850': 6975, '0590624008': 6976, '0590634771': 6977, '0590634852': 6978, '0590635980': 6979, '0590636715': 6980, '0590638874': 6981, '0590639137': 6982, '0590649264': 6983, '0590649337': 6984, '0590651730': 6985, '0590662082': 6986, '059066218X': 6987, '0590662198': 6988, '0590664786': 6989, '0590664883': 6990, '0590673130': 6991, '0590673181': 6992, '059067319X': 6993, '0590674331': 6994, '059067448X': 6995, '0590679872': 6996, '0590686453': 6997, '0590687271': 6998, '0590691856': 6999, '0590691864': 7000, '0590691880': 7001, '0590691910': 7002, '0590691929': 7003, '0590691945': 7004, '0590693301': 7005, '0590697781': 7006, '0590758039': 7007, '0590762168': 7008, '0590762540': 7009, '0590762761': 7010, '0590763369': 7011, '0590819097': 7012, '0590846280': 7013, '0590847678': 7014, '0590847686': 7015, '0590847724': 7016, '0590847732': 7017, '0590847740': 7018, '0590847759': 7019, '0590849050': 7020, '0590868802': 7021, '0590869876': 7022, '059088008X': 7023, '0590880144': 7024, '0590921584': 7025, '0590922343': 7026, '0590922424': 7027, '0590922513': 7028, '0590926675': 7029, '0590931342': 7030, '0590933906': 7031, '0590934775': 7032, '059093483X': 7033, '0590934899': 7034, '0590934929': 7035, '0590939432': 7036, '0590939718': 7037, '0590939912': 7038, '0590944711': 7039, '0590955993': 7040, '0590956019': 7041, '0590956035': 7042, '0590957120': 7043, '0590962817': 7044, '0590962825': 7045, '0590962965': 7046, '0590964054': 7047, '0590967975': 7048, '0590968254': 7049, '059097503X': 7050, '0590975439': 7051, '0590981242': 7052, '0590981684': 7053, '0590983253': 7054, '0590984810': 7055, '0590992864': 7056, '059099459X': 7057, '0590996835': 7058, '0590997297': 7059, '0590997327': 7060, '0600846431': 7061, '060803320': 7062, '0609600788': 7063, '0609602330': 7064, '0618062149': 7065, '0618062157': 7066, '0618062181': 7067, '061806236X': 7068, '066910275X': 7069, '0670133698': 7070, '0670241334': 7071, '0670805149': 7072, '0670809594': 7073, '0670825182': 7074, '0670835749': 7075}\n",
      "{0: '034545104X', 1: '0155061224', 2: '0446520802', 3: '052165615X', 4: '0521795028', 5: '2080674722', 6: '3257224281', 7: '0600570967', 8: '038550120X', 9: '342310538', 10: '0425115801', 11: '0449006522', 12: '0553561618', 13: '055356451X', 14: '0786013990', 15: '0786014512', 16: '0060517794', 17: '0451192001', 18: '0609801279', 19: '0671537458', 20: '0679776818', 21: '0943066433', 22: '1570231028', 23: '1885408226', 24: '0747558167', 25: '3442437407', 26: '033390804X', 27: '3596218098', 28: '0684867621', 29: '0451166892', 30: '8440682697', 31: '034544003X', 32: '0380000059', 33: '0380711524', 34: '0451167317', 35: '0451454952', 36: '0843920262', 37: '3404122879', 38: '3404182928', 39: '3404611306', 40: '342662429', 41: '3426690179', 42: '3442424216', 43: '3442425573', 44: '3453092007', 45: '3453157745', 46: '3453176944', 47: '3453185137', 48: '3453185323', 49: '3453213025', 50: '3453877241', 51: '3492226604', 52: '3517017442', 53: '3596125006', 54: 'B0000BLD7X', 55: 'N3453124715', 56: '9029716894', 57: '9057868059', 58: '0140279091', 59: '0553572369', 60: '0571058086', 61: '3499230933', 62: '3596151465', 63: '0099543818', 64: '3404147723', 65: '3423111321', 66: '3442136644', 67: '3492232000', 68: '8434811634', 69: '8484330478', 70: '8484332039', 71: '2864322102', 72: '8402065945', 73: '8423314901', 74: '842333533X', 75: '8427911769', 76: '8433914456', 77: '8437606322', 78: '8445072919', 79: '8466300821', 80: '847765011X', 81: '8478442588', 82: '8495368099', 83: '0345443683', 84: '043935806X', 85: '055310666X', 86: '0330332775', 87: '0330367358', 88: '0006379702', 89: '3423084049', 90: '3442131340', 91: '3446202102', 92: '3453073398', 93: '3453115783', 94: '3499134004', 95: '349915398X', 96: '3548603203', 97: '3764501383', 98: '3791535889', 99: '0061054143', 100: '0061054151', 101: '0061056774', 102: '0671021346', 103: '0671024108', 104: '1562827898', 105: '9726954835', 106: '0064405176', 107: '0439104769', 108: '0440498058', 109: '8807817144', 110: '8845915913', 111: '0395547032', 112: '0440414121', 113: '8879839993', 114: '8401328322', 115: '8401461189', 116: '8401471796', 117: '8423996565', 118: '8424130081', 119: '8426449476', 120: '8426449573', 121: '8478884831', 122: '8478885218', 123: '8478885463', 124: '8478886044', 125: '8495618052', 126: '0091830893', 127: '0586207414', 128: '0812571029', 129: '0671749609', 130: '0140062718', 131: '0140260498', 132: '0060096195', 133: '0141310340', 134: '0142302198', 135: '0156006065', 136: '0375821813', 137: '038076041X', 138: '0439087597', 139: '0439401399', 140: '0552546933', 141: '0689804458', 142: '0699854289', 143: '0786812508', 144: '0786817070', 145: '0805057706', 146: '1551925060', 147: '1573248533', 148: '000651118X', 149: '0385272324', 150: '2038701962', 151: '2070264564', 152: '2070334430', 153: '2070403734', 154: '2080680676', 155: '2232122263', 156: '2253044903', 157: '2253150711', 158: '2266076000', 159: '2277221678', 160: '2290321028', 161: '2842190009', 162: '0440225825', 163: '0316781266', 164: '0345446860', 165: '0671876244', 166: '3125785006', 167: '0380005239', 168: '1593080255', 169: '0330201700', 170: '0385729340', 171: '3809407536', 172: '0446364193', 173: '3257200552', 174: '3379015180', 175: '3404145909', 176: '3404148576', 177: '3404921178', 178: '3423071516', 179: '3423204885', 180: '3423205806', 181: '3426029553', 182: '3426622610', 183: '3426671298', 184: '344215121X', 185: '3442413508', 186: '3442422035', 187: '3442435773', 188: '3442437717', 189: '3442441080', 190: '3442442796', 191: '3442444020', 192: '3442446414', 193: '3442448530', 194: '3442449820', 195: '3453137442', 196: '3453870190', 197: '3455077331', 198: '347354034X', 199: '3492231322', 200: '349912176X', 201: '3499222213', 202: '3499228297', 203: '3499232529', 204: '3499233436', 205: '3499264528', 206: '3499433443', 207: '3506464078', 208: '3548602967', 209: '3551551677', 210: '3551551685', 211: '3551551693', 212: '3551551936', 213: '359621078X', 214: '3608932240', 215: '360893541X', 216: '3608935428', 217: '3608935436', 218: '374661922X', 219: '3770131495', 220: '3809024589', 221: '3821815191', 222: '3932069234', 223: '3423100424', 224: '3442096596', 225: '3442440777', 226: '3453009304', 227: '3453042905', 228: '3453061187', 229: '3453071174', 230: '3453127013', 231: '3453211014', 232: '3462026062', 233: '349926028X', 234: '3596122279', 235: '3596287200', 236: '3922524443', 237: '0449217264', 238: '0140621741', 239: '055321358X', 240: '8420457477', 241: '8448034023', 242: '0671034944', 243: '074931012X', 244: '0843946415', 245: '2010173929', 246: '20103389', 247: '2012003494', 248: '2013218826', 249: '2013220162', 250: '207033015X', 251: '2070332985', 252: '2203142278', 253: '2205040561', 254: '221096900X', 255: '2253005274', 256: '2723402983', 257: '2747002748', 258: '2800108584', 259: '2800134259', 260: '2800134267', 261: '2800135522', 262: '2800135565', 263: '2800135719', 264: '2800135727', 265: '2803616998', 266: '2907572458', 267: '8439598459', 268: '014014899X', 269: '0140252517', 270: '0140269967', 271: '0140328742', 272: '0140366830', 273: '0140367446', 274: '0425131378', 275: '0517642689', 276: '0600571165', 277: '077104450X', 278: '0789706032', 279: '0836218833', 280: '0836220889', 281: '088365721X', 282: '1559712252', 283: '1567616089', 284: '2890510328', 285: '3257227264', 286: '0141011904', 287: '342313075X', 288: '3423201509', 289: '3423206616', 290: '344242529', 291: '3446200452', 292: '349223903X', 293: '3499231603', 294: '3704320196', 295: '3886807843', 296: '0345423402', 297: '1569312435', 298: '1892213141', 299: '8530805461', 300: '3257218516', 301: '3404126343', 302: '3404131606', 303: '3404139178', 304: '3404143299', 305: '3404614542', 306: '340645724X', 307: '3426192543', 308: '3426702266', 309: '3442421357', 310: '3442443806', 311: '345309221X', 312: '3453108361', 313: '3453126912', 314: '3453130901', 315: '3453132262', 316: '3596129389', 317: '3596237874', 318: '3596247500', 319: '3809410357', 320: '0345249372', 321: '044020562X', 322: '9026935722', 323: '0425167097', 324: '042518109X', 325: '0425188221', 326: '8500010452', 327: '8501023450', 328: '8571648972', 329: '8588615126', 330: '8589885291', 331: '009975181X', 332: '00273755', 333: '014366020444', 334: '0688172377', 335: '8481305464', 336: '8496075850', 337: '8804321008', 338: '8804375299', 339: '8804407808', 340: '8804464895', 341: '8804510579', 342: '8804512652', 343: '8806144146', 344: '8806155873', 345: '8807700735', 346: '8807806746', 347: '8807810751', 348: '880781112X', 349: '8807812495', 350: '8807813157', 351: '8807816059', 352: '8817106100', 353: '8817112917', 354: '8817877028', 355: '8820024381', 356: '883041915X', 357: '8831760122', 358: '8833908488', 359: '8838910987', 360: '8842806978', 361: '8845219747', 362: '8845249689', 363: '8846200624', 364: '88741800047', 365: '8876846565', 366: '8877825200', 367: '8879285513', 368: '8879285645', 369: '8879832905', 370: '8881110288', 371: '888634712X', 372: '8887432252', 373: '8888424121', 374: '0449210197', 375: '8817151068', 376: '0151446474', 377: '8433967606', 378: '8496280012', 379: '899792145', 380: 'B158991965', 381: '0064430227', 382: '0671723650', 383: '0812533550', 384: '8806162160', 385: '884590184X', 386: '0446613843', 387: '0140270272', 388: '0440241537', 389: '0099460343', 390: '0375901582', 391: '0439317746', 392: '0440228840', 393: '0738205737', 394: '1566911605', 395: '0060542845', 396: '0449148831', 397: '1551666308', 398: '8420430943', 399: '8420636282', 400: '8432205311', 401: '000225669X', 402: '0099549611', 403: '0701162767', 404: '1852422580', 405: '042513976X', 406: '0441008291', 407: '0006511929', 408: '002542730X', 409: '0060520507', 410: '0060930934', 411: '0060951303', 412: '0099414732', 413: '0140154078', 414: '0140327592', 415: '0140367616', 416: '0141181222', 417: '0151010633', 418: '0192834312', 419: '0194216748', 420: '0240514866', 421: '0316666343', 422: '0345391810', 423: '0375400699', 424: '0385504209', 425: '043527242X', 426: '0439284031', 427: '0439286182', 428: '0439286239', 429: '0449221148', 430: '0451527747', 431: '0486282112', 432: '0486424499', 433: '0553275283', 434: '0582530431', 435: '0590502123', 436: '0595132189', 437: '0613329740', 438: '063403541X', 439: '067172939X', 440: '0671729438', 441: '0671746502', 442: '0679721851', 443: '0679745580', 444: '0691000980', 445: '0747545111', 446: '0749931434', 447: '0754000117', 448: '0804106304', 449: '0812583566', 450: '0843128240', 451: '0879517344', 452: '0971880107', 453: '1400001625', 454: '1400002672', 455: '1853262404', 456: '2061007074', 457: '2266095536', 458: '2290309494', 459: '2742739351', 460: '3522149904', 461: '3775713328', 462: '8401009421', 463: '8401327199', 464: '8401462231', 465: '840149236X', 466: '8408011200', 467: '8420427462', 468: '8420432113', 469: '8420444367', 470: '8420789895', 471: '8422655500', 472: '8422657104', 473: '842265783X', 474: '8422693445', 475: '8423325105', 476: '8423662152', 477: '8423951537', 478: '8423970647', 479: '8423976645', 480: '8426109799', 481: '8427007450', 482: '8429712372', 483: '8429714936', 484: '842975295', 485: '8429753419', 486: '8432227706', 487: '8434830809', 488: '8434840391', 489: '8440627203', 490: '8440696833', 491: '8445071572', 492: '8447306194', 493: '8447312054', 494: '8449416078', 495: '8472453723', 496: '8473068971', 497: '8474104823', 498: '8474263123', 499: '8475071163', 500: '8475961290', 501: '8476722338', 502: '8478809783', 503: '8482180088', 504: '8483221306', 505: '8489163499', 506: '8495501090', 507: '8495501198', 508: '8496077152', 509: '8496077209', 510: '8496246140', 511: '8497931467', 512: '950491036X', 513: '9508521481', 514: '9871138016', 515: '0460010239', 516: '0749336145', 517: '1899344705', 518: '0439135494', 519: '059030271X', 520: '0590453661', 521: '0590470108', 522: '0590483404', 523: '0671021354', 524: '0671026283', 525: '0671027506', 526: '0671727109', 527: '0060964049', 528: '0380807343', 529: '0439064864', 530: '2.02.032126.2', 531: '2.264.03602.8', 532: '2020058863', 533: '2020062399', 534: '2020101653', 535: '202011528X', 536: '20202006935', 537: '20203119888', 538: '2020386666', 539: '2020564777', 540: '2020591944', 541: '2070365832', 542: '2070378411', 543: '2070386023', 544: '2070394956', 545: '2070404587', 546: '2070404706', 547: '2070404722', 548: '2070406962', 549: '2070408450', 550: '2070425770', 551: '2070725804', 552: '2080680692', 553: '2226070109', 554: '2226126570', 555: '2226135022', 556: '2253030570', 557: '2253049417', 558: '2253050407', 559: '2253055972', 560: '225307659X', 561: '2253171670', 562: '2253172367', 563: '2264010991', 564: '2264013257', 565: '2264018194', 566: '2264024674', 567: '226402593X', 568: '2264027568', 569: '2264029463', 570: '226403114', 571: '2264031158', 572: '2264033282', 573: '226403601X', 574: '2264036036', 575: '2266040820', 576: '2266047280', 577: '226604960', 578: '22660861003', 579: '2266096451', 580: '2266102028', 581: '2266102621', 582: '2266104535', 583: '2266105698', 584: '2266121367', 585: '2277302228', 586: '2290303488', 587: '2290308285', 588: '2290312924', 589: '2290315524', 590: '2290321559', 591: '2702424131', 592: '2742724028', 593: '2742724613', 594: '2742729038', 595: '2743602295', 596: '2841469824', 597: '2842611462', 598: '2868696627', 599: '2869304129', 600: '2869304560', 601: '2869304870', 602: '2869305583', 603: '2895400644', 604: '2907572121', 605: '290757213X', 606: '1566190096', 607: '0749317256', 608: '3453150538', 609: '3492224628', 610: '3492224768', 611: '3596147700', 612: '0060011939', 613: '0099283697', 614: '0140187758', 615: '0316154601', 616: '059035342X', 617: '0713628944', 618: '0752844040', 619: '1853260665', 620: '2070414256', 621: '2070419657', 622: '2253063339', 623: '2253137243', 624: '2253144452', 625: '2253152072', 626: '2264027134', 627: '226612269X', 628: '2290318329', 629: '2702400612', 630: '2702401694', 631: '2878580753', 632: '8408040383', 633: '8423310353', 634: '844140321X', 635: '8484601072', 636: '0330373269', 637: '8882461327', 638: '349202436X', 639: '8807813858', 640: '0140182551', 641: '0446310786', 642: '0886776783', 643: '3257008155', 644: '329300301X', 645: '3419528078', 646: '3423118709', 647: '3440054594', 648: '3442723078', 649: '3453034120', 650: '3480204015', 651: '3492238882', 652: '3499121808', 653: '3499153629', 654: '3502513333', 655: '3502517371', 656: '3502551685', 657: '3596119502', 658: '3596221234', 659: '3596850185', 660: '3772402542', 661: '3772420176', 662: '3794170180', 663: '3806852456', 664: '3808572612', 665: '3821812028', 666: '3922708072', 667: '7321578936', 668: '0312966970', 669: '680ISBN359623', 670: '0340818182', 671: '0061096261', 672: '0312169817', 673: '0312864590', 674: '0345348664', 675: '0345348672', 676: '0345354621', 677: '0345385764', 678: '0345435036', 679: '0385264356', 680: '0425104273', 681: '0425172546', 682: '0440218667', 683: '0440220602', 684: '0446522856', 685: '0451180054', 686: '0451198514', 687: '0515131520', 688: '0517093715', 689: '0553266306', 690: '0765342987', 691: '0812550153', 692: '0812550307', 693: '0843949163', 694: '0886773741', 695: '0886774802', 696: '0886774829', 697: '0886775426', 698: '0886775957', 699: '0886777178', 700: '1572971835', 701: '9722900684', 702: '3499221489', 703: '2422614189', 704: '0345425596', 705: '0590259970', 706: '0590260251', 707: '0590417827', 708: '0590426702', 709: '0590436422', 710: '0590436449', 711: '0590436457', 712: '0590436465', 713: '0590436481', 714: '059043649X', 715: '0590436503', 716: '0590442589', 717: '0590442988', 718: '0590442996', 719: '0590448234', 720: '0590448595', 721: '0590456458', 722: '0590456504', 723: '0590470485', 724: '0590483056', 725: '0060930187', 726: '0375760911', 727: '0689817851', 728: '0874869870', 729: '0061081450', 730: '0061083259', 731: '0061087017', 732: '0061094404', 733: '0312925689', 734: '0440295653', 735: '0671793489', 736: '0684845768', 737: '0701169176', 738: '0312244266', 739: '880701601X', 740: '8817134899', 741: '0099268345', 742: '3100970616', 743: '3257062354', 744: '3257228317', 745: '3423128879', 746: '3423202327', 747: '342677609X', 748: '3442054753', 749: '3442727073', 750: '3453132041', 751: '3478387507', 752: '3492045170', 753: '3492230814', 754: '3499101505', 755: '3545202461', 756: '3548359698', 757: '3550075359', 758: '3596154766', 759: '3596214629', 760: '0671011367', 761: '0618045996', 762: '3822858617', 763: '0864425589', 764: '8817860751', 765: '0452282101', 766: '0671025368', 767: '3257060580', 768: '0553581112', 769: '0805047379', 770: '0892964456', 771: '0373250223', 772: '0451097009', 773: '0451179994', 774: '9681500830', 775: '8432087653', 776: '0553140779', 777: '0425182150', 778: '1883473004', 779: '0061007129', 780: '0061000027', 781: '0812511816', 782: '0833531654', 783: '0880381736', 784: '0880381744', 785: '0722536283', 786: '0060505885', 787: '0061097101', 788: '0299164942', 789: '0312283709', 790: '0312983271', 791: '0380731851', 792: '0446605484', 793: '0446611212', 794: '0451188454', 795: '0451207955', 796: '0609804138', 797: '0671003755', 798: '067104754X', 799: '0743407067', 800: '074343627X', 801: '0786013230', 802: '0812509560', 803: '3426615355', 804: '3442435838', 805: '3442455707', 806: '0075536498', 807: '0099287692', 808: '0099845008', 809: '0330262130', 810: '0385720920', 811: '0393319296', 812: '0553262505', 813: '06514251', 814: '0805062971', 815: '3257228007', 816: '3442430496', 817: '3442446325', 818: '3453171500', 819: '3464371506', 820: '9513098648', 821: '0590108395', 822: '3442451353', 823: '8425330866', 824: '8481301213', 825: '0460905589', 826: '0816704627', 827: '1573229571', 828: '0060595183', 829: '9782922145441', 830: '2830207904', 831: '3499263998', 832: '0434009407', 833: '1841193887', 834: '0375700668', 835: '457871971', 836: '840149768X', 837: '8401499917', 838: '8402007287', 839: '8420600369', 840: '8420603066', 841: '8423918335', 842: '8426105084', 843: '8426429807', 844: '843223138X', 845: '8437608570', 846: '8440630921', 847: '8440630922', 848: '8470394126', 849: '8471662531', 850: '8472230082', 851: '8474541913', 852: '8478091351', 853: '3426193310', 854: '0064404773', 855: '0064407667', 856: '0552545228', 857: '006054094X', 858: '0375706038', 859: '081297106X', 860: '0843951826', 861: '1400032628', 862: '1585861553', 863: '0066210151', 864: '0385334141', 865: '0425191184', 866: '0671027343', 867: '0751503894', 868: '3714500799', 869: '0385503822', 870: '3548208975', 871: '0399138684', 872: '0425189864', 873: '0440236053', 874: '0440241073', 875: '0553586122', 876: '0099935708', 877: '0140118608', 878: '0552998249', 879: '3518408127', 880: '1586609726', 881: '0865472807', 882: '0312960344', 883: '055358068X', 884: '0792270142', 885: '0688174590', 886: '031286504X', 887: '0345342968', 888: '0375756981', 889: '0553382411', 890: '0671027662', 891: '0767903382', 892: '3785527195', 893: '1558744592', 894: '0060002484', 895: '0060094117', 896: '0312253397', 897: '0312331754', 898: '0312874243', 899: '0312979517', 900: '0316152196', 901: '0316154059', 902: '0316287555', 903: '034541389X', 904: '0345450175', 905: '0345452550', 906: '0375727981', 907: '0380975017', 908: '0385305389', 909: '0393045390', 910: '0394543289', 911: '0399135804', 912: '0399138188', 913: '0399141340', 914: '0399146466', 915: '0399146504', 916: '0399146687', 917: '0399147101', 918: '0399147144', 919: '0399147322', 920: '0399147624', 921: '0399148337', 922: '0399148450', 923: '0399148639', 924: '0399148728', 925: '0399149783', 926: '0399150811', 927: '0399150870', 928: '0399151451', 929: '0399151478', 930: '039915177X', 931: '0399151885', 932: '0425183181', 933: '0440111323', 934: '0440122147', 935: '0440221463', 936: '0441005470', 937: '0446519480', 938: '0449221512', 939: '055358295X', 940: '0670894184', 941: '0671024094', 942: '0679450408', 943: '0684801663', 944: '0684846608', 945: '0684871726', 946: '0743201604', 947: '074320607X', 948: '0743407377', 949: '0743486226', 950: '0804109990', 951: '0812571118', 952: '0969691319', 953: '8475251471', 954: '0380724987', 955: '0380726246', 956: '0380816059', 957: '0399139419', 958: '0425175405', 959: '0425182932', 960: '0440225701', 961: '0446602485', 962: '0446603406', 963: '0451091949', 964: '0553095439', 965: '0553227041', 966: '0553263226', 967: '0553295098', 968: '0553564994', 969: '067102423X', 970: '0671032658', 971: '0671653849', 972: '0722509049', 973: '0812500067', 974: '0812516001', 975: '0812568710', 976: '0843921609', 977: '0890875588', 978: '1557730091', 979: '1558172882', 980: '0425178102', 981: '0446609404', 982: '0446610038', 983: '0451178017', 984: '0553211056', 985: '0553285920', 986: '0871312549', 987: '0020259700', 988: '0345404114', 989: '0375724400', 990: '0385422598', 991: '0385479565', 992: '0425156028', 993: '0446362220', 994: '0449130282', 995: '0449213013', 996: '0449213730', 997: '0449224449', 998: '0451173139', 999: '0486282406', 1000: '0553299506', 1001: '0553575937', 1002: '0553580930', 1003: '0679737456', 1004: '0804102511', 1005: '080410946X', 1006: '0804114986', 1007: '0881503274', 1008: '8481302201', 1009: '0440414806', 1010: '0679767800', 1011: '0060527161', 1012: '0140244328', 1013: '0451198948', 1014: '0006514219', 1015: '0006542379', 1016: '0006543545', 1017: '0006550983', 1018: '0141011947', 1019: '0340734043', 1020: '0340770015', 1021: '0349105227', 1022: '0571152236', 1023: '0571176151', 1024: '0060390174', 1025: '0060976683', 1026: '0061043567', 1027: '006250794X', 1028: '0312977263', 1029: '0375708413', 1030: '038081093X', 1031: '038528859X', 1032: '0399141650', 1033: '0425144690', 1034: '0425147762', 1035: '0440224705', 1036: '0446310735', 1037: '0452269865', 1038: '0515115649', 1039: '0515129941', 1040: '0553249657', 1041: '0553281089', 1042: '0671042858', 1043: '0671782908', 1044: '0679425233', 1045: '0679433090', 1046: '0679745203', 1047: '0679767851', 1048: '0743223543', 1049: '0786701420', 1050: '0804106126', 1051: '080505622X', 1052: '0887307302', 1053: '1564141330', 1054: '1578630037', 1055: '1880323818', 1056: '1929590059', 1057: '345251547', 1058: '449003800', 1059: '44901766125', 1060: '671781383', 1061: '0140254188', 1062: '0385510500', 1063: '0525945636', 1064: '0743422732', 1065: '0789401487', 1066: '074341232X', 1067: '0020847459', 1068: '0060196076', 1069: '0060391626', 1070: '0060502258', 1071: '0060908548', 1072: '0060911271', 1073: '0060914548', 1074: '0060960930', 1075: '0060987561', 1076: '0062500279', 1077: '0062500295', 1078: '006251170X', 1079: '015644450X', 1080: '0156799804', 1081: '031214816X', 1082: '0312204809', 1083: '031284879X', 1084: '0316734837', 1085: '0345353404', 1086: '0345384202', 1087: '0345413881', 1088: '0345459407', 1089: '0375406328', 1090: '0375724672', 1091: '037582233X', 1092: '0385149514', 1093: '0385423446', 1094: '0385475721', 1095: '0385483503', 1096: '0385729332', 1097: '0394569652', 1098: '0394726413', 1099: '0394757572', 1100: '0399142789', 1101: '042511774X', 1102: '0440174953', 1103: '0440214424', 1104: '0440236673', 1105: '0446604801', 1106: '0446606189', 1107: '0446606383', 1108: '0446609323', 1109: '0449134482', 1110: '0449223345', 1111: '0451195825', 1112: '051730984X', 1113: '0553251996', 1114: '055326611X', 1115: '0553268880', 1116: '0553273604', 1117: '0553347756', 1118: '0553379615', 1119: '0553572997', 1120: '0618093974', 1121: '0670869902', 1122: '0671010115', 1123: '0671021001', 1124: '0671256181', 1125: '0671510053', 1126: '0671647458', 1127: '0679435506', 1128: '0679455876', 1129: '0679459618', 1130: '0679723285', 1131: '0679741666', 1132: '0679746048', 1133: '0684804018', 1134: '0684807548', 1135: '0684841347', 1136: '0684859769', 1137: '0723216428', 1138: '0743458036', 1139: '0786862297', 1140: '0802115160', 1141: '0804107149', 1142: '0811801802', 1143: '0811826880', 1144: '0831771690', 1145: '0852072864', 1146: '0871313073', 1147: '088011861X', 1148: '0916318405', 1149: '0939149311', 1150: '1401300448', 1151: '1558743669', 1152: '1571740562', 1153: '1573220779', 1154: '1573221856', 1155: '1577311507', 1156: '158243011X', 1157: '1882897579', 1158: '468109753', 1159: '684144433', 1160: '911824529', 1161: '0345397606', 1162: '0425034682', 1163: '0425184463', 1164: '0441694004', 1165: '044920597545', 1166: '0449209733', 1167: '044923894625', 1168: '0553271644', 1169: '0670820555', 1170: '0671446703', 1171: '0671749013', 1172: '0688171923', 1173: '0743205812', 1174: '0812521129', 1175: '0828002118', 1176: '812551788', 1177: '0316969680', 1178: '0375703861', 1179: '0440225442', 1180: '0553271571', 1181: '0743206045', 1182: '0743229878', 1183: '030700645X', 1184: '0307127923', 1185: '0307302016', 1186: '0307302636', 1187: '0307987655', 1188: '0316563242', 1189: '0380600129', 1190: '0380702843', 1191: '0380710404', 1192: '039480001X', 1193: '0394800028', 1194: '0394800184', 1195: '039480029X', 1196: '039480967X', 1197: '0394925696', 1198: '0439083702', 1199: '0439213592', 1200: '0439242363', 1201: '0439449316', 1202: '0590386522', 1203: '0590402218', 1204: '0590404342', 1205: '0590442619', 1206: '0590442791', 1207: '0590442805', 1208: '0590442899', 1209: '059044297X', 1210: '059046602X', 1211: '0590466577', 1212: '059053744X', 1213: '0590629719', 1214: '0590921622', 1215: '0590965492', 1216: '0689845405', 1217: '0689847564', 1218: '0717283194', 1219: '0717283208', 1220: '0717283275', 1221: '0717283364', 1222: '0717283372', 1223: '0717284832', 1224: '0717284972', 1225: '0717287017', 1226: '0717287106', 1227: '0721452728', 1228: '0736401113', 1229: '0761406158', 1230: '0769600239', 1231: '0785316477', 1232: '0785316493', 1233: '0785316531', 1234: '087701759X', 1235: '0882712926', 1236: '0895777010', 1237: '1561452718', 1238: '1562826468', 1239: '2764104936', 1240: '0671664964', 1241: '005531774', 1242: '044023722X', 1243: '0671015648', 1244: '0749397365', 1245: '0061044636', 1246: '0385239165', 1247: '0884946169', 1248: '0884948706', 1249: '0312282990', 1250: '0060613998', 1251: '037541309X', 1252: '0826308791', 1253: '014023313X', 1254: '0722539924', 1255: '0970961502', 1256: '014029628X', 1257: '0425188175', 1258: '038550926X', 1259: '0440772109', 1260: '0812514440', 1261: '0449005909', 1262: '0345443284', 1263: '0395742803', 1264: '0425128164', 1265: '055347782X', 1266: '0670401765', 1267: '0670637823', 1268: '067166736', 1269: '1585671312', 1270: '0316601950', 1271: '0452282152', 1272: '11238356', 1273: '8804483156', 1274: '8846200209', 1275: '0397314728', 1276: '0345422384', 1277: '0395760704', 1278: '0615116426', 1279: '8804348712', 1280: '3828400647', 1281: '1555037763', 1282: '0618134298', 1283: '0060591706', 1284: '0375708049', 1285: '0552998486', 1286: '9586391688', 1287: '9722000322', 1288: '9722100718', 1289: '972211493X', 1290: '9722320742', 1291: '9722326414', 1292: '972232957', 1293: '972232957X', 1294: '9722509713', 1295: '9722906259', 1296: '9722906283', 1297: '9724608152', 1298: '9725752228', 1299: '9726101794', 1300: '9726106141', 1301: '9726621666', 1302: '9726627532', 1303: '1887128441', 1304: '0062501860', 1305: '0553581929', 1306: '0806523794', 1307: '0425154092', 1308: '0671738232', 1309: '1551668726', 1310: '0380721643', 1311: 'O6712345670', 1312: '0446360716', 1313: '0060173289', 1314: '0060976845', 1315: '1561840564', 1316: '0441478123', 1317: '0006530400', 1318: '9041710191', 1319: '3442029724', 1320: '3746614007', 1321: '44901668125', 1322: '0385482051', 1323: '0385494084', 1324: '0767902076', 1325: '084230052X', 1326: '3257204817', 1327: '0446363073', 1328: '3518119249', 1329: '35181333217', 1330: '3596200547', 1331: '3716020028', 1332: '3717581546', 1333: '3803120624', 1334: '0739417096', 1335: '0679781587', 1336: '071009505506', 1337: '1591820537', 1338: '1931514615', 1339: '0060393823', 1340: '0156027321', 1341: '0312187335', 1342: '0929264215', 1343: '0061011509', 1344: '0553576801', 1345: '0312276885', 1346: '8806164104', 1347: '0007137699', 1348: '0671521705', 1349: '0006485294', 1350: '0060164662', 1351: '0134342283', 1352: '0138030405', 1353: '013838939X', 1354: '0140003185', 1355: '0140008217', 1356: '0140017852', 1357: '0140058605', 1358: '0140089128', 1359: '0140096825', 1360: '0140253874', 1361: '0140302980', 1362: '0141002492', 1363: '0141302933', 1364: '0192827588', 1365: '0312195516', 1366: '0345315642', 1367: '0380490986', 1368: '0385474016', 1369: '0425176673', 1370: '0435270613', 1371: '0446322180', 1372: '0446608955', 1373: '0451137965', 1374: '0553213296', 1375: '0553262807', 1376: '0553279378', 1377: '0553371835', 1378: '0586056572', 1379: '0670892963', 1380: '0670894494', 1381: '0671028375', 1382: '0671646575', 1383: '0671683993', 1384: '0679741879', 1385: '0684872153', 1386: '0684872730', 1387: '0712624090', 1388: '0713911131', 1389: '0749305401', 1390: '0767906373', 1391: '0770418686', 1392: '0770420451', 1393: '0770502466', 1394: '0786881348', 1395: '0804103658', 1396: '0804109729', 1397: '0812507452', 1398: '0812515560', 1399: '0812515595', 1400: '0812590554', 1401: '0938261088', 1402: '0941483711', 1403: '1550137387', 1404: '1550170791', 1405: '3453156366', 1406: '3499223066', 1407: '1558509828', 1408: '0957868251', 1409: '342670272X', 1410: '2253141860', 1411: '859009751X', 1412: '0399140751', 1413: '000254794', 1414: '87812797', 1415: '88043077730', 1416: '8804479272', 1417: '887983830', 1418: '8880891766', 1419: '8880894536', 1420: '8880897470', 1421: '051511605X', 1422: '0590477404', 1423: '0312253435', 1424: '0345416422', 1425: '0060170166', 1426: '0552996459', 1427: '0026217457', 1428: '003008685X', 1429: '0030615321', 1430: '0060002050', 1431: '0060006641', 1432: '0060159685', 1433: '0060177721', 1434: '0060192704', 1435: '0060542128', 1436: '0060913509', 1437: '0060929197', 1438: '006092988X', 1439: '0060930535', 1440: '0060932139', 1441: '0060934417', 1442: '0060951605', 1443: '0061004251', 1444: '0061009059', 1445: '0061030430', 1446: '0062505319', 1447: '0062507109', 1448: '0062735098', 1449: '0064400859', 1450: '006440188X', 1451: '0064636143', 1452: '0099288850', 1453: '0132220598', 1454: '0140067477', 1455: '0140067841', 1456: '0140086838', 1457: '0140185151', 1458: '0140283374', 1459: '014039026X', 1460: '0140390715', 1461: '0140621792', 1462: '014100018X', 1463: '0141439742', 1464: '0142001740', 1465: '015200405X', 1466: '0152050167', 1467: '0156000024', 1468: '0195009428', 1469: '0195283554', 1470: '0201000822', 1471: '0310205719', 1472: '0310221498', 1473: '0310268001', 1474: '0310396514', 1475: '0310435706', 1476: '0310803063', 1477: '0312302487', 1478: '0312944691', 1479: '0312950934', 1480: '0312961006', 1481: '0312965966', 1482: '0312966091', 1483: '031298328X', 1484: '0316037451', 1485: '0316096199', 1486: '0316168688', 1487: '0316284955', 1488: '0316569321', 1489: '0316602051', 1490: '0316776963', 1491: '0316777730', 1492: '0330234471', 1493: '033031582', 1494: '0345285859', 1495: '0345288068', 1496: '0345311396', 1497: '0345327772', 1498: '0345331966', 1499: '0345334019', 1500: '0345338545', 1501: '0345339681', 1502: '0345347226', 1503: '0345361792', 1504: '0345362632', 1505: '0345373561', 1506: '0345404769', 1507: '0345404777', 1508: '0345404785', 1509: '0345408039', 1510: '0345412214', 1511: '0345413903', 1512: '0345419707', 1513: '0345436911', 1514: '0373029519', 1515: '0373032811', 1516: '0373033052', 1517: '0373263694', 1518: '0373482620', 1519: '0373484232', 1520: '0373705115', 1521: '0374199698', 1522: '0375408886', 1523: '0375415491', 1524: '0375700129', 1525: '0375703764', 1526: '0375726659', 1527: '0375727132', 1528: '0375751513', 1529: '0376012161', 1530: '0376034750', 1531: '0380707551', 1532: '0380710218', 1533: '0380713292', 1534: '0380718332', 1535: '0380718758', 1536: '0380791978', 1537: '038081904X', 1538: '0380820048', 1539: '038082339X', 1540: '0380846578', 1541: '0380897822', 1542: '0385261861', 1543: '0385323816', 1544: '0385424736', 1545: '0385482388', 1546: '0385484518', 1547: '0385486804', 1548: '038548951X', 1549: '0385503857', 1550: '0393039242', 1551: '039304016X', 1552: '039447970X', 1553: '0394556968', 1554: '0394706528', 1555: '0394731220', 1556: '0394738136', 1557: '0394862147', 1558: '0395611571', 1559: '0395936136', 1560: '0399132678', 1561: '0399144463', 1562: '0399145990', 1563: '0399148442', 1564: '0399149562', 1565: '0399225064', 1566: '0399501487', 1567: '0399526145', 1568: '0425047962', 1569: '042507448X', 1570: '0425087859', 1571: '0425104338', 1572: '0425107469', 1573: '0425113884', 1574: '0425116840', 1575: '0425121631', 1576: '0425125467', 1577: '0425131769', 1578: '0425133516', 1579: '042514755X', 1580: '0425152898', 1581: '0425155943', 1582: '0425157466', 1583: '0425158616', 1584: '0425163865', 1585: '0425169871', 1586: '0425174271', 1587: '0425176088', 1588: '042518627X', 1589: '0425190749', 1590: '0439064872', 1591: '0439136369', 1592: '043936213X', 1593: '0440113423', 1594: '044011585X', 1595: '0440170796', 1596: '0440173922', 1597: '0440176484', 1598: '0440185327', 1599: '0440193613', 1600: '0440201071', 1601: '0440205506', 1602: '0440208459', 1603: '0440210690', 1604: '0440213320', 1605: '0440213991', 1606: '0440217466', 1607: '0440221501', 1608: '0440224764', 1609: '0440225450', 1610: '0440236061', 1611: '0440236703', 1612: '0440236738', 1613: '0440419468', 1614: '0440428130', 1615: '0440506832', 1616: '0441002455', 1617: '0441172717', 1618: '0441627404', 1619: '0446311677', 1620: '0446325503', 1621: '0446350982', 1622: '0446522384', 1623: '0446600415', 1624: '0446602620', 1625: '0446603716', 1626: '0446607193', 1627: '0446608009', 1628: '0446608890', 1629: '0446609048', 1630: '0446676640', 1631: '0446677507', 1632: '0449221482', 1633: '0449221504', 1634: '0449222470', 1635: '0449224813', 1636: '044922502X', 1637: '0449231992', 1638: '0451113357', 1639: '0451141083', 1640: '0451166000', 1641: '0451169522', 1642: '0451177096', 1643: '0451180739', 1644: '0451184742', 1645: '0451191153', 1646: '0451202503', 1647: '0451203593', 1648: '0451404025', 1649: '0451526562', 1650: '0452283736', 1651: '0452284449', 1652: '0471018732', 1653: '0486406644', 1654: '0486424634', 1655: '0515128015', 1656: '0515128600', 1657: '0515130923', 1658: '0515132020', 1659: '0515133302', 1660: '0517294559', 1661: '0517559501', 1662: '0517573636', 1663: '0517883384', 1664: '0523485964', 1665: '0552137030', 1666: '0552996181', 1667: '0553078925', 1668: '0553133160', 1669: '0553232266', 1670: '0553271636', 1671: '0553274295', 1672: '0553279556', 1673: '0553280341', 1674: '0553280368', 1675: '0553295780', 1676: '0553297422', 1677: '0553297619', 1678: '0553343653', 1679: '0553351672', 1680: '0553571656', 1681: '0553571818', 1682: '0553572865', 1683: '0553573926', 1684: '0553574566', 1685: '0553577808', 1686: '0553578936', 1687: '0553579274', 1688: '0553579525', 1689: '0553581058', 1690: '0553582755', 1691: '0553801430', 1692: '0573681821', 1693: '0609810138', 1694: '0631194975', 1695: '0664244882', 1696: '0670307254', 1697: '067086045X', 1698: '067091021X', 1699: '0671001795', 1700: '067101417X', 1701: '0671014420', 1702: '0671016776', 1703: '0671024086', 1704: '0671037692', 1705: '0671441981', 1706: '0671528904', 1707: '0671600982', 1708: '0671679929', 1709: '067170561X', 1710: '067172021X', 1711: '0671722808', 1712: '0671727079', 1713: '0671729470', 1714: '0671740504', 1715: '0671741209', 1716: '0671749897', 1717: '0671782525', 1718: '0671810367', 1719: '0671876821', 1720: '0674373502', 1721: '067940676X', 1722: '067941388X', 1723: '0679417648', 1724: '0679419853', 1725: '0679457313', 1726: '0679459626', 1727: '0679731148', 1728: '0679731377', 1729: '0679736042', 1730: '0679751521', 1731: '0679765018', 1732: '0684846713', 1733: '0684859300', 1734: '0684864320', 1735: '0684866048', 1736: '0684869098', 1737: '0688037879', 1738: '0688065716', 1739: '0688139752', 1740: '068971310X', 1741: '070434100X', 1742: '0708985386', 1743: '0715388185', 1744: '0718002067', 1745: '0720714729', 1746: '0736903054', 1747: '0740723367', 1748: '0743406176', 1749: '0743412028', 1750: '0743422082', 1751: '0743422910', 1752: '0743444477', 1753: '0743457943', 1754: '0749395990', 1755: '0764223259', 1756: '0764550896', 1757: '076790446X', 1758: '0785243038', 1759: '0786866845', 1760: '078762764X', 1761: '0800757483', 1762: '0800786459', 1763: '0802425488', 1764: '080284314X', 1765: '0803653719', 1766: '0803786824', 1767: '080410753X', 1768: '0804108749', 1769: '080411918X', 1770: '080501604X', 1771: '0805018956', 1772: '0805047603', 1773: '0805051309', 1774: '0809233479', 1775: '0810909650', 1776: '0811802981', 1777: '0811811409', 1778: '0812504798', 1779: '0812531353', 1780: '0812542509', 1781: '0812575555', 1782: '0821713841', 1783: '0821770829', 1784: '0835607585', 1785: '0836204387', 1786: '0836210263', 1787: '0836213068', 1788: '0836213076', 1789: '0836217632', 1790: '0836217691', 1791: '0836218221', 1792: '0836218515', 1793: '0836218655', 1794: '0836218787', 1795: '0836218817', 1796: '0836221192', 1797: '0836221311', 1798: '0836221362', 1799: '0836236688', 1800: '0842314296', 1801: '084233338X', 1802: '0842338918', 1803: '0842352368', 1804: '0842370668', 1805: '0843947888', 1806: '0843948442', 1807: '0849929954', 1808: '084993785X', 1809: '0849995892', 1810: '0850791154', 1811: '0871233096', 1812: '0871890917', 1813: '0872016269', 1814: '0875096867', 1815: '087605534X', 1816: '0877017883', 1817: '0877423814', 1818: '0877790426', 1819: '087784870X', 1820: '0878771018', 1821: '088138013X', 1822: '0884195473', 1823: '0884502627', 1824: '0886771528', 1825: '0887621112', 1826: '0890814082', 1827: '0890876517', 1828: '0890876967', 1829: '089104289X', 1830: '0891094261', 1831: '0894803204', 1832: '0894807730', 1833: '0894808249', 1834: '0895772183', 1835: '0897210026', 1836: '0897210433', 1837: '0897330536', 1838: '0898155843', 1839: '0898156122', 1840: '0898157803', 1841: '0898793912', 1842: '0898794080', 1843: '0898794544', 1844: '0898796431', 1845: '0898796601', 1846: '089879661X', 1847: '0898797055', 1848: '0898797187', 1849: '0898797993', 1850: '091031103X', 1851: '0912376090', 1852: '0912452161', 1853: '0913734489', 1854: '0914846566', 1855: '0915943263', 1856: '0918956730', 1857: '0930014464', 1858: '0932592007', 1859: '0932944523', 1860: '0964420805', 1861: '0965035214', 1862: '0967201519', 1863: '1400031354', 1864: '1400034779', 1865: '1400060265', 1866: '1551664968', 1867: '1551668157', 1868: '1556524412', 1869: '1557733090', 1870: '1558177736', 1871: '1559586893', 1872: '1559703865', 1873: '1562923668', 1874: '1563052377', 1875: '1564142019', 1876: '1564403963', 1877: '1565075722', 1878: '1565120310', 1879: '1567313000', 1880: '1568380593', 1881: '156865037X', 1882: '1570620768', 1883: '1570620970', 1884: '157224058X', 1885: '1572302399', 1886: '1572304510', 1887: '157421005X', 1888: '1576733343', 1889: '1576737160', 1890: '1576739597', 1891: '1581690606', 1892: '1582343772', 1893: '1852278099', 1894: '1852303468', 1895: '1887128255', 1896: '1930285000', 1897: '8251800811', 1898: '8495273829', 1899: '0373765541', 1900: '009977920X', 1901: '0749317132', 1902: '0864425767', 1903: '0312144075', 1904: '0771087217', 1905: '031215125X', 1906: '0590629786', 1907: '0590629794', 1908: '0590629808', 1909: '0590629816', 1910: '0312242026', 1911: '0345444892', 1912: '0399149821', 1913: '051509272X', 1914: '0553230557', 1915: '0553579134', 1916: '0671027360', 1917: '0671038443', 1918: '0688034047', 1919: '1583940790', 1920: '0849908647', 1921: '0385722206', 1922: '3150087201', 1923: '3442729785', 1924: '015659413', 1925: '0312963297', 1926: '0345382293', 1927: '0380718340', 1928: '0385491387', 1929: '0395835836', 1930: '042516098X', 1931: '044022165X', 1932: '0440226414', 1933: '0446612790', 1934: '0449219364', 1935: '051512219X', 1936: '0553121510', 1937: '0553292722', 1938: '0553571885', 1939: '0684834731', 1940: '0684855518', 1941: '0446609749', 1942: '0330312367', 1943: '3423101776', 1944: '3596200261', 1945: '3804430058', 1946: '0785264280', 1947: '014038572X', 1948: '0006715184', 1949: '006008216X', 1950: '006105481X', 1951: '0061091995', 1952: '0061092045', 1953: '0061099252', 1954: '006447108X', 1955: '0091863279', 1956: '0099743612', 1957: '0140212299', 1958: '0140318720', 1959: '0140620257', 1960: '0140621725', 1961: '014200281X', 1962: '0146000552', 1963: '0146002083', 1964: '0226244954', 1965: '0304359416', 1966: '0312113420', 1967: '0312275366', 1968: '0312848765', 1969: '0312858175', 1970: '0312868383', 1971: '031287216X', 1972: '0312873840', 1973: '0312877706', 1974: '0312910584', 1975: '0312972822', 1976: '0312979533', 1977: '0330231715', 1978: '0340565276', 1979: '034066049X', 1980: '0340745983', 1981: '0345307674', 1982: '0345310799', 1983: '0345330129', 1984: '0345332687', 1985: '0345334531', 1986: '0345351525', 1987: '0345368959', 1988: '0345394267', 1989: '034540405X', 1990: '0345439015', 1991: '0345453409', 1992: '0373244487', 1993: '0373244657', 1994: '0373244711', 1995: '0373261896', 1996: '0373286570', 1997: '0373288867', 1998: '0373288964', 1999: '0373289812', 2000: '0373291337', 2001: '037329140X', 2002: '0373291450', 2003: '0373291825', 2004: '0373291841', 2005: '0373292090', 2006: '0373292120', 2007: '0373292554', 2008: '0373292716', 2009: '0374523878', 2010: '038067470X', 2011: '0380703882', 2012: '0380717573', 2013: '0394719603', 2014: '0399128158', 2015: '0425046885', 2016: '0425061930', 2017: '0425067645', 2018: '042508471X', 2019: '0425146413', 2020: '0425150984', 2021: '0425161242', 2022: '0425169863', 2023: '0425181200', 2024: '0425185729', 2025: '0440107601', 2026: '0440124751', 2027: '0440169267', 2028: '0440201705', 2029: '0440215099', 2030: '0440223423', 2031: '0440234743', 2032: '0440975964', 2033: '0441005659', 2034: '0441206697', 2035: '0441845630', 2036: '0445409134', 2037: '0446356018', 2038: '0446604089', 2039: '0446607657', 2040: '0446611859', 2041: '0449149706', 2042: '0449204758', 2043: '0449239438', 2044: '0449244741', 2045: '0449308464', 2046: '0449907481', 2047: '0449907635', 2048: '0451156234', 2049: '0451162218', 2050: '0451197437', 2051: '0451410769', 2052: '0451459393', 2053: '0451523369', 2054: '0498024253', 2055: '0517000652', 2056: '0517119250', 2057: '0552128481', 2058: '0552142379', 2059: '0552149209', 2060: '0553025007', 2061: '0553102826', 2062: '0553129198', 2063: '0553142496', 2064: '0553147374', 2065: '0553245856', 2066: '0553264192', 2067: '0553266055', 2068: '0553268120', 2069: '0553282352', 2070: '0553578944', 2071: '0553579606', 2072: '0553579754', 2073: '0553580191', 2074: '0575005998', 2075: '0582275164', 2076: '0582480841', 2077: '0582528232', 2078: '059010683X', 2079: '0670808393', 2080: '0671020560', 2081: '0671034677', 2082: '0671525832', 2083: '0671549219', 2084: '0671640143', 2085: '0671661892', 2086: '0671665014', 2087: '0671679473', 2088: '0671809000', 2089: '0671888587', 2090: '0679761047', 2091: '0688032435', 2092: '0747234256', 2093: '0750916338', 2094: '0752524593', 2095: '0752844849', 2096: '0752853694', 2097: '0755109996', 2098: '0756401380', 2099: '0765305119', 2100: '0786817879', 2101: '0786868716', 2102: '0789477831', 2103: '0789477858', 2104: '080410526X', 2105: '0810945797', 2106: '0810946122', 2107: '0811829103', 2108: '0812532635', 2109: '0812535065', 2110: '0821733680', 2111: '0831759267', 2112: '0836215257', 2113: '0851152023', 2114: '0855030127', 2115: '0860685179', 2116: '0882668099', 2117: '0886778220', 2118: '0907849741', 2119: '1550224670', 2120: '1558745718', 2121: '1572970014', 2122: '1740595904', 2123: '1850587981', 2124: '1853260088', 2125: '1853261173', 2126: '1892065444', 2127: '1893183025', 2128: '1903919134', 2129: '1903919142', 2130: '2723426890', 2131: '2840551446', 2132: '3822855588', 2133: '382289642X', 2134: '8493127817', 2135: '85069125', 2136: '9021480069', 2137: '902183832', 2138: '9024538718', 2139: '9025409881', 2140: '9026922086', 2141: '9027444641', 2142: '9029531355', 2143: '9029537353', 2144: '9041001557', 2145: '9043904600', 2146: '904500741X', 2147: '9051217129', 2148: '9057121379', 2149: '9060197488', 2150: '9062382207', 2151: '9068340344', 2152: '9070415011', 2153: '907433699X', 2154: '9995585227', 2155: '1588515893', 2156: '0812520165', 2157: '2070528189', 2158: '8432221783', 2159: '0553148001', 2160: '0446609781', 2161: '0061091944', 2162: '0192823523', 2163: '0312261276', 2164: '0385492103', 2165: '1400030382', 2166: '2221090810', 2167: '9724115380', 2168: '9727474799', 2169: '0070212570', 2170: '0316314803', 2171: '0399143947', 2172: '345302611X', 2173: '3453042476', 2174: '3473306991', 2175: '0358159521888', 2176: '0525946241', 2177: '0553272586', 2178: '0767904311', 2179: '0425068099', 2180: '0895261901', 2181: '0312289723', 2182: '0316603570', 2183: '0316693200', 2184: '0345452577', 2185: '0345452593', 2186: '0385336322', 2187: '0385336357', 2188: '0385508042', 2189: '0385510438', 2190: '039915180X', 2191: '0399151877', 2192: '0446530891', 2193: '0517162768', 2194: '055308576X', 2195: '0553801589', 2196: '0553803409', 2197: '0671886665', 2198: '0684835983', 2199: '0739442309', 2200: '0785275967', 2201: '0842308121', 2202: '1558744150', 2203: '0340657987', 2204: '0312203675', 2205: '0316777722', 2206: '0374516812', 2207: '0375707166', 2208: '0679439382', 2209: '0679723161', 2210: '0684195488', 2211: '0688178456', 2212: '0805048782', 2213: '0974499005', 2214: '0064400557', 2215: '1550544683', 2216: '0452268060', 2217: '0679734775', 2218: '034543739X', 2219: '0425168298', 2220: '0911913009', 2221: '0553587196', 2222: '0743482077', 2223: '3404149114', 2224: '0970172605', 2225: '0345392825', 2226: '0345435168', 2227: '0446387878', 2228: '0446518581', 2229: '0553211803', 2230: '0613025326', 2231: '0671531506', 2232: '0345318587', 2233: '1582790671', 2234: '0842332278', 2235: '0140043519', 2236: '0140274286', 2237: '0140278753', 2238: '0571200389', 2239: '0571212018', 2240: '0751310158', 2241: '0751360007', 2242: '0863189113', 2243: '0879052473', 2244: '0934802904', 2245: '1858286018', 2246: '0061053775', 2247: '0312971400', 2248: '0312986769', 2249: '0312995431', 2250: '0425193322', 2251: '044667883X', 2252: '0525937021', 2253: '0743418174', 2254: '080506284X', 2255: '1590170296', 2256: '0006551238', 2257: '0007651864', 2258: '0099675404', 2259: '0385305893', 2260: '0590558021', 2261: '0671741403', 2262: '0751525766', 2263: '0803701225', 2264: '1862082626', 2265: '0553583956', 2266: '0345447867', 2267: '0385511612', 2268: '0393317552', 2269: '1885403003', 2270: '0061015725', 2271: '0142004235', 2272: '0446301582', 2273: '0446608262', 2274: '0140064966', 2275: '0091879434', 2276: '0091894158', 2277: '056353821', 2278: '0715309404', 2279: '0312202318', 2280: '8401463017', 2281: '8401499585', 2282: '8408039369', 2283: '8478884661', 2284: '0440143446', 2285: '0451158164', 2286: '0671026704', 2287: '0812579402', 2288: '0340769181', 2289: '0373872089', 2290: '0373243758', 2291: '0375707972', 2292: '0312421273', 2293: '0679771476', 2294: '8700212849', 2295: '8755900623', 2296: '8787498782', 2297: '8807701375', 2298: '0688150772', 2299: '0618002219', 2300: '0028604199', 2301: '0140340203', 2302: '0312167792', 2303: '0312290659', 2304: '0786890436', 2305: '1400031346', 2306: '1588720756', 2307: '1590521986', 2308: '3257228295', 2309: '3423000015', 2310: '3423124199', 2311: '3423125756', 2312: '3453002393', 2313: '3499207338', 2314: '0312857322', 2315: '0345391055', 2316: '0374184232', 2317: '0380005166', 2318: '0380018179', 2319: '0385472943', 2320: '0399132414', 2321: '0553100777', 2322: '0671000306', 2323: '0671000314', 2324: '0671026682', 2325: '0671452177', 2326: '0671795740', 2327: '0786861347', 2328: '0684857855', 2329: '0553245694', 2330: '1576733971', 2331: '0552994421', 2332: '0552994928', 2333: '0060008296', 2334: '0060505621', 2335: '0061081094', 2336: '0061081671', 2337: '0061083437', 2338: '006109174X', 2339: '0140055932', 2340: '0140061959', 2341: '0140862668', 2342: '030702024X', 2343: '0307605701', 2344: '0312955863', 2345: '0312969074', 2346: '0312973055', 2347: '0312975643', 2348: '0316171638', 2349: '034525421X', 2350: '0345258576', 2351: '0345271955', 2352: '0345283635', 2353: '0345286677', 2354: '0345287894', 2355: '0345297938', 2356: '0345335058', 2357: '0345346777', 2358: '034539657X', 2359: '0373025777', 2360: '0373029861', 2361: '0373030959', 2362: '0373030967', 2363: '0373031300', 2364: '0373031319', 2365: '0373031327', 2366: '037303234X', 2367: '0373032382', 2368: '0373033559', 2369: '0373035373', 2370: '0373089767', 2371: '0373096720', 2372: '0373105207', 2373: '0373105738', 2374: '0373105746', 2375: '0373111398', 2376: '0373115199', 2377: '0373115237', 2378: '0373161948', 2379: '0373219202', 2380: '0373225008', 2381: '037322558X', 2382: '0373226306', 2383: '0373226314', 2384: '0373226322', 2385: '0373241771', 2386: '0373251025', 2387: '0373287526', 2388: '037329042X', 2389: '0373290578', 2390: '0373612249', 2391: '0373614276', 2392: '0373701047', 2393: '0373702760', 2394: '0373761759', 2395: '0373825013', 2396: '0375402675', 2397: '0380001268', 2398: '0380001799', 2399: '0380435705', 2400: '0380436124', 2401: '0380556812', 2402: '0380680157', 2403: '0380706148', 2404: '0380707837', 2405: '0380715325', 2406: '0380721627', 2407: '0380756269', 2408: '0380762595', 2409: '0380776138', 2410: '0380777622', 2411: '0380788985', 2412: '0380895862', 2413: '0394171349', 2414: '0395615887', 2415: '0399149295', 2416: '0425035166', 2417: '0425042235', 2418: '0425046605', 2419: '0425060756', 2420: '0425070204', 2421: '0425071014', 2422: '0425080218', 2423: '0425107507', 2424: '0425108392', 2425: '0425117758', 2426: '0425126064', 2427: '0425132625', 2428: '0425133540', 2429: '0425142485', 2430: '0425147363', 2431: '0440092450', 2432: '0440106478', 2433: '0440116961', 2434: '044014129X', 2435: '0440150795', 2436: '0440159210', 2437: '0440162688', 2438: '0440195179', 2439: '0440202752', 2440: '0440204194', 2441: '0440206146', 2442: '0440211727', 2443: '0440211891', 2444: '0440213525', 2445: '0440214041', 2446: '0440218535', 2447: '0440222656', 2448: '0440224780', 2449: '0440407702', 2450: '0440430712', 2451: '0441224164', 2452: '0445407093', 2453: '0446302066', 2454: '0446341096', 2455: '0446359866', 2456: '0446360473', 2457: '0446401579', 2458: '0446794031', 2459: '0448027011', 2460: '0449124061', 2461: '0449124428', 2462: '0449129500', 2463: '0449143457', 2464: '0449200256', 2465: '0449206246', 2466: '044921852X', 2467: '0449221873', 2468: '0449243583', 2469: '0449244431', 2470: '0451085108', 2471: '0451110145', 2472: '0451112040', 2473: '0451115465', 2474: '0451120531', 2475: '0451130995', 2476: '0451131517', 2477: '0451132378', 2478: '0451135105', 2479: '0451162145', 2480: '0451170385', 2481: '0451172515', 2482: '0451400372', 2483: '0451401190', 2484: '0451409159', 2485: '0453007481', 2486: '0453008445', 2487: '0453008739', 2488: '0515100536', 2489: '0515105996', 2490: '0515108030', 2491: '0515119652', 2492: '0523414366', 2493: '0523414668', 2494: '0523421788', 2495: '0552115339', 2496: '0553113313', 2497: '0553121456', 2498: '0553128973', 2499: '0553131966', 2500: '0553206621', 2501: '0553228129', 2502: '0553230565', 2503: '0553235354', 2504: '055323577X', 2505: '0553264079', 2506: '0553265784', 2507: '0553277812', 2508: '0553297260', 2509: '0553443275', 2510: '0553473441', 2511: '0553478257', 2512: '0553478346', 2513: '0553492217', 2514: '0553526308', 2515: '0553527061', 2516: '0553542109', 2517: '0553702351', 2518: '0590085042', 2519: '0590088203', 2520: '0590298364', 2521: '0590313088', 2522: '0590338242', 2523: '059039990X', 2524: '0590415867', 2525: '0590420062', 2526: '0590449591', 2527: '0590453653', 2528: '0590456571', 2529: '0590456814', 2530: '0590466194', 2531: '059046728X', 2532: '0590469118', 2533: '0590470140', 2534: '059048303X', 2535: '0590568779', 2536: '0590568809', 2537: '0590568892', 2538: '0590568930', 2539: '0590687301', 2540: '067100185X', 2541: '0671001868', 2542: '0671004565', 2543: '0671034022', 2544: '0671046349', 2545: '0671046888', 2546: '0671416367', 2547: '0671425587', 2548: '0671439227', 2549: '0671469703', 2550: '0671509144', 2551: '0671535331', 2552: '0671537253', 2553: '0671811223', 2554: '0671823035', 2555: '0671825291', 2556: '0671833316', 2557: '0671868810', 2558: '0679438327', 2559: '0679439528', 2560: '0679442944', 2561: '0679445099', 2562: '067945814X', 2563: '0689704305', 2564: '069451747X', 2565: '0786001836', 2566: '0786815183', 2567: '0786815191', 2568: '0804106142', 2569: '081251050X', 2570: '0812513185', 2571: '0812522079', 2572: '0812543262', 2573: '0812830490', 2574: '0821710176', 2575: '0821712152', 2576: '0821717723', 2577: '082172598X', 2578: '082173766X', 2579: '0821738488', 2580: '0821756451', 2581: '0882074849', 2582: '1552044653', 2583: '1557739412', 2584: '1567402283', 2585: '1567403387', 2586: '1578150124', 2587: '1578151910', 2588: '1578151929', 2589: '1578152534', 2590: '1578152712', 2591: '0452277337', 2592: '9727474780', 2593: '0451210980', 2594: '067976397X', 2595: '0515121843', 2596: '0451622898', 2597: '185326203X', 2598: '0385256035', 2599: '0743225406', 2600: '0771060548', 2601: '1882943155', 2602: '2070360016', 2603: '2253006629', 2604: '0385502621', 2605: '0440236878', 2606: '051510566X', 2607: '052594544X', 2608: '0553290118', 2609: '067150374X', 2610: '0671626191', 2611: '0743206061', 2612: '0743212002', 2613: '0764222171', 2614: '087542127X', 2615: '0886777011', 2616: '3453007867', 2617: '8804413476', 2618: '8804464046', 2619: '8876414010', 2620: '0552151408', 2621: '2070541886', 2622: '2253054615', 2623: '225309031X', 2624: '2266121081', 2625: '2277220116', 2626: '0140620184', 2627: '0747538484', 2628: '0747546290', 2629: '0747551006', 2630: '202010931X', 2631: '2070362388', 2632: '2070381803', 2633: '2070403920', 2634: '2070425525', 2635: '2253016950', 2636: '225305754', 2637: '2253057649', 2638: '2253141704', 2639: '2253152846', 2640: '2266000489', 2641: '229031465X', 2642: '0060096209', 2643: '342312721X', 2644: '3423128178', 2645: '432530757', 2646: '0449208281', 2647: '0395680905', 2648: '0316769487', 2649: '0425171396', 2650: '0399145850', 2651: '0006546684', 2652: '0380717018', 2653: '0312983395', 2654: '0345441036', 2655: '0425192032', 2656: '0446611638', 2657: '0451208765', 2658: '0451210840', 2659: '0451210859', 2660: '0451210867', 2661: '0451210875', 2662: '0553582763', 2663: '0060913088', 2664: '0060924349', 2665: '0140058494', 2666: '0140512276', 2667: '0330280953', 2668: '0330344927', 2669: '0345260406', 2670: '0349104492', 2671: '0394589955', 2672: '0449212602', 2673: '0449911160', 2674: '0452264464', 2675: '0452269652', 2676: '0553282980', 2677: '0671755056', 2678: '0812967224', 2679: '0829811494', 2680: '1573227889', 2681: '1844261085', 2682: '1853752797', 2683: '3293200664', 2684: '3320013041', 2685: '3379016829', 2686: '3453172620', 2687: '3499100045', 2688: '3499102315', 2689: '3499126478', 2690: '3770153081', 2691: '3821805897', 2692: '3937793003', 2693: '089296751X', 2694: '671772465095', 2695: '1551663058', 2696: '0061031070', 2697: '0449005615', 2698: '0451205774', 2699: '0553381520', 2700: '345308201X', 2701: '3453171861', 2702: '3453198875', 2703: '0451167783', 2704: '0440217520', 2705: '074324523', 2706: '0743469984', 2707: '743411447', 2708: '185326086X', 2709: '0349112762', 2710: '0061031550', 2711: '0316117064', 2712: '0345377443', 2713: '0375760245', 2714: '0385491328', 2715: '0440235162', 2716: '0452279844', 2717: '0553213997', 2718: '0553298240', 2719: '0609806564', 2720: '0679416498', 2721: '0871137240', 2722: '0880016329', 2723: '0880482605', 2724: '0887307876', 2725: '0929634063', 2726: '1551660717', 2727: '1570515042', 2728: '1585360384', 2729: '0449005178', 2730: '0451206665', 2731: '0553576194', 2732: '0553583360', 2733: '0843950366', 2734: '881715010X', 2735: '0752847961', 2736: '0553211404', 2737: '0385502532', 2738: '0553272535', 2739: '3423125659', 2740: '0312171838', 2741: '0786889667', 2742: '0451524462', 2743: '076790592X', 2744: '0380709554', 2745: '0061097314', 2746: '0553278835', 2747: '0553262149', 2748: '0425173739', 2749: '0380778556', 2750: '0440802911', 2751: '0816741271', 2752: '0440995779', 2753: '0440407524', 2754: '0807083054', 2755: '0440967694', 2756: '0064406601', 2757: '0440228441', 2758: '0060812540', 2759: '0590684841', 2760: '0380750260', 2761: '0553210793', 2762: '0380717115', 2763: '055323370X', 2764: '0141310073', 2765: '0140345353', 2766: '0060915544', 2767: '0425173755', 2768: '0590931040', 2769: '0553210092', 2770: '0689843186', 2771: '0060931396', 2772: '0671522728', 2773: '0140118993', 2774: '0786811358', 2775: '0809015803', 2776: '0847817741', 2777: '014032724X', 2778: '0553274503', 2779: '014034893X', 2780: '0440343690', 2781: '0590554085', 2782: '1566194881', 2783: '0060953225', 2784: '0340556137', 2785: '552081256', 2786: '8496200752', 2787: '9723706148', 2788: '9728608225', 2789: '9728609187', 2790: '8845913104', 2791: '0684804212', 2792: '968419272X', 2793: '1410749029', 2794: '0395977894', 2795: '042518336X', 2796: '0553575538', 2797: '0767903579', 2798: '1551666022', 2799: '0373152604', 2800: '0373290101', 2801: '0380710056', 2802: '0450586235', 2803: '0451180240', 2804: '0451204492', 2805: '0505522004', 2806: '055357227X', 2807: '0671737643', 2808: '0671759361', 2809: '0743438035', 2810: '0747266999', 2811: '0843943289', 2812: '088396631', 2813: '088396631X', 2814: '1557734569', 2815: '3350071100', 2816: '3350071300', 2817: '804109729', 2818: '337903004X', 2819: '3404113888', 2820: '3404145356', 2821: '3423117710', 2822: '3438012022', 2823: '3442164435', 2824: '3442164516', 2825: '3442723159', 2826: '346203233X', 2827: '3499150425', 2828: '3518365797', 2829: '3518396129', 2830: '3746617332', 2831: '0380789019', 2832: '067976402X', 2833: '0786888091', 2834: '0151006903', 2835: '0060008024', 2836: '0060928336', 2837: '1558744606', 2838: '0064440044', 2839: '0064440214', 2840: '0140239820', 2841: '0330484338', 2842: '0394890485', 2843: '044651490X', 2844: '0446672211', 2845: '0446675059', 2846: '0525446044', 2847: '0525451331', 2848: '0525458417', 2849: '0563476095', 2850: '0671876295', 2851: '0679427430', 2852: '0698119517', 2853: '0803717377', 2854: '0894716174', 2855: '089480751X', 2856: '0962756245', 2857: '0440226430', 2858: '006019491X', 2859: '0743225805', 2860: '0896592413', 2861: '0399138250', 2862: '0452284937', 2863: '0060529709', 2864: '0060923245', 2865: '0345418018', 2866: '0451163966', 2867: '0452269571', 2868: '068482499X', 2869: '0766607216', 2870: '0451206460', 2871: '0394868161', 2872: '0394909674', 2873: '0439104645', 2874: '0345384377', 2875: '0373709730', 2876: '0380718146', 2877: '0446609943', 2878: '0451171071', 2879: '0553582917', 2880: '0553582925', 2881: '0812516842', 2882: '0812576063', 2883: '0812590236', 2884: '0961378492', 2885: '0061093947', 2886: '0226848639', 2887: '0375725784', 2888: '0385492081', 2889: '0446754552', 2890: '0553575104', 2891: '0684173182', 2892: '091988802X', 2893: '0060973323', 2894: '0140088946', 2895: '0374266441', 2896: '0374524653', 2897: '0375400117', 2898: '0375410287', 2899: '0380978210', 2900: '0385301499', 2901: '0385319401', 2902: '0385323638', 2903: '0385421982', 2904: '038542471X', 2905: '0385475713', 2906: '0394572068', 2907: '0395957737', 2908: '0446532231', 2909: '0446670251', 2910: '0449908186', 2911: '0553052446', 2912: '0553057014', 2913: '0553091999', 2914: '0670823198', 2915: '0670843105', 2916: '0670880728', 2917: '0679400540', 2918: '0679429220', 2919: '0679751602', 2920: '0679764925', 2921: '0679770151', 2922: '0684195984', 2923: '0684810476', 2924: '0688128734', 2925: '074751254X', 2926: '076791404x', 2927: '0767915062', 2928: '080211508x', 2929: '0804105820', 2930: '0805000585', 2931: '0811808424', 2932: '0812928318', 2933: '0892963883', 2934: '0892964650', 2935: '0937247065', 2936: '0937247502', 2937: '0945575750', 2938: '1573220310', 2939: '0373057636', 2940: '0373290608', 2941: '0373292341', 2942: '0373440421', 2943: '0380757311', 2944: '0380782782', 2945: '0425191001', 2946: '0440217628', 2947: '0446302538', 2948: '0446341150', 2949: '0449209148', 2950: '0451404645', 2951: '0451408373', 2952: '0451408659', 2953: '0505523035', 2954: '051511331X', 2955: '0515129968', 2956: '0553561537', 2957: '055357289X', 2958: '0804117586', 2959: '0821724479', 2960: '0821742167', 2961: '0843932430', 2962: '1551665522', 2963: '1557850003', 2964: '0399149244', 2965: '0590461249', 2966: '0142001821', 2967: '0316168815', 2968: '0316785261', 2969: '0345468694', 2970: '0452283205', 2971: '0452283868', 2972: '0553569074', 2973: '0684844826', 2974: '0684848406', 2975: '0684865742', 2976: '0743225325', 2977: '0743237188', 2978: '0142004278', 2979: '0380723573', 2980: '0425141233', 2981: '0451184734', 2982: '0451404777', 2983: '055328942X', 2984: '0743437802', 2985: '0006531156', 2986: '0312974256', 2987: '0312980353', 2988: '0312983301', 2989: '0312983824', 2990: '0375759689', 2991: '0380785218', 2992: '0425188787', 2993: '0446610550', 2994: '0451203771', 2995: '0451210611', 2996: '0515118249', 2997: '051512317X', 2998: '0515124214', 2999: '0515134384', 3000: '0515136263', 3001: '051513628X', 3002: '0515136379', 3003: '0515136530', 3004: '0515137111', 3005: '080505801X', 3006: '1865156035', 3007: '1869433637', 3008: '0803251246', 3009: '0140096922', 3010: '0312952716', 3011: '0375507876', 3012: '0425147517', 3013: '0446310492', 3014: '0465014909', 3015: '0500976147', 3016: '0500976236', 3017: '0970559100', 3018: '1888363576', 3019: '3822800740', 3020: '8085794551', 3021: '0446529788', 3022: '0553802542', 3023: '0684855631', 3024: '0688179088', 3025: '0743204697', 3026: '0767905385', 3027: '0864427654', 3028: '1551668904', 3029: '0002231115', 3030: '0002232766', 3031: '0028638670', 3032: '0099312107', 3033: '0224028685', 3034: '0380710846', 3035: '0446386405', 3036: '0451169530', 3037: '0771590113', 3038: '0863580424', 3039: '0886777631', 3040: '0307101711', 3041: '0020198906', 3042: '0062701649', 3043: '0312312873', 3044: '0316789089', 3045: '0345353145', 3046: '0345354613', 3047: '0345378482', 3048: '0345378490', 3049: '0345380371', 3050: '0345402871', 3051: '034540288X', 3052: '0345417623', 3053: '0374190666', 3054: '038097584X', 3055: '0395900239', 3056: '0399141464', 3057: '0399145087', 3058: '0425174808', 3059: '0425176932', 3060: '0425182673', 3061: '0425190919', 3062: '0440164842', 3063: '0446392251', 3064: '0446526126', 3065: '044840124X', 3066: '0486285537', 3067: '0517705869', 3068: '0525462325', 3069: '0671240862', 3070: '0679433740', 3071: '0679445048', 3072: '0679457526', 3073: '0684808943', 3074: '0684874350', 3075: '0688151981', 3076: '0688170412', 3077: '0743204735', 3078: '0761107363', 3079: '0785263950', 3080: '0786867434', 3081: '0786881852', 3082: '0937921556', 3083: '096665370X', 3084: '1573221112', 3085: '1888387408', 3086: '0446527785', 3087: '0440216818', 3088: '0385503008', 3089: '0896083535', 3090: '0312964919', 3091: '0373240007', 3092: '0373264089', 3093: '0373264119', 3094: '0380718669', 3095: '0394749170', 3096: '0425147711', 3097: '042516408X', 3098: '0425172600', 3099: '0446401064', 3100: '0449000346', 3101: '0449007200', 3102: '0451206274', 3103: '0517478595', 3104: '0553283960', 3105: '0671535153', 3106: '0743420373', 3107: '0786706503', 3108: '0812561864', 3109: '1853260282', 3110: '0345384369', 3111: '0345386108', 3112: '0345407288', 3113: '0425153975', 3114: '0425194736', 3115: '0440206154', 3116: '0441860532', 3117: '0446603589', 3118: '0446611778', 3119: '0515087491', 3120: '0515101486', 3121: '0515104175', 3122: '0515123293', 3123: '0553203630', 3124: '0786004797', 3125: '0804115699', 3126: '0875962564', 3127: '1593080549', 3128: '1593081017', 3129: '780451162182', 3130: '780451524201', 3131: '157174259X', 3132: '1558745157', 3133: '0486280500', 3134: '0855642440', 3135: '0553811851', 3136: '0002240114', 3137: '0679440526', 3138: '0771074549', 3139: '0394529197', 3140: '0312958455', 3141: '0345314980', 3142: '0345377370', 3143: '0345384733', 3144: '0394484347', 3145: '0425046656', 3146: '0425105113', 3147: '0440155029', 3148: '044651652X', 3149: '044651747X', 3150: '0451124340', 3151: '0515123447', 3152: '0553202189', 3153: '0671672878', 3154: '0684846675', 3155: '0880703156', 3156: '0895294834', 3157: '0937382000', 3158: '0868245739', 3159: '034543479X', 3160: '0374480095', 3161: '0446364495', 3162: '0804115761', 3163: '0821766570', 3164: '1551669110', 3165: '0142001848', 3166: '0441892604', 3167: '0061056200', 3168: '006251279X', 3169: '0099908506', 3170: '0140134212', 3171: '0140433139', 3172: '9025414532', 3173: '9027472718', 3174: '9041330984', 3175: '905501558X', 3176: '9057133008', 3177: '9057210534', 3178: '0575073047', 3179: '0394281829', 3180: '0771087004', 3181: '0878571140', 3182: '0930345037', 3183: '093393114X', 3184: '0060196300', 3185: '0671002384', 3186: '0671002406', 3187: '0671004247', 3188: '0671006754', 3189: '0743203631', 3190: '0192717529', 3191: '0671755145', 3192: '0440439884', 3193: '0449003795', 3194: '1558747281', 3195: '0375757597', 3196: '0743203178', 3197: '0060008350', 3198: '0060572965', 3199: '0061020028', 3200: '0061031410', 3201: '0061059900', 3202: '0061094129', 3203: '0312983433', 3204: '0345440064', 3205: '0345545571', 3206: '0380820889', 3207: '0385333676', 3208: '038533558X', 3209: '0385336667', 3210: '0399142649', 3211: '0399147364', 3212: '0440221048', 3213: '0446527041', 3214: '0446527912', 3215: '0446531588', 3216: '0446610607', 3217: '0446611379', 3218: '0446612510', 3219: '0449227545', 3220: '0451179153', 3221: '0451179897', 3222: '0451188950', 3223: '0451202473', 3224: '0451204301', 3225: '0451206525', 3226: '0515125490', 3227: '0515129038', 3228: '0515130389', 3229: '0515135968', 3230: '0553582364', 3231: '0671013939', 3232: '0671658301', 3233: '0671891537', 3234: '0684810387', 3235: '068815333X', 3236: '0743417836', 3237: '0786866195', 3238: '0786889845', 3239: '0805060251', 3240: '0812528042', 3241: '0812575911', 3242: '1551664976', 3243: '1551667517', 3244: '1551669609', 3245: '1551669625', 3246: '7099300799', 3247: '7100100699', 3248: '7100100750', 3249: '7678300699', 3250: '780446525800', 3251: '0805044272', 3252: '0875847706', 3253: '1857235460', 3254: '3442724937', 3255: '0061092800', 3256: '006109428', 3257: '0312878737', 3258: '0312971362', 3259: '0345441133', 3260: '0446516864', 3261: '0451204948', 3262: '0525942998', 3263: '0553564528', 3264: '0684834154', 3265: '0060501804', 3266: '0099245027', 3267: '0752837168', 3268: '1842322753', 3269: '8804520612', 3270: '880452431', 3271: '8817113204', 3272: '881712530X', 3273: '8817672963', 3274: '8817862827', 3275: '8821705714', 3276: '8830414824', 3277: '8838431345', 3278: '8844011611', 3279: '8845907341', 3280: '8855203292', 3281: '8877822171', 3282: '8885008836', 3283: '88O6166255', 3284: '0812571991', 3285: '0553813021', 3286: '0590975986', 3287: '0452281253', 3288: '0060172703', 3289: '0091881048', 3290: '0099565404', 3291: '0283073381', 3292: '0340765429', 3293: '0553812696', 3294: '0712623930', 3295: '0725107251', 3296: '0747277567', 3297: '0751519782', 3298: '0953771407', 3299: '1853064408', 3300: '1882663128', 3301: '0062737465', 3302: '0099244527', 3303: '0201354705', 3304: '0312246501', 3305: '044900371X', 3306: '0440413737', 3307: '0374270325', 3308: '0425076695', 3309: '0553802135', 3310: '0892966548', 3311: '8440657285', 3312: '0761128093', 3313: '0553210416', 3314: '8804484101', 3315: '0307126293', 3316: '0312980191', 3317: '0345423348', 3318: '0425144062', 3319: '0451160916', 3320: '0671876864', 3321: '0812549287', 3322: '0804111359', 3323: '0140244824', 3324: '0375702709', 3325: '0446605239', 3326: '0671870998', 3327: '0375412123', 3328: '0670032107', 3329: '0743431014', 3330: '1573220876', 3331: '0312924801', 3332: '0385472951', 3333: '0440236665', 3334: '0515118230', 3335: '0375713042', 3336: '0393320073', 3337: '044661162X', 3338: '0684848961', 3339: '0515130125', 3340: '0375727345', 3341: '8420738093', 3342: '8804491523', 3343: '887926396X', 3344: '0060958022', 3345: '0060002492', 3346: '0060808128', 3347: '0061013145', 3348: '0061057894', 3349: '0064409945', 3350: '0140067647', 3351: '0140350144', 3352: '0152413642', 3353: '0310239826', 3354: '0312088027', 3355: '0312951639', 3356: '0330282565', 3357: '0345257596', 3358: '0345273680', 3359: '0345274695', 3360: '0345288823', 3361: '0345331044', 3362: '0345337662', 3363: '0345347951', 3364: '0373032706', 3365: '0373035535', 3366: '0373078102', 3367: '0373079001', 3368: '0373089074', 3369: '037308918X', 3370: '037308935X', 3371: '0373089376', 3372: '0373115377', 3373: '0373115431', 3374: '0373153260', 3375: '0373194978', 3376: '0373260539', 3377: '0373702787', 3378: '0373708300', 3379: '0373832958', 3380: '0374475067', 3381: '0380429780', 3382: '0380561840', 3383: '0380708655', 3384: '0380885344', 3385: '038097570X', 3386: '0396067425', 3387: '0425036294', 3388: '0425065553', 3389: '0425162400', 3390: '0425189082', 3391: '0425194876', 3392: '043906628X', 3393: '0440111188', 3394: '0440200989', 3395: '0440224772', 3396: '0440235596', 3397: '0440840805', 3398: '0440844444', 3399: '0440940001', 3400: '0440949777', 3401: '0440983568', 3402: '0441001815', 3403: '0441094880', 3404: '0446360511', 3405: '0446527793', 3406: '0446606812', 3407: '0449209830', 3408: '0449700712', 3409: '0449702634', 3410: '0451172310', 3411: '0451451155', 3412: '0515094978', 3413: '0525442766', 3414: '055325698X', 3415: '055328553X', 3416: '0553287532', 3417: '0553562398', 3418: '0590332058', 3419: '0590434160', 3420: '059048611X', 3421: '0664326862', 3422: '0664326935', 3423: '0670894508', 3424: '0671434225', 3425: '0671508369', 3426: '0671525808', 3427: '0671553046', 3428: '0671568175', 3429: '0671612689', 3430: '0671673688', 3431: '0671677128', 3432: '0671701231', 3433: '0671745093', 3434: '0671745107', 3435: '0671786040', 3436: '0671820648', 3437: '0671867091', 3438: '0802400086', 3439: '0804112126', 3440: '0812533518', 3441: '0812566378', 3442: '0825428688', 3443: '0842339337', 3444: '0842354220', 3445: '0877887780', 3446: '0879050470', 3447: '088419597X', 3448: '0886775558', 3449: '0895774011', 3450: '0899669492', 3451: '0935908463', 3452: '1556611536', 3453: '1556616686', 3454: '1558745017', 3455: '1565999916', 3456: '1576730360', 3457: '1576739562', 3458: '1577311000', 3459: '1582293031', 3460: '1892086034', 3461: '373219350', 3462: '373219377', 3463: '373219407', 3464: '373219415', 3465: '37321944X', 3466: '373219458', 3467: '671755609', 3468: '325722575X', 3469: '0590939882', 3470: '0060148934', 3471: '0060176075', 3472: '0060191872', 3473: '0060195703', 3474: '0061093572', 3475: '006440174X', 3476: '0310252172', 3477: '0316693235', 3478: '0345374568', 3479: '0373023359', 3480: '0373217307', 3481: '0373243286', 3482: '0380798565', 3483: '0380798581', 3484: '0380817152', 3485: '0385489129', 3486: '0385490445', 3487: '0399139087', 3488: '039914465X', 3489: '0399146253', 3490: '0399146725', 3491: '0399147365', 3492: '039914739X', 3493: '0399149759', 3494: '0399150803', 3495: '0399150897', 3496: '0399151443', 3497: '0425097722', 3498: '0425147584', 3499: '0425179265', 3500: '044022103X', 3501: '0446360317', 3502: '0446517984', 3503: '0446523321', 3504: '0446525774', 3505: '0446525804', 3506: '0446613266', 3507: '0486299422', 3508: '051511779X', 3509: '0517577550', 3510: '0553052152', 3511: '0553106333', 3512: '0553378767', 3513: '0553580906', 3514: '0553801929', 3515: '067087907X', 3516: '0670896764', 3517: '0671015206', 3518: '0671023209', 3519: '0671025333', 3520: '0671040588', 3521: '0679404864', 3522: '0679450424', 3523: '0679450432', 3524: '0679450440', 3525: '0679459596', 3526: '068484477X', 3527: '0688046606', 3528: '0765341174', 3529: '076534128X', 3530: '0767913795', 3531: '0786861541', 3532: '0804107602', 3533: '0842332367', 3534: '087131763X', 3535: '0966784820', 3536: '140003180X', 3537: '1551666839', 3538: '1573220280', 3539: '1573229075', 3540: '1881334406', 3541: '0671010123', 3542: '0439097002', 3543: '0446612545', 3544: '1551664194', 3545: '0330241117', 3546: '006107635X', 3547: '0743427033', 3548: '0451524934', 3549: '0385318073', 3550: '044022425X', 3551: '0312870582', 3552: '0671227718', 3553: '0140620885', 3554: '0747530386', 3555: '0749395699', 3556: '0380817144', 3557: '0374527075', 3558: '0440324386', 3559: '0425174360', 3560: '0060198346', 3561: '0142000205', 3562: '0671038230', 3563: '0061030643', 3564: '006440630X', 3565: '0140345809', 3566: '014037423X', 3567: '0140386742', 3568: '0156005891', 3569: '0195204891', 3570: '0312969759', 3571: '0312978367', 3572: '0312979479', 3573: '0316171565', 3574: '0316693294', 3575: '0345296532', 3576: '0345309049', 3577: '0345310926', 3578: '0345331737', 3579: '0345354729', 3580: '0345366204', 3581: '0345439104', 3582: '0373169736', 3583: '0373169744', 3584: '037316985X', 3585: '0373169868', 3586: '0373169876', 3587: '0373169884', 3588: '0373218192', 3589: '0373223218', 3590: '0373255985', 3591: '0373262183', 3592: '0373272898', 3593: '037327291X', 3594: '0373272995', 3595: '0373290861', 3596: '0373441754', 3597: '0373441762', 3598: '0373441851', 3599: '037344186X', 3600: '0373451563', 3601: '0373484003', 3602: '0373711263', 3603: '0373711328', 3604: '0373762380', 3605: '0380006456', 3606: '0380699966', 3607: '0380701006', 3608: '0380705257', 3609: '0380772469', 3610: '0380818760', 3611: '038082082X', 3612: '039308647X', 3613: '0394801962', 3614: '0394831993', 3615: '0425044602', 3616: '042510107X', 3617: '0425115291', 3618: '0425120430', 3619: '0425142078', 3620: '0425144917', 3621: '0425147738', 3622: '0425174638', 3623: '0425180964', 3624: '0425182142', 3625: '042518904X', 3626: '0440122090', 3627: '0440200946', 3628: '0440209285', 3629: '0440223571', 3630: '0440237300', 3631: '0440426766', 3632: '0440457165', 3633: '0440457610', 3634: '0441659489', 3635: '0441783317', 3636: '0446327638', 3637: '0446354732', 3638: '0446611867', 3639: '0449000613', 3640: '0449002357', 3641: '0449208672', 3642: '0449704408', 3643: '0451082982', 3644: '0451180348', 3645: '0505524678', 3646: '0515084166', 3647: '0515106402', 3648: '0515110973', 3649: '0515124621', 3650: '0515130648', 3651: '0515134368', 3652: '0517007215', 3653: '0523423241', 3654: '0553115510', 3655: '0553229354', 3656: '0553241141', 3657: '055324535X', 3658: '0553252712', 3659: '0553278746', 3660: '0553560700', 3661: '0553569031', 3662: '0553574477', 3663: '0553583298', 3664: '0590407945', 3665: '0590424939', 3666: '0590424955', 3667: '0590424971', 3668: '059042498X', 3669: '0590425013', 3670: '059042503X', 3671: '0590425080', 3672: '0590433474', 3673: '0590433857', 3674: '0590433865', 3675: '0590435108', 3676: '0590436414', 3677: '0590436597', 3678: '0590437186', 3679: '0590437216', 3680: '0590437224', 3681: '0590437364', 3682: '0590439006', 3683: '0590440829', 3684: '0590448331', 3685: '0590449672', 3686: '0590456490', 3687: '0590477560', 3688: '0590523562', 3689: '0670877514', 3690: '0671523074', 3691: '067152500X', 3692: '0671556835', 3693: '0671619683', 3694: '0671639455', 3695: '0671644459', 3696: '0671644475', 3697: '0671664107', 3698: '067167630X', 3699: '0671679155', 3700: '0671727583', 3701: '0671728024', 3702: '0671739743', 3703: '0679833749', 3704: '0689800975', 3705: '0696011204', 3706: '0743403452', 3707: '0743410181', 3708: '0778320022', 3709: '0778320049', 3710: '0778320065', 3711: '0778320286', 3712: '0786000325', 3713: '0801968275', 3714: '0802768164', 3715: '0804104999', 3716: '0804107432', 3717: '0804107513', 3718: '0812508572', 3719: '0821711334', 3720: '0821714600', 3721: '0821715402', 3722: '0821717138', 3723: '0821717146', 3724: '0821728555', 3725: '0821750208', 3726: '0821774638', 3727: '082177574X', 3728: '0842378057', 3729: '0883013231', 3730: '089872211X', 3731: '0913300314', 3732: '1551660679', 3733: '1551661586', 3734: '1551664305', 3735: '1551664992', 3736: '1551665220', 3737: '1551665344', 3738: '1551666960', 3739: '1551667487', 3740: '1551668181', 3741: '1551668300', 3742: '1551669293', 3743: '1557485534', 3744: '1561446807', 3745: '3551553068', 3746: '0020532105', 3747: '0060926317', 3748: '0060958014', 3749: '0140280553', 3750: '0156007819', 3751: '0156011042', 3752: '0345423135', 3753: '0373218036', 3754: '0375705619', 3755: '0380729865', 3756: '0385319207', 3757: '0385334923', 3758: '0385494246', 3759: '0385498802', 3760: '0425152251', 3761: '0440212723', 3762: '0451209907', 3763: '0671789422', 3764: '0688177859', 3765: '0743463390', 3766: '0802139256', 3767: '1585421073', 3768: '0553574671', 3769: '0849937531', 3770: '0684841215', 3771: '0553268937', 3772: '014025448X', 3773: '0312252617', 3774: '0316102121', 3775: '0380804883', 3776: '0385316925', 3777: '0385319568', 3778: '0385324057', 3779: '0385334710', 3780: '0385497466', 3781: '0399145060', 3782: '0399148019', 3783: '0446527017', 3784: '0446527130', 3785: '0446527165', 3786: '0553104039', 3787: '0553104047', 3788: '0553104136', 3789: '0671510126', 3790: '0671786458', 3791: '0684835959', 3792: '068815090X', 3793: '0743206029', 3794: '0743412761', 3795: '1401030270', 3796: '0875421202', 3797: '8420634158', 3798: '0766607615', 3799: '0425191028', 3800: '0060168862', 3801: '014011291X', 3802: '0345392698', 3803: '0452267455', 3804: '0688170528', 3805: '0060173769', 3806: '0883680661', 3807: '0060550392', 3808: '006093090X', 3809: '0060977493', 3810: '0061050261', 3811: '0140039589', 3812: '014016779X', 3813: '014017513X', 3814: '0224060198', 3815: '0349101779', 3816: '0446672661', 3817: '0863695930', 3818: '0943151163', 3819: '1865080012', 3820: '0553290991', 3821: '0316031038', 3822: '0316031046', 3823: '0316031054', 3824: '0316779032', 3825: '0316779075', 3826: '0375411550', 3827: '0440216745', 3828: '0446613436', 3829: '0553584510', 3830: '0671027123', 3831: '0671027441', 3832: '0671039385', 3833: '0722535562', 3834: '074341702X', 3835: '0743460529', 3836: '0770429378', 3837: '0785275479', 3838: '078601525X', 3839: '0786889209', 3840: '0840776381', 3841: '084990630X', 3842: '0871236447', 3843: '0871237954', 3844: '0874776929', 3845: '0962670472', 3846: '1552783081', 3847: '1556611188', 3848: '1556612257', 3849: '155661246X', 3850: '1576738469', 3851: '157856137X', 3852: '1578561388', 3853: '1582341338', 3854: '1589196635', 3855: '1840386762', 3856: '1889613010', 3857: '051512298X', 3858: '0446604666', 3859: '0099800403', 3860: '8466302042', 3861: '8477272204', 3862: '7810461850', 3863: '0156711427', 3864: '0800714083', 3865: '3423205903', 3866: '0618129030', 3867: '080506723X', 3868: '3257009100', 3869: '3453092880', 3870: '3492004717', 3871: '3492028969', 3872: '3492105939', 3873: '3905414066', 3874: '0441001947', 3875: '0345455916', 3876: '1565611489', 3877: '0061093327', 3878: '0062720732', 3879: '0066211115', 3880: '0316926078', 3881: '0440241162', 3882: '0440508320', 3883: '0515114006', 3884: '0897333659', 3885: '1878424319', 3886: '0060194596', 3887: '0060974788', 3888: '039592720X', 3889: '0449912302', 3890: '0451153553', 3891: '0880299428', 3892: '0451163494', 3893: '0671035347', 3894: '0689821085', 3895: '8466303316', 3896: '0679435549', 3897: '0439544114', 3898: '067988288X', 3899: '0590553232', 3900: '1567184693', 3901: '3442444365', 3902: '0743418719', 3903: '0345447832', 3904: '2070495027', 3905: '0375410848', 3906: '0968467504', 3907: '1881955230', 3908: '0432534220', 3909: '0316309419', 3910: '084226244270', 3911: '0060165979', 3912: '006091291X', 3913: '0140309578', 3914: '0385319959', 3915: '0393046990', 3916: '0399146431', 3917: '0425181618', 3918: '0679445315', 3919: '0688180191', 3920: '0691017840', 3921: '0743224574', 3922: '1573221775', 3923: '0373702736', 3924: '1551667525', 3925: '0312202911', 3926: '0898861411', 3927: '9029001291', 3928: '0804900205', 3929: '0312275420', 3930: '031285627X', 3931: '0316211389', 3932: '0425184226', 3933: '0671864173', 3934: '0679308113', 3935: '0732258049', 3936: '0771099894', 3937: '0786889020', 3938: '0786889322', 3939: '0861242491', 3940: '0061099813', 3941: '0060198400', 3942: '0140444173', 3943: '0312009941', 3944: '0312205155', 3945: '0345425286', 3946: '0394484479', 3947: '0425185001', 3948: '0446600261', 3949: '051513287X', 3950: '0671637525', 3951: '0684800713', 3952: '0684867745', 3953: '1583226443', 3954: '1577780728', 3955: '193059609X', 3956: '0025173251', 3957: '0028620585', 3958: '0028629299', 3959: '0060111011', 3960: '0060163704', 3961: '0060551895', 3962: '006091646X', 3963: '0062502123', 3964: '0140167153', 3965: '0140298533', 3966: '0141310944', 3967: '0156612062', 3968: '0192828630', 3969: '0312265859', 3970: '0312965338', 3971: '0375504044', 3972: '0385266359', 3973: '0394580567', 3974: '0439139600', 3975: '0440057574', 3976: '0446378445', 3977: '0446517097', 3978: '0446977551', 3979: '0517060205', 3980: '0525246606', 3981: '0671016768', 3982: '067165764X', 3983: '0688041140', 3984: '0688111289', 3985: '0761522212', 3986: '0762721979', 3987: '0786868414', 3988: '0802100155', 3989: '0814450598', 3990: '0842304673', 3991: '0874843936', 3992: '087795979X', 3993: '0884270610', 3994: '1567310028', 3995: '1853263214', 3996: '0064407462', 3997: '0878332170', 3998: '0312957866', 3999: '0671868691', 4000: '0816730091', 4001: '0380729342', 4002: '0399505032', 4003: '0446518107', 4004: '1559722630', 4005: '0060530103', 4006: '0425147231', 4007: '0471214205', 4008: '0786886323', 4009: '0752826883', 4010: '0375409440', 4011: '0380730847', 4012: '0385313667', 4013: '0399147195', 4014: '0425182908', 4015: '0446531480', 4016: '044661257X', 4017: '0553569058', 4018: '0679742298', 4019: '0684814196', 4020: '0688152449', 4021: '0679732705', 4022: '1853260339', 4023: '0732257476', 4024: '0553286218', 4025: '3426600218', 4026: '8879831607', 4027: '0345425707', 4028: '0446608831', 4029: '0446610542', 4030: '155166898X', 4031: '1551669021', 4032: '0679308806', 4033: '0006128831', 4034: '0006542808', 4035: '0020209606', 4036: '0020418809', 4037: '0020420900', 4038: '002043300X', 4039: '0020435207', 4040: '0020442203', 4041: '0020442408', 4042: '0020518307', 4043: '0027058573', 4044: '0027081605', 4045: '0027381412', 4046: '0027478459', 4047: '0027744116', 4048: '0027746550', 4049: '0027811700', 4050: '0030045592', 4051: '0030180961', 4052: '003021436X', 4053: '0030214416', 4054: '0030285860', 4055: '0039217299', 4056: '0051312569', 4057: '0060094397', 4058: '006015957X', 4059: '006016848X', 4060: '0060169087', 4061: '0060175532', 4062: '0060176555', 4063: '0060186534', 4064: '0060187247', 4065: '0060192895', 4066: '0060195460', 4067: '0060196084', 4068: '0060201762', 4069: '006020883X', 4070: '0060224835', 4071: '0060235322', 4072: '0060236744', 4073: '0060238003', 4074: '0060238372', 4075: '0060241020', 4076: '0060242019', 4077: '0060244240', 4078: '0060253622', 4079: '0060257342', 4080: '0060269855', 4081: '0060392185', 4082: '0060392436', 4083: '0060801115', 4084: '0060806982', 4085: '0060807199', 4086: '0060915153', 4087: '0060920386', 4088: '0060927542', 4089: '0060937688', 4090: '0060972297', 4091: '0060972335', 4092: '0060974435', 4093: '006098418X', 4094: '0060995084', 4095: '0061004499', 4096: '0061008516', 4097: '0061008753', 4098: '0061020192', 4099: '0061020273', 4100: '0061032042', 4101: '0061040797', 4102: '0061041300', 4103: '0061043958', 4104: '0061043990', 4105: '0061051128', 4106: '0061052477', 4107: '0061053473', 4108: '0061056219', 4109: '0061056928', 4110: '0061059897', 4111: '0061061441', 4112: '0061062820', 4113: '0061062995', 4114: '0061064475', 4115: '0061065404', 4116: '0061065579', 4117: '0061065854', 4118: '0061065870', 4119: '0061071285', 4120: '006107408X', 4121: '0061076031', 4122: '0061080489', 4123: '0061080535', 4124: '0061082260', 4125: '0061083097', 4126: '0061090808', 4127: '0061091464', 4128: '0061091790', 4129: '0061092827', 4130: '0061093343', 4131: '0061093653', 4132: '006109398X', 4133: '0061094110', 4134: '0061095869', 4135: '0061097233', 4136: '0061099015', 4137: '006109921X', 4138: '0061099279', 4139: '0062514113', 4140: '0062731769', 4141: '0062733036', 4142: '0064400018', 4143: '0064400425', 4144: '0064400581', 4145: '0064401308', 4146: '0064401324', 4147: '0064401367', 4148: '0064401774', 4149: '0064401987', 4150: '0064402215', 4151: '0064406210', 4152: '0064406229', 4153: '0064406431', 4154: '0064407055', 4155: '0064420744', 4156: '0064430170', 4157: '0064430200', 4158: '0064440168', 4159: '0064440303', 4160: '0064440648', 4161: '006444144X', 4162: '0064443094', 4163: '0064450872', 4164: '0064470059', 4165: '0064471047', 4166: '0064471136', 4167: '0066211611', 4168: '0070093431', 4169: '0070145121', 4170: '0070311234', 4171: '0070477825', 4172: '0070535795', 4173: '0070676836', 4174: '0070686963', 4175: '0072118547', 4176: '0075547953', 4177: '0078823498', 4178: '0078823579', 4179: '0079136710', 4180: '0131798219', 4181: '0133273393', 4182: '0135527465', 4183: '0136643345', 4184: '0137691344', 4185: '0138242771', 4186: '0140011730', 4187: '0140047395', 4188: '0140065172', 4189: '0140080805', 4190: '0140080813', 4191: '0140089756', 4192: '0140093818', 4193: '0140116524', 4194: '0140141081', 4195: '0140177396', 4196: '0140184953', 4197: '0140274782', 4198: '0140303642', 4199: '0140312587', 4200: '0140314202', 4201: '0140320385', 4202: '0140328718', 4203: '0140329412', 4204: '0140329692', 4205: '0140341684', 4206: '014034294X', 4207: '0140344438', 4208: '0140350039', 4209: '0140350543', 4210: '0140361219', 4211: '014036336X', 4212: '0140366679', 4213: '0140367209', 4214: '0140375562', 4215: '0140376577', 4216: '0140389652', 4217: '0140390634', 4218: '0140463704', 4219: '0140491503', 4220: '0140501711', 4221: '0140502068', 4222: '0140502408', 4223: '0140503528', 4224: '0140505067', 4225: '0140546499', 4226: '0140548408', 4227: '0140548521', 4228: '0140553053', 4229: '014058661X', 4230: '0140707018', 4231: '0141307129', 4232: '0146000579', 4233: '0146000706', 4234: '0146000900', 4235: '0146000994', 4236: '0146001109', 4237: '0146001184', 4238: '0151238162', 4239: '0151306400', 4240: '0151310750', 4241: '0151544964', 4242: '0151594805', 4243: '0151730857', 4244: '0151879788', 4245: '0152006044', 4246: '0152013725', 4247: '0152018638', 4248: '0152234985', 4249: '0152268332', 4250: '0152339000', 4251: '0152423885', 4252: '0152986103', 4253: '015299646X', 4254: '0153472804', 4255: '015540475X', 4256: '0156423502', 4257: '0156528207', 4258: '015679201X', 4259: '0192816071', 4260: '0192833898', 4261: '0200717294', 4262: '0201054027', 4263: '0201432986', 4264: '0246134984', 4265: '025602670X', 4266: '0256093601', 4267: '0256106525', 4268: '0256124531', 4269: '0256169179', 4270: '0263739848', 4271: '0300028172', 4272: '0307000699', 4273: '0307000826', 4274: '0307000966', 4275: '0307000974', 4276: '0307001008', 4277: '0307001067', 4278: '0307001091', 4279: '0307001105', 4280: '0307001113', 4281: '030700113X', 4282: '0307001164', 4283: '0307001202', 4284: '0307001237', 4285: '0307001245', 4286: '0307001296', 4287: '0307001385', 4288: '0307001458', 4289: '0307002047', 4290: '0307002144', 4291: '0307003264', 4292: '0307004589', 4293: '0307006441', 4294: '0307010007', 4295: '0307010015', 4296: '0307010082', 4297: '0307010201', 4298: '030701021X', 4299: '030701035X', 4300: '0307010368', 4301: '0307010376', 4302: '0307010449', 4303: '0307010945', 4304: '0307010953', 4305: '0307011003', 4306: '0307020010', 4307: '030702005X', 4308: '0307020193', 4309: '0307020223', 4310: '0307020231', 4311: '0307020258', 4312: '0307020339', 4313: '0307020355', 4314: '0307020363', 4315: '0307020398', 4316: '0307020460', 4317: '0307020495', 4318: '030702055X', 4319: '0307020584', 4320: '0307020649', 4321: '0307020711', 4322: '0307020770', 4323: '0307020827', 4324: '0307021017', 4325: '0307021076', 4326: '0307021106', 4327: '030702119X', 4328: '030702122X', 4329: '0307021343', 4330: '0307021394', 4331: '0307021548', 4332: '0307021572', 4333: '0307021653', 4334: '0307021688', 4335: '0307021696', 4336: '0307021718', 4337: '0307021726', 4338: '0307021750', 4339: '0307021769', 4340: '0307021777', 4341: '0307021785', 4342: '0307021858', 4343: '0307022196', 4344: '0307022390', 4345: '0307030016', 4346: '0307030458', 4347: '0307030504', 4348: '0307030601', 4349: '0307030709', 4350: '0307030768', 4351: '0307030806', 4352: '0307030849', 4353: '0307039161', 4354: '0307039463', 4355: '0307045242', 4356: '0307045501', 4357: '0307045927', 4358: '0307045935', 4359: '030704601X', 4360: '0307046028', 4361: '0307046117', 4362: '0307060330', 4363: '0307060624', 4364: '0307060845', 4365: '0307061086', 4366: '030707000X', 4367: '0307070190', 4368: '0307070387', 4369: '0307070468', 4370: '0307070484', 4371: '0307070565', 4372: '0307070573', 4373: '0307071014', 4374: '0307076032', 4375: '0307100022', 4376: '0307100111', 4377: '0307100189', 4378: '0307100278', 4379: '0307100324', 4380: '0307100359', 4381: '0307100456', 4382: '0307100464', 4383: '0307100553', 4384: '0307100561', 4385: '030710057X', 4386: '0307100626', 4387: '0307100707', 4388: '0307100723', 4389: '0307100782', 4390: '0307100790', 4391: '0307100812', 4392: '0307100863', 4393: '0307100899', 4394: '0307100928', 4395: '0307100936', 4396: '0307101002', 4397: '0307101088', 4398: '0307101134', 4399: '0307101177', 4400: '0307101231', 4401: '030710124X', 4402: '0307101258', 4403: '0307101274', 4404: '0307101320', 4405: '0307101363', 4406: '030710138X', 4407: '0307101398', 4408: '0307101401', 4409: '0307101452', 4410: '0307101479', 4411: '0307101541', 4412: '0307101622', 4413: '0307101630', 4414: '0307101649', 4415: '0307101657', 4416: '0307101703', 4417: '0307101746', 4418: '0307101762', 4419: '0307102491', 4420: '030710253X', 4421: '0307102602', 4422: '0307102793', 4423: '0307102823', 4424: '0307103781', 4425: '0307104605', 4426: '0307105520', 4427: '0307105539', 4428: '0307105563', 4429: '0307105571', 4430: '0307105598', 4431: '030710561X', 4432: '0307109003', 4433: '0307109089', 4434: '0307109100', 4435: '0307109275', 4436: '0307109905', 4437: '0307111326', 4438: '0307111822', 4439: '0307113221', 4440: '0307113248', 4441: '0307114104', 4442: '030711466X', 4443: '0307114686', 4444: '0307114724', 4445: '0307115232', 4446: '0307115356', 4447: '0307115399', 4448: '0307115410', 4449: '0307115534', 4450: '0307115852', 4451: '0307116166', 4452: '0307116573', 4453: '0307116581', 4454: '0307116662', 4455: '0307116824', 4456: '0307117111', 4457: '0307117138', 4458: '0307117146', 4459: '0307117235', 4460: '0307117316', 4461: '0307117332', 4462: '0307117383', 4463: '0307117472', 4464: '030711807X', 4465: '0307118312', 4466: '0307118398', 4467: '0307118401', 4468: '0307118649', 4469: '030711869X', 4470: '0307118703', 4471: '030711886X', 4472: '0307118886', 4473: '0307118975', 4474: '0307119262', 4475: '0307119483', 4476: '0307119599', 4477: '0307119610', 4478: '0307119696', 4479: '0307119783', 4480: '0307120112', 4481: '0307120147', 4482: '0307120155', 4483: '0307120236', 4484: '0307121259', 4485: '0307122689', 4486: '0307122999', 4487: '0307123456', 4488: '0307123464', 4489: '030712391X', 4490: '0307123952', 4491: '0307125165', 4492: '0307125289', 4493: '0307125556', 4494: '0307125653', 4495: '0307125890', 4496: '0307126455', 4497: '0307126927', 4498: '0307127346', 4499: '0307127907', 4500: '0307128067', 4501: '0307128237', 4502: '0307128407', 4503: '0307128431', 4504: '030712844X', 4505: '0307128466', 4506: '0307128474', 4507: '0307128571', 4508: '0307128814', 4509: '0307128849', 4510: '0307128954', 4511: '0307129047', 4512: '030712908X', 4513: '0307129160', 4514: '0307129322', 4515: '0307129403', 4516: '0307129438', 4517: '0307129659', 4518: '0307131106', 4519: '0307131556', 4520: '030713184X', 4521: '0307131947', 4522: '0307132552', 4523: '0307133168', 4524: '0307133281', 4525: '0307139794', 4526: '0307155757', 4527: '0307158535', 4528: '030716232X', 4529: '0307166503', 4530: '0307166813', 4531: '0307174530', 4532: '0307177009', 4533: '0307177106', 4534: '0307177181', 4535: '030717719X', 4536: '030720006X', 4537: '0307200116', 4538: '0307204022', 4539: '0307222071', 4540: '030723102X', 4541: '0307231038', 4542: '0307231100', 4543: '0307247155', 4544: '0307290026', 4545: '0307290050', 4546: '0307301052', 4547: '030730115X', 4548: '0307301192', 4549: '0307301206', 4550: '0307301257', 4551: '0307301281', 4552: '0307301303', 4553: '0307301451', 4554: '0307302202', 4555: '0307302822', 4556: '0307302970', 4557: '0307302997', 4558: '0307411931', 4559: '030741194X', 4560: '0307420272', 4561: '0307485307', 4562: '0307580229', 4563: '0307581187', 4564: '0307581365', 4565: '0307581438', 4566: '0307592251', 4567: '0307592618', 4568: '0307617203', 4569: '0307681033', 4570: '0307681300', 4571: '0307681408', 4572: '0307681564', 4573: '030768931X', 4574: '030768962X', 4575: '0307719723', 4576: '0307740145', 4577: '030774020X', 4578: '0307740242', 4579: '0307740250', 4580: '0307740439', 4581: '0307743071', 4582: '0307747107', 4583: '0307748073', 4584: '030774826X', 4585: '0307748278', 4586: '030780125X', 4587: '0307909034', 4588: '0307909603', 4589: '0307957829', 4590: '030798754X', 4591: '0307987566', 4592: '0307987698', 4593: '0307987825', 4594: '0307987892', 4595: '0307987981', 4596: '0307988031', 4597: '0307988082', 4598: '0307988155', 4599: '030798818X', 4600: '0307988414', 4601: '0307988619', 4602: '0307988759', 4603: '0310207045', 4604: '0310225302', 4605: '0310226554', 4606: '0310233682', 4607: '031090403X', 4608: '0310912520', 4609: '0310926238', 4610: '0312009658', 4611: '0312018193', 4612: '0312042825', 4613: '0312044410', 4614: '0312069299', 4615: '0312101597', 4616: '0312143214', 4617: '0312154720', 4618: '0312155824', 4619: '0312206119', 4620: '0312243081', 4621: '0312269242', 4622: '031264776X', 4623: '0312850131', 4624: '0312853912', 4625: '0312858213', 4626: '0312859589', 4627: '0312860862', 4628: '0312861125', 4629: '0312902026', 4630: '0312910282', 4631: '0312911912', 4632: '0312917678', 4633: '0312922884', 4634: '0312923651', 4635: '0312950446', 4636: '0312950810', 4637: '0312951477', 4638: '0312951701', 4639: '0312956975', 4640: '0312957890', 4641: '0312958129', 4642: '0312961324', 4643: '0312964064', 4644: '0312970234', 4645: '0312971850', 4646: '0312975597', 4647: '0312976909', 4648: '0312981589', 4649: '031298250X', 4650: '0312983069', 4651: '0312983212', 4652: '0316038172', 4653: '0316073040', 4654: '0316075116', 4655: '0316104647', 4656: '0316105368', 4657: '0316110744', 4658: '0316111236', 4659: '0316121789', 4660: '0316139815', 4661: '0316171476', 4662: '0316171530', 4663: '0316172057', 4664: '0316190179', 4665: '0316289124', 4666: '0316526347', 4667: '0316531004', 4668: '0316643726', 4669: '0316693359', 4670: '0316777129', 4671: '0321096983', 4672: '0330376136', 4673: '0345234502', 4674: '0345256115', 4675: '0345257189', 4676: '0345272463', 4677: '0345285077', 4678: '0345285549', 4679: '0345291328', 4680: '0345300742', 4681: '0345301706', 4682: '0345303334', 4683: '0345309154', 4684: '034530988X', 4685: '0345313860', 4686: '0345314255', 4687: '034531784X', 4688: '0345318617', 4689: '0345318854', 4690: '0345321421', 4691: '0345324633', 4692: '0345326954', 4693: '0345327853', 4694: '0345334590', 4695: '0345335287', 4696: '0345339533', 4697: '0345340396', 4698: '0345348036', 4699: '0345349342', 4700: '0345350707', 4701: '0345352459', 4702: '0345352661', 4703: '0345353625', 4704: '0345354915', 4705: '0345359925', 4706: '0345365461', 4707: '0345367073', 4708: '0345368754', 4709: '0345369335', 4710: '0345370139', 4711: '0345375343', 4712: '0345379365', 4713: '034538184X', 4714: '0345384350', 4715: '0345384466', 4716: '0345384741', 4717: '034538475X', 4718: '034538850X', 4719: '0345388771', 4720: '0345412974', 4721: '0345422317', 4722: '0345428919', 4723: '0345429028', 4724: '0345430514', 4725: '0345431464', 4726: '0345435648', 4727: '0345440404', 4728: '0345459148', 4729: '0356123804', 4730: '0373013027', 4731: '0373014678', 4732: '0373015976', 4733: '0373016743', 4734: '0373018703', 4735: '0373020708', 4736: '0373022301', 4737: '0373022956', 4738: '0373023308', 4739: '0373023332', 4740: '0373023383', 4741: '0373023863', 4742: '0373024436', 4743: '0373024576', 4744: '0373024622', 4745: '0373024630', 4746: '0373024665', 4747: '0373024711', 4748: '0373024967', 4749: '0373024975', 4750: '0373025009', 4751: '0373025033', 4752: '037302505X', 4753: '0373025084', 4754: '0373025203', 4755: '0373025297', 4756: '0373025580', 4757: '0373025688', 4758: '0373025807', 4759: '0373025823', 4760: '0373025971', 4761: '0373026048', 4762: '0373026234', 4763: '0373026498', 4764: '0373026773', 4765: '037302715X', 4766: '0373027826', 4767: '0373027923', 4768: '0373028180', 4769: '0373028415', 4770: '0373028636', 4771: '0373028652', 4772: '0373028709', 4773: '0373028741', 4774: '0373029209', 4775: '0373029314', 4776: '0373029373', 4777: '0373029527', 4778: '0373029691', 4779: '0373029705', 4780: '037302973X', 4781: '0373029780', 4782: '0373029799', 4783: '0373029853', 4784: '0373029896', 4785: '037303007X', 4786: '0373030142', 4787: '0373030169', 4788: '0373030215', 4789: '0373030231', 4790: '0373030258', 4791: '0373030266', 4792: '0373030274', 4793: '0373030312', 4794: '0373030320', 4795: '0373030363', 4796: '0373030436', 4797: '0373030622', 4798: '0373030681', 4799: '0373030738', 4800: '0373030878', 4801: '0373030908', 4802: '0373030924', 4803: '0373030932', 4804: '0373031017', 4805: '0373031076', 4806: '0373031114', 4807: '0373031203', 4808: '037303122X', 4809: '0373031262', 4810: '0373031270', 4811: '037303136X', 4812: '0373031386', 4813: '0373031467', 4814: '0373031475', 4815: '0373031483', 4816: '0373031513', 4817: '0373031521', 4818: '0373031548', 4819: '0373031637', 4820: '0373031645', 4821: '0373031769', 4822: '0373031785', 4823: '037303203X', 4824: '0373032307', 4825: '0373032765', 4826: '037303279X', 4827: '0373032897', 4828: '0373033044', 4829: '0373033095', 4830: '0373033125', 4831: '0373033133', 4832: '0373033176', 4833: '0373033281', 4834: '0373033354', 4835: '0373033362', 4836: '0373033443', 4837: '0373033478', 4838: '0373033567', 4839: '0373033729', 4840: '037303377X', 4841: '0373034210', 4842: '0373034245', 4843: '037303458X', 4844: '0373034598', 4845: '0373034601', 4846: '0373034725', 4847: '0373034857', 4848: '0373034873', 4849: '0373035446', 4850: '0373035616', 4851: '0373035659', 4852: '0373036736', 4853: '0373036752', 4854: '0373036957', 4855: '0373037074', 4856: '0373058063', 4857: '0373058616', 4858: '0373058705', 4859: '0373059396', 4860: '0373059671', 4861: '0373062265', 4862: '0373071388', 4863: '0373072422', 4864: '0373072694', 4865: '0373072740', 4866: '037307302X', 4867: '0373073364', 4868: '037307347X', 4869: '0373073844', 4870: '0373074050', 4871: '0373074174', 4872: '0373074506', 4873: '0373074646', 4874: '0373074948', 4875: '0373075014', 4876: '0373075308', 4877: '0373075367', 4878: '0373075650', 4879: '037307610X', 4880: '0373076215', 4881: '037307638X', 4882: '0373076444', 4883: '0373076487', 4884: '0373076509', 4885: '037307655X', 4886: '0373076746', 4887: '0373076886', 4888: '0373076916', 4889: '0373077017', 4890: '0373077130', 4891: '0373077157', 4892: '0373077211', 4893: '0373077262', 4894: '0373077378', 4895: '0373077386', 4896: '0373077424', 4897: '0373078129', 4898: '0373078609', 4899: '0373078870', 4900: '0373078986', 4901: '0373079079', 4902: '0373079176', 4903: '0373079516', 4904: '0373079532', 4905: '0373079729', 4906: '0373079737', 4907: '037307977X', 4908: '0373085184', 4909: '0373085974', 4910: '0373086059', 4911: '0373087438', 4912: '0373087802', 4913: '0373088930', 4914: '0373089740', 4915: '0373089791', 4916: '037309227X', 4917: '0373092687', 4918: '0373093748', 4919: '0373094213', 4920: '0373094728', 4921: '0373095090', 4922: '0373095228', 4923: '0373095465', 4924: '0373095848', 4925: '0373096313', 4926: '0373097654', 4927: '0373097832', 4928: '0373097840', 4929: '0373098073', 4930: '0373098189', 4931: '0373098251', 4932: '0373098456', 4933: '0373098472', 4934: '0373098553', 4935: '0373098561', 4936: '0373098863', 4937: '0373098871', 4938: '0373098960', 4939: '0373099037', 4940: '0373099193', 4941: '0373099258', 4942: '0373099304', 4943: '0373099312', 4944: '0373099355', 4945: '0373099401', 4946: '0373099436', 4947: '0373099444', 4948: '0373099460', 4949: '0373099568', 4950: '0373099614', 4951: '0373099754', 4952: '0373099800', 4953: '0373101104', 4954: '0373101473', 4955: '0373102682', 4956: '0373102968', 4957: '0373103425', 4958: '037310359X', 4959: '0373104030', 4960: '0373104065', 4961: '0373104480', 4962: '0373104677', 4963: '0373105045', 4964: '0373105096', 4965: '0373105118', 4966: '0373105185', 4967: '0373105290', 4968: '0373105320', 4969: '0373105401', 4970: '037310555X', 4971: '0373105568', 4972: '037310572X', 4973: '0373105800', 4974: '0373105894', 4975: '0373105932', 4976: '037310605X', 4977: '0373106068', 4978: '0373106246', 4979: '0373106270', 4980: '0373106327', 4981: '037310636X', 4982: '0373106610', 4983: '0373106734', 4984: '0373106939', 4985: '0373107072', 4986: '0373107250', 4987: '0373107412', 4988: '0373107455', 4989: '0373107668', 4990: '0373107676', 4991: '0373107943', 4992: '0373107951', 4993: '0373107978', 4994: '0373108060', 4995: '0373108133', 4996: '0373108435', 4997: '0373108494', 4998: '0373108540', 4999: '0373108591', 5000: '0373109008', 5001: '0373109016', 5002: '0373109490', 5003: '0373109865', 5004: '0373109903', 5005: '0373110138', 5006: '0373111150', 5007: '0373111657', 5008: '0373112572', 5009: '0373112599', 5010: '0373113609', 5011: '0373113633', 5012: '0373113641', 5013: '037311382X', 5014: '0373114087', 5015: '0373114109', 5016: '0373114117', 5017: '037311415X', 5018: '0373114168', 5019: '0373114184', 5020: '0373114206', 5021: '0373114273', 5022: '0373114281', 5023: '037311429X', 5024: '0373114311', 5025: '037311432X', 5026: '0373114338', 5027: '0373114346', 5028: '0373114397', 5029: '0373114400', 5030: '0373114427', 5031: '0373114443', 5032: '0373114478', 5033: '0373114672', 5034: '0373114710', 5035: '0373114729', 5036: '0373114737', 5037: '0373114761', 5038: '0373114834', 5039: '0373114842', 5040: '0373114850', 5041: '0373114869', 5042: '0373115008', 5043: '0373115113', 5044: '0373115547', 5045: '0373115644', 5046: '0373115911', 5047: '037311611X', 5048: '0373116195', 5049: '0373116403', 5050: '0373116640', 5051: '0373116683', 5052: '037311687X', 5053: '0373116918', 5054: '0373117086', 5055: '0373117140', 5056: '0373117159', 5057: '0373117612', 5058: '0373117647', 5059: '0373117698', 5060: '0373117728', 5061: '0373117868', 5062: '0373119097', 5063: '0373120001', 5064: '0373120354', 5065: '0373120486', 5066: '0373121962', 5067: '0373122322', 5068: '0373122462', 5069: '037312256X', 5070: '0373122713', 5071: '0373122756', 5072: '0373122772', 5073: '0373122837', 5074: '0373123019', 5075: '0373151055', 5076: '0373152531', 5077: '0373153279', 5078: '0373153295', 5079: '0373160321', 5080: '0373160542', 5081: '0373161727', 5082: '037316176X', 5083: '0373161980', 5084: '0373162022', 5085: '0373162324', 5086: '0373163134', 5087: '0373163177', 5088: '0373163215', 5089: '0373163274', 5090: '0373163347', 5091: '0373163487', 5092: '0373163614', 5093: '0373164238', 5094: '0373164300', 5095: '037316436X', 5096: '0373164394', 5097: '0373164866', 5098: '0373165102', 5099: '0373165129', 5100: '0373165161', 5101: '0373165544', 5102: '0373165595', 5103: '037316601X', 5104: '0373166052', 5105: '0373166060', 5106: '0373166281', 5107: '037316632X', 5108: '0373166362', 5109: '0373166370', 5110: '0373166419', 5111: '0373166575', 5112: '0373166664', 5113: '0373166680', 5114: '0373166788', 5115: '0373166931', 5116: '0373167067', 5117: '0373167083', 5118: '0373167091', 5119: '0373167318', 5120: '0373167350', 5121: '0373167962', 5122: '0373167997', 5123: '0373169094', 5124: '0373169280', 5125: '0373169337', 5126: '0373169396', 5127: '0373172796', 5128: '0373190492', 5129: '037319059X', 5130: '0373190603', 5131: '0373190662', 5132: '0373190824', 5133: '0373191049', 5134: '0373191413', 5135: '0373191758', 5136: '0373191855', 5137: '0373191960', 5138: '0373192118', 5139: '0373192231', 5140: '0373192258', 5141: '0373193610', 5142: '0373194811', 5143: '0373194854', 5144: '0373194897', 5145: '0373194935', 5146: '0373194943', 5147: '037319501X', 5148: '0373195095', 5149: '0373195109', 5150: '0373195168', 5151: '0373195273', 5152: '0373195486', 5153: '0373195680', 5154: '0373195788', 5155: '0373195818', 5156: '0373195877', 5157: '0373195966', 5158: '0373196288', 5159: '0373217129', 5160: '037322009X', 5161: '0373220375', 5162: '0373220456', 5163: '0373220685', 5164: '0373221282', 5165: '0373221290', 5166: '0373221339', 5167: '0373221363', 5168: '0373221428', 5169: '0373221444', 5170: '0373221592', 5171: '0373221657', 5172: '0373222106', 5173: '0373222114', 5174: '0373222173', 5175: '0373222181', 5176: '0373222211', 5177: '037322222X', 5178: '0373222262', 5179: '0373222297', 5180: '0373222319', 5181: '0373222432', 5182: '0373222440', 5183: '0373222467', 5184: '0373222475', 5185: '0373222513', 5186: '0373222521', 5187: '0373222645', 5188: '037322303X', 5189: '0373223242', 5190: '0373223870', 5191: '0373224060', 5192: '0373224133', 5193: '0373224419', 5194: '0373224427', 5195: '0373224524', 5196: '0373224613', 5197: '0373225059', 5198: '0373225091', 5199: '0373225113', 5200: '0373225148', 5201: '0373225156', 5202: '0373225245', 5203: '0373225342', 5204: '0373225415', 5205: '0373225458', 5206: '0373225504', 5207: '0373225520', 5208: '0373225539', 5209: '0373225547', 5210: '0373225555', 5211: '0373225628', 5212: '0373225717', 5213: '037322575X', 5214: '0373225792', 5215: '0373225806', 5216: '0373225873', 5217: '0373225903', 5218: '0373225946', 5219: '0373225962', 5220: '0373225970', 5221: '0373226063', 5222: '0373226144', 5223: '0373226276', 5224: '0373226292', 5225: '0373226330', 5226: '0373226381', 5227: '0373226403', 5228: '0373226462', 5229: '0373226519', 5230: '0373226551', 5231: '0373226594', 5232: '0373226713', 5233: '0373226772', 5234: '0373240023', 5235: '0373240120', 5236: '0373240155', 5237: '0373240171', 5238: '0373240198', 5239: '0373240244', 5240: '0373240252', 5241: '0373240295', 5242: '0373240317', 5243: '0373240392', 5244: '0373240406', 5245: '0373240422', 5246: '037324052X', 5247: '0373240554', 5248: '0373240562', 5249: '0373240570', 5250: '0373240627', 5251: '0373240635', 5252: '0373240716', 5253: '0373240805', 5254: '0373241011', 5255: '0373241089', 5256: '0373241135', 5257: '0373241291', 5258: '0373241445', 5259: '0373241453', 5260: '0373241615', 5261: '0373241976', 5262: '0373242271', 5263: '0373242603', 5264: '0373243170', 5265: '037324357X', 5266: '0373243588', 5267: '0373243707', 5268: '0373243766', 5269: '0373243812', 5270: '0373243820', 5271: '0373243863', 5272: '0373243952', 5273: '0373243960', 5274: '0373244614', 5275: '0373244630', 5276: '0373244665', 5277: '0373251017', 5278: '0373251300', 5279: '0373251998', 5280: '0373252331', 5281: '0373254598', 5282: '0373254660', 5283: '0373255004', 5284: '0373255446', 5285: '0373255594', 5286: '0373255977', 5287: '0373256078', 5288: '0373256086', 5289: '0373256183', 5290: '0373256299', 5291: '0373256760', 5292: '0373256973', 5293: '0373257767', 5294: '0373258828', 5295: '0373260466', 5296: '0373260598', 5297: '0373261667', 5298: '0373262027', 5299: '0373262213', 5300: '037326223X', 5301: '0373262302', 5302: '037326237X', 5303: '0373262396', 5304: '037326240X', 5305: '0373262485', 5306: '037326254X', 5307: '0373262558', 5308: '0373262736', 5309: '0373263708', 5310: '0373264011', 5311: '0373270011', 5312: '0373270755', 5313: '0373270860', 5314: '0373271409', 5315: '037327145X', 5316: '0373271786', 5317: '0373272081', 5318: '0373280092', 5319: '0373288212', 5320: '0373288360', 5321: '0373288786', 5322: '0373288956', 5323: '0373288980', 5324: '0373289170', 5325: '0373289677', 5326: '0373289839', 5327: '0373290055', 5328: '0373290071', 5329: '037329008X', 5330: '0373290098', 5331: '037329011X', 5332: '0373290136', 5333: '0373290187', 5334: '0373290225', 5335: '0373290276', 5336: '0373290640', 5337: '0373290721', 5338: '0373290837', 5339: '037329090X', 5340: '0373290969', 5341: '0373290993', 5342: '0373291019', 5343: '0373291043', 5344: '0373291051', 5345: '0373291140', 5346: '0373291167', 5347: '0373291175', 5348: '0373291531', 5349: '0373300573', 5350: '0373301316', 5351: '0373310196', 5352: '0373387075', 5353: '0373451547', 5354: '037345158X', 5355: '0373451598', 5356: '0373451628', 5357: '0373451849', 5358: '0373451997', 5359: '0373471513', 5360: '0373471521', 5361: '0373471556', 5362: '0373471572', 5363: '0373471637', 5364: '0373471831', 5365: '0373482396', 5366: '0373482531', 5367: '0373483287', 5368: '0373483317', 5369: '0373484534', 5370: '0373501781', 5371: '0373511221', 5372: '0373613601', 5373: '0373614209', 5374: '0373614713', 5375: '0373616392', 5376: '0373650116', 5377: '0373650531', 5378: '0373691092', 5379: '0373700024', 5380: '0373700180', 5381: '0373700237', 5382: '037370027X', 5383: '0373700393', 5384: '0373700539', 5385: '0373700857', 5386: '0373702248', 5387: '0373702337', 5388: '0373703449', 5389: '037370433X', 5390: '0373704704', 5391: '0373705050', 5392: '0373705190', 5393: '0373705247', 5394: '0373705441', 5395: '037370562X', 5396: '0373705794', 5397: '0373706014', 5398: '0373706103', 5399: '0373706197', 5400: '0373706200', 5401: '0373706367', 5402: '0373706421', 5403: '0373706456', 5404: '0373706464', 5405: '0373706588', 5406: '0373706642', 5407: '0373706677', 5408: '0373706707', 5409: '0373706790', 5410: '0373706871', 5411: '037370691X', 5412: '0373706928', 5413: '0373706995', 5414: '0373707088', 5415: '037370710X', 5416: '0373707134', 5417: '0373707274', 5418: '0373707304', 5419: '0373707312', 5420: '0373707347', 5421: '0373707355', 5422: '0373707398', 5423: '037370741X', 5424: '0373707460', 5425: '0373707517', 5426: '0373707533', 5427: '0373707568', 5428: '0373707576', 5429: '0373707606', 5430: '0373707622', 5431: '0373707649', 5432: '0373707665', 5433: '037370769X', 5434: '0373707738', 5435: '0373707827', 5436: '037370786X', 5437: '0373707886', 5438: '0373707894', 5439: '0373707924', 5440: '0373707932', 5441: '0373707983', 5442: '0373708130', 5443: '0373708149', 5444: '0373708335', 5445: '0373708351', 5446: '0373708394', 5447: '0373708424', 5448: '0373708440', 5449: '0373708599', 5450: '0373708963', 5451: '0373709064', 5452: '037370951X', 5453: '0373709625', 5454: '0373709862', 5455: '0373710372', 5456: '0373710607', 5457: '0373710615', 5458: '0373730551', 5459: '0373745184', 5460: '0373760396', 5461: '0373760469', 5462: '037376250X', 5463: '0373762631', 5464: '0373762666', 5465: '0373762917', 5466: '0373763050', 5467: '0373763247', 5468: '0373763379', 5469: '0373763425', 5470: '0373763506', 5471: '0373763611', 5472: '0373763832', 5473: '0373764030', 5474: '0373764375', 5475: '0373764391', 5476: '0373764456', 5477: '0373790228', 5478: '0373800843', 5479: '0373801092', 5480: '0373801173', 5481: '0373801238', 5482: '0373805187', 5483: '0373821778', 5484: '0373825021', 5485: '037382503X', 5486: '0373825056', 5487: '0373825560', 5488: '0373832877', 5489: '0373833202', 5490: '037383375X', 5491: '0373834969', 5492: '0373835353', 5493: '0373871562', 5494: '0373871791', 5495: '0373885156', 5496: '0373885202', 5497: '0373885245', 5498: '0373898754', 5499: '0374435502', 5500: '0375409327', 5501: '0375501371', 5502: '0375703055', 5503: '0375706410', 5504: '0375756817', 5505: '0375800018', 5506: '0375800255', 5507: '0375800859', 5508: '0375801332', 5509: '0375803688', 5510: '0375808507', 5511: '0375808736', 5512: '0375905693', 5513: '0376024658', 5514: '0380001098', 5515: '0380001764', 5516: '0380002558', 5517: '0380002930', 5518: '0380003040', 5519: '038000772X', 5520: '0380009471', 5521: '0380010038', 5522: '0380017806', 5523: '0380017962', 5524: '0380435470', 5525: '0380510944', 5526: '0380534134', 5527: '0380534967', 5528: '0380558890', 5529: '038057067X', 5530: '038059949X', 5531: '0380601036', 5532: '0380676524', 5533: '0380685280', 5534: '0380698439', 5535: '0380698544', 5536: '038069994X', 5537: '0380703866', 5538: '0380704498', 5539: '0380706725', 5540: '0380708531', 5541: '0380709120', 5542: '0380709538', 5543: '0380709562', 5544: '0380710870', 5545: '0380711877', 5546: '0380712040', 5547: '0380714752', 5548: '0380716356', 5549: '0380720132', 5550: '0380724383', 5551: '0380724898', 5552: '0380725584', 5553: '0380725703', 5554: '0380727293', 5555: '0380727951', 5556: '0380732521', 5557: '0380755203', 5558: '0380755858', 5559: '0380758733', 5560: '038075892X', 5561: '0380761165', 5562: '0380761203', 5563: '0380761483', 5564: '0380765195', 5565: '038076587X', 5566: '0380766078', 5567: '0380766450', 5568: '038076654X', 5569: '0380770938', 5570: '0380773732', 5571: '0380775263', 5572: '0380782332', 5573: '0380787458', 5574: '0380789035', 5575: '038078906X', 5576: '0380794802', 5577: '0380797542', 5578: '0380803682', 5579: '0380814862', 5580: '0380817624', 5581: '038082180X', 5582: '0380834510', 5583: '0380880547', 5584: '0380892847', 5585: '0380898179', 5586: '0380899590', 5587: '038097391X', 5588: '0381900568', 5589: '0382027094', 5590: '0382094441', 5591: '0385011571', 5592: '0385025866', 5593: '0385127448', 5594: '0385143184', 5595: '0385152922', 5596: '0385190697', 5597: '0385206776', 5598: '0385239262', 5599: '0385245793', 5600: '0385265700', 5601: '0385293631', 5602: '0385299095', 5603: '0385299109', 5604: '0385304900', 5605: '0385306032', 5606: '0385306059', 5607: '0385312709', 5608: '0385320329', 5609: '0385320825', 5610: '0385323921', 5611: '0385414587', 5612: '0385419902', 5613: '0385420161', 5614: '0385468784', 5615: '038546973X', 5616: '038547024X', 5617: '0385474547', 5618: '0385483643', 5619: '0385489935', 5620: '038549081X', 5621: '0385490992', 5622: '0385498179', 5623: '0393035433', 5624: '0393964493', 5625: '0394020189', 5626: '0394174461', 5627: '0394223772', 5628: '0394334248', 5629: '0394363051', 5630: '0394516729', 5631: '0394517989', 5632: '0394543394', 5633: '0394553837', 5634: '0394565762', 5635: '0394569644', 5636: '0394588215', 5637: '0394702956', 5638: '0394755235', 5639: '0394800133', 5640: '0394800168', 5641: '0394800303', 5642: '0394800907', 5643: '0394805666', 5644: '0394820371', 5645: '0394822412', 5646: '0394823249', 5647: '0394825225', 5648: '0394825519', 5649: '0394825527', 5650: '0394826175', 5651: '0394826256', 5652: '0394826264', 5653: '0394826639', 5654: '0394826817', 5655: '0394826833', 5656: '0394826949', 5657: '0394827988', 5658: '0394828186', 5659: '0394829239', 5660: '0394829565', 5661: '0394830199', 5662: '0394831292', 5663: '0394832434', 5664: '0394832639', 5665: '0394832647', 5666: '0394832655', 5667: '0394832663', 5668: '0394833171', 5669: '0394834569', 5670: '0394834852', 5671: '0394835638', 5672: '0394837363', 5673: '0394839579', 5674: '0394840496', 5675: '0394840704', 5676: '0394840771', 5677: '0394844483', 5678: '0394845668', 5679: '0394848195', 5680: '0394848365', 5681: '0394848381', 5682: '0394848438', 5683: '0394848446', 5684: '0394848454', 5685: '0394848705', 5686: '0394849558', 5687: '0394849612', 5688: '0394849736', 5689: '0394851323', 5690: '0394854438', 5691: '0394855175', 5692: '0394856392', 5693: '0394859170', 5694: '0394859219', 5695: '0394859235', 5696: '039485926X', 5697: '0394859558', 5698: '0394861272', 5699: '039486154X', 5700: '0394863461', 5701: '0394863895', 5702: '0394865707', 5703: '0394865871', 5704: '0394867297', 5705: '0394868838', 5706: '039487062X', 5707: '0394871809', 5708: '0394872177', 5709: '0394873319', 5710: '0394873335', 5711: '039487336X', 5712: '0394873378', 5713: '0394878639', 5714: '0394886682', 5715: '0394886690', 5716: '0394886755', 5717: '0394888103', 5718: '0394890604', 5719: '0394891260', 5720: '0394894359', 5721: '039489460X', 5722: '0394894758', 5723: '0394895711', 5724: '0394896254', 5725: '0394896955', 5726: '039489748X', 5727: '0394899636', 5728: '0394900901', 5729: '0394971965', 5730: '0394979087', 5731: '0394996038', 5732: '0395120446', 5733: '0395174449', 5734: '0395278171', 5735: '0395297583', 5736: '0395368952', 5737: '039537605X', 5738: '0395376076', 5739: '0395376084', 5740: '0395376092', 5741: '0395376106', 5742: '0395376114', 5743: '0395376122', 5744: '0395376130', 5745: '0395425069', 5746: '0395437822', 5747: '0395551471', 5748: '0395551552', 5749: '0395551579', 5750: '0395551633', 5751: '039555165X', 5752: '0395551749', 5753: '0395644828', 5754: '0395668417', 5755: '0395681863', 5756: '0395681871', 5757: '0395689651', 5758: '0395707390', 5759: '0395710464', 5760: '0395755158', 5761: '0396087213', 5762: '0397316372', 5763: '0397318804', 5764: '0397320515', 5765: '0397541678', 5766: '0399122400', 5767: '0399131418', 5768: '0399134883', 5769: '0399136118', 5770: '0399137734', 5771: '0399138900', 5772: '039913932X', 5773: '0399139974', 5774: '0399207279', 5775: '0399208704', 5776: '0399213503', 5777: '0399215697', 5778: '0399217851', 5779: '0399228179', 5780: '039923568X', 5781: '0399517375', 5782: '039961110X', 5783: '0404538215', 5784: '0425033104', 5785: '0425044432', 5786: '0425048543', 5787: '0425053245', 5788: '0425054535', 5789: '0425054918', 5790: '042505733X', 5791: '0425071022', 5792: '0425088782', 5793: '0425091074', 5794: '0425096106', 5795: '0425096939', 5796: '0425098559', 5797: '0425111997', 5798: '0425116905', 5799: '0425117383', 5800: '042511743X', 5801: '0425118703', 5802: '0425120279', 5803: '0425120694', 5804: '0425120910', 5805: '0425127214', 5806: '0425135012', 5807: '042513525X', 5808: '042513699X', 5809: '0425137562', 5810: '0425140032', 5811: '0425145638', 5812: '0425147622', 5813: '0425148696', 5814: '0425149420', 5815: '0425151867', 5816: '0425151875', 5817: '0425155404', 5818: '0425157539', 5819: '0425158632', 5820: '0425160106', 5821: '0425161749', 5822: '042516313X', 5823: '0425164136', 5824: '0425165566', 5825: '0425165779', 5826: '0425166961', 5827: '0425168700', 5828: '0425170349', 5829: '0425173283', 5830: '0425173534', 5831: '0425177351', 5832: '0425177807', 5833: '0425180050', 5834: '0425183009', 5835: '0425183971', 5836: '042518630X', 5837: '0425187721', 5838: '0439040221', 5839: '0439040825', 5840: '0439042992', 5841: '0439043638', 5842: '0439045525', 5843: '0439049946', 5844: '0439053862', 5845: '0439059658', 5846: '0439061296', 5847: '0439062454', 5848: '0439074436', 5849: '0439083184', 5850: '043908654X', 5851: '0439087481', 5852: '0439087872', 5853: '0439088275', 5854: '0439095085', 5855: '0439095557', 5856: '043910274X', 5857: '0439102758', 5858: '0439103975', 5859: '043910467X', 5860: '0439104696', 5861: '0439106028', 5862: '0439106761', 5863: '0439108381', 5864: '0439109884', 5865: '0439115353', 5866: '0439129354', 5867: '0439129362', 5868: '0439129370', 5869: '0439132266', 5870: '0439132991', 5871: '0439133718', 5872: '0439135036', 5873: '0439135249', 5874: '0439135575', 5875: '0439137012', 5876: '0439137411', 5877: '0439138566', 5878: '0439139392', 5879: '0439141230', 5880: '0439146070', 5881: '0439150086', 5882: '0439154049', 5883: '0439154065', 5884: '0439158141', 5885: '0439161142', 5886: '0439161150', 5887: '0439161649', 5888: '0439163129', 5889: '0439164729', 5890: '043916575X', 5891: '0439166268', 5892: '043917306X', 5893: '0439173078', 5894: '0439188768', 5895: '0439192625', 5896: '0439193796', 5897: '0439200911', 5898: '043920092X', 5899: '0439200938', 5900: '0439200946', 5901: '0439206545', 5902: '0439207398', 5903: '0439207401', 5904: '043920741X', 5905: '0439207428', 5906: '0439210089', 5907: '0439210348', 5908: '0439219671', 5909: '0439219957', 5910: '0439220335', 5911: '0439222338', 5912: '0439223075', 5913: '0439227704', 5914: '043922781X', 5915: '0439229030', 5916: '0439231973', 5917: '0439236298', 5918: '0439243971', 5919: '0439253330', 5920: '0439264669', 5921: '0439266513', 5922: '0439269865', 5923: '0439272874', 5924: '0439279062', 5925: '0439282799', 5926: '0439288851', 5927: '043928886X', 5928: '0439288886', 5929: '0439316154', 5930: '0439327660', 5931: '0439328039', 5932: '0439328888', 5933: '0439336929', 5934: '0439339952', 5935: '0439345200', 5936: '0439366763', 5937: '0439369061', 5938: '0439399327', 5939: '0439401372', 5940: '043940178X', 5941: '0439434556', 5942: '043949169X', 5943: '0440027691', 5944: '0440102723', 5945: '0440108322', 5946: '0440111773', 5947: '0440111811', 5948: '0440117569', 5949: '0440118212', 5950: '0440120004', 5951: '0440120497', 5952: '0440120918', 5953: '0440124344', 5954: '044012509X', 5955: '0440125588', 5956: '0440126606', 5957: '0440130298', 5958: '0440139791', 5959: '0440141753', 5960: '0440144078', 5961: '0440145465', 5962: '0440147247', 5963: '0440147360', 5964: '0440154049', 5965: '0440157587', 5966: '0440157943', 5967: '0440163846', 5968: '0440166063', 5969: '0440166497', 5970: '0440167531', 5971: '0440167817', 5972: '0440175437', 5973: '0440179807', 5974: '0440180333', 5975: '0440183278', 5976: '0440184622', 5977: '0440184630', 5978: '0440185564', 5979: '0440185793', 5980: '044018584X', 5981: '044019539X', 5982: '0440200407', 5983: '0440201969', 5984: '044020271X', 5985: '0440204275', 5986: '0440205085', 5987: '0440205417', 5988: '0440206561', 5989: '0440206588', 5990: '0440207428', 5991: '0440207622', 5992: '0440208130', 5993: '0440208947', 5994: '0440210666', 5995: '044021145X', 5996: '0440211484', 5997: '0440212189', 5998: '0440212308', 5999: '044021369X', 6000: '0440214114', 6001: '044021422X', 6002: '0440219221', 6003: '0440219280', 6004: '0440219337', 6005: '0440220394', 6006: '0440222842', 6007: '0440224055', 6008: '0440224594', 6009: '044022473X', 6010: '0440224810', 6011: '0440226597', 6012: '0440226864', 6013: '0440228158', 6014: '0440235758', 6015: '044023669X', 6016: '0440236924', 6017: '0440400627', 6018: '0440402024', 6019: '0440403227', 6020: '0440403294', 6021: '0440405726', 6022: '0440406404', 6023: '0440406595', 6024: '044040665X', 6025: '0440407613', 6026: '0440407923', 6027: '0440408164', 6028: '0440408334', 6029: '0440409322', 6030: '0440409713', 6031: '0440410231', 6032: '0440411262', 6033: '0440412692', 6034: '0440413036', 6035: '0440413494', 6036: '0440413699', 6037: '0440413915', 6038: '0440414237', 6039: '0440414261', 6040: '0440414520', 6041: '0440415241', 6042: '0440433940', 6043: '0440441099', 6044: '0440444381', 6045: '0440457173', 6046: '0440479002', 6047: '0440482216', 6048: '0440484332', 6049: '0440492041', 6050: '0440495563', 6051: '0440504953', 6052: '0440505712', 6053: '0440550254', 6054: '044056753X', 6055: '0440700272', 6056: '0440800129', 6057: '0440800714', 6058: '0440801028', 6059: '044080180X', 6060: '0440803098', 6061: '0440803462', 6062: '0440833000', 6063: '0440840414', 6064: '0440841216', 6065: '0440841488', 6066: '0440842654', 6067: '0440845963', 6068: '0440846404', 6069: '0440847109', 6070: '0440847737', 6071: '0440847753', 6072: '0440847990', 6073: '0440848067', 6074: '0440848156', 6075: '0440907071', 6076: '0440908035', 6077: '0440910552', 6078: '044091129X', 6079: '0440920833', 6080: '0440925606', 6081: '0440966388', 6082: '0440982391', 6083: '0441000150', 6084: '0441000924', 6085: '0441001823', 6086: '0441005551', 6087: '0441005764', 6088: '0441116183', 6089: '0441132456', 6090: '0441248845', 6091: '0441317480', 6092: '044132231X', 6093: '0441451306', 6094: '0441470734', 6095: '0441586945', 6096: '0441651690', 6097: '0441693237', 6098: '0441757227', 6099: '044301566X', 6100: '0445043326', 6101: '0445083735', 6102: '0445205636', 6103: '0445209127', 6104: '0445408154', 6105: '0446222194', 6106: '0446301728', 6107: '0446303011', 6108: '0446306223', 6109: '0446315176', 6110: '0446322121', 6111: '0446343455', 6112: '0446350109', 6113: '0446354872', 6114: '0446356913', 6115: '0446357030', 6116: '0446357103', 6117: '0446359726', 6118: '0446360406', 6119: '0446363030', 6120: '0446363251', 6121: '0446363510', 6122: '0446363626', 6123: '0446364266', 6124: '0446364304', 6125: '0446364800', 6126: '0446364819', 6127: '0446364835', 6128: '0446394211', 6129: '0446401013', 6130: '0446512753', 6131: '0446516139', 6132: '0446516317', 6133: '0446517410', 6134: '0446519723', 6135: '0446519790', 6136: '0446520608', 6137: '0446520659', 6138: '0446523089', 6139: '0446523569', 6140: '0446525480', 6141: '0446600709', 6142: '0446600768', 6143: '0446600962', 6144: '0446600970', 6145: '0446600989', 6146: '0446601640', 6147: '0446601985', 6148: '0446602019', 6149: '0446602086', 6150: '0446602159', 6151: '0446602736', 6152: '0446603309', 6153: '0446603368', 6154: '0446604275', 6155: '0446604623', 6156: '0446604844', 6157: '0446606022', 6158: '0446606219', 6159: '0446608823', 6160: '0446609617', 6161: '044661095X', 6162: '0446612405', 6163: '0446802204', 6164: '0446827029', 6165: '0446941166', 6166: '044804501X', 6167: '0448092867', 6168: '0448095017', 6169: '0448095041', 6170: '0448095319', 6171: '0448095335', 6172: '0448095343', 6173: '0448095351', 6174: '044809536X', 6175: '0448095467', 6176: '0448102226', 6177: '0448171473', 6178: '0448190893', 6179: '044819094X', 6180: '0448343606', 6181: '0448400936', 6182: '0448401304', 6183: '044840463X', 6184: '0448405199', 6185: '0448412640', 6186: '0448412772', 6187: '044841287X', 6188: '0448421852', 6189: '044846537X', 6190: '0449001946', 6191: '0449001962', 6192: '0449013880', 6193: '0449014290', 6194: '0449123782', 6195: '0449126765', 6196: '0449134369', 6197: '0449138364', 6198: '0449143600', 6199: '0449148394', 6200: '0449148920', 6201: '044920216X', 6202: '0449202941', 6203: '0449204324', 6204: '0449205967', 6205: '0449206181', 6206: '0449206610', 6207: '0449208508', 6208: '0449209598', 6209: '0449210324', 6210: '0449212084', 6211: '044922046X', 6212: '0449221180', 6213: '0449221555', 6214: '0449222241', 6215: '0449222713', 6216: '0449223450', 6217: '0449224155', 6218: '0449226840', 6219: '0449229440', 6220: '0449232921', 6221: '0449234606', 6222: '0449237869', 6223: '0449240673', 6224: '0449242765', 6225: '0449245691', 6226: '0449500330', 6227: '0449501116', 6228: '0449909069', 6229: '0449909557', 6230: '0449911616', 6231: '0449911888', 6232: '0451073967', 6233: '0451119614', 6234: '0451121228', 6235: '0451126041', 6236: '0451127897', 6237: '0451128370', 6238: '0451129334', 6239: '0451134680', 6240: '0451136101', 6241: '0451136683', 6242: '0451138945', 6243: '0451139682', 6244: '0451147367', 6245: '0451150376', 6246: '0451150406', 6247: '0451152190', 6248: '0451155750', 6249: '0451156609', 6250: '0451160525', 6251: '0451162072', 6252: '0451165594', 6253: '0451169387', 6254: '0451170990', 6255: '0451172817', 6256: '0451173392', 6257: '0451175123', 6258: '0451176464', 6259: '0451176723', 6260: '0451176820', 6261: '0451177908', 6262: '0451177975', 6263: '0451178386', 6264: '0451178424', 6265: '0451179900', 6266: '0451181379', 6267: '0451182391', 6268: '0451183665', 6269: '0451184963', 6270: '0451186486', 6271: '0451186923', 6272: '0451188470', 6273: '0451190157', 6274: '0451190521', 6275: '0451191692', 6276: '0451191722', 6277: '0451195264', 6278: '0451197127', 6279: '0451202198', 6280: '0451205421', 6281: '0451400763', 6282: '0451403568', 6283: '0451404068', 6284: '0451404211', 6285: '0451406176', 6286: '0451406656', 6287: '0451408098', 6288: '0451408411', 6289: '0451408543', 6290: '0451408667', 6291: '0451408845', 6292: '0451409019', 6293: '0451409744', 6294: '0451451406', 6295: '0451516699', 6296: '0451518829', 6297: '0451519620', 6298: '0451519655', 6299: '0451521285', 6300: '0451522621', 6301: '0451524772', 6302: '0451524942', 6303: '0451526503', 6304: '0451526538', 6305: '0451526805', 6306: '0451625838', 6307: '0451627296', 6308: '0451E64100', 6309: '0460870289', 6310: '0471358355', 6311: '0471515353', 6312: '0471577103', 6313: '0486207897', 6314: '0486214834', 6315: '0486232360', 6316: '0486266893', 6317: '0486268705', 6318: '0486268780', 6319: '0486277852', 6320: '0486278166', 6321: '048628039X', 6322: '0486286568', 6323: '0486295559', 6324: '0486296466', 6325: '0489469715', 6326: '05008601814', 6327: '0505522764', 6328: '0515039276', 6329: '0515056383', 6330: '0515060674', 6331: '0515068594', 6332: '0515068748', 6333: '0515071080', 6334: '0515075841', 6335: '0515087947', 6336: '0515090298', 6337: '0515100226', 6338: '0515101214', 6339: '0515110396', 6340: '0515115029', 6341: '0515116297', 6342: '0515116475', 6343: '0515118907', 6344: '0515119415', 6345: '051512012X', 6346: '0515120456', 6347: '0515121428', 6348: '0515122408', 6349: '051512334X', 6350: '051512608X', 6351: '0515126772', 6352: '0515126985', 6353: '0515127833', 6354: '0515128023', 6355: '0515128546', 6356: '0515129704', 6357: '0515130168', 6358: '0515130524', 6359: '0515131229', 6360: '0515132136', 6361: '051604639X', 6362: '0516049119', 6363: '0516087371', 6364: '0516088556', 6365: '0517035553', 6366: '0517052229', 6367: '0517052369', 6368: '0517065258', 6369: '0517114453', 6370: '051734582X', 6371: '0517348764', 6372: '0517500345', 6373: '0517528436', 6374: '0517565994', 6375: '0517576767', 6376: '0517598183', 6377: '0517707918', 6378: '0517800349', 6379: '051788710X', 6380: '051788738X', 6381: '0520045599', 6382: '0523403461', 6383: '0523403941', 6384: '0523411529', 6385: '0523426429', 6386: '0525111255', 6387: '0525249249', 6388: '0525420282', 6389: '0525440585', 6390: '0525442332', 6391: '0525442553', 6392: '0525443959', 6393: '0525448780', 6394: '0525452672', 6395: '0525458883', 6396: '0525460543', 6397: '0525938990', 6398: '0525941479', 6399: '0525941908', 6400: '0525945415', 6401: '0525945784', 6402: '0529044633', 6403: '0531012174', 6404: '053104470X', 6405: '0531045269', 6406: '0531048160', 6407: '0531068021', 6408: '0531083608', 6409: '0531087875', 6410: '0531101827', 6411: '0531102637', 6412: '0531140210', 6413: '0531202534', 6414: '0534003478', 6415: '0534004490', 6416: '0551660733', 6417: '0553013289', 6418: '0553050532', 6419: '0553055011', 6420: '055305502X', 6421: '0553055038', 6422: '0553055046', 6423: '0553055070', 6424: '0553055089', 6425: '0553055127', 6426: '0553055135', 6427: '0553055143', 6428: '055305516X', 6429: '0553055178', 6430: '0553055208', 6431: '0553055216', 6432: '0553055224', 6433: '0553055259', 6434: '0553055267', 6435: '0553055984', 6436: '0553057995', 6437: '0553058894', 6438: '0553072927', 6439: '0553084810', 6440: '0553095919', 6441: '0553096834', 6442: '0553099558', 6443: '0553100807', 6444: '0553103008', 6445: '0553104225', 6446: '0553110012', 6447: '0553111396', 6448: '0553120166', 6449: '055312577X', 6450: '0553131834', 6451: '0553136674', 6452: '0553154184', 6453: '0553156756', 6454: '0553156802', 6455: '0553157094', 6456: '0553157116', 6457: '0553157213', 6458: '0553157345', 6459: '0553157353', 6460: '0553157396', 6461: '0553158333', 6462: '0553158910', 6463: '0553158929', 6464: '0553165240', 6465: '0553201344', 6466: '0553202790', 6467: '0553208845', 6468: '0553211285', 6469: '055321277X', 6470: '0553213164', 6471: '055321330X', 6472: '0553213393', 6473: '055322011X', 6474: '0553230018', 6475: '0553231758', 6476: '0553232177', 6477: '0553237209', 6478: '0553238000', 6479: '0553243055', 6480: '0553249231', 6481: '0553249479', 6482: '0553250337', 6483: '055325362X', 6484: '0553256157', 6485: '0553257439', 6486: '0553258311', 6487: '0553258877', 6488: '0553264613', 6489: '0553268953', 6490: '0553270117', 6491: '0553274740', 6492: '0553274775', 6493: '0553278142', 6494: '055327824X', 6495: '0553278355', 6496: '0553280414', 6497: '0553282700', 6498: '0553283626', 6499: '0553284789', 6500: '0553287087', 6501: '055328861X', 6502: '0553289519', 6503: '0553290576', 6504: '0553290614', 6505: '055329122X', 6506: '055329170X', 6507: '0553292951', 6508: '055329296X', 6509: '055329301X', 6510: '0553293893', 6511: '0553293907', 6512: '0553294989', 6513: '0553297570', 6514: '0553297988', 6515: '0553299352', 6516: '0553348310', 6517: '0553351478', 6518: '0553373080', 6519: '0553373412', 6520: '0553442449', 6521: '0553443127', 6522: '0553443364', 6523: '0553443577', 6524: '0553443941', 6525: '0553444077', 6526: '0553444727', 6527: '0553445294', 6528: '0553445405', 6529: '0553445618', 6530: '0553480243', 6531: '0553481339', 6532: '0553481525', 6533: '0553481606', 6534: '0553482475', 6535: '055348253X', 6536: '0553483145', 6537: '0553483285', 6538: '055348351X', 6539: '055348480X', 6540: '0553542842', 6541: '0553560018', 6542: '0553560050', 6543: '0553560115', 6544: '0553560271', 6545: '0553561375', 6546: '0553564013', 6547: '0553564552', 6548: '0553564676', 6549: '0553565605', 6550: '0553566180', 6551: '0553566199', 6552: '0553566229', 6553: '0553567462', 6554: '0553567470', 6555: '0553567500', 6556: '0553567535', 6557: '0553567551', 6558: '0553567586', 6559: '055356773X', 6560: '0553568701', 6561: '0553568779', 6562: '0553569015', 6563: '0553569082', 6564: '055357230X', 6565: '0553572512', 6566: '055357258X', 6567: '0553573136', 6568: '0553574078', 6569: '0553574752', 6570: '0553578375', 6571: '0553578898', 6572: '0553580221', 6573: '0553581023', 6574: '0553582097', 6575: '0553582658', 6576: '0553583980', 6577: '0559029838', 6578: '0570048257', 6579: '0570060370', 6580: '0570061210', 6581: '0570061954', 6582: '0571193307', 6583: '0573693412', 6584: '0586044507', 6585: '0590010891', 6586: '059001496X', 6587: '0590019678', 6588: '0590023101', 6589: '0590023136', 6590: '0590025627', 6591: '0590026534', 6592: '0590035010', 6593: '0590035517', 6594: '0590036394', 6595: '0590037145', 6596: '0590044362', 6597: '0590047922', 6598: '0590059459', 6599: '0590065858', 6600: '0590065890', 6601: '059009291X', 6602: '0590093878', 6603: '059009887X', 6604: '059010294X', 6605: '0590104403', 6606: '0590107100', 6607: '0590115057', 6608: '0590115294', 6609: '059011753X', 6610: '0590117653', 6611: '0590118684', 6612: '0590120700', 6613: '0590129023', 6614: '0590129457', 6615: '0590129686', 6616: '0590134620', 6617: '0590134701', 6618: '0590134744', 6619: '0590135252', 6620: '0590136895', 6621: '0590138588', 6622: '0590187317', 6623: '0590189387', 6624: '0590189824', 6625: '0590216929', 6626: '0590222953', 6627: '0590222961', 6628: '0590224735', 6629: '0590226355', 6630: '0590226533', 6631: '0590227157', 6632: '0590228595', 6633: '0590228625', 6634: '059023787X', 6635: '0590252267', 6636: '0590254693', 6637: '0590254960', 6638: '0590259458', 6639: '0590259881', 6640: '0590259954', 6641: '0590259989', 6642: '0590260243', 6643: '0590262793', 6644: '059027337X', 6645: '0590273639', 6646: '0590273752', 6647: '0590273779', 6648: '0590274635', 6649: '0590275232', 6650: '0590299735', 6651: '0590302647', 6652: '0590305638', 6653: '0590306693', 6654: '0590307207', 6655: '0590307223', 6656: '0590307444', 6657: '059031257X', 6658: '0590312626', 6659: '0590314645', 6660: '0590315684', 6661: '0590317695', 6662: '059031792X', 6663: '0590318977', 6664: '059031954X', 6665: '0590319841', 6666: '0590324705', 6667: '0590324993', 6668: '0590326376', 6669: '0590327844', 6670: '0590329804', 6671: '0590331280', 6672: '059033235X', 6673: '0590332368', 6674: '0590332473', 6675: '0590334263', 6676: '0590335545', 6677: '0590335898', 6678: '0590336770', 6679: '0590336991', 6680: '059033753X', 6681: '0590337785', 6682: '0590339494', 6683: '0590339656', 6684: '0590339672', 6685: '0590351958', 6686: '0590367943', 6687: '0590371177', 6688: '0590373862', 6689: '0590375180', 6690: '0590377590', 6691: '0590383973', 6692: '0590386158', 6693: '0590386166', 6694: '0590394681', 6695: '0590394835', 6696: '0590395092', 6697: '059040024X', 6698: '0590401645', 6699: '0590401815', 6700: '0590402773', 6701: '0590403249', 6702: '0590403885', 6703: '0590404008', 6704: '0590404318', 6705: '0590404555', 6706: '0590405934', 6707: '0590406205', 6708: '0590406310', 6709: '0590407066', 6710: '0590407473', 6711: '0590407783', 6712: '0590409026', 6713: '0590409395', 6714: '0590410326', 6715: '0590410814', 6716: '0590411098', 6717: '0590411136', 6718: '059041139X', 6719: '0590411829', 6720: '0590411837', 6721: '0590412396', 6722: '0590412809', 6723: '0590412981', 6724: '0590413600', 6725: '0590413848', 6726: '0590413864', 6727: '0590414275', 6728: '0590414615', 6729: '059041464X', 6730: '0590415298', 6731: '0590415743', 6732: '0590416499', 6733: '0590416642', 6734: '0590416790', 6735: '0590417096', 6736: '0590417290', 6737: '059041805X', 6738: '0590420585', 6739: '0590422812', 6740: '0590423746', 6741: '0590424041', 6742: '059042422X', 6743: '0590424343', 6744: '0590425919', 6745: '0590426710', 6746: '0590426737', 6747: '0590426745', 6748: '0590426761', 6749: '0590426826', 6750: '0590426842', 6751: '0590426923', 6752: '059042694X', 6753: '059042730X', 6754: '0590427369', 6755: '0590428039', 6756: '0590428446', 6757: '0590428578', 6758: '0590428918', 6759: '0590430092', 6760: '0590431188', 6761: '059043120X', 6762: '0590431625', 6763: '0590431641', 6764: '0590431706', 6765: '0590431978', 6766: '0590432788', 6767: '0590433059', 6768: '0590433334', 6769: '0590433458', 6770: '0590433505', 6771: '0590434446', 6772: '0590434519', 6773: '0590434543', 6774: '0590434802', 6775: '0590435086', 6776: '0590435124', 6777: '0590435132', 6778: '0590436023', 6779: '0590436341', 6780: '059043652X', 6781: '0590436864', 6782: '0590437291', 6783: '0590437623', 6784: '0590437747', 6785: '0590437852', 6786: '0590438689', 6787: '0590438794', 6788: '0590438999', 6789: '0590439456', 6790: '0590440055', 6791: '059044008X', 6792: '0590440195', 6793: '0590440365', 6794: '0590440691', 6795: '0590440756', 6796: '0590441531', 6797: '0590441884', 6798: '0590442376', 6799: '059044252X', 6800: '0590442597', 6801: '0590442643', 6802: '0590442910', 6803: '0590442929', 6804: '059044347X', 6805: '059044364X', 6806: '059044381X', 6807: '0590443852', 6808: '0590443860', 6809: '0590443895', 6810: '0590443909', 6811: '0590444077', 6812: '0590444085', 6813: '0590444182', 6814: '0590444530', 6815: '0590444549', 6816: '0590444972', 6817: '0590445014', 6818: '059044509X', 6819: '0590445510', 6820: '0590445774', 6821: '0590446355', 6822: '0590447769', 6823: '059044798X', 6824: '0590448021', 6825: '0590448242', 6826: '0590448250', 6827: '0590448277', 6828: '0590448293', 6829: '0590448307', 6830: '0590448315', 6831: '0590448323', 6832: '0590448366', 6833: '0590448404', 6834: '0590448439', 6835: '059044848X', 6836: '059044963X', 6837: '0590449834', 6838: '0590449923', 6839: '059045076X', 6840: '0590450778', 6841: '0590450832', 6842: '0590451278', 6843: '0590451405', 6844: '0590451618', 6845: '0590452630', 6846: '0590452916', 6847: '0590452932', 6848: '0590453440', 6849: '0590453548', 6850: '059045367X', 6851: '0590453696', 6852: '059045403X', 6853: '0590454072', 6854: '0590454889', 6855: '0590455702', 6856: '0590455788', 6857: '0590455877', 6858: '0590455893', 6859: '0590456539', 6860: '059045658X', 6861: '0590456822', 6862: '0590457160', 6863: '0590457543', 6864: '0590457608', 6865: '0590458949', 6866: '0590459562', 6867: '0590459651', 6868: '0590459805', 6869: '0590460188', 6870: '0590460609', 6871: '0590460870', 6872: '0590461109', 6873: '0590461915', 6874: '059046244X', 6875: '0590463616', 6876: '0590463683', 6877: '0590464175', 6878: '0590464485', 6879: '0590464515', 6880: '0590464817', 6881: '0590465783', 6882: '0590466178', 6883: '0590466186', 6884: '0590466380', 6885: '0590466917', 6886: '0590468502', 6887: '0590469134', 6888: '0590469584', 6889: '0590469592', 6890: '0590469878', 6891: '0590470418', 6892: '0590470426', 6893: '0590470434', 6894: '0590470701', 6895: '059047071X', 6896: '0590471163', 6897: '0590471430', 6898: '0590471813', 6899: '0590472690', 6900: '0590472976', 6901: '0590472984', 6902: '0590473026', 6903: '0590475959', 6904: '0590476963', 6905: '0590477331', 6906: '0590477382', 6907: '0590477439', 6908: '0590477447', 6909: '0590477641', 6910: '0590478400', 6911: '0590482211', 6912: '0590482777', 6913: '0590482998', 6914: '0590483013', 6915: '0590483021', 6916: '0590483072', 6917: '0590483447', 6918: '0590483455', 6919: '059048348X', 6920: '0590483498', 6921: '0590483501', 6922: '0590483692', 6923: '0590484125', 6924: '0590484133', 6925: '0590484141', 6926: '0590484192', 6927: '0590484613', 6928: '0590484745', 6929: '0590485121', 6930: '0590485237', 6931: '0590486101', 6932: '0590486454', 6933: '0590488651', 6934: '0590489100', 6935: '059048933X', 6936: '059049418X', 6937: '0590494457', 6938: '0590494465', 6939: '0590494473', 6940: '0590494503', 6941: '0590494511', 6942: '0590500511', 6943: '0590500538', 6944: '0590500600', 6945: '0590500619', 6946: '059050214X', 6947: '0590516086', 6948: '0590516655', 6949: '0590517236', 6950: '0590523481', 6951: '0590523821', 6952: '0590524984', 6953: '0590539604', 6954: '0590543504', 6955: '0590547445', 6956: '0590554646', 6957: '0590568744', 6958: '0590568752', 6959: '0590568760', 6960: '0590568795', 6961: '0590568817', 6962: '0590568825', 6963: '0590568833', 6964: '059056885X', 6965: '0590568884', 6966: '0590568906', 6967: '0590568922', 6968: '0590568949', 6969: '0590597744', 6970: '0590603884', 6971: '0590603906', 6972: '0590623508', 6973: '0590623524', 6974: '0590623737', 6975: '0590623850', 6976: '0590624008', 6977: '0590634771', 6978: '0590634852', 6979: '0590635980', 6980: '0590636715', 6981: '0590638874', 6982: '0590639137', 6983: '0590649264', 6984: '0590649337', 6985: '0590651730', 6986: '0590662082', 6987: '059066218X', 6988: '0590662198', 6989: '0590664786', 6990: '0590664883', 6991: '0590673130', 6992: '0590673181', 6993: '059067319X', 6994: '0590674331', 6995: '059067448X', 6996: '0590679872', 6997: '0590686453', 6998: '0590687271', 6999: '0590691856', 7000: '0590691864', 7001: '0590691880', 7002: '0590691910', 7003: '0590691929', 7004: '0590691945', 7005: '0590693301', 7006: '0590697781', 7007: '0590758039', 7008: '0590762168', 7009: '0590762540', 7010: '0590762761', 7011: '0590763369', 7012: '0590819097', 7013: '0590846280', 7014: '0590847678', 7015: '0590847686', 7016: '0590847724', 7017: '0590847732', 7018: '0590847740', 7019: '0590847759', 7020: '0590849050', 7021: '0590868802', 7022: '0590869876', 7023: '059088008X', 7024: '0590880144', 7025: '0590921584', 7026: '0590922343', 7027: '0590922424', 7028: '0590922513', 7029: '0590926675', 7030: '0590931342', 7031: '0590933906', 7032: '0590934775', 7033: '059093483X', 7034: '0590934899', 7035: '0590934929', 7036: '0590939432', 7037: '0590939718', 7038: '0590939912', 7039: '0590944711', 7040: '0590955993', 7041: '0590956019', 7042: '0590956035', 7043: '0590957120', 7044: '0590962817', 7045: '0590962825', 7046: '0590962965', 7047: '0590964054', 7048: '0590967975', 7049: '0590968254', 7050: '059097503X', 7051: '0590975439', 7052: '0590981242', 7053: '0590981684', 7054: '0590983253', 7055: '0590984810', 7056: '0590992864', 7057: '059099459X', 7058: '0590996835', 7059: '0590997297', 7060: '0590997327', 7061: '0600846431', 7062: '060803320', 7063: '0609600788', 7064: '0609602330', 7065: '0618062149', 7066: '0618062157', 7067: '0618062181', 7068: '061806236X', 7069: '066910275X', 7070: '0670133698', 7071: '0670241334', 7072: '0670805149', 7073: '0670809594', 7074: '0670825182', 7075: '0670835749'}\n"
     ]
    }
   ],
   "source": [
    "book_ids = rating_df['ISBN'].unique().tolist()\n",
    "\n",
    "# Melakukan encoding bookID\n",
    "book_to_book_encoded = {x: i for i, x in enumerate(book_ids)}\n",
    "print('Encoded BookID: ', book_to_book_encoded)\n",
    "\n",
    "# Melakukan proses encoding angka ke book id\n",
    "book_encoded_to_book = {i: x for i, x in enumerate(book_ids)}\n",
    "print(book_encoded_to_book)"
   ]
  },
  {
   "cell_type": "code",
   "execution_count": 49,
   "metadata": {},
   "outputs": [
    {
     "name": "stderr",
     "output_type": "stream",
     "text": [
      "C:\\Users\\daffa\\AppData\\Local\\Temp\\ipykernel_24084\\1817805439.py:1: SettingWithCopyWarning: \n",
      "A value is trying to be set on a copy of a slice from a DataFrame.\n",
      "Try using .loc[row_indexer,col_indexer] = value instead\n",
      "\n",
      "See the caveats in the documentation: https://pandas.pydata.org/pandas-docs/stable/user_guide/indexing.html#returning-a-view-versus-a-copy\n",
      "  rating_df['user'] = rating_df['User-ID'].map(user_to_user_encoded)\n",
      "C:\\Users\\daffa\\AppData\\Local\\Temp\\ipykernel_24084\\1817805439.py:2: SettingWithCopyWarning: \n",
      "A value is trying to be set on a copy of a slice from a DataFrame.\n",
      "Try using .loc[row_indexer,col_indexer] = value instead\n",
      "\n",
      "See the caveats in the documentation: https://pandas.pydata.org/pandas-docs/stable/user_guide/indexing.html#returning-a-view-versus-a-copy\n",
      "  rating_df['book'] = rating_df['ISBN'].map(book_to_book_encoded)\n"
     ]
    }
   ],
   "source": [
    "rating_df['user'] = rating_df['User-ID'].map(user_to_user_encoded)\n",
    "rating_df['book'] = rating_df['ISBN'].map(book_to_book_encoded)"
   ]
  },
  {
   "cell_type": "code",
   "execution_count": 50,
   "metadata": {},
   "outputs": [
    {
     "name": "stdout",
     "output_type": "stream",
     "text": [
      "679\n",
      "7076\n"
     ]
    }
   ],
   "source": [
    "num_users = len(user_encoded_to_user)\n",
    "print(num_users)\n",
    "num_books = len(book_encoded_to_book)\n",
    "print(num_books)\n",
    "\n",
    "min_ratings = min(rating_df['Book-Rating'])\n",
    "max_ratings = max(rating_df['Book-Rating'])"
   ]
  },
  {
   "cell_type": "markdown",
   "metadata": {},
   "source": [
    "### Membagi Data untuk training dan validasi"
   ]
  },
  {
   "cell_type": "code",
   "execution_count": 51,
   "metadata": {},
   "outputs": [
    {
     "data": {
      "text/html": [
       "<div>\n",
       "<style scoped>\n",
       "    .dataframe tbody tr th:only-of-type {\n",
       "        vertical-align: middle;\n",
       "    }\n",
       "\n",
       "    .dataframe tbody tr th {\n",
       "        vertical-align: top;\n",
       "    }\n",
       "\n",
       "    .dataframe thead th {\n",
       "        text-align: right;\n",
       "    }\n",
       "</style>\n",
       "<table border=\"1\" class=\"dataframe\">\n",
       "  <thead>\n",
       "    <tr style=\"text-align: right;\">\n",
       "      <th></th>\n",
       "      <th>User-ID</th>\n",
       "      <th>ISBN</th>\n",
       "      <th>Book-Rating</th>\n",
       "      <th>user</th>\n",
       "      <th>book</th>\n",
       "    </tr>\n",
       "  </thead>\n",
       "  <tbody>\n",
       "    <tr>\n",
       "      <th>4362</th>\n",
       "      <td>278418</td>\n",
       "      <td>0060186534</td>\n",
       "      <td>0</td>\n",
       "      <td>678</td>\n",
       "      <td>4063</td>\n",
       "    </tr>\n",
       "    <tr>\n",
       "      <th>7083</th>\n",
       "      <td>278418</td>\n",
       "      <td>0590337785</td>\n",
       "      <td>0</td>\n",
       "      <td>678</td>\n",
       "      <td>6681</td>\n",
       "    </tr>\n",
       "    <tr>\n",
       "      <th>2346</th>\n",
       "      <td>277565</td>\n",
       "      <td>1862082626</td>\n",
       "      <td>0</td>\n",
       "      <td>308</td>\n",
       "      <td>2264</td>\n",
       "    </tr>\n",
       "    <tr>\n",
       "      <th>5413</th>\n",
       "      <td>278418</td>\n",
       "      <td>0373163177</td>\n",
       "      <td>0</td>\n",
       "      <td>678</td>\n",
       "      <td>5087</td>\n",
       "    </tr>\n",
       "    <tr>\n",
       "      <th>2266</th>\n",
       "      <td>277523</td>\n",
       "      <td>0446613843</td>\n",
       "      <td>10</td>\n",
       "      <td>288</td>\n",
       "      <td>386</td>\n",
       "    </tr>\n",
       "    <tr>\n",
       "      <th>...</th>\n",
       "      <td>...</td>\n",
       "      <td>...</td>\n",
       "      <td>...</td>\n",
       "      <td>...</td>\n",
       "      <td>...</td>\n",
       "    </tr>\n",
       "    <tr>\n",
       "      <th>5338</th>\n",
       "      <td>278418</td>\n",
       "      <td>0373114109</td>\n",
       "      <td>0</td>\n",
       "      <td>678</td>\n",
       "      <td>5015</td>\n",
       "    </tr>\n",
       "    <tr>\n",
       "      <th>5354</th>\n",
       "      <td>278418</td>\n",
       "      <td>0373114443</td>\n",
       "      <td>0</td>\n",
       "      <td>678</td>\n",
       "      <td>5031</td>\n",
       "    </tr>\n",
       "    <tr>\n",
       "      <th>3746</th>\n",
       "      <td>278144</td>\n",
       "      <td>0679459596</td>\n",
       "      <td>0</td>\n",
       "      <td>567</td>\n",
       "      <td>3525</td>\n",
       "    </tr>\n",
       "    <tr>\n",
       "      <th>869</th>\n",
       "      <td>277107</td>\n",
       "      <td>081297106X</td>\n",
       "      <td>10</td>\n",
       "      <td>144</td>\n",
       "      <td>859</td>\n",
       "    </tr>\n",
       "    <tr>\n",
       "      <th>3980</th>\n",
       "      <td>278188</td>\n",
       "      <td>1551665344</td>\n",
       "      <td>7</td>\n",
       "      <td>587</td>\n",
       "      <td>3737</td>\n",
       "    </tr>\n",
       "  </tbody>\n",
       "</table>\n",
       "<p>7500 rows × 5 columns</p>\n",
       "</div>"
      ],
      "text/plain": [
       "      User-ID        ISBN  Book-Rating  user  book\n",
       "4362   278418  0060186534            0   678  4063\n",
       "7083   278418  0590337785            0   678  6681\n",
       "2346   277565  1862082626            0   308  2264\n",
       "5413   278418  0373163177            0   678  5087\n",
       "2266   277523  0446613843           10   288   386\n",
       "...       ...         ...          ...   ...   ...\n",
       "5338   278418  0373114109            0   678  5015\n",
       "5354   278418  0373114443            0   678  5031\n",
       "3746   278144  0679459596            0   567  3525\n",
       "869    277107  081297106X           10   144   859\n",
       "3980   278188  1551665344            7   587  3737\n",
       "\n",
       "[7500 rows x 5 columns]"
      ]
     },
     "execution_count": 51,
     "metadata": {},
     "output_type": "execute_result"
    }
   ],
   "source": [
    "rating_df = rating_df.sample(frac=1, random_state=412)\n",
    "rating_df"
   ]
  },
  {
   "cell_type": "code",
   "execution_count": 53,
   "metadata": {},
   "outputs": [
    {
     "name": "stdout",
     "output_type": "stream",
     "text": [
      "[[ 678 4063]\n",
      " [ 678 6681]\n",
      " [ 308 2264]\n",
      " ...\n",
      " [ 567 3525]\n",
      " [ 144  859]\n",
      " [ 587 3737]] [0.  0.  0.  ... 0.  1.  0.7]\n"
     ]
    }
   ],
   "source": [
    "x = rating_df[['user', 'book']].values\n",
    "y = rating_df['Book-Rating'].apply(lambda x: (x-min_ratings) / (max_ratings-min_ratings)).values\n",
    "\n",
    "train_indices = int(0.8 * rating_df.shape[0])\n",
    "\n",
    "X_train, X_val, y_train, y_val = (\n",
    "  x[:train_indices],\n",
    "  x[train_indices:],\n",
    "  y[:train_indices],\n",
    "  y[train_indices:]\n",
    ")\n",
    "\n",
    "print(x, y)"
   ]
  },
  {
   "cell_type": "code",
   "execution_count": 55,
   "metadata": {},
   "outputs": [],
   "source": [
    "from tensorflow.keras import layers\n",
    "from tensorflow.keras.optimizers import Adam\n",
    "from tensorflow.keras.losses import BinaryCrossentropy\n",
    "from tensorflow.keras.metrics import RootMeanSquaredError"
   ]
  },
  {
   "cell_type": "code",
   "execution_count": 56,
   "metadata": {},
   "outputs": [],
   "source": [
    "class RecommenderNet(tf.keras.Model):\n",
    "    def __init__(self, num_users, num_books, embedding_size, **kwargs):\n",
    "        super(RecommenderNet, self).__init__(**kwargs)\n",
    "        self.num_users = num_users\n",
    "        self.num_books = num_books\n",
    "        self.embedding_size = embedding_size\n",
    "        self.user_embedding = layers.Embedding(\n",
    "            num_users,\n",
    "            embedding_size,\n",
    "            embeddings_initializer = 'he_normal',\n",
    "            embeddings_regularizer = keras.regularizers.l2(1e-6)\n",
    "        )\n",
    "        self.user_bias      = layers.Embedding(num_users, 1)\n",
    "        self.book_embedding = layers.Embedding(\n",
    "            num_books,\n",
    "            embedding_size,\n",
    "            embeddings_initializer = 'he_normal',\n",
    "            embeddings_regularizer = keras.regularizers.l2(1e-6)\n",
    "        )\n",
    "        self.book_bias = layers.Embedding(num_books, 1)\n",
    "    \n",
    "    def call(self, inputs):\n",
    "        user_vector = self.user_embedding(inputs[:,0])\n",
    "        user_bias   = self.user_bias(inputs[:, 0])\n",
    "        book_vector = self.book_embedding(inputs[:, 1])\n",
    "        book_bias   = self.book_bias(inputs[:, 1])\n",
    "        \n",
    "        dot_user_book = tf.tensordot(user_vector, book_vector, 2) \n",
    "        \n",
    "        x = dot_user_book + user_bias + book_bias\n",
    "        \n",
    "        return tf.nn.sigmoid(x)"
   ]
  },
  {
   "cell_type": "code",
   "execution_count": 58,
   "metadata": {},
   "outputs": [],
   "source": [
    "model = RecommenderNet(num_users, num_books, 50)\n",
    "\n",
    "model.compile(optimizer=Adam(), loss=BinaryCrossentropy(), metrics=[RootMeanSquaredError()])"
   ]
  },
  {
   "cell_type": "code",
   "execution_count": 59,
   "metadata": {},
   "outputs": [
    {
     "name": "stdout",
     "output_type": "stream",
     "text": [
      "Epoch 1/30\n",
      "375/375 [==============================] - 5s 11ms/step - loss: 0.6576 - root_mean_squared_error: 0.4382 - val_loss: 0.6233 - val_root_mean_squared_error: 0.4149\n",
      "Epoch 2/30\n",
      "375/375 [==============================] - 3s 8ms/step - loss: 0.4609 - root_mean_squared_error: 0.3248 - val_loss: 0.5933 - val_root_mean_squared_error: 0.3970\n",
      "Epoch 3/30\n",
      "375/375 [==============================] - 4s 10ms/step - loss: 0.4393 - root_mean_squared_error: 0.3151 - val_loss: 0.5687 - val_root_mean_squared_error: 0.3824\n",
      "Epoch 4/30\n",
      "375/375 [==============================] - 4s 10ms/step - loss: 0.4206 - root_mean_squared_error: 0.3043 - val_loss: 0.5424 - val_root_mean_squared_error: 0.3668\n",
      "Epoch 5/30\n",
      "375/375 [==============================] - 3s 7ms/step - loss: 0.4034 - root_mean_squared_error: 0.2949 - val_loss: 0.5188 - val_root_mean_squared_error: 0.3532\n",
      "Epoch 6/30\n",
      "375/375 [==============================] - 3s 7ms/step - loss: 0.3879 - root_mean_squared_error: 0.2862 - val_loss: 0.4981 - val_root_mean_squared_error: 0.3416\n",
      "Epoch 7/30\n",
      "375/375 [==============================] - 3s 7ms/step - loss: 0.3745 - root_mean_squared_error: 0.2783 - val_loss: 0.4804 - val_root_mean_squared_error: 0.3322\n",
      "Epoch 8/30\n",
      "375/375 [==============================] - 3s 7ms/step - loss: 0.3640 - root_mean_squared_error: 0.2721 - val_loss: 0.4653 - val_root_mean_squared_error: 0.3246\n",
      "Epoch 9/30\n",
      "375/375 [==============================] - 3s 9ms/step - loss: 0.3531 - root_mean_squared_error: 0.2650 - val_loss: 0.4525 - val_root_mean_squared_error: 0.3184\n",
      "Epoch 10/30\n",
      "375/375 [==============================] - 3s 7ms/step - loss: 0.3439 - root_mean_squared_error: 0.2597 - val_loss: 0.4423 - val_root_mean_squared_error: 0.3138\n",
      "Epoch 11/30\n",
      "375/375 [==============================] - 3s 7ms/step - loss: 0.3373 - root_mean_squared_error: 0.2558 - val_loss: 0.4326 - val_root_mean_squared_error: 0.3094\n",
      "Epoch 12/30\n",
      "375/375 [==============================] - 3s 7ms/step - loss: 0.3284 - root_mean_squared_error: 0.2495 - val_loss: 0.4250 - val_root_mean_squared_error: 0.3062\n",
      "Epoch 13/30\n",
      "375/375 [==============================] - 3s 7ms/step - loss: 0.3213 - root_mean_squared_error: 0.2441 - val_loss: 0.4188 - val_root_mean_squared_error: 0.3035\n",
      "Epoch 14/30\n",
      "375/375 [==============================] - 3s 7ms/step - loss: 0.3154 - root_mean_squared_error: 0.2404 - val_loss: 0.4135 - val_root_mean_squared_error: 0.3013\n",
      "Epoch 15/30\n",
      "375/375 [==============================] - 3s 7ms/step - loss: 0.3109 - root_mean_squared_error: 0.2374 - val_loss: 0.4091 - val_root_mean_squared_error: 0.2995\n",
      "Epoch 16/30\n",
      "375/375 [==============================] - 3s 7ms/step - loss: 0.3055 - root_mean_squared_error: 0.2331 - val_loss: 0.4051 - val_root_mean_squared_error: 0.2978\n",
      "Epoch 17/30\n",
      "375/375 [==============================] - 3s 7ms/step - loss: 0.3028 - root_mean_squared_error: 0.2312 - val_loss: 0.4017 - val_root_mean_squared_error: 0.2963\n",
      "Epoch 18/30\n",
      "375/375 [==============================] - 3s 7ms/step - loss: 0.2998 - root_mean_squared_error: 0.2292 - val_loss: 0.3991 - val_root_mean_squared_error: 0.2951\n",
      "Epoch 19/30\n",
      "375/375 [==============================] - 3s 7ms/step - loss: 0.2951 - root_mean_squared_error: 0.2256 - val_loss: 0.3970 - val_root_mean_squared_error: 0.2943\n",
      "Epoch 20/30\n",
      "375/375 [==============================] - 3s 7ms/step - loss: 0.2909 - root_mean_squared_error: 0.2217 - val_loss: 0.3950 - val_root_mean_squared_error: 0.2933\n",
      "Epoch 21/30\n",
      "375/375 [==============================] - 3s 7ms/step - loss: 0.2855 - root_mean_squared_error: 0.2177 - val_loss: 0.3936 - val_root_mean_squared_error: 0.2927\n",
      "Epoch 22/30\n",
      "375/375 [==============================] - 2s 7ms/step - loss: 0.2840 - root_mean_squared_error: 0.2169 - val_loss: 0.3925 - val_root_mean_squared_error: 0.2923\n",
      "Epoch 23/30\n",
      "375/375 [==============================] - 3s 7ms/step - loss: 0.2810 - root_mean_squared_error: 0.2134 - val_loss: 0.3910 - val_root_mean_squared_error: 0.2915\n",
      "Epoch 24/30\n",
      "375/375 [==============================] - 3s 8ms/step - loss: 0.2791 - root_mean_squared_error: 0.2120 - val_loss: 0.3901 - val_root_mean_squared_error: 0.2912\n",
      "Epoch 25/30\n",
      "375/375 [==============================] - 3s 7ms/step - loss: 0.2761 - root_mean_squared_error: 0.2094 - val_loss: 0.3892 - val_root_mean_squared_error: 0.2907\n",
      "Epoch 26/30\n",
      "375/375 [==============================] - 3s 7ms/step - loss: 0.2743 - root_mean_squared_error: 0.2081 - val_loss: 0.3885 - val_root_mean_squared_error: 0.2903\n",
      "Epoch 27/30\n",
      "375/375 [==============================] - 3s 8ms/step - loss: 0.2712 - root_mean_squared_error: 0.2053 - val_loss: 0.3876 - val_root_mean_squared_error: 0.2898\n",
      "Epoch 28/30\n",
      "375/375 [==============================] - 3s 7ms/step - loss: 0.2680 - root_mean_squared_error: 0.2031 - val_loss: 0.3872 - val_root_mean_squared_error: 0.2896\n",
      "Epoch 29/30\n",
      "375/375 [==============================] - 3s 7ms/step - loss: 0.2655 - root_mean_squared_error: 0.2002 - val_loss: 0.3871 - val_root_mean_squared_error: 0.2896\n",
      "Epoch 30/30\n",
      "375/375 [==============================] - 3s 8ms/step - loss: 0.2627 - root_mean_squared_error: 0.1982 - val_loss: 0.3865 - val_root_mean_squared_error: 0.2893\n"
     ]
    }
   ],
   "source": [
    "history = model.fit(\n",
    "  x= X_train,\n",
    "  y = y_train,\n",
    "  batch_size=16,\n",
    "  epochs=30,\n",
    "  validation_data=(X_val, y_val)\n",
    ")"
   ]
  },
  {
   "cell_type": "code",
   "execution_count": 60,
   "metadata": {},
   "outputs": [
    {
     "data": {
      "image/png": "[encoded data removed]",
      "text/plain": [
       "<Figure size 1200x400 with 2 Axes>"
      ]
     },
     "metadata": {},
     "output_type": "display_data"
    }
   ],
   "source": [
    "rmse     = history.history['root_mean_squared_error']\n",
    "val_rmse = history.history['val_root_mean_squared_error']\n",
    "\n",
    "loss     = history.history['loss']\n",
    "val_loss = history.history['val_loss']\n",
    "\n",
    "plt.figure(figsize = (12, 4))\n",
    "plt.subplot(1, 2, 1)\n",
    "plt.plot(rmse,     label='RMSE')\n",
    "plt.plot(val_rmse, label='Validation RMSE')\n",
    "plt.title('Training and Validation Error')\n",
    "plt.xlabel('Epoch')\n",
    "plt.ylabel('Root Mean Squared Error')\n",
    "plt.legend(loc='lower right')\n",
    "\n",
    "plt.subplot(1, 2, 2)\n",
    "plt.plot(loss,     label='Training Loss')\n",
    "plt.plot(val_loss, label='Validation Loss')\n",
    "plt.title('Training and Validation Loss')\n",
    "plt.xlabel('Epoch')\n",
    "plt.ylabel('Loss')\n",
    "plt.legend(loc='upper right')\n",
    "\n",
    "plt.show()"
   ]
  },
  {
   "cell_type": "markdown",
   "metadata": {},
   "source": [
    "### Mendapatkan Rekomendasi"
   ]
  },
  {
   "cell_type": "code",
   "execution_count": 61,
   "metadata": {},
   "outputs": [],
   "source": [
    "datasetBook = book_df\n",
    "datasetRating = rating_df"
   ]
  },
  {
   "cell_type": "code",
   "execution_count": 62,
   "metadata": {},
   "outputs": [
    {
     "data": {
      "text/html": [
       "<div>\n",
       "<style scoped>\n",
       "    .dataframe tbody tr th:only-of-type {\n",
       "        vertical-align: middle;\n",
       "    }\n",
       "\n",
       "    .dataframe tbody tr th {\n",
       "        vertical-align: top;\n",
       "    }\n",
       "\n",
       "    .dataframe thead th {\n",
       "        text-align: right;\n",
       "    }\n",
       "</style>\n",
       "<table border=\"1\" class=\"dataframe\">\n",
       "  <thead>\n",
       "    <tr style=\"text-align: right;\">\n",
       "      <th></th>\n",
       "      <th>ISBN</th>\n",
       "      <th>Book-Title</th>\n",
       "      <th>Book-Author</th>\n",
       "      <th>Year-Of-Publication</th>\n",
       "      <th>Publisher</th>\n",
       "      <th>Image-URL-S</th>\n",
       "      <th>Image-URL-M</th>\n",
       "      <th>Image-URL-L</th>\n",
       "    </tr>\n",
       "  </thead>\n",
       "  <tbody>\n",
       "    <tr>\n",
       "      <th>0</th>\n",
       "      <td>0195153448</td>\n",
       "      <td>Classical Mythology</td>\n",
       "      <td>Mark P. O. Morford</td>\n",
       "      <td>2002</td>\n",
       "      <td>Oxford University Press</td>\n",
       "      <td>http://images.amazon.com/images/P/0195153448.0...</td>\n",
       "      <td>http://images.amazon.com/images/P/0195153448.0...</td>\n",
       "      <td>http://images.amazon.com/images/P/0195153448.0...</td>\n",
       "    </tr>\n",
       "    <tr>\n",
       "      <th>1</th>\n",
       "      <td>0002005018</td>\n",
       "      <td>Clara Callan</td>\n",
       "      <td>Richard Bruce Wright</td>\n",
       "      <td>2001</td>\n",
       "      <td>HarperFlamingo Canada</td>\n",
       "      <td>http://images.amazon.com/images/P/0002005018.0...</td>\n",
       "      <td>http://images.amazon.com/images/P/0002005018.0...</td>\n",
       "      <td>http://images.amazon.com/images/P/0002005018.0...</td>\n",
       "    </tr>\n",
       "  </tbody>\n",
       "</table>\n",
       "</div>"
      ],
      "text/plain": [
       "         ISBN           Book-Title           Book-Author Year-Of-Publication  \\\n",
       "0  0195153448  Classical Mythology    Mark P. O. Morford                2002   \n",
       "1  0002005018         Clara Callan  Richard Bruce Wright                2001   \n",
       "\n",
       "                 Publisher                                        Image-URL-S  \\\n",
       "0  Oxford University Press  http://images.amazon.com/images/P/0195153448.0...   \n",
       "1    HarperFlamingo Canada  http://images.amazon.com/images/P/0002005018.0...   \n",
       "\n",
       "                                         Image-URL-M  \\\n",
       "0  http://images.amazon.com/images/P/0195153448.0...   \n",
       "1  http://images.amazon.com/images/P/0002005018.0...   \n",
       "\n",
       "                                         Image-URL-L  \n",
       "0  http://images.amazon.com/images/P/0195153448.0...  \n",
       "1  http://images.amazon.com/images/P/0002005018.0...  "
      ]
     },
     "execution_count": 62,
     "metadata": {},
     "output_type": "execute_result"
    }
   ],
   "source": [
    "datasetBook.head(2)"
   ]
  },
  {
   "cell_type": "code",
   "execution_count": 63,
   "metadata": {},
   "outputs": [
    {
     "data": {
      "text/html": [
       "<div>\n",
       "<style scoped>\n",
       "    .dataframe tbody tr th:only-of-type {\n",
       "        vertical-align: middle;\n",
       "    }\n",
       "\n",
       "    .dataframe tbody tr th {\n",
       "        vertical-align: top;\n",
       "    }\n",
       "\n",
       "    .dataframe thead th {\n",
       "        text-align: right;\n",
       "    }\n",
       "</style>\n",
       "<table border=\"1\" class=\"dataframe\">\n",
       "  <thead>\n",
       "    <tr style=\"text-align: right;\">\n",
       "      <th></th>\n",
       "      <th>User-ID</th>\n",
       "      <th>ISBN</th>\n",
       "      <th>Book-Rating</th>\n",
       "      <th>user</th>\n",
       "      <th>book</th>\n",
       "    </tr>\n",
       "  </thead>\n",
       "  <tbody>\n",
       "    <tr>\n",
       "      <th>4362</th>\n",
       "      <td>278418</td>\n",
       "      <td>0060186534</td>\n",
       "      <td>0</td>\n",
       "      <td>678</td>\n",
       "      <td>4063</td>\n",
       "    </tr>\n",
       "    <tr>\n",
       "      <th>7083</th>\n",
       "      <td>278418</td>\n",
       "      <td>0590337785</td>\n",
       "      <td>0</td>\n",
       "      <td>678</td>\n",
       "      <td>6681</td>\n",
       "    </tr>\n",
       "  </tbody>\n",
       "</table>\n",
       "</div>"
      ],
      "text/plain": [
       "      User-ID        ISBN  Book-Rating  user  book\n",
       "4362   278418  0060186534            0   678  4063\n",
       "7083   278418  0590337785            0   678  6681"
      ]
     },
     "execution_count": 63,
     "metadata": {},
     "output_type": "execute_result"
    }
   ],
   "source": [
    "datasetRating.head(2)"
   ]
  },
  {
   "cell_type": "code",
   "execution_count": 64,
   "metadata": {},
   "outputs": [],
   "source": [
    "userId      = datasetRating['User-ID'].sample(1).iloc[0]\n",
    "readedBooks = datasetRating[datasetRating['User-ID'] == userId]\n",
    "\n",
    "notReadedBooks = datasetBook[~datasetBook['ISBN'].isin(readedBooks['ISBN'].values)]['ISBN'] \n",
    "notReadedBooks = list(\n",
    "    set(notReadedBooks).intersection(set(book_to_book_encoded.keys()))\n",
    ")\n",
    "\n",
    "notReadedBooks = [[book_to_book_encoded.get(x)] for x in notReadedBooks]\n",
    "userEncoder    = user_to_user_encoded.get(userId)\n",
    "userBookArray = np.hstack(\n",
    "    ([[userEncoder]] * len(notReadedBooks), notReadedBooks)\n",
    ")"
   ]
  },
  {
   "cell_type": "code",
   "execution_count": 88,
   "metadata": {},
   "outputs": [
    {
     "name": "stdout",
     "output_type": "stream",
     "text": [
      "25/25 [==============================] - 0s 2ms/step\n"
     ]
    },
    {
     "name": "stdout",
     "output_type": "stream",
     "text": [
      "Showing recommendations for users: 278418\n",
      "========================================\n",
      "Book with high ratings from user\n",
      "----------------------------------------\n",
      "========================================\n",
      "Top 10 Books Recommendation\n",
      "----------------------------------------\n",
      "Rebecca : Daphne Du Maurier\n",
      "Girl with a Pearl Earring : Tracy Chevalier\n",
      "The Secret Life of Bees : Sue Monk Kidd\n",
      "Life of Pi : Yann Martel\n",
      "The Girl Who Loved Tom Gordon : A Novel : Stephen King\n",
      "A Cold Heart: An Alex Delaware Novel : JONATHAN KELLERMAN\n",
      "The Golden Mean: In Which the Extraordinary Correspondence of Griffin &amp; Sabine Concludes : Nick Bantock\n",
      "Politically Correct Bedtime Stories: Modern Tales for Our Life and Times : James Finn Garner\n",
      "The Watsons Go to Birmingham - 1963 (Yearling Newbery) : CHRISTOPHER PAUL CURTIS\n",
      "Oceano Mare : Alessandro Baricco\n"
     ]
    }
   ],
   "source": [
    "ratings = model.predict(userBookArray).flatten()\n",
    "\n",
    "topRatingsIndices   = ratings.argsort()[-10:][::-1]\n",
    "recommendedBookIds = [\n",
    "    book_encoded_to_book.get(notReadedBooks[x][0]) for x in topRatingsIndices\n",
    "]\n",
    "\n",
    "print('Showing recommendations for users: {}'.format(userId))\n",
    "print('=====' * 8)\n",
    "print('Book with high ratings from user')\n",
    "print('-----' * 8)\n",
    "\n",
    "topBookUser = (\n",
    "    readedBooks.sort_values(\n",
    "        by = 'Book-Rating',\n",
    "        ascending=False\n",
    "    )\n",
    "    .head(5)\n",
    "    .ISBN.values\n",
    ")\n",
    "\n",
    "bookDfRows = datasetBook[datasetBook['ISBN'].isin(topBookUser)]\n",
    "for row in bookDfRows.itertuples():\n",
    "    print(row['Book-Title'], ':', row.book_author)\n",
    "\n",
    "print('=====' * 8)\n",
    "print('Top 10 Books Recommendation')\n",
    "print('-----' * 8)\n",
    "\n",
    "recommended_resto = datasetBook[datasetBook['ISBN'].isin(recommendedBookIds)]\n",
    "for row in recommended_resto.itertuples():\n",
    "    print(row[2], ':', row[3])"
   ]
  }
 ],
 "metadata": {
  "kernelspec": {
   "display_name": "base",
   "language": "python",
   "name": "python3"
  },
  "language_info": {
   "codemirror_mode": {
    "name": "ipython",
    "version": 3
   },
   "file_extension": ".py",
   "mimetype": "text/x-python",
   "name": "python",
   "nbconvert_exporter": "python",
   "pygments_lexer": "ipython3",
   "version": "3.11.5"
  }
 },
 "nbformat": 4,
 "nbformat_minor": 2
}
